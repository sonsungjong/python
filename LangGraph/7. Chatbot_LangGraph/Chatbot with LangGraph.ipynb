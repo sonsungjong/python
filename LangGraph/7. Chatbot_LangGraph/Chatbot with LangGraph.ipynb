{
 "cells": [
  {
   "cell_type": "code",
   "execution_count": null,
   "id": "10ecddfc",
   "metadata": {},
   "outputs": [
    {
     "name": "stdout",
     "output_type": "stream",
     "text": [
      "Collecting langchain_ollama\n",
      "  Downloading langchain_ollama-0.3.2-py3-none-any.whl.metadata (1.5 kB)\n",
      "Collecting ollama<1,>=0.4.4 (from langchain_ollama)\n",
      "  Downloading ollama-0.4.8-py3-none-any.whl.metadata (4.7 kB)\n",
      "Requirement already satisfied: langchain-core<1.0.0,>=0.3.52 in c:\\python312\\lib\\site-packages (from langchain_ollama) (0.3.58)\n",
      "Requirement already satisfied: langsmith<0.4,>=0.1.125 in c:\\python312\\lib\\site-packages (from langchain-core<1.0.0,>=0.3.52->langchain_ollama) (0.3.42)\n",
      "Requirement already satisfied: tenacity!=8.4.0,<10.0.0,>=8.1.0 in c:\\python312\\lib\\site-packages (from langchain-core<1.0.0,>=0.3.52->langchain_ollama) (9.1.2)\n",
      "Requirement already satisfied: jsonpatch<2.0,>=1.33 in c:\\python312\\lib\\site-packages (from langchain-core<1.0.0,>=0.3.52->langchain_ollama) (1.33)\n",
      "Requirement already satisfied: PyYAML>=5.3 in c:\\python312\\lib\\site-packages (from langchain-core<1.0.0,>=0.3.52->langchain_ollama) (6.0.2)\n",
      "Requirement already satisfied: packaging<25,>=23.2 in c:\\python312\\lib\\site-packages (from langchain-core<1.0.0,>=0.3.52->langchain_ollama) (24.2)\n",
      "Requirement already satisfied: typing-extensions>=4.7 in c:\\python312\\lib\\site-packages (from langchain-core<1.0.0,>=0.3.52->langchain_ollama) (4.13.2)\n",
      "Requirement already satisfied: pydantic<3.0.0,>=2.5.2 in c:\\python312\\lib\\site-packages (from langchain-core<1.0.0,>=0.3.52->langchain_ollama) (2.11.4)\n",
      "Requirement already satisfied: jsonpointer>=1.9 in c:\\python312\\lib\\site-packages (from jsonpatch<2.0,>=1.33->langchain-core<1.0.0,>=0.3.52->langchain_ollama) (3.0.0)\n",
      "Requirement already satisfied: httpx<1,>=0.23.0 in c:\\python312\\lib\\site-packages (from langsmith<0.4,>=0.1.125->langchain-core<1.0.0,>=0.3.52->langchain_ollama) (0.28.1)\n",
      "Requirement already satisfied: orjson<4.0.0,>=3.9.14 in c:\\python312\\lib\\site-packages (from langsmith<0.4,>=0.1.125->langchain-core<1.0.0,>=0.3.52->langchain_ollama) (3.10.18)\n",
      "Requirement already satisfied: requests<3,>=2 in c:\\python312\\lib\\site-packages (from langsmith<0.4,>=0.1.125->langchain-core<1.0.0,>=0.3.52->langchain_ollama) (2.32.3)\n",
      "Requirement already satisfied: requests-toolbelt<2.0.0,>=1.0.0 in c:\\python312\\lib\\site-packages (from langsmith<0.4,>=0.1.125->langchain-core<1.0.0,>=0.3.52->langchain_ollama) (1.0.0)\n",
      "Requirement already satisfied: zstandard<0.24.0,>=0.23.0 in c:\\python312\\lib\\site-packages (from langsmith<0.4,>=0.1.125->langchain-core<1.0.0,>=0.3.52->langchain_ollama) (0.23.0)\n",
      "Requirement already satisfied: anyio in c:\\python312\\lib\\site-packages (from httpx<1,>=0.23.0->langsmith<0.4,>=0.1.125->langchain-core<1.0.0,>=0.3.52->langchain_ollama) (4.9.0)\n",
      "Requirement already satisfied: certifi in c:\\python312\\lib\\site-packages (from httpx<1,>=0.23.0->langsmith<0.4,>=0.1.125->langchain-core<1.0.0,>=0.3.52->langchain_ollama) (2025.4.26)\n",
      "Requirement already satisfied: httpcore==1.* in c:\\python312\\lib\\site-packages (from httpx<1,>=0.23.0->langsmith<0.4,>=0.1.125->langchain-core<1.0.0,>=0.3.52->langchain_ollama) (1.0.9)\n",
      "Requirement already satisfied: idna in c:\\python312\\lib\\site-packages (from httpx<1,>=0.23.0->langsmith<0.4,>=0.1.125->langchain-core<1.0.0,>=0.3.52->langchain_ollama) (3.10)\n",
      "Requirement already satisfied: h11>=0.16 in c:\\python312\\lib\\site-packages (from httpcore==1.*->httpx<1,>=0.23.0->langsmith<0.4,>=0.1.125->langchain-core<1.0.0,>=0.3.52->langchain_ollama) (0.16.0)\n",
      "Requirement already satisfied: annotated-types>=0.6.0 in c:\\python312\\lib\\site-packages (from pydantic<3.0.0,>=2.5.2->langchain-core<1.0.0,>=0.3.52->langchain_ollama) (0.7.0)\n",
      "Requirement already satisfied: pydantic-core==2.33.2 in c:\\python312\\lib\\site-packages (from pydantic<3.0.0,>=2.5.2->langchain-core<1.0.0,>=0.3.52->langchain_ollama) (2.33.2)\n",
      "Requirement already satisfied: typing-inspection>=0.4.0 in c:\\python312\\lib\\site-packages (from pydantic<3.0.0,>=2.5.2->langchain-core<1.0.0,>=0.3.52->langchain_ollama) (0.4.0)\n",
      "Requirement already satisfied: charset-normalizer<4,>=2 in c:\\python312\\lib\\site-packages (from requests<3,>=2->langsmith<0.4,>=0.1.125->langchain-core<1.0.0,>=0.3.52->langchain_ollama) (3.4.2)\n",
      "Requirement already satisfied: urllib3<3,>=1.21.1 in c:\\python312\\lib\\site-packages (from requests<3,>=2->langsmith<0.4,>=0.1.125->langchain-core<1.0.0,>=0.3.52->langchain_ollama) (2.4.0)\n",
      "Requirement already satisfied: sniffio>=1.1 in c:\\python312\\lib\\site-packages (from anyio->httpx<1,>=0.23.0->langsmith<0.4,>=0.1.125->langchain-core<1.0.0,>=0.3.52->langchain_ollama) (1.3.1)\n",
      "Downloading langchain_ollama-0.3.2-py3-none-any.whl (20 kB)\n",
      "Downloading ollama-0.4.8-py3-none-any.whl (13 kB)\n",
      "Installing collected packages: ollama, langchain_ollama\n",
      "\n",
      "   -------------------- ------------------- 1/2 [langchain_ollama]\n",
      "   ---------------------------------------- 2/2 [langchain_ollama]\n",
      "\n",
      "Successfully installed langchain_ollama-0.3.2 ollama-0.4.8\n"
     ]
    }
   ],
   "source": [
    "# Chatbot with LangGraph\n",
    "\n",
    "!pip install packaging\n",
    "!pip install dotenv\n",
    "!pip install -U langgraph\n",
    "!pip install -U langchain\n",
    "!pip install langchain_ollama\n",
    "!pip install langchain_community"
   ]
  },
  {
   "cell_type": "code",
   "execution_count": 6,
   "id": "15c99792",
   "metadata": {},
   "outputs": [
    {
     "data": {
      "text/plain": [
       "True"
      ]
     },
     "execution_count": 6,
     "metadata": {},
     "output_type": "execute_result"
    }
   ],
   "source": [
    "from dotenv import load_dotenv\n",
    "import os\n",
    "\n",
    "load_dotenv('../.env')"
   ]
  },
  {
   "cell_type": "code",
   "execution_count": null,
   "id": "bf227354",
   "metadata": {},
   "outputs": [
    {
     "data": {
      "text/plain": [
       "AIMessage(content='Hello there! How can I help you today? 😊 \\n\\nDo you want to:\\n\\n*   Chat about something?\\n*   Ask me a question?\\n*   Play a game?\\n*   Get some information?\\n\\nJust let me know what you have in mind!', additional_kwargs={}, response_metadata={'model': 'gemma3:4b', 'created_at': '2025-05-03T04:21:18.5674311Z', 'done': True, 'done_reason': 'stop', 'total_duration': 7322275700, 'load_duration': 5866326600, 'prompt_eval_count': 10, 'prompt_eval_duration': 443036400, 'eval_count': 59, 'eval_duration': 1003156000, 'model_name': 'gemma3:4b'}, id='run--37eaefa0-452d-4b5d-abdd-b03d3186915b-0', usage_metadata={'input_tokens': 10, 'output_tokens': 59, 'total_tokens': 69})"
      ]
     },
     "execution_count": 11,
     "metadata": {},
     "output_type": "execute_result"
    }
   ],
   "source": [
    "from typing import Annotated, TypedDict\n",
    "from langgraph.graph import StateGraph, START, END\n",
    "from langgraph.graph.message import add_messages\n",
    "from langchain_ollama import ChatOllama\n",
    "\n",
    "llm = ChatOllama(model=\"gemma3:4b\", base_url=\"http://localhost:11434\")\n",
    "\n",
    "llm.invoke(\"Hello\")"
   ]
  },
  {
   "cell_type": "code",
   "execution_count": 12,
   "id": "f377f0fa",
   "metadata": {},
   "outputs": [],
   "source": [
    "class State(TypedDict):\n",
    "    messages: Annotated[list, add_messages]\n",
    "\n",
    "def chatbot(state: State):\n",
    "    response = llm.invoke(state[\"messages\"])\n",
    "    return {\"messages\":[response]}\n",
    "\n",
    "graph_builder = StateGraph(State)\n",
    "graph_builder.add_node(\"chatbot\", chatbot)\n",
    "\n",
    "graph_builder.add_edge(START, \"chatbot\")\n",
    "graph_builder.add_edge(\"chatbot\", END)\n",
    "\n",
    "graph = graph_builder.compile()"
   ]
  },
  {
   "cell_type": "code",
   "execution_count": null,
   "id": "284737e9",
   "metadata": {},
   "outputs": [
    {
     "data": {
      "image/png": "[encoded data removed]",
      "text/plain": [
       "<IPython.core.display.Image object>"
      ]
     },
     "metadata": {},
     "output_type": "display_data"
    }
   ],
   "source": [
    "from IPython.display import display, Image\n",
    "\n",
    "# 랭그래프 구성 이미지화\n",
    "display(Image(graph.get_graph().draw_mermaid_png()))"
   ]
  },
  {
   "cell_type": "code",
   "execution_count": 14,
   "id": "595dfa8b",
   "metadata": {},
   "outputs": [
    {
     "data": {
      "text/plain": [
       "{'messages': [HumanMessage(content='Hello', additional_kwargs={}, response_metadata={}, id='df8d2df4-f8dd-4a85-a4ff-f2f1f9bb2933'),\n",
       "  HumanMessage(content='my name is 성종', additional_kwargs={}, response_metadata={}, id='fe719754-fffa-423d-b97b-bb4515f88d7e'),\n",
       "  AIMessage(content='안녕하세요, 성종 씨! 만나서 반갑습니다. (Annyeonghaseyo, Seongjong ssi! Mannaseo bangapseumnida.)\\n\\nThat means \"Hello, Seongjong! Nice to meet you.\"\\n\\nHow are you doing today? Is there anything you\\'d like to chat about? 😊', additional_kwargs={}, response_metadata={'model': 'gemma3:4b', 'created_at': '2025-05-03T04:27:27.7716246Z', 'done': True, 'done_reason': 'stop', 'total_duration': 5526591600, 'load_duration': 4028722000, 'prompt_eval_count': 16, 'prompt_eval_duration': 335542600, 'eval_count': 64, 'eval_duration': 1112305900, 'model_name': 'gemma3:4b'}, id='run--a5aad489-df35-4b85-be81-e6ee3004238c-0', usage_metadata={'input_tokens': 16, 'output_tokens': 64, 'total_tokens': 80})]}"
      ]
     },
     "execution_count": 14,
     "metadata": {},
     "output_type": "execute_result"
    }
   ],
   "source": [
    "graph.invoke({\"messages\": [\"Hello\", \"my name is 성종\"]})"
   ]
  },
  {
   "cell_type": "code",
   "execution_count": 29,
   "id": "3033fb2e",
   "metadata": {},
   "outputs": [
    {
     "data": {
      "text/plain": [
       "[{'title': '머니투데이 실시간 속보',\n",
       "  'url': 'https://news.mt.co.kr/newsflash/newsflash.html',\n",
       "  'content': '코스피\\n2322.03 12.2\\n코스닥\\n654.49 3.96\\n투자속보\\n\\nMTN[박진섭의 황금선] 대한항공과 협약…무인표적기 국산 부품화 추진 \\'HJ중공업\\'11:20\\n\\'주문 지연 오류\\' 키움증권, 전 고객 국내 주식 수수료 1주일간 할인11:18\\n디렉터스컴퍼니 \"모든 콘텐츠에 AI기술 접목…새로운 광고회사될 것\"11:05\\n해성옵틱스 자회사, 美 전기차 제습제 공급 확대로 CAPA 증설11:04\\n\\n유라클 \"스톡옵션 교부 외에 자사주 처분 계획없어\"10:51\\n\\n\\n투비소프트, 글로벌 테스트 자동화 기업과 전략적 파트너십 체결10:26\\n\\n미래에셋증권, 4월 개인투자용 국채 청약...5년물 연3.21% 금리10:24\\n김병환 금융위원장 \"종투사, 모험자본·기업금융 적극 공급해야\"10:24\\n셀루메드, ISO 13485 재인증 획득…글로벌 의료기기 생산체계 입증10:09\\n\\n더이앤엠, 미국 미디어 기업 해크먼 캐피털 파트너스 투자의향서 수령10:09 [...] 대한항공, 관세 여파로 화물수요 감소…목표가 14%↓-한투09:04\\n[스팟]코스닥 4.61포인트(0.70%) 내린 653.84 출발09:02\\n[스팟]코스피 4.24포인트(0.18%) 내린 2329.99 출발09:01\\n\\n[더벨]코스모화학, 새 먹거리 폐배터리 리사이클 사업 집중09:01\\n\\n\\n\"에이피알, 주가 급락으로 인한 실적 영향 없을 것\"-다올08:58\\n\\n[더벨]한컴, 베트남 하노이 국립경제대학교에 AI 제품 공급08:58\\n삼성전자, \"관세타격 우려대비 양호 전망\"…목표가 8만2000원-KB08:56\\n카카오, 어닝쇼크 전망…카카오톡·콘텐츠 기대 어려워-하나증권08:53\\n\\n미국 관세로 불확실성↑…삼성전자 투심에도 부정적-유안타08:52\\n\\n\\n한성크린텍 최대주주, 자사주 매입 \"실적 턴어라운드 및 성장성 자신\"08:51 [...] [더벨]한성크린텍 최대주주, 자사주 매입 \"성장 자신\"09:34\\n[더벨]상장 추진 덕산넵코어스, 사상 최대 매출 달성09:33\\n고바이오랩, 간 손상 치료 소재 美 특허 등록 소식에 급등09:32\\n\\n상호관세 부과 앞두고…한덕수·트럼프 통화 관련주 ↑09:30\\n\\n\\n미국 상호관세 오후 1시부터 발효…코스피 2320선 보합권 출발09:24\\n\\nMTN대봉엘에스, 인코스메틱스 글로벌 2025 참가…\"친환경 소재로 유럽 공략\"09:23\\nMTN[출근길 뉴스프레소] 中 \"싸울 것\" vs 美 \"104% 부과\" / 위기의 美증시, 200일 이평선 지켜낼까/ \"관세 애플엔 완전한 재앙\" / 마이크론, 관세 요금 부과09:09\\n[더벨]TKENS, 제습제 캐파 증설 \"글로벌 최대 전기차업체향 공급 확대 중\"09:09\\n\\n뉴온, 천연 다이글로메라 활용 \\'다이글로 필 다이어트\\' 론칭… 삭센다·위고비 유사 기전09:06\\n\\n\\n신테카바이오, 글로벌 의료 AI 플랫폼 강자 \"본격적인 실적 성장 기대\"-유진證09:04',\n",
       "  'score': 0.6745014,\n",
       "  'raw_content': '실시간 속보 - 머니투데이\\n실시간 속보\\n속보창 옵션 리스트 좌측 리스트 우측\\n\\n검색  \\n\\n전체\\n투자속보\\n정치\\n정책\\n금융\\n산업\\nIT·과학\\n중기\\n부동산\\n국제\\n사회\\n생활문화\\n스타뉴스\\n\\n포토\\n\\n\\n시황\\n\\n종목\\nIB\\n리포트\\n채권\\n외환/선물/옵션\\n파생상품\\n펀드\\n해외증시\\n\\n일반\\n\\n\\n대통령실\\n\\n국회/정당\\n외교/통일/국방\\n\\n일반\\n\\n\\n경제정책\\n\\n경제동향\\n세금\\n노동/복지/환경\\n일반\\n\\n공기업\\n\\n\\n정책\\n\\n은행\\n채권단\\n은행상품\\n생보업계\\n생보상품\\n손보업계\\n손보상품\\n제2금융\\n\\n일반\\n\\n\\n전기/전자\\n\\n자동차\\n물류\\n조선/기계/철강\\n무역/에너지/화학\\n시멘트/제지\\n유통/식음료\\n바이오\\n패션/뷰티\\n\\n일반\\n\\n\\n통신/미디어\\n\\n인터넷/보안\\n모바일\\n컴퓨팅/디바이스\\n게임\\n과학\\n정책\\n\\n일반\\n\\n\\n중기일반\\n\\n중기정책\\n코넥스\\n\\n취업/잡드림\\n\\n\\n정책\\n\\n시황\\n분양\\n업계\\n재테크\\n\\n일반\\n\\n\\n해외증시\\n\\n국제경제\\n국제정치\\n중국망\\n\\n일반\\n\\n\\n사건\\n\\n전국\\n메트로\\nE이슈\\n일반\\n교육\\n법조\\n\\n인사/부고\\n\\n\\n문화\\n\\n출판\\n헬스\\n여행/레저\\n패션/뷰티\\n\\n\\n코스피\\n2322.03 12.2\\n코스닥\\n654.49 3.96\\n투자속보\\n\\nMTN[박진섭의 황금선] 대한항공과 협약…무인표적기 국산 부품화 추진 \\'HJ중공업\\'11:20\\n\\'주문 지연 오류\\' 키움증권, 전 고객 국내 주식 수수료 1주일간 할인11:18\\n디렉터스컴퍼니 \"모든 콘텐츠에 AI기술 접목…새로운 광고회사될 것\"11:05\\n해성옵틱스 자회사, 美 전기차 제습제 공급 확대로 CAPA 증설11:04\\n\\n유라클 \"스톡옵션 교부 외에 자사주 처분 계획없어\"10:51\\n\\n\\n투비소프트, 글로벌 테스트 자동화 기업과 전략적 파트너십 체결10:26\\n\\n미래에셋증권, 4월 개인투자용 국채 청약...5년물 연3.21% 금리10:24\\n김병환 금융위원장 \"종투사, 모험자본·기업금융 적극 공급해야\"10:24\\n셀루메드, ISO 13485 재인증 획득…글로벌 의료기기 생산체계 입증10:09\\n\\n더이앤엠, 미국 미디어 기업 해크먼 캐피털 파트너스 투자의향서 수령10:09\\n\\n\\n오이솔루션, 세계 최대 광통신 전시회 참가…네트워크 광트랜시버 발표10:08\\n\\n[더벨]대동기어, 에이블맥스와 방산 부문 사업협력 MOU 체결10:04\\n종투사 발행어음 조달자금, 25%는 모험자본에 의무 공급해야10:00\\n기다렸던 IMA·발행어음 가이드라인 공개했는데…증권사 \"아쉬워\"10:00\\n\\n\\'자기자본 8조 종투사\\' 이르면 연내 탄생한다10:00\\n\\n\\n예적금 대신 몰려갈까…고수익에 원금손실 없는 \\'IMA\\' 나온다10:00\\n\\nNH투자증권·쿼타랩, 주식 연계 보상 사업 협력 업무협약 체결09:59\\nMTN[황유현의 마켓타이밍] 고래싸움에 등터진 韓…우려감 언제까지 지속되나09:51\\nMTN[이항영의 월가이드] 美 증시 흔들림 지속…과거 vs 현재 하락세의 특징은?09:46\\n\\n美 장기물 국채, 이틀째 매도세…국채수익률 급등, 위기 전조일까09:41\\n\\n\\n단기채 펀드 수요 높아져…신한베스트크레딧플러스 펀드 리뉴얼09:40\\n\\n[더벨]한성크린텍 최대주주, 자사주 매입 \"성장 자신\"09:34\\n[더벨]상장 추진 덕산넵코어스, 사상 최대 매출 달성09:33\\n고바이오랩, 간 손상 치료 소재 美 특허 등록 소식에 급등09:32\\n\\n상호관세 부과 앞두고…한덕수·트럼프 통화 관련주 ↑09:30\\n\\n\\n미국 상호관세 오후 1시부터 발효…코스피 2320선 보합권 출발09:24\\n\\nMTN대봉엘에스, 인코스메틱스 글로벌 2025 참가…\"친환경 소재로 유럽 공략\"09:23\\nMTN[출근길 뉴스프레소] 中 \"싸울 것\" vs 美 \"104% 부과\" / 위기의 美증시, 200일 이평선 지켜낼까/ \"관세 애플엔 완전한 재앙\" / 마이크론, 관세 요금 부과09:09\\n[더벨]TKENS, 제습제 캐파 증설 \"글로벌 최대 전기차업체향 공급 확대 중\"09:09\\n\\n뉴온, 천연 다이글로메라 활용 \\'다이글로 필 다이어트\\' 론칭… 삭센다·위고비 유사 기전09:06\\n\\n\\n신테카바이오, 글로벌 의료 AI 플랫폼 강자 \"본격적인 실적 성장 기대\"-유진證09:04\\n\\n대한항공, 관세 여파로 화물수요 감소…목표가 14%↓-한투09:04\\n[스팟]코스닥 4.61포인트(0.70%) 내린 653.84 출발09:02\\n[스팟]코스피 4.24포인트(0.18%) 내린 2329.99 출발09:01\\n\\n[더벨]코스모화학, 새 먹거리 폐배터리 리사이클 사업 집중09:01\\n\\n\\n\"에이피알, 주가 급락으로 인한 실적 영향 없을 것\"-다올08:58\\n\\n[더벨]한컴, 베트남 하노이 국립경제대학교에 AI 제품 공급08:58\\n삼성전자, \"관세타격 우려대비 양호 전망\"…목표가 8만2000원-KB08:56\\n카카오, 어닝쇼크 전망…카카오톡·콘텐츠 기대 어려워-하나증권08:53\\n\\n미국 관세로 불확실성↑…삼성전자 투심에도 부정적-유안타08:52\\n\\n\\n한성크린텍 최대주주, 자사주 매입 \"실적 턴어라운드 및 성장성 자신\"08:51\\n\\nMTN[적중! 대박 예감] \\'CJ, 오파스넷, 프로프랙 홀딩\\' 예감 좋은 대박 종목은?08:47\\nMTN[투자원정대 동행] 동국생명과학 vs 에이피알 vs 바이오니아, 공략법은?08:46\\nMTN[고래사냥] \\'CJ씨푸드, 마음AI, 아이씨티케이\\'! 오늘 장 궁금종목 분석08:44\\n\\n메디아나, 영업이익 100억원 이상 의료 AI 솔루션 기업 \\'저평가 부각\\'-하나證08:42\\n\\n\\n\"롯데웰푸드, 가격 인상·해외 법인 증설…하반기 실적 개선 기대\"-한투08:41\\n\\n하이퍼코퍼레이션, 무상감자 결정...\"자본잠식 해소 및 재무구조 개선\"08:31\\n[더벨]제이앤티씨, 오너일가 나란히 자사주 매입 \\'신사업 자신감\\'08:05\\n\"아이폰 곧 300만원\" 미국서 패닉바잉…애플 시총 1150조 녹았다07:49\\n\\n전기차 시대라는데 주유소가 돈이 될까…\\'기름집\\'의 재발견06:00\\n\\n\\n47조 온라인 식료품 시장 \\'정조준\\'한 롯데..조직·시스템 다 바꿨다05:50\\n\\n\"韓과 통화\" 반나절도 못 간 안도랠리…中관세 강행에 급락[뉴욕마감]05:44\\n멀티밤 신화 \\'가히\\' 내놓은 \\'코리아테크\\' K뷰티 드림팀 꾸렸다05:40\\n\"난 못사도 아이는 최고로\"…\\'年 5000만원\\' 키즈카페 늘리는 이유05:30\\n\\n삼성전자 10년간 \\'폭싹 속았수다\\'05:00\\n\\n\\n\\'멀었다\\' 전문가들 \"증시 더 빠진다\" 경고04:10\\n\\n머니투데이 오프라인 헤드라인-9일04:00\\nMTN[급등수사본부] 엔터 활동, 음반 · 음원 판매, MD 사업 등 영위 \\'JYP Ent.\\' vs 해외 100여 개국 판매조직 구축 \\'메타바이오메드\\'19:09\\n증시, 폭풍 뒤 안정?…달러 하락, 국채수익률 급등시 조심해야[오미주]18:35\\n\\n이제는 \\'힙\\'해진 중고거래, 패션 앞세워 시장 키우는 \\'무신사\\'18:10\\n\\n\\nMTN[주식 사관학교 시즌2] 주도테마 Top3 반도체·희토류·조선주18:04\\n\\n\\'르봉백\\' 아떼 바네사브루노, 북촌 아트선재서 팝업 스토어 진행17:32\\n백종원 \\'더본\\', 여성 술자리 면접 스캔들에…매도 폭탄→최저가17:26\\nMTN[수익 내비게이터] AI 시대 사이버 보안 시장 중요성 부각 \\'지니언스\\' 하반기 미국 LNG발 수주 증가 기대17:12\\n\\nCJ온스타일에 아르마니 뷰티 입점..\"프리미엄 브랜드 확장\"17:12\\n\\n\\nMTN[오늘의 테마] \\'펀더멘탈 가치주\\' VS \\'조선\\'17:08\\n\\n스킨케어 브랜드 \\'신스루\\' 코스맥스 손잡고 미국 시장 진출17:06\\n신세계인터, 호주 럭셔리 브랜드 \\'짐머만\\' 국내 첫 공식 팝업 진행17:05\\n한국거래소, 중소형 상장사 밸류업 컨설팅 설명회 8일 진행16:55\\n\\nHLB라이프케어, \\'시니어 만성질환 토탈케어 기업\\'으로 새출발16:53\\n\\n\\n코스피 단독 구원투수된 \\'개미\\'…\"경기 모멘텀 더 확인돼야\"16:52\\n\\n서울 청담동 명품거리로 간 \\'제이린드버그\\', 이유는[리얼로그M]16:48\\n\"비중 줄여라\" 그 말 들었어야…\"3배 벌자\" 달려들었다 49% \\'뚝\\'16:40\\n간만에 반등한 엔비디아에…SK하이닉스도 \\'방긋\\'16:37\\n\\nMTN[이재상의 종가 공략] 오늘의 종가 공략주 BEST \\'노바텍\\'16:36\\n\\n\\n[더벨]제이엘케이, \\'메디컬 AI 얼라이언스\\' 출범식 개최16:28\\n\\n한화에어로·한화오션 8%↑....잠시 \\'꺾\\'였던 K방산 이제 꽃길만 걷나?16:26\\n[더벨]대동, 우크라이나 농업부와 미래농업 기술 지원 협력 논의16:16\\n폭풍 지나간 증시...협상진전? 보복관세? 촉각 세우는 투자자들16:10\\n\\n\"한화에어로 유증 1.3조 축소, 더 살펴봐야\"...금감원, 중점심사 유지16:07\\n\\n\\n\"시장, 이성 잃었다\" 삼성전자에 개인 매수, 외인·기관 매도15:56\\n\\n순식간에 \\'10조 패닉셀\\' 외인…\"지금 최고의 주식\" OO은 샀다15:56\\n변동성 장세에도 정치 테마주 훨훨…빚내서 달려든 개미들15:55\\n급락에 버틴 \\'경기방어주\\' 통신주, 성장주로 변신 가능할까15:53\\n\\nMTN[문제적섹터] 車부품주, ‘관세 방지턱’ 빼곤 다 좋다?15:46\\n\\n\\n[스팟] 코스닥, 7.15포인트(1.10%) 오른 658.45 마감15:35\\n\\n[스팟] 코스피, 6.03포인트(0.26%) 오른 2334.23 마감15:33\\nMTN[김도형의 럭키7] 희토류 대체 산업제 페라이트 관련주 유니온머티리얼15:31\\n[더벨]\\'위기를 기회로\\' 탑코미디어, 숏폼 올라탄다15:23\\n\\n[더벨]갈 길 바쁜 소룩스, 합병심사 사실상 원점으로15:04\\n\\n\\n[더벨]박진수 주성씨앤에어 대표 \"영구자석 사업 본격화\"14:48\\n\\n[더벨]폴라리스오피스, 서버리스 ‘웹오피스’ GS인증 1등급14:37\\nMTN[필승매매 승부사] \\'조기 대선\\' 수혜주 찾기… 남북경헙주 다시 한번? \\'모나용평\\'14:28\\n[더벨]국떡, 美 특허청 상표권 등록…\"글로벌 시장 본격 공략\"14:25\\n\\n[더벨]킵스바이오파마, 윤상배 신임 대표 합류14:24\\n\\n\\n미래에셋운용, 美 다우존스 커버드콜 3종 순자산 1조원 돌파14:02\\n\\n드림인사이트, X 공식 광고 대행사 선정…글로벌 미디어와 협력 강화14:00\\nCU, 카자흐스탄 파트너사 방한 연수 프로그램 진행13:58\\nDB증권 \"장외채권 매수하고 최대 100만원 받으세요\"13:48\\n싸이토젠 재팬, 일본 최대 암 연구프로젝트 참여…20억원 계약 수주13:47\\n\\n처음이전12345다음마지막'},\n",
       " {'title': '주식 시세 및 가격 - Investing.com',\n",
       "  'url': 'https://kr.investing.com/equities',\n",
       "  'content': '| 380,500 | 390,000 | 379,000 | -2,500 | -0.65% | 124.55K | 14:45:10 |\\n| \\n| \\n#### HD현대중공업\\n| 303,500 | 325,500 | 303,000 | -7,500 | -2.41% | 395.99K | 14:47:21 |\\n| \\n| \\n#### SK스퀘어\\n| 93,900 | 95,100 | 92,100 | -1,500 | -1.57% | 200.92K | 14:45:29 |\\n| \\n| \\n#### LG엔솔\\n| 349,500 | 349,500 | 329,000 | +13,500 | +4.02% | 193.87K | 14:47:06 |\\n| \\n| \\n#### 에코프로머티리얼즈\\n| 68,200.00 | 68,300.00 | 65,100.00 | +1,100.00 | +1.64% | 306.28K | 14:45:26 |\\n모든 섹터 [...] | 227,500 | 232,000 | 227,000 | +2,000 | +0.89% | 1.07M | 14:46:55 |\\n| \\n| \\n#### KT\\n| 45,400 | 45,800 | 45,200 | +50 | +0.11% | 215.23K | 14:46:06 |\\n| \\n| \\n#### LG\\n| 69,800 | 72,700 | 69,700 | -3,000 | -4.12% | 276.21K | 14:44:59 |\\n| \\n| \\n#### SK그룹\\n| 141,200 | 143,600 | 140,900 | -3,100 | -2.15% | 56.47K | 14:45:15 |\\n| \\n| \\n#### 한국전력\\n| 20,700 | 20,900 | 20,650 | -50 | -0.24% | 578.03K | 14:45:02 |\\n| \\n| \\n#### POSCO홀딩스\\n| 237,000 | 237,500 | 227,500 | -2,000 | -0.84% | 397.69K | 14:46:27 |\\n| \\n| [...] -0.12%\\n유로/달러\\n1.0316\\n-0.0011\\n-0.11%\\n브라질 헤알/원\\n250.41\\n+0.10\\n+0.04%\\n엔/원\\n9.5593\\n-0.0382\\n-0.40%\\n파운드/달러\\n1.2401\\n-0.0008\\n-0.06%\\n태국 바트/원\\n42.919\\n+0.070\\n+0.16%\\n달러/엔\\n151.93\\n+0.53\\n+0.35%\\nAAPL\\n227.63\\n-5.59\\n-2.40%\\nBABA\\n103.51\\n+3.13\\n+3.12%\\nTSLA\\n361.62\\n-12.70\\n-3.39%\\nAA\\n36.12\\n+0.19\\n+0.53%\\nBAC\\n47.40\\n-0.34\\n-0.71%\\nKO\\n63.84\\n+0.48\\n+0.76%\\nXOM\\n108.89\\n+0.46\\n+0.42%\\n마켓무버(시장에 영향을 준 종목)\\n최다 거래\\n급등주 %\\n급락주 %\\n| 종목명 | 종가 | 변동 % | 거래량 |\\n| --- | --- | --- | --- |\\n| 삼성전자 | 55,400 | +3.17% | \\n20.76M\\n|\\n| 클로봇 | 19,690.00 | +3.09% |',\n",
       "  'score': 0.51076555,\n",
       "  'raw_content': \"주식 시세 및 가격 - Investing.com\\n\\n앱에서 열기\\n인기 검색어\\n다시 검색해주세요\\n최대 45% 할인\\n\\n로그인\\n\\n무료 회원가입\\n\\n\\nEnglish (USA)\\n\\nEnglish (UK)\\nEnglish (India)\\nEnglish (Canada)\\nEnglish (Australia)\\nEnglish (South Africa)\\nEnglish (Philippines)\\nEnglish (Nigeria)\\nDeutsch\\nEspañol (España)\\nEspañol (México)\\nFrançais\\nItaliano\\nNederlands\\nPortuguês (Portugal)\\nPolski\\nPortuguês (Brasil)\\nРусский\\nTürkçe\\n\\u200fالعربية\\u200f\\nΕλληνικά\\nSvenska\\nSuomi\\nעברית\\n日本語\\n简体中文\\n繁體中文\\nBahasa Indonesia\\nBahasa Melayu\\nไทย\\nTiếng Việt\\nहिंदी\\n\\n최대 45% 할인\\n\\n로그인\\n\\n무료 회원가입\\n\\n\\n시장\\n\\n\\n외환\\n\\n단일 환율\\n주요 통화 환율\\n실시간 환율 시세\\n환율표\\n미국 달러 지수\\n외환선물\\n\\nForex 옵션\\n\\n\\n달러/원\\n\\n유로/원\\n엔/원\\n유로/달러\\n달러/엔\\n중국 위안/원\\n달러/중국 위안\\n비트코인/달러\\n\\n\\n\\n원자재\\n\\n실시간 상품\\n금속\\n농산물\\n육류\\n에너지\\n곡물\\n\\n원자재 지수\\n\\n\\n금\\n\\nWTI유\\n은\\n천연가스\\n구리\\n미국 소맥\\n\\n\\n\\n지수\\n\\n한국 지수\\n세계 주요 지수\\n글로벌 지수\\n지수 선물\\n\\n지수 CFD\\n\\n\\nDAX\\n\\n다우존스\\nS&P 500\\n나스닥 100\\n영국 FTSE\\n코스피200 선물 (F)\\n닛케이\\nVNI\\n\\n\\n\\n주식\\n\\n주식 스크리너\\n트렌딩 주식\\nAI가 선택한 주식\\n한국\\n아시아\\n미국\\n유럽\\n미국 개장 전 시장\\n52주 신고가\\n52주 신저가\\n최다 거래\\n급등주\\n저평가된 주식\\n고평가된 주식\\n국제 예탁증서\\n\\n한국 미국 예탁증서\\n\\n\\n알파벳 A\\n\\n애플\\n존슨앤존슨\\n뱅크오브아메리카\\nJP모건\\n\\n\\n\\nETF\\n\\n주요 ETF\\n세계 ETF\\n미국 - ETF\\n\\n비트코인 ETF\\n\\n\\nSPDR S&P 500\\n\\niShares MSCI EM\\nSPDR골드트러스트\\nInvesco QQQ Trust Series 1\\n\\n\\n\\n펀드\\n\\n월드 펀드\\n\\n메이저 펀드\\n\\n\\nVanguard Total Stock Mkt Idx Instl Sel\\n\\nPIMCO Commodity Real Ret Strat C\\nVanguard Total Bond Market Index Adm\\nVanguard 500 Index Investor\\n\\n\\n\\n채권\\n\\n금융 선물\\n세계 국채\\n정부 채권 스프레드\\n선도환율\\n채권 지표\\n\\n신용 부도 스와프율(CDS)\\n\\n\\n2년만기 미국채\\n\\n10년만기 미국채\\n30년만기 미국채\\n영국국채\\n독일장기국채 (Bund)\\n독일단기국채\\n\\n\\n\\n암호화폐\\n\\n암호화폐쌍\\n모든 암호화페\\n비트코인\\n이더리움\\nDogecoin\\nOFFICIAL TRUMP\\nXRP\\n\\n환율 변환기\\n\\n\\n비트코인/달러\\n\\n이더리움/달러\\n라이트코인/달러\\n이더리움 클래식/달러\\n이더리움/비트코인\\n도지코인/달러\\n\\n\\n\\n증서\\n\\n주요 증서\\n\\n세계 증서\\n\\n\\nSG FTSE MIB Gross TR 5x Daily Short Strategy RT 18\\n\\nVontobel 7X Long Fixed Lever on Natural Gas 8.06\\nBNP Call 500.59 EUR AEX 31Dec99\\nCOMMERZBANK AG Put CAC FUT 05/17 31Dec99\\n\\n\\n\\n\\n\\n내 관심목록\\n\\n\\n암호화폐\\n암호화폐\\n\\n모든 암호화페\\n암호화폐쌍\\nICO 캘린더\\n암호화폐 브로커\\n비트코인\\n이더리움\\nXRP\\nLitecoin\\n환율 변환기\\n\\n암호화폐 추가 정보\\n\\nBTC/USD\\nETH/USD\\nLTC/USD\\nETC/USD\\nETH/BTC\\nIOTA/USD\\nXRP/USD\\n비트코인 선물 CME\\n\\n\\n\\n차트\\n실시간 차트\\n\\n라이브 차트\\n외환 차트\\n선물 차트\\n주식 차트\\n지수 차트\\n\\n암호화폐 차트\\n\\n\\n인터랙티브 Forex 차트\\n\\n인터랙티브 선물 차트\\n인터랙티브 지수 차트\\n인터랙티브 주식 차트\\n멀티플 외환 차트\\n멀티플 지수 차트\\n\\n\\n\\n뉴스\\n시장뉴스\\n\\n경제\\n상품과 선물\\n주식 시장\\n실적\\n애널리스트 투자의견\\n스크립트\\n경제 지표\\n외환\\n암호화폐\\n일반\\nIPO\\n뉴스 속보\\n프로 뉴스\\n\\n더 보기\\n\\n최신\\n많이 본\\n개인 금융\\n경제 캘린더\\n기업 뉴스\\n내부자 거래\\n투자 아이디어\\nSEC 공시\\n\\n\\n\\n분석\\n분석\\n\\n시장 개황\\n외환\\n암호화폐\\n주식 시장\\n원자재\\n펀드\\n\\n더 보기\\n\\n가장 인기 있는 분석\\n코믹\\n편집자 선정\\n\\n\\n\\n기술적 분석\\n도구\\n\\n기술적 요약\\n기술 분석\\n피봇 포인트\\n이동평균\\n기타 지표\\n캔들스틱 패턴\\n\\n더보기\\n\\n캔들스틱 패턴\\n피보나치 계산기\\n피봇 포인트 계산기\\n\\n\\n\\n브로커\\n중개업체\\n\\n외환 중개업체\\nCFD 중개업체\\n주식 중개업체\\n온라인 브로커\\n암호화폐 거래소\\n\\n더보기\\n\\n암호화폐 브로커\\n\\n\\n\\n도구 모음\\n캘린더\\n\\n경제 캘린더\\n휴일 캘린더\\n실적발표 캘린더\\n배당 일정\\n분할 캘린더\\nIPO 캘린더\\n선물 만기 캘린더\\n\\n투자 도구\\n\\n주식 스크리너\\nFED 금리 모니터링 도구\\n환율 변환기\\n피보나치 계산기\\n\\n더보기\\n\\n외환 상관관계\\n피봇 포인트 계산기\\n이익계산기\\n마진 계산기\\n통화 히트맵\\n외환 변동성\\n선물환 환율 계산기\\n모기지 계산기\\n\\n\\n\\n교육\\n\\n\\n알림\\n\\n\\n주식 스크리너경제 캘린더\\n\\n\\n\\n\\n\\n더보기\\n\\n프롭 트레이딩\\n중앙은행\\n브로커 블랙리스트\\n어플\\n웨비나\\n\\n광고 없는 버전\\n\\n\\n웹마스터 도구\\n\\n동향 전망\\n\\n\\n\\n로그아웃\\n\\n\\n주식시세\\n\\n주식 스크리너\\n한국\\n미국 개장 전 시장\\n국제 예탁증서\\n한국 미국 예탁증서\\n미국\\n유럽\\n중동\\n아시아\\n아프리카\\n저평가된 주식\\n고평가된 주식\\nAI가 선택한 주식\\n\\n😎 주말 관심목록: 억만장자 주식 투자자들이 매수하고 있는 주식이 무엇인지 바로 확인하세요무료로 확인하기\\n100% 광고 없는 경험을 해보세요\\n주식시세\\n전 세계 주식 시장 자료가 있습니다. 대륙별, 특정 국가 또는 특정 주식 지수별 정보 보기를 선택할 수 있습니다. 탭을 이용하여 가격, 다양한 기간의 실적, 기술 분석 요약과 펀드 관련 자료를 볼 수 있습니다.\\n세계 시장\\n세계 시장\\n미국\\n미국\\n멕시코\\n미국\\n베네수엘라\\n브라질\\n아르헨티나\\n자메이카\\n칠레\\n캐나다\\n코스타리카\\n콜롬비아\\n페루\\n유럽\\n유럽\\n그리스\\n네덜란드\\n노르웨이\\n덴마크\\n독일\\n라트비아\\n러시아\\n루마니아\\n룩셈부르크\\n리투아니아\\n몬테네그로\\n몰타\\n벨기에\\n보스니아\\n불가리아\\n세르비아\\n스웨덴\\n스위스\\n스페인\\n슬로바키아\\n슬로베니아\\n아이슬란드\\n아일랜드\\n에스토니아\\n영국\\n오스트리아\\n우크라이나\\n이탈리아\\n체코\\n크로아티아\\n키프로스\\n튀르키예\\n포르투갈\\n폴란드\\n프랑스\\n핀란드\\n헝가리\\n아시아\\n아시아\\n뉴질랜드\\n대만\\n말레이시아\\n몽골\\n방글라데시\\n베트남\\n스리랑카\\n싱가폴\\n인도\\n인도네시아\\n일본\\n중국\\n카자흐스탄\\n태국\\n파키스탄\\n필리핀\\n한국\\n호주\\n홍콩\\n중동\\n중동\\n레바논\\n바레인\\n사우디 아라비아\\n아랍 에미리트\\n오만\\n요르단\\n이라크\\n이스라엘\\n이집트\\n카타르\\n쿠웨이트\\n팔레스타인 자치 정부\\n아프리카\\n아프리카\\n나미비아\\n나이지리아\\n남아프리카 공화국\\n르완다\\n말라위\\n모로코\\n모리셔스\\n보츠와나\\n우간다\\n잠비아\\n짐바브웨\\n케냐\\n코트 디부 아르\\n탄자니아\\n튀니지\\n캐나다 S&P/TSX\\nAl-Quds\\nAmman SE General\\nAthens General Composite\\nATX\\nBelex 15\\nBET\\nBIRS\\nBLOM Stock\\nBlue-Chip SBITOP\\nBRVM 10\\nBSE Domestic Company\\nBSE SOFIX\\nBSE 인도 센섹스 30\\nBursatil\\nCOLCAP\\nCROBEX\\nCyprus Main Market\\nDAX\\nDFM General\\nDhaka Stock Exchange 30\\nEGX 30\\nEGX 70 EWI\\xa0\\nFTSE ADX General\\nHNX 30\\nISEQ Overall\\nISX Main 60\\nKarachi 100\\nKASE\\nMNE Top 20\\nMOEX Russia Index\\nNifty 50\\nNifty Midcap 150\\nNSE 30\\nNZX 50\\nNZX MidCap\\nOMX Iceland All-Share\\nPFTS\\nPSEi Composite\\nPSI\\nPX\\nRTS Index\\nS&P 500\\nS&P CLX IPSA\\nS&P Lima General\\nS&P Merval\\nS&P/BMV IPC\\nSAX\\nSemdex\\nSET Index\\nSouth Africa Top 40\\nSZSE Component\\nTA 35\\nTanzania All Share\\nTunindex\\nTunindex20\\nUganda All Share\\nVN 30\\nVN Index\\n나스닥 100\\n나스닥종합지수\\n네덜란드 AEX\\n노르웨이 OBX\\n노르웨이 OSE\\n닛케이\\n다우존스\\n대만 가권\\n덴마크 OMXC\\n말레이지아 KLCI\\n모로코 MASI\\n바레인 BHSEASI\\n벨기에 BEL\\n브라질 보베스파\\n사우디아라비아 Tadawul\\n상해종합\\n스웨덴 OMXS\\n스위스 SMI\\n스페인 IBEX\\n영국 FTSE\\n오만 MSM\\n유로 스톡스 50\\n인도네시아 IDX\\n카타르 QE General\\n코스피 50\\n코스피지수\\n터키 BIST\\n폴란드 WIG 20\\n폴란드 WIG 30\\n프랑스 CAC\\n핀란드 OMXH\\n항셍\\n헝가리 BUX\\n호주 S&P/ASX\\n가격성과기술 분석펀더멘탈\\n콤팩트형\\n보통형\\n확장형\\n| \\n | \\n종목명\\n| \\n종가\\n| \\n고가\\n| \\n저가\\n| \\n변동\\n| \\n변동 %\\n| \\n거래량\\n| \\n시간\\n|\\n| --- | --- | --- | --- | --- | --- | --- | --- | --- |\\n| \\n| \\n#### LG전자\\n| 79,100 | 79,300 | 77,700 | -500 | -0.63% | 488.8K | 14:46:55 |\\n| \\n| \\n#### 삼성전기\\n| 144,600 | 146,500 | 137,100 | +6,100 | +4.40% | 791.77K | 14:45:19 |\\n| \\n| \\n#### 한화에어로스페이스\\n| 414,000 | 425,500 | 411,000 | -4,000 | -0.96% | 202.6K | 14:46:26 |\\n| \\n| \\n#### HMM\\n| 18,280 | 18,770 | 18,260 | -300 | -1.61% | 857.93K | 14:46:06 |\\n| \\n| \\n#### 삼성화재\\n| 367,500 | 372,500 | 366,000 | -2,500 | -0.68% | 62.52K | 14:45:25 |\\n| \\n| \\n#### 하나금융지주\\n| 60,900 | 62,500 | 60,900 | -700 | -1.14% | 648.37K | 14:46:06 |\\n| \\n| \\n#### 현대글로비스\\n| 134,700 | 136,000 | 129,300 | +1,700 | +1.28% | 160.19K | 14:45:28 |\\n| \\n| \\n#### 고려아연\\n| 761,000 | 785,000 | 751,000 | -23,000 | -2.93% | 18.83K | 14:44:58 |\\n| \\n| \\n#### 현대모비스\\n| 246,500 | 249,500 | 243,000 | -500 | -0.20% | 145.91K | 14:45:27 |\\n| \\n| \\n#### 현대차\\n| 199,700 | 200,500 | 197,700 | -800 | -0.40% | 804.3K | 14:46:39 |\\n| \\n| \\n#### SK이노베이션\\n| 122,800 | 123,400 | 120,000 | +1,700 | +1.40% | 138.41K | 14:47:04 |\\n| \\n| \\n#### KB금융\\n| 85,600 | 86,900 | 85,500 | -400 | -0.47% | 1.1M | 14:47:19 |\\n| \\n| \\n#### 아모레퍼시픽\\n| 118,200 | 119,000 | 116,100 | -500 | -0.42% | 191.4K | 14:45:28 |\\n| \\n| \\n#### LG화학\\n| 221,000 | 221,500 | 208,000 | +4,000 | +1.84% | 365.47K | 14:46:33 |\\n| \\n| \\n#### 삼성생명\\n| 90,600 | 91,200 | 89,600 | -300 | -0.33% | 119.79K | 14:45:30 |\\n| \\n| \\n#### SK하이닉스\\n| 198,500 | 203,000 | 197,000 | -4,500 | -2.22% | 2.2M | 14:46:30 |\\n| \\n| \\n#### 삼성전자\\n| 55,300 | 55,800 | 52,900 | +1,600 | +2.98% | 20.62M | 14:47:01 |\\n| \\n| \\n#### 삼성SDI\\n| 212,500 | 212,500 | 200,000 | +3,000 | +1.43% | 592.99K | 14:46:36 |\\n| \\n| \\n#### 신한지주\\n| 49,700 | 49,850 | 48,800 | +450 | +0.91% | 799.74K | 14:46:55 |\\n| \\n| \\n#### 기아\\n| 93,900 | 95,100 | 93,000 | -2,600 | -2.69% | 1.44M | 14:46:09 |\\n| \\n| \\n#### SK텔레콤\\n| 55,000 | 55,800 | 54,900 | -200 | -0.36% | 500.38K | 14:47:12 |\\n| \\n| \\n#### S-oil\\n| 58,400 | 58,900 | 57,900 | 0 | 0.00% | 111.38K | 14:45:30 |\\n| \\n| \\n#### 삼성물산\\n| 118,700 | 119,700 | 116,600 | -1,300 | -1.08% | 234.06K | 14:45:22 |\\n| \\n| \\n#### KT&G\\n| 108,700 | 110,800 | 108,600 | -500 | -0.46% | 121.82K | 14:44:14 |\\n| \\n| \\n#### NAVER\\n| 227,500 | 232,000 | 227,000 | +2,000 | +0.89% | 1.07M | 14:46:55 |\\n| \\n| \\n#### KT\\n| 45,400 | 45,800 | 45,200 | +50 | +0.11% | 215.23K | 14:46:06 |\\n| \\n| \\n#### LG\\n| 69,800 | 72,700 | 69,700 | -3,000 | -4.12% | 276.21K | 14:44:59 |\\n| \\n| \\n#### SK그룹\\n| 141,200 | 143,600 | 140,900 | -3,100 | -2.15% | 56.47K | 14:45:15 |\\n| \\n| \\n#### 한국전력\\n| 20,700 | 20,900 | 20,650 | -50 | -0.24% | 578.03K | 14:45:02 |\\n| \\n| \\n#### POSCO홀딩스\\n| 237,000 | 237,500 | 227,500 | -2,000 | -0.84% | 397.69K | 14:46:27 |\\n| \\n| \\n#### 포스코인터내셔널\\n| 40,400 | 40,600 | 39,250 | +400 | +1.00% | 420.71K | 14:45:26 |\\n| \\n| \\n#### HD한국조선해양\\n| 218,500 | 230,000 | 218,500 | -7,000 | -3.10% | 243.75K | 14:46:27 |\\n| \\n| \\n#### 기업은행\\n| 15,300 | 15,420 | 15,140 | +150 | +0.99% | 1.31M | 14:45:27 |\\n| \\n| \\n#### 두산에너빌리티\\n| 23,050 | 23,800 | 23,000 | -150 | -0.65% | 4.52M | 14:46:24 |\\n| \\n| \\n#### 한미반도체\\n| 99,700 | 101,800 | 97,600 | -6,300 | -5.94% | 1.55M | 14:46:21 |\\n| \\n| \\n#### 메리츠금융지주\\n| 110,400 | 111,500 | 109,500 | +100 | +0.09% | 147.27K | 14:45:29 |\\n| \\n| \\n#### 삼성SDS\\n| 126,700 | 127,100 | 124,600 | +300 | +0.24% | 91.43K | 14:46:27 |\\n| \\n| \\n#### 포스코퓨처엠\\n| 130,800 | 131,000 | 122,700 | +2,900 | +2.27% | 279.71K | 14:45:30 |\\n| \\n| \\n#### 카카오\\n| 42,900 | 46,000 | 42,850 | -1,600 | -3.60% | 5.02M | 14:46:36 |\\n| \\n| \\n#### 셀트리온\\n| 179,600 | 180,300 | 175,800 | 0 | 0.00% | 419.27K | 14:46:25 |\\n| \\n| \\n#### 삼성바이오로직스\\n| 1,135,000 | 1,163,000 | 1,132,000 | -25,000 | -2.16% | 62.58K | 14:45:30 |\\n| \\n| \\n#### 우리금융지주\\n| 16,310 | 16,590 | 15,810 | +920 | +5.98% | 6M | 14:46:37 |\\n| \\n| \\n#### SK 바이오팜\\n| 124,000 | 128,900 | 123,500 | -3,900 | -3.05% | 399.39K | 14:45:14 |\\n| \\n| \\n#### 하이브\\n| 238,500 | 245,500 | 238,500 | +4,000 | +1.71% | 205.25K | 14:44:45 |\\n| \\n| \\n#### 카카오뱅크\\n| 23,150 | 23,500 | 23,000 | +150 | +0.65% | 585.3K | 14:45:30 |\\n| \\n| \\n#### 크래프톤\\n| 380,500 | 390,000 | 379,000 | -2,500 | -0.65% | 124.55K | 14:45:10 |\\n| \\n| \\n#### HD현대중공업\\n| 303,500 | 325,500 | 303,000 | -7,500 | -2.41% | 395.99K | 14:47:21 |\\n| \\n| \\n#### SK스퀘어\\n| 93,900 | 95,100 | 92,100 | -1,500 | -1.57% | 200.92K | 14:45:29 |\\n| \\n| \\n#### LG엔솔\\n| 349,500 | 349,500 | 329,000 | +13,500 | +4.02% | 193.87K | 14:47:06 |\\n| \\n| \\n#### 에코프로머티리얼즈\\n| 68,200.00 | 68,300.00 | 65,100.00 | +1,100.00 | +1.64% | 306.28K | 14:45:26 |\\n모든 섹터\\n아카데믹 및 교육 서비스 (13)소재 (320)소비순환재 (423)필수소비재 (192)에너지 (36)금융 (706)헬스케어 (322)산업 (450)부동산 (33)기술 (680)유틸리티 (18)\\n주식시장 뉴스\\n\\n\\n“실리라도 챙길까?”···일본제철, 美 정부에 US스틸 인수 수정안 제시\\n\\nBy투데이코리아-\\n\\n투데이코리아 - ▲ 일본제철의 도쿄 본사 전경. 사진=뉴시스 투데이코리아=진민석 기자 | 미국 철강기업 US스틸 인수가 미국 정부의 반대로 무산될 위기에 ...\\n\\n\\n지난 1년간 342.51% 성장한 팔란티어, 계속 성장할 가능성은?\\n\\nByInvesting.com-\\n\\nInvesting.com – 지난 1년간 무려 342.51% 성장한 팔란티어 (NASDAQ:PLTR)는 지난 실적 발표 이후 계속해서 주가가 상승하며 ...\\n\\n\\n[STOCK] '3조 클럽' 우리금융, 비과세 배당 도입… 장초반 7% 급등\\n\\nByMoneyS-\\n\\n우리금융지주가 올해 비과세 배당을 도입한다는 소식에 10일 장 초반 주가가 7% 넘게 급등 중이다.한국거래소에 따르면 오전 10시29분 우리금융지주는...\\n\\n\\n주식시장 분석 & 견해\\n\\n\\n빅테크, 딥시크 영향 감소 속에서 AI에 수십억 달러 투자 지속\\n\\nByTimothy Fries -\\n\\n아마존(NASDAQ:AMZN)과 구글(NASDAQ:GOOGL)과 같은 주요 기업들이 AI 개발을 주도하며 투자 확대에 나서고 있다. 이들 기업은 AI 역량과 인프...\\n\\n\\n딥 시크가 한 풀 꺾어 놓은 AI, 그럼에도 주목할 주식은?\\n\\n\\nBy장영한 대표-\\n\\n\\n1\\n\\n\\n2025년 초 트럼프가 미국의 47대 대통령으로 취임하기 일주일 전, 중국을 견제하는 바이든 행정부는 고급 AI/GPU 칩에 대한 글로벌 수출 제한 조치를 추진했...\\n\\n\\n기적을 기대하세요. 기적을 선사하는 팔란티어\\n\\n\\nByAndrea Kraus-\\n\\n\\n1\\n\\n\\n덴버에 본사를 둔 군사 분석 회사 팔란티어의 공동 창립자이자 CEO인 알렉산더 카프(Alexander C. Karp)는 명확하고 강렬한 단어를 사용해 조직적 폭력...\\n\\n\\n실적 캘린더\\n| \\n | \\n회사\\n| \\n주당순이익 / 예측\\n| \\n매출 / 예측\\n| \\n총 시가\\n| \\n시간\\n|\\n| --- | --- | --- | --- | --- | --- |\\n| 2025년 2월 10일 월요일 |\\n| \\n| \\nBank Mandiri Persero(BMRI)\\n| \\n주당순이익 / 예측\\n| \\n매출 / 예측\\n| -- / 155.41 | -- / 37,642.65B | 469.00T | \\n|\\n| \\n| \\n코리안리(003690)\\n| \\n주당순이익 / 예측\\n| \\n매출 / 예측\\n| -- / -- | -- / -- | 1.42T | \\n|\\n| \\n| \\n동아쏘시오홀딩스(000640)\\n| \\n주당순이익 / 예측\\n| \\n매출 / 예측\\n| -- / 3,086 | -- / 317.8B | 622.57B | \\n|\\n| \\n| \\nHyundai Green Food(453340)\\n| \\n주당순이익 / 예측\\n| \\n매출 / 예측\\n| -- / -- | -- / 589.00B | 462.06B | \\n|\\n| \\n| \\nDubai Electricity and Water(DEWAA)\\n| \\n주당순이익 / 예측\\n| \\n매출 / 예측\\n| -- / 0.03 | -- / 7.34B | 132.5B | \\n|\\n| \\n| \\n모비릭스(348030)\\n| \\n주당순이익 / 예측\\n| \\n매출 / 예측\\n| -- / -- | -- / -- | 50.23B | \\n|\\n| \\n| \\n신시내티 파이낸셜(CINF)\\n| \\n주당순이익 / 예측\\n| \\n매출 / 예측\\n| -- / 1.88 | -- / 2.32B | 21.41B | \\n|\\n| \\n| \\nBRD Groupe(ROBRD)\\n| \\n주당순이익 / 예측\\n| \\n매출 / 예측\\n| -- / -- | -- / -- | 12.91B | \\n|\\n| \\n| \\nMC Group(MC)\\n| \\n주당순이익 / 예측\\n| \\n매출 / 예측\\n| -- / 0.35 | -- / 1,241M | 7.88B | \\n|\\n| \\n| \\nAUDI(AUDI)\\n| \\n주당순이익 / 예측\\n| \\n매출 / 예측\\n| -- / -- | -- / -- | 1.76B | \\n|\\n모든 이벤트 보기\\n중개인 찾기\\n외환\\n지수\\n원자재\\n주식\\n코스피지수\\n2,522.36\\n+0.44\\n+0.02%\\n코스피200 선물 (F) (F)\\n355.85\\n-2.65\\n-0.74%\\nUS 500\\n6,044.30\\n+18.3\\n+0.30%\\nUS Tech 100\\n21,612.30\\n+121.0\\n+0.56%\\nDAX\\n21,787.00\\n-115.42\\n-0.53%\\n닛케이\\n38,875.50\\n+56.50\\n+0.15%\\n미국 달러 지수\\n108.14\\n+0.212\\n+0.20%\\n금 (F)\\n2,907.72\\n+20.12\\n+0.70%\\n은 (F)\\n32.45\\n+0.007\\n+0.02%\\n브렌트유 (F)\\n75.11\\n+0.45\\n+0.60%\\nWTI유 (F)\\n71.44\\n+0.44\\n+0.62%\\n천연가스 (F)\\n3.40\\n+0.091\\n+2.75%\\n구리 (F)\\n4.5935\\n-0.0070\\n-0.15%\\n미국 옥수수 (F)\\n483.12\\n-4.38\\n-0.90%\\n달러/원\\n1,451.65\\n-1.79\\n-0.12%\\n유로/달러\\n1.0316\\n-0.0011\\n-0.11%\\n브라질 헤알/원\\n250.41\\n+0.10\\n+0.04%\\n엔/원\\n9.5593\\n-0.0382\\n-0.40%\\n파운드/달러\\n1.2401\\n-0.0008\\n-0.06%\\n태국 바트/원\\n42.919\\n+0.070\\n+0.16%\\n달러/엔\\n151.93\\n+0.53\\n+0.35%\\nAAPL\\n227.63\\n-5.59\\n-2.40%\\nBABA\\n103.51\\n+3.13\\n+3.12%\\nTSLA\\n361.62\\n-12.70\\n-3.39%\\nAA\\n36.12\\n+0.19\\n+0.53%\\nBAC\\n47.40\\n-0.34\\n-0.71%\\nKO\\n63.84\\n+0.48\\n+0.76%\\nXOM\\n108.89\\n+0.46\\n+0.42%\\n마켓무버(시장에 영향을 준 종목)\\n최다 거래\\n급등주 %\\n급락주 %\\n| 종목명 | 종가 | 변동 % | 거래량 |\\n| --- | --- | --- | --- |\\n| 삼성전자 | 55,400 | +3.17% | \\n20.76M\\n|\\n| 클로봇 | 19,690.00 | +3.09% | \\n20.44M\\n|\\n| 필옵틱스 | 46,200 | +4.05% | \\n8.09M\\n|\\n| 한화오션 | 58,700 | -5.17% | \\n5.60M\\n|\\n| 전진건설로봇 | 57,000.00 | +4.40% | \\n4.84M\\n|\\n| SK하이닉스 | 198,700 | -2.12% | \\n2.21M\\n|\\n| 레인보우로보틱스 | 376,000 | -8.40% | \\n1.42M\\n|\\n| 종목명 | 종가 | 변동 % | 거래량 |\\n| --- | --- | --- | --- |\\n| 케이알엠 | 3,380 | +30.00% | \\n879.02K\\n|\\n| 유일에너테크 | 1,505 | +29.97% | \\n2.18M\\n|\\n| WiseNut INC | 17,000.00 | +29.97% | \\n2.11M\\n|\\n| 글로본 | 872 | +29.96% | \\n1.14M\\n|\\n| PIE | 7,640.00 | +29.93% | \\n23.21M\\n|\\n| \\xa0올릭스 | 26,700 | +29.93% | \\n95.02K\\n|\\n| 하이트론 | 977 | +29.92% | \\n20.73M\\n|\\n| 종목명 | 종가 | 변동 % | 거래량 |\\n| --- | --- | --- | --- |\\n| 퀀타피아 | 80 | -97.20% | \\n11.72M\\n|\\n| 일월지엠엘 | 115 | -42.50% | \\n2.97M\\n|\\n| CSA 코스믹 | 767 | -29.57% | \\n11.20M\\n|\\n| 썬테크 | 1,530 | -15.00% | \\n120.00\\n|\\n| 세븐브로이맥주 | 1,530.00 | -15.00% | \\n474.00\\n|\\n| 씨앤에스링크 | 1,096 | -14.97% | \\n11.00\\n|\\n| 코셋 | 1,434 | -14.95% | \\n1.00\\n|\\nProPicks AI\\nAI기반으로 선정된 종목으로, S&P 500 지수의 수익률을 상회할 수 있습니다.\\n테크 타이탄\\n이 전략을 사용할 수 있는 주식\\naaa aaaaaaa aaaa aaa\\naaa aaaaaaa aaaa aaa\\naaa aaaaaaa aaaa aaa\\n전략 잠금 해제\\nS&P 500 지수 이기기\\n이 전략을 사용할 수 있는 주식\\naaa aaaaaaa aaaa aaa\\naaa aaaaaaa aaaa aaa\\naaa aaaaaaa aaaa aaa\\n전략 잠금 해제\\n다우존스 지수 이기기\\n이 전략을 사용할 수 있는 주식\\naaa aaaaaaa aaaa aaa\\naaa aaaaaaa aaaa aaa\\naaa aaaaaaa aaaa aaa\\n전략 잠금 해제\\n시장 움직일 중형주\\n이 전략을 사용할 수 있는 주식\\naaa aaaaaaa aaaa aaa\\naaa aaaaaaa aaaa aaa\\naaa aaaaaaa aaaa aaa\\n전략 잠금 해제\\n상위 가치주\\n이 전략을 사용할 수 있는 주식\\naaa aaaaaaa aaaa aaa\\naaa aaaaaaa aaaa aaa\\naaa aaaaaaa aaaa aaa\\n전략 잠금 해제\\n워런 버핏이 선택한 최고의 주식\\n이 전략을 사용할 수 있는 주식\\naaa aaaaaaa aaaa aaa\\naaa aaaaaaa aaaa aaa\\naaa aaaaaaa aaaa aaa\\n전략 잠금 해제\\n_undefined_chat_widget_header\\n\\n등록\\n의견 지침\\n도구\\n캘린더\\n경제 캘린더실적 캘린더휴일 캘린더\\n미국 경제\\n연방준비제도(FED) 금리 모니터링 도구미국 국채 수익률 곡선\\n더 많은 도구\\n주식 스크리너환율 계산기\\n시장\\nAI가 선택한 주식\\n관심목록\\n알림\\n브로커 순위\\n신규\\n뉴스 속보\\n도구\\n앱 다운로드하기QR코드로 앱 다운로드하기\\n\\nGoogle Play\\n\\nApp Store\\n\\n\\n블로그\\n\\n모바일\\n포트폴리오\\n\\n웹마스터 도구\\n\\n\\n회사 소개\\n\\n광고\\n\\n안내와 지원\\n\\n\\n\\n\\n\\n\\n리스크 고지: 금융 상품 및/또는 가상화폐 거래는 투자액의 일부 또는 전체를 상실할 수 있는 높은 리스크를 동반하며, 모든 투자자에게 적합하지 않을 수 있습니다. 가상화폐 가격은 변동성이 극단적으로 높고 금융, 규제 또는 정치적 이벤트 등 외부 요인의 영향을 받을 수 있습니다. 특히 마진 거래로 인해 금융 리스크가 높아질 수 있습니다.\\n금융 상품 또는 가상화폐 거래를 시작하기에 앞서 금융시장 거래와 관련된 리스크 및 비용에 대해 완전히 숙지하고, 자신의 투자 목표, 경험 수준, 위험성향을 신중하게 고려하며, 필요한 경우 전문가의 조언을 구해야 합니다.\\nFusion Media는 본 웹사이트에서 제공되는 데이터가 반드시 정확하거나 실시간이 아닐 수 있다는 점을 다시 한 번 알려 드립니다. 본 웹사이트의 데이터 및 가격은 시장이나 거래소가 아닌 투자전문기관으로부터 제공받을 수도 있으므로, 가격이 정확하지 않고 시장의 실제 가격과 다를 수 있습니다. 즉, 가격은 지표일 뿐이며 거래 목적에 적합하지 않을 수도 있습니다. Fusion Media 및 본 웹사이트 데이터 제공자는 웹사이트상 정보에 의존한 거래에서 발생한 손실 또는 피해에 대해 어떠한 법적 책임도 지지 않습니다.\\nFusion Media 및/또는 데이터 제공자의 명시적 사전 서면 허가 없이 본 웹사이트에 기재된 데이터를 사용, 저장, 복제, 표시, 수정, 송신 또는 배포하는 것은 금지되어 있습니다. 모든 지적재산권은 본 웹사이트에 기재된 데이터의 제공자 및/또는 거래소에 있습니다.\\nFusion Media는 본 웹사이트에 표시되는 광고 또는 광고주와 사용자 간의 상호작용에 기반해 광고주로부터 보상을 받을 수 있습니다.\\n본 리스크 고지의 원문은 영어로 작성되었으므로 영어 원문과 한국어 번역문에 차이가 있는 경우 영어 원문을 우선으로 합니다.\\n© 2007-2025 - Fusion Media Limited. 판권소유\\n\\n이용약관\\n개인정보 보호정책\\n리스크 경고\\n\"},\n",
       " {'title': 'Google Finance - 주식 시장가, 실시간 시세, 비즈니스 뉴스',\n",
       "  'url': 'https://finance.google.com/?hl=ko&gl=KR&source=news',\n",
       "  'content': '005930 삼성전자 2.36만명 팔로우 중 0.93% add_circle_outlineAAPL 애플 1.38만명 팔로우 중 2.40% add_circle_outlineTSLA 테슬라 9.94천명 팔로우 중 3.39% add_circle_outlineGOOGL 알파벳 7.74천명 팔로우 중 3.27% add_circle_outlineAMZN 아마존 6.34천명 팔로우 중 4.05% add_circle_outlineMSFT 마이크로소프트 6.3천명 팔로우 중 1.46% add_circle_outline\\n시장 현황\\n마켓 트렌드를 로드하는 중입니다.\\n더 알아보기\\n관심 있을 만한 주식 정보\\ninfo\\n이 목록은 최근 검색어, 팔로우한 증권, 기타 활동을 기반으로 생성되었습니다. 자세히 알아보기',\n",
       "  'score': 0.49275014,\n",
       "  'raw_content': \"Google Finance - 주식 시장가, 실시간 시세, 비즈니스 뉴스\\n금융\\n금융\\n\\n로그인\\n Finance\\nfinance_mode 홈\\nmanage_search 시장 현황\\n포트폴리오\\nadd\\n포트폴리오 만들기\\n관심 종목\\nadd\\n관심 목록 만들기\\n가장 거래가 활발한 주식\\n휴림로봇 +29.82%한빛레이저 +21.14%아이에이 +5.07%엑시큐어하이트론 +29.92%클로봇 +8.38%유진로봇 +20.98%\\nsettings 설정feedback\\n의견 보내기\\n_expand_all_시장 비교\\n미국\\n유럽\\n아시아\\n통화\\n암호화폐\\n선물\\n닛케이 평균주가 38,866.21 +0.20% +79.19 닛케이 평균주가 38,866.21 0.20%\\n상해종합주가지수 3,316.16 +0.38% +12.50 상해종합주가지수 3,316.16 0.38%\\n항셍지수 21,487.76 +1.68% +354.22 항셍지수 21,487.76 1.68%\\nBSE 센섹스 77,282.41 -0.74% -577.78 BSE 센섹스 77,282.41 0.74%\\n니프티50 23,383.75 -0.75% -176.20 니프티50 23,383.75 0.75%\\nformat_list_bulleted\\n관심 목록 만들기\\n로그인하여 관심 있는 투자 추적하기\\n로그인\\n관심 있을 만한 주식 정보\\ninfo\\n이 목록은 최근 검색어, 팔로우한 증권, 기타 활동을 기반으로 생성되었습니다. 자세히 알아보기 \\n모든 데이터와 정보는 개인에게 정보를 제공하는 목적으로 '있는 그대로' 제공되며 금융 자문이나 거래 또는 투자, 세금, 법률, 회계 등에 관한 자문을 의도하지 않습니다. Google은 투자 자문가가 아니며 이 목록에 포함된 회사 또는 이러한 회사에서 발행한 증권과 관련하여 견해, 추천 의사 또는 의견을 밝히지 않습니다. 거래를 체결하기 전에 중개인이나 금융 대리인에게 문의하여 가격을 확인하세요. 자세히 알아보기\\n\\n지수 뉴욕주식시장 변동성지수 16.54 +1.04 6.71% add_circle_outline\\nAMZN 아마존 $229.15 -$9.68 4.05% add_circle_outline\\nTSLA 테슬라 $361.62 -$12.70 3.39% add_circle_outline\\nBABA 알리바바 그룹 $103.51 +$3.13 3.12% add_circle_outline\\nAAPL 애플 $227.63 -$5.59 2.40% add_circle_outline\\n지수 나스닥 종합주가지수 19,523.40 -268.59 1.36% add_circle_outline\\n\\n오늘의 금융 뉴스\\n주요 뉴스\\n국내 주식 시장\\n세계 시장\\n뉴스 로드 중\\n시장 현황\\n_stacked_line_chart_시장 지수기후 변화 대응 선두업체_copyright_암호화폐_paid_통화\\n수익 캘린더\\n인기 주식 기준\\nFeb\\n10\\n(주)에스.엠.엔터테인먼트\\n2025. 2. 10.\\ncalendar_add_on\\nFeb\\n10\\n칩스앤미디어\\n2025. 2. 10.\\ncalendar_add_on\\nFeb\\n11\\n슈퍼 마이크로 컴퓨터 주식회사\\n2025. 2. 11., 오후 5:00\\ncalendar_add_on\\nFeb\\n12\\n나우콤\\n2025. 2. 12., 오전 1:30\\ncalendar_add_on\\nFeb\\n12\\nISC\\n2025. 2. 12.\\ncalendar_add_on\\nFeb\\n13\\n휴젤\\n2025. 2. 13., 오전 1:30\\ncalendar_add_on\\nGoogle에서 가장 많이 팔로우된 주식\\n005930 삼성전자 2.36만명 팔로우 중 0.93% add_circle_outlineAAPL 애플 1.38만명 팔로우 중 2.40% add_circle_outlineTSLA 테슬라 9.94천명 팔로우 중 3.39% add_circle_outlineGOOGL 알파벳 7.74천명 팔로우 중 3.27% add_circle_outlineAMZN 아마존 6.34천명 팔로우 중 4.05% add_circle_outlineMSFT 마이크로소프트 6.3천명 팔로우 중 1.46% add_circle_outline\\n시장 현황\\n마켓 트렌드를 로드하는 중입니다.\\n더 알아보기\\n관심 있을 만한 주식 정보\\ninfo\\n이 목록은 최근 검색어, 팔로우한 증권, 기타 활동을 기반으로 생성되었습니다. 자세히 알아보기 \\n모든 데이터와 정보는 개인에게 정보를 제공하는 목적으로 '있는 그대로' 제공되며 금융 자문이나 거래 또는 투자, 세금, 법률, 회계 등에 관한 자문을 의도하지 않습니다. Google은 투자 자문가가 아니며 이 목록에 포함된 회사 또는 이러한 회사에서 발행한 증권과 관련하여 견해, 추천 의사 또는 의견을 밝히지 않습니다. 거래를 체결하기 전에 중개인이나 금융 대리인에게 문의하여 가격을 확인하세요. 자세히 알아보기\\n지수 다우 존스 산업평균지수 44,303.40 0.99%\\nadd_circle_outline\\n지수 S&P 500 6,025.99 0.95%\\nadd_circle_outline\\nTSLA 테슬라 $361.62 3.39%\\nadd_circle_outline\\nAAPL 애플 $227.63 2.40%\\nadd_circle_outline\\nBABA 알리바바 그룹 $103.51 3.12%\\nadd_circle_outline\\nAMZN 아마존 $229.15 4.05%\\nadd_circle_outline\\nF 포드 모터 컴퍼니 $9.24 0.22%\\nadd_circle_outline\\nNXST Nexstar Media Group Inc $151.40 0.16%\\nadd_circle_outline\\n지수 뉴욕주식시장 변동성지수 16.54 6.71%\\nadd_circle_outline\\n지수 나스닥 종합주가지수 19,523.40 1.36%\\nadd_circle_outline\\nMSFT 마이크로소프트 $409.75 1.46%\\nadd_circle_outline\\nSPY SPDR S&P 500 Trust ETF $600.77 0.92%\\nadd_circle_outline\\nDIS 월트 디즈니 컴퍼니 $110.86 1.10%\\nadd_circle_outline\\nUAL 유나이티드 에어라인 홀딩스 $109.00 0.14%\\nadd_circle_outline\\nBA 보잉 $181.49 1.79%\\nadd_circle_outline\\nNFLX 넷플릭스 $1,013.93 0.17%\\nadd_circle_outline\\nT AT&T $24.54 0.37%\\nadd_circle_outline\\nLUV 사우스웨스트 항공 $31.00 0.29%\\nadd_circle_outline\\n도움말의견 보내기개인정보처리방침약관면책조항\\n검색\\n검색어 지우기\\n검색 닫기\\nGoogle 앱\\n기본 메뉴\"}]"
      ]
     },
     "execution_count": 29,
     "metadata": {},
     "output_type": "execute_result"
    }
   ],
   "source": [
    "from langchain_community.tools.tavily_search import TavilySearchResults\n",
    "from langgraph.prebuilt import ToolNode, tools_condition\n",
    "from langchain_core.messages import HumanMessage\n",
    "from langchain_core.tools import tool\n",
    "\n",
    "@tool\n",
    "def internet_search(query: str):\n",
    "    \"\"\"\n",
    "    Search the web for realtime and latest information.\n",
    "    for examples, news, stock market, weather updates etc.\n",
    "\n",
    "    Args:\n",
    "    query: The search query\n",
    "    \"\"\"\n",
    "    search = TavilySearchResults(\n",
    "        max_results=3,                      # 3개\n",
    "        search_depth='advanced',\n",
    "        include_answer=True,\n",
    "        include_raw_content=True,\n",
    "        preferred_sites=[\"news.google.com\", \"news.naver.com\"]\n",
    "    )\n",
    "\n",
    "    response = search.invoke(query)\n",
    "    return response\n",
    "\n",
    "@tool\n",
    "def llm_search(query: str):\n",
    "    \"\"\"\n",
    "    Use the LLM model for general and basic information.\n",
    "    \"\"\"\n",
    "    message = HumanMessage(query)\n",
    "    response = llm.invoke(message)\n",
    "    return response\n",
    "\n",
    "\n",
    "# @tool : LLM이 사용할 수 있는 도구로 제공\n",
    "internet_search(\"최신 주식 정보\")"
   ]
  },
  {
   "cell_type": "code",
   "execution_count": 30,
   "id": "4bfcc3b8",
   "metadata": {},
   "outputs": [
    {
     "data": {
      "text/plain": [
       "[StructuredTool(name='internet_search', description='Search the web for realtime and latest information.\\nfor examples, news, stock market, weather updates etc.\\n\\nArgs:\\nquery: The search query', args_schema=<class 'langchain_core.utils.pydantic.internet_search'>, func=<function internet_search at 0x000001B36F0862A0>),\n",
       " StructuredTool(name='llm_search', description='Use the LLM model for general and basic information.', args_schema=<class 'langchain_core.utils.pydantic.llm_search'>, func=<function llm_search at 0x000001B37F76BCE0>)]"
      ]
     },
     "execution_count": 30,
     "metadata": {},
     "output_type": "execute_result"
    }
   ],
   "source": [
    "tools = [internet_search, llm_search]\n",
    "tools"
   ]
  },
  {
   "cell_type": "code",
   "execution_count": null,
   "id": "a9e31a7c",
   "metadata": {},
   "outputs": [],
   "source": []
  },
  {
   "cell_type": "code",
   "execution_count": null,
   "id": "c58dbd63",
   "metadata": {},
   "outputs": [],
   "source": []
  },
  {
   "cell_type": "code",
   "execution_count": null,
   "id": "0a2a9607",
   "metadata": {},
   "outputs": [],
   "source": []
  },
  {
   "cell_type": "code",
   "execution_count": null,
   "id": "d0bc03ef",
   "metadata": {},
   "outputs": [],
   "source": []
  },
  {
   "cell_type": "code",
   "execution_count": null,
   "id": "4871c819",
   "metadata": {},
   "outputs": [],
   "source": []
  },
  {
   "cell_type": "code",
   "execution_count": null,
   "id": "17952bdc",
   "metadata": {},
   "outputs": [],
   "source": []
  },
  {
   "cell_type": "code",
   "execution_count": null,
   "id": "5cb6fd73",
   "metadata": {},
   "outputs": [],
   "source": []
  },
  {
   "cell_type": "code",
   "execution_count": null,
   "id": "9338abdc",
   "metadata": {},
   "outputs": [],
   "source": []
  },
  {
   "cell_type": "code",
   "execution_count": null,
   "id": "4a231f6e",
   "metadata": {},
   "outputs": [],
   "source": []
  },
  {
   "cell_type": "code",
   "execution_count": null,
   "id": "2ad94dd2",
   "metadata": {},
   "outputs": [],
   "source": []
  },
  {
   "cell_type": "code",
   "execution_count": null,
   "id": "75ac6744",
   "metadata": {},
   "outputs": [],
   "source": []
  },
  {
   "cell_type": "code",
   "execution_count": null,
   "id": "eb4eeeeb",
   "metadata": {},
   "outputs": [],
   "source": []
  },
  {
   "cell_type": "code",
   "execution_count": null,
   "id": "1736b5e9",
   "metadata": {},
   "outputs": [],
   "source": []
  },
  {
   "cell_type": "code",
   "execution_count": null,
   "id": "838b7e91",
   "metadata": {},
   "outputs": [],
   "source": []
  },
  {
   "cell_type": "code",
   "execution_count": null,
   "id": "32869d7d",
   "metadata": {},
   "outputs": [],
   "source": []
  },
  {
   "cell_type": "code",
   "execution_count": null,
   "id": "95c4a6f0",
   "metadata": {},
   "outputs": [],
   "source": []
  },
  {
   "cell_type": "code",
   "execution_count": null,
   "id": "7b0e5593",
   "metadata": {},
   "outputs": [],
   "source": []
  },
  {
   "cell_type": "code",
   "execution_count": null,
   "id": "d671ba86",
   "metadata": {},
   "outputs": [],
   "source": []
  },
  {
   "cell_type": "code",
   "execution_count": null,
   "id": "775fa1e6",
   "metadata": {},
   "outputs": [],
   "source": []
  }
 ],
 "metadata": {
  "kernelspec": {
   "display_name": "Python 3",
   "language": "python",
   "name": "python3"
  },
  "language_info": {
   "codemirror_mode": {
    "name": "ipython",
    "version": 3
   },
   "file_extension": ".py",
   "mimetype": "text/x-python",
   "name": "python",
   "nbconvert_exporter": "python",
   "pygments_lexer": "ipython3",
   "version": "3.12.3"
  }
 },
 "nbformat": 4,
 "nbformat_minor": 5
}
