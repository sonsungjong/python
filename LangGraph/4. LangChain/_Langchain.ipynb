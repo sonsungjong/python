{
 "cells": [
  {
   "cell_type": "code",
   "execution_count": 5,
   "metadata": {},
   "outputs": [
    {
     "data": {
      "text/plain": [
       "True"
      ]
     },
     "execution_count": 5,
     "metadata": {},
     "output_type": "execute_result"
    }
   ],
   "source": [
    "# pip install langchain\n",
    "# pip install langchain-ollama\n",
    "# pip install python-dotenv\n",
    "\n",
    "# 랭스미스 로그 셋팅\n",
    "import os\n",
    "import dotenv\n",
    "\n",
    "dotenv.load_dotenv('./../.env')"
   ]
  },
  {
   "cell_type": "code",
   "execution_count": null,
   "metadata": {},
   "outputs": [
    {
     "name": "stdout",
     "output_type": "stream",
     "text": [
      "https://api.smith.langchain.com\n"
     ]
    }
   ],
   "source": [
    "# .env 파일 불러오기 확인\n",
    "print(os.environ['LANGCHAIN_ENDPOINT'])\n"
   ]
  },
  {
   "cell_type": "code",
   "execution_count": 7,
   "metadata": {},
   "outputs": [
    {
     "data": {
      "text/plain": [
       "ChatOllama(model='llama3.2:1b', num_predict=256, temperature=0.8, base_url='http://localhost:11434')"
      ]
     },
     "execution_count": 7,
     "metadata": {},
     "output_type": "execute_result"
    }
   ],
   "source": [
    "from langchain_ollama import ChatOllama\n",
    "\n",
    "base_url = 'http://localhost:11434'\n",
    "model = 'llama3.2:1b'\n",
    "\n",
    "llm = ChatOllama(\n",
    "    base_url=base_url,\n",
    "    model=model,\n",
    "    temperature=0.8,\n",
    "    num_predict= 256\n",
    ")\n",
    "\n",
    "llm"
   ]
  },
  {
   "cell_type": "code",
   "execution_count": 12,
   "metadata": {},
   "outputs": [
    {
     "name": "stdout",
     "output_type": "stream",
     "text": [
      "How can I help you today?\n"
     ]
    }
   ],
   "source": [
    "response = llm.invoke('hi')\n",
    "print(response.content)"
   ]
  },
  {
   "cell_type": "code",
   "execution_count": 30,
   "metadata": {},
   "outputs": [
    {
     "name": "stdout",
     "output_type": "stream",
     "text": [
      "I am an artificial intelligence model, known as Llama, which stands for \"Large Language Model Meta AI,\" and I am designed to assist and communicate with users in a helpful and informative way, allowing me to understand and generate human-like text.\n",
      "\n",
      "Would you like to know more about me or is there something specific you'd like to chat about?"
     ]
    }
   ],
   "source": [
    "chunks = \"\"\n",
    "for chunk in llm.stream('Hello. Could you please introduce yourself in a long sentence?'):\n",
    "    # chunks = chunks + \" \" + chunk.content\n",
    "    # print(chunks)\n",
    "    print(chunk.content, end='')"
   ]
  },
  {
   "cell_type": "code",
   "execution_count": null,
   "metadata": {},
   "outputs": [],
   "source": []
  },
  {
   "cell_type": "code",
   "execution_count": null,
   "metadata": {},
   "outputs": [],
   "source": []
  },
  {
   "cell_type": "code",
   "execution_count": null,
   "metadata": {},
   "outputs": [],
   "source": []
  },
  {
   "cell_type": "code",
   "execution_count": null,
   "metadata": {},
   "outputs": [],
   "source": []
  }
 ],
 "metadata": {
  "kernelspec": {
   "display_name": "Python 3",
   "language": "python",
   "name": "python3"
  },
  "language_info": {
   "codemirror_mode": {
    "name": "ipython",
    "version": 3
   },
   "file_extension": ".py",
   "mimetype": "text/x-python",
   "name": "python",
   "nbconvert_exporter": "python",
   "pygments_lexer": "ipython3",
   "version": "3.11.6"
  }
 },
 "nbformat": 4,
 "nbformat_minor": 2
}
