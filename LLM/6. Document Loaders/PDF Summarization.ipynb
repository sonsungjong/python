{
 "cells": [
  {
   "cell_type": "code",
   "execution_count": 1,
   "metadata": {},
   "outputs": [
    {
     "data": {
      "text/plain": [
       "ChatOllama(model='llama3.2:1b', base_url='http://localhost:11434')"
      ]
     },
     "execution_count": 1,
     "metadata": {},
     "output_type": "execute_result"
    }
   ],
   "source": [
    "# Ollama 기본 셋팅\n",
    "from langchain_ollama import ChatOllama\n",
    "from langchain_core.prompts import( SystemMessagePromptTemplate, HumanMessagePromptTemplate, ChatPromptTemplate, MessagesPlaceholder )\n",
    "from langchain_core.output_parsers import StrOutputParser\n",
    "\n",
    "base_url = \"http://localhost:11434\"\n",
    "model = \"llama3.2:1b\"\n",
    "\n",
    "llm = ChatOllama(base_url=base_url, model=model)\n",
    "\n",
    "llm"
   ]
  },
  {
   "cell_type": "code",
   "execution_count": 2,
   "metadata": {},
   "outputs": [
    {
     "name": "stdout",
     "output_type": "stream",
     "text": [
      "pdf 갯수 :  5\n"
     ]
    }
   ],
   "source": [
    "# pdf 읽기\n",
    "# pip install pymupdf tiktoken\n",
    "import os\n",
    "from langchain_community.document_loaders import PyMuPDFLoader\n",
    "\n",
    "pdfs = []\n",
    "docs = []\n",
    "\n",
    "# 해당 폴더에 있는 모든 pdf 파일을 읽는다\n",
    "for root, dirs, files in os.walk(\"rag-dataset/gym supplements\"):\n",
    "    # print(root, dirs, files)\n",
    "    for file in files:\n",
    "        if file.endswith(\".pdf\"):\n",
    "            pdfs.append(os.path.join(root, file))\n",
    "\n",
    "for root, dirs, files in os.walk(\"rag-dataset/health supplements\"):\n",
    "    # print(root, dirs, files)\n",
    "    for file in files:\n",
    "        if file.endswith(\".pdf\"):\n",
    "            pdfs.append(os.path.join(root, file))            \n",
    "\n",
    "# 경로에 있는 각 pdf 내용을 리스트에 추가한다\n",
    "for pdf_path in pdfs:\n",
    "    loader = PyMuPDFLoader(pdf_path)\n",
    "    temp = loader.load()\n",
    "    docs.extend(temp)\n",
    "\n",
    "print('pdf 갯수 : ',len(pdfs))"
   ]
  },
  {
   "cell_type": "code",
   "execution_count": 3,
   "metadata": {},
   "outputs": [],
   "source": [
    "# 리스트에 있는 내용들을 하나의 문자열로 모두 합치는 함수\n",
    "def format_docs(docs):\n",
    "    return \"\\n\\n\".join([x.page_content for x in docs])"
   ]
  },
  {
   "cell_type": "code",
   "execution_count": 4,
   "metadata": {},
   "outputs": [],
   "source": [
    "context = format_docs(docs)"
   ]
  },
  {
   "cell_type": "code",
   "execution_count": 5,
   "metadata": {},
   "outputs": [],
   "source": [
    "# 프롬프트를 작성\n",
    "system_prompt = SystemMessagePromptTemplate.from_template(\"\"\"You are helpful AI assistant who works as document summarizer.\n",
    "                                                          You must not hallucinate or generate false information.\"\"\")\n",
    "\n",
    "prompt = \"\"\"Summarize the given context in {words}.\n",
    "### Context:\n",
    "{context}\n",
    "\n",
    "### Summary:\"\"\"\n",
    "\n",
    "human_prompt = HumanMessagePromptTemplate.from_template(prompt)\n",
    "\n",
    "messages = [system_prompt, human_prompt]\n",
    "template = ChatPromptTemplate(messages)\n",
    "\n",
    "# 체인\n",
    "summary_chain = template | llm | StrOutputParser()"
   ]
  },
  {
   "cell_type": "code",
   "execution_count": 6,
   "metadata": {},
   "outputs": [
    {
     "name": "stdout",
     "output_type": "stream",
     "text": [
      "The article discusses the potential health risks associated with using certain herbal supplements, particularly those that are commonly consumed as dietary addictions or over-the-counter products. These include:\n",
      "\n",
      "1. **Vitamin and mineral deficiencies:** Black cohosh (black drink root), kava kava, saw palmetto, milk thistle, ginseng, garlic, and ginger have been associated with liver toxicity and other health issues.\n",
      "2. **Liver damage:** Certain botanicals like saw palmetto, milk thistle, and ginkgo biloba may induce liver dysfunction or exacerbate pre-existing conditions such as hemochromatosis (iron overload).\n",
      "3. **Cardiovascular risks:** Some herbal supplements like black cohosh, garlic, and ginkgo biloba have been linked to increased bleeding risk.\n",
      "4. **Immune system suppression:** Certain herbs like saw palmetto, milk thistle, and ginseng may suppress the immune system or interact with immunosuppressive medications.\n",
      "\n",
      "The article highlights the importance of being aware of potential interactions between herbal supplements and conventional medications, particularly in vulnerable populations such as pregnant women, nursing mothers, and individuals with pre-existing medical conditions.\n",
      "\n",
      "**Key takeaways:**\n",
      "\n",
      "* Consult a healthcare provider before using any herbal supplement, especially if you have underlying medical conditions or are taking prescription medications.\n",
      "* Be cautious when using botanicals that may interact with medications or worsen existing health conditions.\n",
      "* Read product labels carefully to understand potential risks and interactions.\n",
      "* Consult reputable sources of information on herbal supplements to ensure accuracy.\n",
      "\n",
      "**Important note:** This article is not intended as a substitute for professional medical advice. If you have concerns about your health, consult a qualified healthcare provider.\n"
     ]
    }
   ],
   "source": [
    "response = summary_chain.invoke({'context':context, 'words': 500})\n",
    "print(response)"
   ]
  },
  {
   "cell_type": "code",
   "execution_count": 7,
   "metadata": {},
   "outputs": [],
   "source": [
    "### pdf문서에서 보고서로 생성\n",
    "# 프롬프트를 작성한다\n",
    "system_prompt = SystemMessagePromptTemplate.from_template(\"\"\"You are helpful AI assistant who answer user question based on the provided context.\n",
    "                                                          Do not answer in more than {words} words\"\"\")\n",
    "\n",
    "prompt = \"\"\"Answer user question based on the provided context ONLY! If you do not know the answer, just say \"I dont know\".\n",
    "### Context:\n",
    "{context}\n",
    "\n",
    "### Question:\n",
    "{question}\n",
    "\n",
    "### Answer:\n",
    "\"\"\"\n",
    "\n",
    "human_prompt = HumanMessagePromptTemplate.from_template(prompt)\n",
    "\n",
    "messages = [system_prompt, human_prompt]\n",
    "template = ChatPromptTemplate(messages)\n",
    "\n",
    "# 체인\n",
    "qna_chain = template | llm | StrOutputParser()"
   ]
  },
  {
   "cell_type": "code",
   "execution_count": 8,
   "metadata": {},
   "outputs": [
    {
     "name": "stdout",
     "output_type": "stream",
     "text": [
      "**Detailed Report on Herbal Supplements and Their Potential Risks**\n",
      "\n",
      "The report highlights various herbal supplements that have been associated with potential health risks, including liver toxicity, cardiovascular issues, and bleeding disorders. Here's a detailed breakdown of the information:\n",
      "\n",
      "#### Black Cohosh\n",
      "\n",
      "* **Potential risk:** Jaundice and liver failure in menopausal women\n",
      "* **Mechanism:** Oxidative stress and decreased catalase activity\n",
      "* **Case reports:** Several cases have been reported, including one case where a 71-year-old man experienced persistent surgical bleeding attributed to garlic ingestion.\n",
      "\n",
      "#### Kava Kava\n",
      "\n",
      "* **Potential risk:** Liver toxicity, which can require transplantation\n",
      "* **Mechanism:** Depletion of glutathione and inhibition of cyclooxygenases\n",
      "* **Case reports:** Several cases have been reported, including one case where a 67-year-old man experienced cholestatic hepatitis.\n",
      "\n",
      "#### Saw Palmetto\n",
      "\n",
      "* **Potential risk:** Cholestatic hepatitis and pancreatitis\n",
      "* **Mechanism:** Alterations in bile secretion and activation of the pregnane-X receptor (PXR)\n",
      "* **Case reports:** Several cases have been reported, including one case where a 58-year-old man experienced cholestatic symptoms after ingesting saw palmetto.\n",
      "\n",
      "#### Ginseng\n",
      "\n",
      "* **Potential risk:** Transient ischemia attack\n",
      "* **Mechanism:** No clear mechanism has been identified, but it may be related to the regulation of heart rate via serotonin receptors.\n",
      "* **Case reports:** Several cases have been reported, including one case where a 63-year-old man experienced bradycardia after taking ginseng.\n",
      "\n",
      "#### Black Cohosh and Ginkgo Biloba\n",
      "\n",
      "* **Potential risk:** Excessive bleeding\n",
      "* **Mechanism:** Garlic's active compound, gallic acid, inhibits platelet aggregation.\n",
      "* **Case reports:** Several cases have been reported, including one case where an 85-year-old man experienced spontaneous bleeding after taking ginkgo biloba.\n",
      "\n",
      "#### Ginseng and Garlic\n",
      "\n",
      "* **Potential risk:** Excessive bleeding\n",
      "* **Mechanism:** Ginkgo biloba's active compound, ginkolide B, inhibits platelet aggregating factor.\n",
      "* **Case reports:** Several cases have been reported, including one case where an 84-year-old man experienced spontaneous bleeding after taking a combination of ginkgo biloba and garlic.\n",
      "\n",
      "#### Common Mechanisms\n",
      "\n",
      "* **Pregnane-X Receptor (PXR):** Activation of PXR can lead to the suppression of metabolizing enzymes, which can affect the pharmacokinetics of other compounds.\n",
      "* **Aryl Hydrocarbon Receptor (AhR):** Activation of AhR can also lead to the suppression of metabolizing enzymes.\n",
      "\n",
      "**Conclusion**\n",
      "\n",
      "The report highlights the importance of being aware of potential risks associated with herbal supplements. It is essential to consult with a healthcare provider before using any supplement, especially if you have pre-existing medical conditions or are taking medications. Additionally, monitoring liver function and other health parameters may be necessary to detect any adverse effects early on.\n"
     ]
    }
   ],
   "source": [
    "question = \"Provide a detailed report from the provided context. Write answer in Markdown.\"\n",
    "\n",
    "response = qna_chain.invoke({'context':context, 'question':question, 'words':2000})\n",
    "\n",
    "print(response)"
   ]
  },
  {
   "cell_type": "code",
   "execution_count": null,
   "metadata": {},
   "outputs": [],
   "source": []
  },
  {
   "cell_type": "code",
   "execution_count": null,
   "metadata": {},
   "outputs": [],
   "source": []
  },
  {
   "cell_type": "code",
   "execution_count": null,
   "metadata": {},
   "outputs": [],
   "source": []
  },
  {
   "cell_type": "code",
   "execution_count": null,
   "metadata": {},
   "outputs": [],
   "source": []
  },
  {
   "cell_type": "code",
   "execution_count": null,
   "metadata": {},
   "outputs": [],
   "source": []
  },
  {
   "cell_type": "code",
   "execution_count": null,
   "metadata": {},
   "outputs": [],
   "source": []
  },
  {
   "cell_type": "code",
   "execution_count": null,
   "metadata": {},
   "outputs": [],
   "source": []
  },
  {
   "cell_type": "code",
   "execution_count": null,
   "metadata": {},
   "outputs": [],
   "source": []
  },
  {
   "cell_type": "code",
   "execution_count": null,
   "metadata": {},
   "outputs": [],
   "source": []
  },
  {
   "cell_type": "code",
   "execution_count": null,
   "metadata": {},
   "outputs": [],
   "source": []
  }
 ],
 "metadata": {
  "kernelspec": {
   "display_name": "Python 3",
   "language": "python",
   "name": "python3"
  },
  "language_info": {
   "codemirror_mode": {
    "name": "ipython",
    "version": 3
   },
   "file_extension": ".py",
   "mimetype": "text/x-python",
   "name": "python",
   "nbconvert_exporter": "python",
   "pygments_lexer": "ipython3",
   "version": "3.11.6"
  }
 },
 "nbformat": 4,
 "nbformat_minor": 2
}
