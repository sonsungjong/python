{
 "cells": [
  {
   "cell_type": "code",
   "execution_count": 1,
   "metadata": {},
   "outputs": [],
   "source": [
    "from langchain_ollama import ChatOllama\n",
    "from langchain_core.output_parsers import StrOutputParser\n",
    "from langchain_core.runnables import RunnablePassthrough\n",
    "from langchain_core.prompts import( SystemMessagePromptTemplate, HumanMessagePromptTemplate, PromptTemplate, ChatPromptTemplate )\n",
    "from langchain_core.tools import tool\n",
    "\n",
    "model_name = 'llama3.2:1b'\n",
    "ollama_url = 'http://localhost:11434'\n",
    "llm = ChatOllama(model=model_name, base_url=ollama_url)"
   ]
  },
  {
   "cell_type": "code",
   "execution_count": 2,
   "metadata": {},
   "outputs": [
    {
     "data": {
      "text/plain": [
       "True"
      ]
     },
     "execution_count": 2,
     "metadata": {},
     "output_type": "execute_result"
    }
   ],
   "source": [
    "import os\n",
    "import warnings\n",
    "from dotenv import load_dotenv\n",
    "\n",
    "os.environ['KMP_DUPLICATE_LIB_OK'] = 'True'\n",
    "warnings.filterwarnings('ignore')\n",
    "\n",
    "load_dotenv('./../.env')"
   ]
  },
  {
   "cell_type": "code",
   "execution_count": null,
   "metadata": {},
   "outputs": [],
   "source": [
    "### 개인 건강 전문가 (상담원)"
   ]
  },
  {
   "cell_type": "code",
   "execution_count": 8,
   "metadata": {},
   "outputs": [],
   "source": [
    "# Tavily Search 함수 생성\n",
    "from langchain_community.tools import TavilySearchResults\n",
    "\n",
    "@tool\n",
    "def tavily_search(query: str)->str:\n",
    "    \"\"\"\n",
    "    Search the web for realtime and latest information.\n",
    "    for examples, news, stock market, weather updatges etc.\n",
    "\n",
    "    Args:\n",
    "    query: The search query\n",
    "    \"\"\"\n",
    "\n",
    "    search = TavilySearchResults(\n",
    "        max_results=5,\n",
    "        search_depth=\"advanced\",\n",
    "        include_answer=True,\n",
    "        include_raw_content=True,\n",
    "    )\n",
    "\n",
    "    response = search.invoke(query)\n",
    "    return response"
   ]
  },
  {
   "cell_type": "code",
   "execution_count": 4,
   "metadata": {},
   "outputs": [],
   "source": [
    "# 리트리버 생성 (PDF, FAISS)\n",
    "from langchain_ollama import OllamaEmbeddings\n",
    "\n",
    "import faiss\n",
    "from langchain_community.docstore.in_memory import InMemoryDocstore\n",
    "from langchain_community.vectorstores import FAISS\n",
    "\n",
    "embed_model = 'nomic-embed-text'\n",
    "db_path = './../09. Vector Stores and Retrievals/health_supplements'\n",
    "\n",
    "embeddings = OllamaEmbeddings(model=embed_model, base_url=ollama_url)\n",
    "vector_store = FAISS.load_local(db_path, embeddings, allow_dangerous_deserialization=True)\n",
    "\n",
    "retriever = vector_store.as_retriever(search_type='similarity', search_kwargs={'k':3})                  # 최근접 3개"
   ]
  },
  {
   "cell_type": "code",
   "execution_count": 5,
   "metadata": {},
   "outputs": [],
   "source": [
    "# 리트리버 호출 함수 생성\n",
    "@tool\n",
    "def use_retriever(query:str)->str:\n",
    "    \"\"\"Search for information about Health Supplements.\n",
    "    For any questions about Health and Gym Supplements, you must use this tool!,\n",
    "    \n",
    "    Args:\n",
    "        query: The search query.\n",
    "    \"\"\"\n",
    "    response = retriever.invoke(query)\n",
    "    return response"
   ]
  },
  {
   "cell_type": "code",
   "execution_count": 6,
   "metadata": {},
   "outputs": [
    {
     "data": {
      "text/plain": [
       "[Document(id='71754c75-2a0a-4c9b-9c02-364db92e31d1', metadata={'producer': 'iLovePDF', 'creator': '', 'creationdate': '', 'source': 'rag-dataset\\\\gym supplements\\\\1. Analysis of Actual Fitness Supplement.pdf', 'file_path': 'rag-dataset\\\\gym supplements\\\\1. Analysis of Actual Fitness Supplement.pdf', 'total_pages': 15, 'format': 'PDF 1.7', 'title': '', 'author': '', 'subject': '', 'keywords': '', 'moddate': '2024-10-21T11:38:50+00:00', 'trapped': '', 'page': 0}, page_content='acids than traditional protein sources. Its numerous benefits have made it a popular choice\\nfor snacks and drinks among consumers [3]. Another widely embraced supplement is\\ncaffeine, which is found in many sports and food supplements. Caffeine reduces perceived\\neffort, minimizes fatigue and pain, and proves to be effective for endurance and high-\\nintensity activities, which is the choice of consumers [4].\\nCreatine monohydrate is another well-known supplement used to gain muscle mass\\nand support performance and recovery. It is known not to increase fat mass and remains\\neffective even when taken in recommended doses [5]. Despite its popularity in the fitness\\nFoods 2024, 13, 1424. https://doi.org/10.3390/foods13091424\\nhttps://www.mdpi.com/journal/foods'),\n",
       " Document(id='37ef14ce-f85b-4bab-99a9-c174075097e0', metadata={'producer': 'iLovePDF', 'creator': '', 'creationdate': '', 'source': 'rag-dataset\\\\gym supplements\\\\1. Analysis of Actual Fitness Supplement.pdf', 'file_path': 'rag-dataset\\\\gym supplements\\\\1. Analysis of Actual Fitness Supplement.pdf', 'total_pages': 15, 'format': 'PDF 1.7', 'title': '', 'author': '', 'subject': '', 'keywords': '', 'moddate': '2024-10-21T11:38:50+00:00', 'trapped': '', 'page': 1}, page_content='Foods 2024, 13, 1424\\n2 of 21\\nand sports industry, evidence suggests that creatine can benefit not only athletes but also\\nthe elderly and the general population [6]. Branched-chain amino acids (BCAA) also offer\\na plethora of benefits for consumers. As explained by Sanz et al. [7], BCAAs are stored\\ndirectly in muscles and serve as the raw materials needed to build new muscle. This\\ncontributes to the overall process of strengthening muscles and alleviating post-workout\\nsoreness. Consumers often integrate these supplements into their routines with the aim of\\noptimizing the outcomes they wish to achieve and support overall well-being [1].\\nThe sports supplement industry makes for an impressive market share of nearly\\n$12 billion in the health/wellness portfolio and is projected to be worth $24.4 billion\\nby 2025. In a study by Burke [4], which investigated 20 published studies about the\\nprevalence, methods, and reasons for supplement consumption, it is evident from the'),\n",
       " Document(id='5c0d0f1f-dc63-44cb-b0b0-e5f3a0041996', metadata={'producer': 'iLovePDF', 'creator': '', 'creationdate': '', 'source': 'rag-dataset\\\\gym supplements\\\\1. Analysis of Actual Fitness Supplement.pdf', 'file_path': 'rag-dataset\\\\gym supplements\\\\1. Analysis of Actual Fitness Supplement.pdf', 'total_pages': 15, 'format': 'PDF 1.7', 'title': '', 'author': '', 'subject': '', 'keywords': '', 'moddate': '2024-10-21T11:38:50+00:00', 'trapped': '', 'page': 12}, page_content='p < 0.001). Based on the constructs, respondents consume fitness supplements with mul-\\ntiple goals in mind, including increasing muscle mass, enhancing performance in fitness\\nactivities, meeting nutritional needs, and supporting the maintenance or initiation of a\\nhealthy lifestyle. They view fitness supplements as versatile tools with a range of posi-\\ntive impacts. The diverse reasons for consumption suggest a comprehensive approach\\nto health, encompassing not only physical well-being but also performance and lifestyle\\nconsiderations. Additionally, they see fitness supplements as instrumental in achieving\\nvarious health-related objectives, from muscle building and performance enhancement to\\nnutritional support and the promotion of a sustainable healthy lifestyle. This is aligned\\nwith the results of Sirico [46], which found that the enhancement of sport performance\\nand overall health and wellness are primary motivations for supplement use. Addition-')]"
      ]
     },
     "execution_count": 6,
     "metadata": {},
     "output_type": "execute_result"
    }
   ],
   "source": [
    "use_retriever.invoke(\"what is the best supplement for muscle gain?\")"
   ]
  },
  {
   "cell_type": "code",
   "execution_count": 7,
   "metadata": {},
   "outputs": [
    {
     "data": {
      "text/plain": [
       "[SystemMessagePromptTemplate(prompt=PromptTemplate(input_variables=[], input_types={}, partial_variables={}, template='You are a helpful assistant'), additional_kwargs={}),\n",
       " MessagesPlaceholder(variable_name='chat_history', optional=True),\n",
       " HumanMessagePromptTemplate(prompt=PromptTemplate(input_variables=['input'], input_types={}, partial_variables={}, template='{input}'), additional_kwargs={}),\n",
       " MessagesPlaceholder(variable_name='agent_scratchpad')]"
      ]
     },
     "execution_count": 7,
     "metadata": {},
     "output_type": "execute_result"
    }
   ],
   "source": [
    "### 에이전트 생성\n",
    "from langchain import hub\n",
    "from langchain.agents import create_tool_calling_agent\n",
    "from langchain.agents import AgentExecutor\n",
    "\n",
    "# '랭치엔 허브' 에서 Agent를 검색해서 프롬프트를 적절한 가져온다\n",
    "prompt = hub.pull(\"hwchase17/openai-functions-agent\")\n",
    "prompt.messages\n"
   ]
  },
  {
   "cell_type": "code",
   "execution_count": 9,
   "metadata": {},
   "outputs": [],
   "source": [
    "tools = [tavily_search, use_retriever]\n",
    "agent = create_tool_calling_agent(llm, tools, prompt)               # 어떤 도구를 호출할지 결정하는 에이전트 (답변생성이 아님)"
   ]
  },
  {
   "cell_type": "code",
   "execution_count": 11,
   "metadata": {},
   "outputs": [],
   "source": [
    "# 어떤 도구를 호출할지 결정하는 에이전트 (답변생성이 아님)\n",
    "agent_executor = AgentExecutor(agent=agent, tools=tools, verbose=True)"
   ]
  },
  {
   "cell_type": "code",
   "execution_count": 33,
   "metadata": {},
   "outputs": [
    {
     "name": "stdout",
     "output_type": "stream",
     "text": [
      "\n",
      "\n",
      "\u001b[1m> Entering new AgentExecutor chain...\u001b[0m\n",
      "\u001b[32;1m\u001b[1;3m\n",
      "Invoking: `tavily_search` with `{'query': 'vitamin d toxicity side effects'}`\n",
      "\n",
      "\n",
      "\u001b[0m\u001b[36;1m\u001b[1;3m[{'url': 'https://www.healthline.com/nutrition/vitamin-d-side-effects', 'content': 'But too much vitamin D can also lead to health problems. Even when taking high dose vitamin D supplements, it’s unlikely that a healthy person’s blood vitamin D levels would come close to reaching excessive or toxic levels. The symptoms of vitamin D toxicity are primarily related to hypercalcemia, which means excessively high blood calcium levels. How much vitamin D is too much? How Much Vitamin D Is Too Much? Vitamin D is essential for health, but it can be hard to get enough of it from your diet. This is a detailed article about vitamin D and its health effects.'}, {'url': 'https://my.clevelandclinic.org/health/diseases/24750-vitamin-d-toxicity-hypervitaminosis-d', 'content': 'Vitamin D Toxicity: What It Is, Causes, Symptoms & Treatment What is vitamin D toxicity? Vitamin D toxicity typically only happens from taking too much of a vitamin D supplement or prescription medication. Vitamin D toxicity is rare. What are the symptoms of vitamin D toxicity? What causes vitamin D toxicity? Excessive sun exposure doesn’t cause vitamin D toxicity. How is vitamin D toxicity treated? How can I prevent vitamin D toxicity? When should I see my healthcare provider about vitamin D toxicity? If you’ve been taking a vitamin D supplement and you develop symptoms of vitamin D toxicity, such as persistent increased thirst, frequent urination and nausea and vomiting, see a healthcare provider as soon as possible.'}, {'url': 'https://pmc.ncbi.nlm.nih.gov/articles/PMC6158375/', 'content': 'An increased intake of vitamin D supplements by the general population and a growing number of prescriptions of therapeutic doses (including very high doses) without medical monitoring might result in a greater risk of exogenous hypervitaminosis D, with symptoms of hypercalcemia also known as vitamin D toxicity (VDT) (2). (16) reported that healthy adults in a clinical setting, receiving 50,000 IU of vitamin D2 once every 2 weeks (equivalent to approximately 3,300 IU/day) for up to 6 years, maintained 25(OH)D concentrations of 40–60 ng/ml (100–150 nmol/l) without any evidence of VDT. VDT resulting from excessive use of vitamin D is characterized by hypercalciuria, hypercalcemia, elevated 25(OH)D >150 ng/ml (>375 nmol/l), and usually normal or slightly increased 1,25(OH)2D concentration.'}, {'url': 'https://blog.swedish.org/swedish-blog/side-effects-of-excess-vitamin-d', 'content': 'With too much vitamin D, your blood calcium levels can rise to dangerous levels, causing nausea, vomiting and stomach pain.'}, {'url': 'https://www.merckmanuals.com/home/disorders-of-nutrition/vitamins/vitamin-d-excess', 'content': 'Vitamin D Excess - Disorders of Nutrition - Merck Manual Consumer Version Vitamin D toxicity causes high levels of calcium in the blood. Doctors diagnose the toxicity by measuring levels of calcium and vitamin D in the blood. Treatment involves stopping vitamin D supplements and giving the person fluids and sometimes medications. Levels of calcium become high because when levels of vitamin D are high, the following occur: Symptoms of Vitamin D Excess Diagnosis of Vitamin D Excess Vitamin D excess is usually diagnosed when blood tests detect a high calcium level in a person who takes high doses of vitamin D. Treatment of Vitamin D Excess Treatment of vitamin Dtoxicity involves stopping vitamin D supplements to offset the effects of a high calcium level in the blood.'}]\u001b[0m\u001b[32;1m\u001b[1;3mThe side effects of taking too much vitamin D include:\n",
      "\n",
      "* Hypercalcemia, which means excessively high blood calcium levels\n",
      "* Nausea and vomiting\n",
      "* Stomach pain\n",
      "* Increased urination\n",
      "* Excessive thirst\n",
      "\n",
      "It's essential to note that excessive vitamin D intake is rare, and symptoms usually only occur when taking high doses of a vitamin D supplement or prescription medication. If you've been taking a vitamin D supplement and experience any of these symptoms, it's crucial to consult with a healthcare provider as soon as possible.\u001b[0m\n",
      "\n",
      "\u001b[1m> Finished chain.\u001b[0m\n"
     ]
    }
   ],
   "source": [
    "# question = \"What is the best supplement for muscle gain?\"\n",
    "# question = \"what's weather in Seoul?\"\n",
    "question = \"What are the side effects of taking too much vitamin D?\"\n",
    "response = agent_executor.invoke({'input': question})           # 프롬프트 템플릿의 변수값이 input으로 명명되어있으므로"
   ]
  },
  {
   "cell_type": "code",
   "execution_count": 34,
   "metadata": {},
   "outputs": [
    {
     "name": "stdout",
     "output_type": "stream",
     "text": [
      "The side effects of taking too much vitamin D include:\n",
      "\n",
      "* Hypercalcemia, which means excessively high blood calcium levels\n",
      "* Nausea and vomiting\n",
      "* Stomach pain\n",
      "* Increased urination\n",
      "* Excessive thirst\n",
      "\n",
      "It's essential to note that excessive vitamin D intake is rare, and symptoms usually only occur when taking high doses of a vitamin D supplement or prescription medication. If you've been taking a vitamin D supplement and experience any of these symptoms, it's crucial to consult with a healthcare provider as soon as possible.\n"
     ]
    }
   ],
   "source": [
    "print(response['output'])"
   ]
  },
  {
   "cell_type": "code",
   "execution_count": null,
   "metadata": {},
   "outputs": [],
   "source": []
  },
  {
   "cell_type": "code",
   "execution_count": null,
   "metadata": {},
   "outputs": [],
   "source": []
  },
  {
   "cell_type": "code",
   "execution_count": null,
   "metadata": {},
   "outputs": [],
   "source": []
  },
  {
   "cell_type": "code",
   "execution_count": null,
   "metadata": {},
   "outputs": [],
   "source": []
  },
  {
   "cell_type": "code",
   "execution_count": null,
   "metadata": {},
   "outputs": [],
   "source": []
  },
  {
   "cell_type": "code",
   "execution_count": null,
   "metadata": {},
   "outputs": [],
   "source": []
  },
  {
   "cell_type": "code",
   "execution_count": null,
   "metadata": {},
   "outputs": [],
   "source": []
  },
  {
   "cell_type": "code",
   "execution_count": null,
   "metadata": {},
   "outputs": [],
   "source": []
  },
  {
   "cell_type": "code",
   "execution_count": null,
   "metadata": {},
   "outputs": [],
   "source": []
  },
  {
   "cell_type": "code",
   "execution_count": null,
   "metadata": {},
   "outputs": [],
   "source": []
  },
  {
   "cell_type": "code",
   "execution_count": null,
   "metadata": {},
   "outputs": [],
   "source": []
  },
  {
   "cell_type": "code",
   "execution_count": null,
   "metadata": {},
   "outputs": [],
   "source": []
  }
 ],
 "metadata": {
  "kernelspec": {
   "display_name": "Python 3",
   "language": "python",
   "name": "python3"
  },
  "language_info": {
   "codemirror_mode": {
    "name": "ipython",
    "version": 3
   },
   "file_extension": ".py",
   "mimetype": "text/x-python",
   "name": "python",
   "nbconvert_exporter": "python",
   "pygments_lexer": "ipython3",
   "version": "3.11.6"
  }
 },
 "nbformat": 4,
 "nbformat_minor": 2
}
