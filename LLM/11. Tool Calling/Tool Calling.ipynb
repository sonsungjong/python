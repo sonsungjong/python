{
 "cells": [
  {
   "cell_type": "code",
   "execution_count": 1,
   "metadata": {},
   "outputs": [
    {
     "data": {
      "text/plain": [
       "True"
      ]
     },
     "execution_count": 1,
     "metadata": {},
     "output_type": "execute_result"
    }
   ],
   "source": [
    "# 로그 + 타빌리\n",
    "from dotenv import load_dotenv\n",
    "\n",
    "load_dotenv()"
   ]
  },
  {
   "cell_type": "code",
   "execution_count": 2,
   "metadata": {},
   "outputs": [
    {
     "data": {
      "text/plain": [
       "ChatOllama(model='llama3.2:1b', base_url='http://localhost:11434')"
      ]
     },
     "execution_count": 2,
     "metadata": {},
     "output_type": "execute_result"
    }
   ],
   "source": [
    "# Ollama 불러오기\n",
    "from langchain_ollama import ChatOllama\n",
    "from langchain_core.output_parsers import StrOutputParser\n",
    "from langchain_core.runnables import RunnablePassthrough\n",
    "from langchain_core.prompts import ChatPromptTemplate\n",
    "\n",
    "model_name = 'llama3.2:1b'\n",
    "ollama_url = 'http://localhost:11434'\n",
    "llm = ChatOllama(model= model_name, base_url= ollama_url)\n",
    "llm"
   ]
  },
  {
   "cell_type": "code",
   "execution_count": 34,
   "metadata": {},
   "outputs": [],
   "source": [
    "### 사용자 제공 툴 (함수나 API기능을 LLM에게 제공)\n",
    "# Tool Creation\n",
    "from langchain_core.tools import tool\n",
    "\n",
    "# LLM이 사용할 수 있게 함수를 제작한다 (파이썬 함수를 LLM 도구로 만든다)\n",
    "@tool\n",
    "def add(a:int, b:int)->int:\n",
    "    \"\"\"\n",
    "    Add Two integer numbers together\n",
    "\n",
    "    Args:\n",
    "    a: First Integer\n",
    "    b: Second Interger\n",
    "    \"\"\"\n",
    "    return int(a) + int(b)\n",
    "\n",
    "@tool\n",
    "def multiply(a:int, b:int)->int:\n",
    "    \"\"\"\n",
    "    Multiply Two integer numbers together\n",
    "\n",
    "    Args:\n",
    "    a: First Integer\n",
    "    b: Second Interger\n",
    "    \"\"\"\n",
    "    return int(a) * int(b)"
   ]
  },
  {
   "cell_type": "code",
   "execution_count": 35,
   "metadata": {},
   "outputs": [
    {
     "data": {
      "text/plain": [
       "33"
      ]
     },
     "execution_count": 35,
     "metadata": {},
     "output_type": "execute_result"
    }
   ],
   "source": [
    "# 더이상 일반 함수가 아니다\n",
    "add.invoke({'a':1, 'b':32})"
   ]
  },
  {
   "cell_type": "code",
   "execution_count": 5,
   "metadata": {},
   "outputs": [
    {
     "data": {
      "text/plain": [
       "RunnableBinding(bound=ChatOllama(model='llama3.2:1b', base_url='http://localhost:11434'), kwargs={'tools': [{'type': 'function', 'function': {'name': 'add', 'description': 'Add Two integer numbers together\\n\\nArgs:\\na: First Integer\\nb: Second Interger', 'parameters': {'properties': {'a': {}, 'b': {}}, 'required': ['a', 'b'], 'type': 'object'}}}, {'type': 'function', 'function': {'name': 'multiply', 'description': 'Multiply Two integer numbers together\\n\\nArgs:\\na: First Integer\\nb: Second Interger', 'parameters': {'properties': {'a': {}, 'b': {}}, 'required': ['a', 'b'], 'type': 'object'}}}]}, config={}, config_factories=[])"
      ]
     },
     "execution_count": 5,
     "metadata": {},
     "output_type": "execute_result"
    }
   ],
   "source": [
    "tools = [add, multiply]\n",
    "\n",
    "tools_llm = llm.bind_tools(tools)\n",
    "tools_llm"
   ]
  },
  {
   "cell_type": "code",
   "execution_count": 8,
   "metadata": {},
   "outputs": [
    {
     "data": {
      "text/plain": [
       "AIMessage(content='', additional_kwargs={}, response_metadata={'model': 'llama3.2:1b', 'created_at': '2025-02-16T20:26:18.5769215Z', 'done': True, 'done_reason': 'stop', 'total_duration': 421786400, 'load_duration': 20177300, 'prompt_eval_count': 242, 'prompt_eval_duration': 6000000, 'eval_count': 22, 'eval_duration': 394000000, 'message': Message(role='assistant', content='', images=None, tool_calls=None)}, id='run-38b70381-29f2-427b-a684-d1ffe23c283d-0', tool_calls=[{'name': 'add', 'args': {'a': 1, 'b': 2}, 'id': 'cd920a53-6f57-466d-be87-20e0a40392de', 'type': 'tool_call'}], usage_metadata={'input_tokens': 242, 'output_tokens': 22, 'total_tokens': 264})"
      ]
     },
     "execution_count": 8,
     "metadata": {},
     "output_type": "execute_result"
    }
   ],
   "source": [
    "question = \"what is 1 plus 2?\"\n",
    "tools_llm.invoke(question)"
   ]
  },
  {
   "cell_type": "code",
   "execution_count": 6,
   "metadata": {},
   "outputs": [
    {
     "data": {
      "text/plain": [
       "[{'name': 'add',\n",
       "  'args': {'a': 1, 'b': 2},\n",
       "  'id': 'd6c72ef1-55fa-4520-bf60-7845ae219110',\n",
       "  'type': 'tool_call'}]"
      ]
     },
     "execution_count": 6,
     "metadata": {},
     "output_type": "execute_result"
    }
   ],
   "source": [
    "question = \"what is 1 plus 2?\"\n",
    "tools_llm.invoke(question).tool_calls"
   ]
  },
  {
   "cell_type": "code",
   "execution_count": 7,
   "metadata": {},
   "outputs": [
    {
     "data": {
      "text/plain": [
       "[{'name': 'multiply',\n",
       "  'args': {'a': 1, 'b': 2},\n",
       "  'id': '05718870-96c3-461a-b847-92b9ce8ad67b',\n",
       "  'type': 'tool_call'}]"
      ]
     },
     "execution_count": 7,
     "metadata": {},
     "output_type": "execute_result"
    }
   ],
   "source": [
    "question = \"what is 1 muliplied by 2?\"\n",
    "tools_llm.invoke(question).tool_calls"
   ]
  },
  {
   "cell_type": "code",
   "execution_count": 26,
   "metadata": {},
   "outputs": [
    {
     "name": "stdout",
     "output_type": "stream",
     "text": [
      "[{'url': 'https://www.investors.com/news/stock-market-today-stock-market-news/', 'content': \"Stock Market News And Analysis. The analysis you'll find in the Stock Market Today is based on over 130 years of market history and a detailed study of every top-performing stock since the 1880s.\"}, {'url': 'https://apnews.com/article/stock-markets-tariffs-trump-trade-66c4a754d716821ec8f65a15af9ad23c', 'content': 'Stock market today: Wall Street falls after worse inflation data NEW YORK (AP) — U.S. stocks are falling Wednesday after a report said inflation is unexpectedly getting worse for Americans. The inflation report suggests not only that pressure on U.S. households’ budgets is amplifying but also that traders on Wall Street were correct to forecast the Federal Reserve will deliver less relief for Americans through lower interest rates this year. AP AUDIO: Stock market today: Wall Street falls after worse inflation data The Fed had cut its main interest rate sharply from September through the end of last year, moves that try to make borrowing cheaper, help the economy and boost prices for stocks, bonds and other investments.'}, {'url': 'https://finance.yahoo.com/topic/stock-market-news/', 'content': \"### Why Amazon (AMZN) Stock Is Trading Lower Today Shares of cloud computing and online retail behemoth Amazon (NASDAQ:AMZN) fell 7.1% in the afternoon session after the company reported underwhelming fourth-quarter results: its revenue and operating income guidance for the next quarter both fell short of Wall Street's estimates. ### Why Illumina (ILMN) Stock Is Falling Today Shares of genomics company Illumina (NASDAQ:ILMN) fell 8.6% in the morning session after the company reported fourth-quarter results and provided full-year revenue guidance, which fell below Wall Street's expectations. ### Why Take-Two (TTWO) Stock Is Trading Up Today Shares of video game publisher Take Two (NASDAQ:TTWO) jumped 15.3% in the afternoon session after the company reported strong fourth-quarter results and provided quarterly revenue guidance and full-year EPS outlook, which beat analysts' expectations.\"}, {'url': 'https://finance.yahoo.com/news/live/stock-market-today-dow-sp-500-close-at-record-highs-nasdaq-surges-amid-rate-cut-euphoria-200045001.html', 'content': \"The Dow Jones Industrial Average (^DJI) rose more than 600 points to trade above the 42,000 level for the first time as a broader market rally hit session highs on Thursday on the back of a jumbo Fed rate cut. Bitcoin (BTC-USD) surged more than 6% Thursday to trade above $63,000 per token amid an overall market rally following the Federal Reserve's jumbo rate cut. Stocks rose Thursday morning as the tech-heavy Nasdaq Composite (^IXIC) led the market gains following the Federal Reserve's rate cut announcement in the prior session. The Dow (^DJI) and the S&P 500 (^GSPC) touched record highs on Thursday as investors digested the Federal Reserve's announcement during the prior session — a 50 basis point rate cut.\"}, {'url': 'https://finance.yahoo.com/news/live/stock-market-today-sp-500-nasdaq-edge-higher-as-investors-weigh-a-week-of-trump-tariffs-144324005.html', 'content': \"US stocks closed mixed on Friday with the Nasdaq 100 (^NDX) notching a record high close to cap a busy week of tariff hikes, inflation updates, and retail sales data, which fell short of estimates. The three major averages closed out the week with gains on Friday as the Nasdaq 100 rose to a record high and investors digested a series of tariff updates along with inflation and retail sales data. Intel (INTC) stock was set to notch a 23% weekly gain Friday, the largest since 2000, in a rally fueled by US Vice President JD Vance's bullish comments on domestic AI chip production earlier this week and investor speculation over a joint venture with TSMC (TSM).\"}]\n"
     ]
    }
   ],
   "source": [
    "### Calling In-Built Tool\n",
    "# 검색 추가 (https://python.langchain.com/docs/integrations/tools/)\n",
    "# pip install -U tavily-python\n",
    "\n",
    "# Tavily검색 (API키 필요, 매달 1000개 무료)\n",
    "from langchain_community.tools import TavilySearchResults\n",
    "\n",
    "search = TavilySearchResults(\n",
    "    max_results=5,\n",
    "    search_depth=\"advanced\",\n",
    "    include_answer=True,\n",
    "    include_raw_content=True,\n",
    "    include_images=True,\n",
    ")\n",
    "\n",
    "# 사용 (# 검색 결과를 LLM에게 제공할 수 있다)\n",
    "question = \"what is today's stock market news?\"\n",
    "response = search.invoke(question)\n",
    "print(response)"
   ]
  },
  {
   "cell_type": "code",
   "execution_count": 14,
   "metadata": {},
   "outputs": [
    {
     "data": {
      "text/plain": [
       "[{'url': 'https://www.chosun.com/national/transport-environment/2025/02/17/EIM76NSDVJB63B5VVIYZEVKSVY/',\n",
       "  'content': '오늘의 날씨 2025년 2월 17일 기온 크게 떨어지고 바람 불어 추워'},\n",
       " {'url': 'https://www.msn.com/ko-kr/weather/기상학/오늘의-날씨-오전-2025년-02월-17일/ar-AA1zajbF',\n",
       "  'content': '2월 17일 월요일, 아침 날씨입니다.전국 기온이 영하권에 놓인 가운데 추운 날씨를 보이고 있습니다. 낮엔 기온이 오르면서 활동하기가 훨씬'},\n",
       " {'url': 'https://ko.climate-data.org/아시아/대한민국/서울/서울-718563/t/2월-2/',\n",
       "  'content': '대륙 선택 국가 선택 지역 선택 장소 선택 서울 Climate-Data.org > 대한민국 > 서울 > 서울 > 2월 서울 2월의 날씨 개요: 서울 2월의 날씨 및 기후 서울 날씨 2월 // 날씨 평균 2월의 서울 날씨 온도 2월   -0.8°C 서울 Data: 1991 - 2021 최소 온도 (°C), 최고 온도 (°C), 강수량 (mm), 습도, 비오는 날. 향후 몇 달 동안의 서울 날씨 및 기후 서울 날씨 2월 // 날씨 평균 (°C)  강수량 / 강수량 (mm)  평균 일요일 시간 (시간) 1. 2월   -4 °C   1 °C    -8 °C   1.8 mm  0.0 2. 2월   -4 °C   1 °C    -8 °C   0.6 mm  0.0 3. 2월   -3 °C   1 °C    -7 °C   1.1 mm  0.0 4. 2월   -3 °C   2 °C    -7 °C   0.5 mm  0.0 기후 서울'},\n",
       " {'url': 'https://mossa.tistory.com/205',\n",
       "  'content': '블로그 내 검색 검색 2025년 2월 날씨 전망: 2월 날씨 전국, 2월 날씨 지역 예보 확인하세요!! 2월이 시작되면서 우리나라 부근에 찬 공기가 위치하면서 강풍의 영향을 받겠습니다. ● 2월 날씨 주강수량: 평년(0.9~5.5㎜)과 많을 확률 50% (적음 20%,\\xa0비슷 30%, 많음 50%) 서울, 경기도, 강원특별자치도, 충북은 대체로 맑겠으나 눈, 비 있는 지역 확인하세요! 강원특별자치도 -20~-6  \\xa0-6~4 입학준비금 신청, 사용처, 사용방법, 제로페이 안내 정리: 신입생을 위한 입학준비금 2월 날씨는 한 동안 추위가 길게 지속이 되고 찬 공기의 영향을 받을 수 있으므로 날씨 변화에 대비해야 합니다. 2025년 1학기 국가 근로 장학금 2차 신청 늦지 않게 신청하세요!! 국가 근로 장학금은 학업과 병행하며 경제적 부담을 줄일 수 있는 좋은 기회이므로, 신청 대상자는 빠르게 신청을 완료하는 다음 달에 공식 발표할 예정입니다. 향후 바뀌는 주요내용을 이번 글에서 쉽게 이해할 수 있도록 정리했습니다.무순'},\n",
       " {'url': 'https://ko.weatherspark.com/h/y/142033/2025/2025년동안-대한민국-서울특별시에서-기록된-날씨',\n",
       "  'content': '서울특별시에서 2025년 기후 기록 대한민국 2025년 1월 8일 (수)\\xa0\\xa0\\xa0\\xa055분 이전\\xa0\\xa0\\xa0\\xa0UTC 00:00 이슬점 -5°C\\xa0\\xa0건조한 2025년 서울특별시 온도 기록을 포함하여 사용 가능한 모든 과거 날씨 데이터 시리즈를 제공합니다. 2025년 서울특별시의 온도 기록 백분위 수 밴드의 25-75 및 10-90 백분위 수 밴드로 일당 평균 고온(희미한 자색 선) 및 저온(희미한 청색 선)위에 놓여진 보고된 일당 온도 범위(흑색 바) 및 24-시간 고온(적색 점) 및 저온(청색 점). 2025년의 서울특별시에서 시간당 온도 2025년 서울특별시에서 구름 덮임 2025년, 서울특별시에서 일광 및 황혼 시간 2025년, 서울특별시에서 일출 및 황혼의 일몰 2025년, 서울특별시에서 태양 고도 및 방위각 서울특별시에서 2025년의 월출, 월입 및 위상 초승달(검은 회색 라인) 및 보름달(청색 라인)이 표시된 달이 수평선(하늘색 영역)에 있는 시간. 2025년의 서울특별시에서 시간당 풍속 가벼운 미풍 서울특별시의 2025년 시간당 풍향'}]"
      ]
     },
     "execution_count": 14,
     "metadata": {},
     "output_type": "execute_result"
    }
   ],
   "source": [
    "# 검색 결과를 LLM에게 제공할 수 있다\n",
    "question = \"2025년 2월 17일의 서울 날씨는?\"\n",
    "search.invoke(question)"
   ]
  },
  {
   "cell_type": "code",
   "execution_count": 17,
   "metadata": {},
   "outputs": [
    {
     "name": "stdout",
     "output_type": "stream",
     "text": [
      "Page: South Korea\n",
      "Summary: South Korea, officially the Republic of Korea (ROK), is a country in East Asia. It constitutes the southern half of the Korean Peninsula and borders North Korea along the Korean Demilitarized Zone, with the Yellow Sea to the west and the Sea of Japan to the east. Like North Korea, South Korea claims to be the sole legitimate government of the entire peninsula and adjacent islands. It has a population of 51.71 million, of which half live in the Seoul Metropolitan Area, the ninth most populous metropolitan area in the world; other major cities include Busan, Daegu, and Incheon.\n",
      "The Korean Peninsula was inhabited as early as the Lower Paleolithic period. Its first kingdom was noted in Chinese records in the early seventh century BCE. From the mid first century BCE, various polities consolidated into the rival kingdoms of Goguryeo, Baekje, and Silla, with the lattermost unifying the peninsula for the first time in the late seventh century CE. The Goryeo dynasty (918–1392) achieved lasting unification and established the basis for modern Korean identity. The subsequent Joseon dynasty (1392–1897) saw the height of cultural, economic, and scientific achievement as well as prolonged peace and isolationism from the mid 17th century. The succeeding Korean Empire (1897–1910) sought modernization and reform by was annexed in 1910 into the Empire of Japan. Japanese rule ended following Japan's surrender in World War II, after which Korea was divided into two zones: a northern zone, which was occupied by the Soviet Union, and a southern zone, which was occupied by the United States. After negotiations on reunification failed, the southern zone became the Republic of Korea in August 1948, while the northern zone became the communist Democratic People's Republic of Korea the following month.\n",
      "In 1950, a North Korean invasion triggered the Korean War, one of the first major proxy conflicts of the Cold War, which saw extensive fighting involving the American-led United Nations Command and the Soviet-backed People's Volunteer Army from China. The war ended in 1953 with an armistice but no peace treaty, leading to the ongoing Korean conflict, and left three million Koreans dead and the economy in ruins. South Korea endured a series of dictatorships punctuated by coups, revolutions, and violent uprisings, but also experienced a soaring economy and one of the fastest rises in average GDP per capita, leading to its emergence as one of the Four Asian Tigers. The June Democratic Struggle of 1987 ended authoritarian rule and led to the establishment of the current Sixth Republic. \n",
      "South Korea is now considered among the most advanced democracies in continental and East Asia. Under the 1987 constitution, it maintains a unitary presidential republic with a popularly elected unicameral legislature, the National Assembly. South Korea is a major non-NATO ally of the United States and is regarded as a regional power in East Asia and an emerging power in global affairs; its conscription-based armed forces are ranked as one of the strongest in the world and have the second highest number of military and paramilitary personnel. A highly developed country, South Korea's economy is ranked fourteenth largest in the world both by nominal GDP and PPP-adjusted GDP; it is the world's eleventh-largest exporter and seventh-largest importer.\n",
      "South Korea performs well in metrics of education, human development, democratic governance, and innovation. Its citizens enjoy one of the world's longest life expectances and access to some of the fastest Internet connection speeds and densest high-speed railway networks. Since the turn of the 21st century, the country has been renowned for its globally influential pop culture, particularly in music, TV dramas, and cinema, a phenomenon referred to as the Korean Wave. South Korea is a member of the OECD's Development Assistance Committee, the G20, the IPEF, and the Paris Club.\n",
      "\n",
      "Page: North Korea\n",
      "Summary: Nor\n"
     ]
    }
   ],
   "source": [
    "### 위키피디아 검색\n",
    "# pip install wikipedia\n",
    "from langchain_community.tools import WikipediaQueryRun\n",
    "from langchain_community.utilities import WikipediaAPIWrapper\n",
    "\n",
    "wikipedia = WikipediaQueryRun(api_wrapper=WikipediaAPIWrapper())\n",
    "\n",
    "# 검색 결과를 LLM에게 제공할 수 있다\n",
    "question = \"What is the capital of Republic of Korea?\"\n",
    "response = wikipedia.invoke(question)\n",
    "print(response)"
   ]
  },
  {
   "cell_type": "code",
   "execution_count": 25,
   "metadata": {},
   "outputs": [
    {
     "name": "stdout",
     "output_type": "stream",
     "text": [
      "Published: 2025-02-16\n",
      "Title: 60-day mortality and the role of SARS-CoV-2 in hospital admissions of immunocompromised patients during later Omicron period: a population-based study in Sweden.\n",
      "Copyright Information: \n",
      "Summary::\n",
      "BACKGROUND: Real-world data on hospitalised SARS-CoV-2-positive patients are important for post-pandemic preventive measures.\n",
      "OBJECTIVES: This study aims to explore 60-day mortality of immunocompromised patients hospitalised in later Omicron period, accounting for the relevance of COVID-19 for hospital care.\n",
      "METHODS: A retrospective population-based cohort study in Östergötland County, Sweden, included all adult patients with a positive SARS-CoV-2 PCR test within 3 weeks of hospital admission. Clinical data including functional level (combined assessment of frailty and performance status), and COVID-19's impact on hospital care were collected from medical records. An adjusted binary logistic regression model was applied for the main outcome of 60-day COVID-19-related mortality, with immunosuppression as the main exposure.\n",
      "RESULTS: 1128 hospitalised SARS-CoV-2-positive patients were included in the analysis whereof 12.9% were immunocompromised. Hospital admission due to COVID-19 was significantly more common among immunocompromised than non-immunocompromised (71.9% vs 49.5%), and 60-day COVID-19 mortality was 10.5% and 8.0% ( = 0.41), respectively. The median age of patients hospitalised due to COVID-19 was 78 years, with most having low/very low functional levels and ≥3 comorbidities. Adjusted for possible confounders, immunosuppression showed a significantly increased risk of 60-day COVID-19-related mortality (OR 2.41, 95% CI 1.06-5.47,  = 0.04).\n",
      "CONCLUSION: A majority of COVID-19-related hospitalisations during later Omicron period in a high immunity population, involved people over 70 years with low/very low functional levels and multiple comorbidities. Immunocompromised patients had a 2.5 times higher risk of 60-day COVID-19-related mortalit\n"
     ]
    }
   ],
   "source": [
    "# PubMed (의학 및 생명공학 관련 지식 검색)\n",
    "# pip install xmltodict\n",
    "\n",
    "from langchain_community.tools.pubmed.tool import PubmedQueryRun\n",
    "\n",
    "search = PubmedQueryRun()\n",
    "\n",
    "# 검색 결과를 LLM에게 제공할 수 있다\n",
    "response = search.invoke(\"COVID-19\")\n",
    "print(response)"
   ]
  },
  {
   "cell_type": "code",
   "execution_count": 27,
   "metadata": {},
   "outputs": [],
   "source": [
    "### LLM으로 도구 호출하는 방법\n",
    "\n",
    "# 위키피디아 검색를 LLM에 제공\n",
    "@tool\n",
    "def wikipedia_search(query):\n",
    "    \"\"\"\n",
    "    Search wikipedia for general information\n",
    "\n",
    "    Args:\n",
    "    query: The search query\n",
    "    \"\"\"\n",
    "\n",
    "    wikipedia = WikipediaQueryRun(api_wrapper=WikipediaAPIWrapper())\n",
    "    response = wikipedia.invoke(query)\n",
    "    return response\n",
    "\n",
    "# pubmed 검색\n",
    "@tool\n",
    "def pubmed_search(query):\n",
    "    \"\"\"\n",
    "    Search pubmed for medical and life sciences queries.\n",
    "\n",
    "    Args:\n",
    "    query: The search query\n",
    "    \"\"\"\n",
    "\n",
    "    search = PubmedQueryRun()\n",
    "    response = search.invoke(query)\n",
    "    return response\n",
    "\n",
    "@tool\n",
    "def tavily_search(query):\n",
    "    \"\"\"\n",
    "    Search the web for realtime and latest information.\n",
    "    for examples, news, stock market, weather updates etc.\n",
    "\n",
    "    Args:\n",
    "    query: The search query\n",
    "    \"\"\"\n",
    "\n",
    "    search = TavilySearchResults(\n",
    "        max_results=5,\n",
    "        search_depth=\"advanced\",\n",
    "        include_answer=True,\n",
    "        include_raw_content=True,\n",
    "        include_images=True,\n",
    "    )\n",
    "    response = search.invoke(query)\n",
    "    return response"
   ]
  },
  {
   "cell_type": "code",
   "execution_count": 41,
   "metadata": {},
   "outputs": [
    {
     "name": "stdout",
     "output_type": "stream",
     "text": [
      "The result of the calculation 2 * 3 is 6, and I've formatted the answer as a response to your original question. Let me know if you have any further questions or if there's anything else I can help with!\n"
     ]
    }
   ],
   "source": [
    "### General Final Result with Tool calling\n",
    "from langchain_core.messages import HumanMessage\n",
    "\n",
    "# 파이썬 함수들을 리스트로 구성하고 LLM에 바인딩한다\n",
    "tools = [wikipedia_search, pubmed_search, tavily_search, add, multiply]\n",
    "\n",
    "list_of_tools = { tool.name: tool for tool in tools }           # 이름도 저장해놓는다\n",
    "llm_with_tools = llm.bind_tools(tools)\n",
    "\n",
    "# query = \"Tell me the latest news.\"\n",
    "# query = \"What is today's stock market news?\"\n",
    "# query = \"What is LLM?\"\n",
    "# query = \"How to treat lung cancer?\"\n",
    "query = \"what is 2 * 3?\"\n",
    "\n",
    "messages = [HumanMessage(query)]\n",
    "ai_msg = llm_with_tools.invoke(messages)                # 도구로 검색한다\n",
    "messages.append(ai_msg)\n",
    "\n",
    "\n",
    "# 도구들에서 받아온 결과를 메시지로 구성한다\n",
    "for tool_call in ai_msg.tool_calls:\n",
    "    name = tool_call['name'].lower()\n",
    "    selected_tool = list_of_tools[name]\n",
    "\n",
    "    # 해당 도구에 메시지를 전달하고 결과를 리스트로 보관\n",
    "    tool_msg = selected_tool.invoke(tool_call)\n",
    "    messages.append(tool_msg)\n",
    "\n",
    "\n",
    "# 도구에서 검색된 내용을 llm에게 다시 넣는다\n",
    "response = llm_with_tools.invoke(messages)\n",
    "print(response.content)"
   ]
  },
  {
   "cell_type": "code",
   "execution_count": null,
   "metadata": {},
   "outputs": [],
   "source": []
  },
  {
   "cell_type": "code",
   "execution_count": null,
   "metadata": {},
   "outputs": [],
   "source": [
    "\n"
   ]
  },
  {
   "cell_type": "code",
   "execution_count": null,
   "metadata": {},
   "outputs": [],
   "source": []
  },
  {
   "cell_type": "code",
   "execution_count": null,
   "metadata": {},
   "outputs": [],
   "source": []
  },
  {
   "cell_type": "code",
   "execution_count": null,
   "metadata": {},
   "outputs": [],
   "source": []
  },
  {
   "cell_type": "code",
   "execution_count": null,
   "metadata": {},
   "outputs": [],
   "source": []
  }
 ],
 "metadata": {
  "kernelspec": {
   "display_name": "Python 3",
   "language": "python",
   "name": "python3"
  },
  "language_info": {
   "codemirror_mode": {
    "name": "ipython",
    "version": 3
   },
   "file_extension": ".py",
   "mimetype": "text/x-python",
   "name": "python",
   "nbconvert_exporter": "python",
   "pygments_lexer": "ipython3",
   "version": "3.11.6"
  }
 },
 "nbformat": 4,
 "nbformat_minor": 2
}
