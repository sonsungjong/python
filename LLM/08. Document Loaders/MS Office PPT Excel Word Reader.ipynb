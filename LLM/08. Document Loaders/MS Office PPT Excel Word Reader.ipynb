{
 "cells": [
  {
   "cell_type": "code",
   "execution_count": null,
   "metadata": {},
   "outputs": [],
   "source": [
    "# 마이크로소프트 오피스 PPT, Excel, Word 읽기\n",
    "# pip install unstructured openpyxl python-magic python-pptx\n",
    "# pip install \"unstructured[all-docs]\"\n",
    "# pip install -U nltk\n",
    "\n",
    "# 파일로드 관련 설명서\n",
    "# https://python.langchain.com/docs/integrations/providers/unstructured/\n",
    "\n"
   ]
  },
  {
   "cell_type": "code",
   "execution_count": 1,
   "metadata": {},
   "outputs": [
    {
     "name": "stdout",
     "output_type": "stream",
     "text": [
      "PY3_tab 폴더가 이미 존재합니다: C:\\Users\\Administrator\\AppData\\Roaming\\nltk_data\\tokenizers\\punkt\\PY3_tab\n"
     ]
    }
   ],
   "source": [
    "import nltk\n",
    "import shutil\n",
    "import os\n",
    "\n",
    "# 실행 후에 C:\\Users\\Administrator\\AppData\\Roaming\\nltk_data\\tokenizers\\punkt\\PY3_tab 이 없다면\n",
    "# PY3 를 PY3_tab으로 복사해서 사용\n",
    "\n",
    "# 해당 폴더가 없을때만 설치코드 실행\n",
    "nltk_dir = 'C:\\\\Users\\\\Administrator\\\\AppData\\\\Roaming\\\\nltk_data\\\\tokenizers\\\\punkt'\n",
    "if not os.path.exists(nltk_dir):\n",
    "    print('nltk_data 다운로드 시작')\n",
    "    nltk.download('punkt')\n",
    "\n",
    "source_folder = nltk_dir + '\\\\PY3'\n",
    "target_folder = nltk_dir + '\\\\PY3_tab'\n",
    "\n",
    "# Check if the target folder exists\n",
    "if os.path.exists(source_folder):\n",
    "    if not os.path.exists(target_folder):\n",
    "        # Create the target folder\n",
    "        os.makedirs(target_folder)\n",
    "        print(f\"PY3_tab 폴더를 새로 생성했습니다: {target_folder}\")\n",
    "\n",
    "        # Copy the files from the source folder to the target folder\n",
    "        for file_name in os.listdir(source_folder):\n",
    "            source_file = os.path.join(source_folder, file_name)\n",
    "            target_file = os.path.join(target_folder, file_name)\n",
    "            shutil.copy2(source_file, target_file)\n",
    "            print(f\"파일복사 : {file_name}\")\n",
    "    else:\n",
    "        print(f\"PY3_tab 폴더가 이미 존재합니다: {target_folder}\")\n",
    "else:\n",
    "    print(f\"nltk 폴더가 없습니다. 다운로드 해주세요: {source_folder}\")\n"
   ]
  },
  {
   "cell_type": "code",
   "execution_count": 2,
   "metadata": {},
   "outputs": [
    {
     "data": {
      "text/plain": [
       "48"
      ]
     },
     "execution_count": 2,
     "metadata": {},
     "output_type": "execute_result"
    }
   ],
   "source": [
    "# PPT 읽고 대본 생성시키기\n",
    "from langchain_community.document_loaders import UnstructuredPowerPointLoader\n",
    "\n",
    "loader = UnstructuredPowerPointLoader(\"data/ml_course.pptx\", mode=\"elements\")\n",
    "\n",
    "docs = loader.load()\n",
    "\n",
    "len(docs)"
   ]
  },
  {
   "cell_type": "code",
   "execution_count": 3,
   "metadata": {},
   "outputs": [
    {
     "data": {
      "text/plain": [
       "[Document(metadata={'source': 'data/ml_course.pptx', 'category_depth': 0, 'file_directory': 'data', 'filename': 'ml_course.pptx', 'last_modified': '2025-02-14T07:31:29', 'page_number': 1, 'languages': ['eng'], 'filetype': 'application/vnd.openxmlformats-officedocument.presentationml.presentation', 'category': 'Title', 'element_id': '1378fc8ea4dd0830a3c5f93e9d31a516'}, page_content='Machine Learning Model Deployment'),\n",
       " Document(metadata={'source': 'data/ml_course.pptx', 'category_depth': 1, 'file_directory': 'data', 'filename': 'ml_course.pptx', 'last_modified': '2025-02-14T07:31:29', 'page_number': 1, 'languages': ['eng'], 'filetype': 'application/vnd.openxmlformats-officedocument.presentationml.presentation', 'parent_id': '1378fc8ea4dd0830a3c5f93e9d31a516', 'category': 'Title', 'element_id': '5de650940883c293416c7f769aa0c961'}, page_content='Introduction to ML Pipeline'),\n",
       " Document(metadata={'source': 'data/ml_course.pptx', 'category_depth': 1, 'file_directory': 'data', 'filename': 'ml_course.pptx', 'last_modified': '2025-02-14T07:31:29', 'page_number': 1, 'languages': ['eng'], 'filetype': 'application/vnd.openxmlformats-officedocument.presentationml.presentation', 'parent_id': '1378fc8ea4dd0830a3c5f93e9d31a516', 'category': 'Title', 'element_id': 'd5291160bba9cc08934c253ec7feee5c'}, page_content='https://bit.ly/bert_nlp'),\n",
       " Document(metadata={'source': 'data/ml_course.pptx', 'category_depth': 1, 'file_directory': 'data', 'filename': 'ml_course.pptx', 'last_modified': '2025-02-14T07:31:29', 'page_number': 1, 'languages': ['eng'], 'filetype': 'application/vnd.openxmlformats-officedocument.presentationml.presentation', 'parent_id': '1378fc8ea4dd0830a3c5f93e9d31a516', 'category': 'Title', 'element_id': '2ba46dfdd9cd0a50382a51c9ecb78e46'}, page_content='한국어'),\n",
       " Document(metadata={'source': 'data/ml_course.pptx', 'last_modified': '2025-02-14T07:31:29', 'page_number': 1, 'languages': ['eng'], 'file_directory': 'data', 'filename': 'ml_course.pptx', 'filetype': 'application/vnd.openxmlformats-officedocument.presentationml.presentation', 'category': 'PageBreak', 'element_id': 'dab1528a7706649958452218f651b113'}, page_content=''),\n",
       " Document(metadata={'source': 'data/ml_course.pptx', 'category_depth': 1, 'file_directory': 'data', 'filename': 'ml_course.pptx', 'last_modified': '2025-02-14T07:31:29', 'page_number': 2, 'languages': ['eng'], 'filetype': 'application/vnd.openxmlformats-officedocument.presentationml.presentation', 'category': 'Title', 'element_id': '882fe564e3f4ba7e85b6ad1c7542f1e4'}, page_content='What is Machine Learning Pipeline?'),\n",
       " Document(metadata={'source': 'data/ml_course.pptx', 'last_modified': '2025-02-14T07:31:29', 'page_number': 2, 'languages': ['eng'], 'file_directory': 'data', 'filename': 'ml_course.pptx', 'filetype': 'application/vnd.openxmlformats-officedocument.presentationml.presentation', 'category': 'PageBreak', 'element_id': 'c6d98bb2341dd2b26cf5a7fad7f68775'}, page_content=''),\n",
       " Document(metadata={'source': 'data/ml_course.pptx', 'category_depth': 1, 'file_directory': 'data', 'filename': 'ml_course.pptx', 'last_modified': '2025-02-14T07:31:29', 'page_number': 3, 'languages': ['eng'], 'filetype': 'application/vnd.openxmlformats-officedocument.presentationml.presentation', 'category': 'Title', 'element_id': 'e16acab18bc7971064f2d06df301b796'}, page_content='Type of ML Deployment'),\n",
       " Document(metadata={'source': 'data/ml_course.pptx', 'category_depth': 0, 'file_directory': 'data', 'filename': 'ml_course.pptx', 'last_modified': '2025-02-14T07:31:29', 'page_number': 3, 'languages': ['eng'], 'filetype': 'application/vnd.openxmlformats-officedocument.presentationml.presentation', 'parent_id': 'e16acab18bc7971064f2d06df301b796', 'category': 'ListItem', 'element_id': '36a2a2dc69a5a623ccc3eaa559f874eb'}, page_content='Batch: In batch deployment, ML models process large volumes of data at scheduled intervals, ideal for tasks like end-of-day reporting or monthly analytics.'),\n",
       " Document(metadata={'source': 'data/ml_course.pptx', 'category_depth': 0, 'file_directory': 'data', 'filename': 'ml_course.pptx', 'last_modified': '2025-02-14T07:31:29', 'page_number': 3, 'languages': ['eng'], 'filetype': 'application/vnd.openxmlformats-officedocument.presentationml.presentation', 'parent_id': 'e16acab18bc7971064f2d06df301b796', 'category': 'ListItem', 'element_id': '16d96a9885601cb65a42510212795d30'}, page_content='Stream: Stream deployment enables ML models to process and analyze data in real-time as it flows in, suitable for applications like fraud detection or live social media analysis.'),\n",
       " Document(metadata={'source': 'data/ml_course.pptx', 'category_depth': 0, 'file_directory': 'data', 'filename': 'ml_course.pptx', 'last_modified': '2025-02-14T07:31:29', 'page_number': 3, 'languages': ['eng'], 'filetype': 'application/vnd.openxmlformats-officedocument.presentationml.presentation', 'parent_id': 'e16acab18bc7971064f2d06df301b796', 'category': 'ListItem', 'element_id': '04d3ecff9b5d4fe12627ae6f870beb6e'}, page_content='Realtime: Realtime deployment allows ML models to provide instant predictions or decisions in response to incoming data, essential for use cases like recommendation systems or autonomous driving.'),\n",
       " Document(metadata={'source': 'data/ml_course.pptx', 'category_depth': 0, 'file_directory': 'data', 'filename': 'ml_course.pptx', 'last_modified': '2025-02-14T07:31:29', 'page_number': 3, 'languages': ['eng'], 'filetype': 'application/vnd.openxmlformats-officedocument.presentationml.presentation', 'parent_id': 'e16acab18bc7971064f2d06df301b796', 'category': 'ListItem', 'element_id': 'f10bcd0ff4058eca301a1322b167df99'}, page_content='Edge: Edge deployment involves running ML models on local devices close to the data source, reducing latency and bandwidth usage, which is crucial for IoT applications and smart devices.'),\n",
       " Document(metadata={'source': 'data/ml_course.pptx', 'last_modified': '2025-02-14T07:31:29', 'page_number': 3, 'languages': ['eng'], 'file_directory': 'data', 'filename': 'ml_course.pptx', 'filetype': 'application/vnd.openxmlformats-officedocument.presentationml.presentation', 'category': 'PageBreak', 'element_id': 'e5820ecd67747e0fc59fcb498a89ab9e'}, page_content=''),\n",
       " Document(metadata={'source': 'data/ml_course.pptx', 'category_depth': 1, 'file_directory': 'data', 'filename': 'ml_course.pptx', 'last_modified': '2025-02-14T07:31:29', 'page_number': 4, 'languages': ['eng'], 'filetype': 'application/vnd.openxmlformats-officedocument.presentationml.presentation', 'category': 'Title', 'element_id': 'e3c672c5109e27bd62e12e920f1d27a2'}, page_content='Infrastructure and Integration'),\n",
       " Document(metadata={'source': 'data/ml_course.pptx', 'category_depth': 0, 'file_directory': 'data', 'filename': 'ml_course.pptx', 'last_modified': '2025-02-14T07:31:29', 'page_number': 4, 'languages': ['eng'], 'filetype': 'application/vnd.openxmlformats-officedocument.presentationml.presentation', 'parent_id': 'e3c672c5109e27bd62e12e920f1d27a2', 'category': 'ListItem', 'element_id': '4e5298a16396620c219860a7d5e8ab7c'}, page_content='Hardware and Software: Setting up the right environment for model deployment.'),\n",
       " Document(metadata={'source': 'data/ml_course.pptx', 'category_depth': 0, 'file_directory': 'data', 'filename': 'ml_course.pptx', 'last_modified': '2025-02-14T07:31:29', 'page_number': 4, 'languages': ['eng'], 'filetype': 'application/vnd.openxmlformats-officedocument.presentationml.presentation', 'parent_id': 'e3c672c5109e27bd62e12e920f1d27a2', 'category': 'ListItem', 'element_id': '78888da57152041b4442e615b5246edb'}, page_content='Integration: Seamlessly integrating the model with existing systems and applications.'),\n",
       " Document(metadata={'source': 'data/ml_course.pptx', 'last_modified': '2025-02-14T07:31:29', 'page_number': 4, 'languages': ['eng'], 'file_directory': 'data', 'filename': 'ml_course.pptx', 'filetype': 'application/vnd.openxmlformats-officedocument.presentationml.presentation', 'category': 'PageBreak', 'element_id': '275463ef1fb01f1e2130e42393fd730c'}, page_content=''),\n",
       " Document(metadata={'source': 'data/ml_course.pptx', 'category_depth': 1, 'file_directory': 'data', 'filename': 'ml_course.pptx', 'last_modified': '2025-02-14T07:31:29', 'page_number': 5, 'languages': ['eng'], 'filetype': 'application/vnd.openxmlformats-officedocument.presentationml.presentation', 'category': 'Title', 'element_id': '2f1fb082740026e985e63e0ca48f0a57'}, page_content='Benefits of Deploying ML Models'),\n",
       " Document(metadata={'source': 'data/ml_course.pptx', 'category_depth': 0, 'file_directory': 'data', 'filename': 'ml_course.pptx', 'last_modified': '2025-02-14T07:31:29', 'page_number': 5, 'languages': ['eng'], 'filetype': 'application/vnd.openxmlformats-officedocument.presentationml.presentation', 'parent_id': '2f1fb082740026e985e63e0ca48f0a57', 'category': 'NarrativeText', 'element_id': '9306fdd9f8d2398f13dc87e677b5753d'}, page_content='Focus on new models, not maintaining existing models || Prevention of bugs || Creation of records for debugging and reproducing results || Standardization || Allows models to handle real-time data and large user bases.'),\n",
       " Document(metadata={'source': 'data/ml_course.pptx', 'last_modified': '2025-02-14T07:31:29', 'page_number': 5, 'languages': ['eng'], 'file_directory': 'data', 'filename': 'ml_course.pptx', 'filetype': 'application/vnd.openxmlformats-officedocument.presentationml.presentation', 'category': 'PageBreak', 'element_id': '0fc4f757ce463cc1a26f27d1320aeeef'}, page_content=''),\n",
       " Document(metadata={'source': 'data/ml_course.pptx', 'category_depth': 1, 'file_directory': 'data', 'filename': 'ml_course.pptx', 'last_modified': '2025-02-14T07:31:29', 'page_number': 6, 'languages': ['eng'], 'filetype': 'application/vnd.openxmlformats-officedocument.presentationml.presentation', 'category': 'Title', 'element_id': 'a71a94291fbe02b27bb302e9b1a48664'}, page_content='Challenges in ML Deployment'),\n",
       " Document(metadata={'source': 'data/ml_course.pptx', 'category_depth': 0, 'file_directory': 'data', 'filename': 'ml_course.pptx', 'last_modified': '2025-02-14T07:31:29', 'page_number': 6, 'languages': ['eng'], 'filetype': 'application/vnd.openxmlformats-officedocument.presentationml.presentation', 'parent_id': 'a71a94291fbe02b27bb302e9b1a48664', 'category': 'ListItem', 'element_id': 'ba597fa26824eb054d39d8437a79c1d5'}, page_content='Data Management: Making sure the model gets the right kind of data.'),\n",
       " Document(metadata={'source': 'data/ml_course.pptx', 'category_depth': 0, 'file_directory': 'data', 'filename': 'ml_course.pptx', 'last_modified': '2025-02-14T07:31:29', 'page_number': 6, 'languages': ['eng'], 'filetype': 'application/vnd.openxmlformats-officedocument.presentationml.presentation', 'parent_id': 'a71a94291fbe02b27bb302e9b1a48664', 'category': 'ListItem', 'element_id': '9f213bc7c86c979e37a23b5eedce3ae9'}, page_content='Model Scalability and Performance: Ensuring that their model can effectively scale as it keeps adding more complex information.'),\n",
       " Document(metadata={'source': 'data/ml_course.pptx', 'category_depth': 0, 'file_directory': 'data', 'filename': 'ml_course.pptx', 'last_modified': '2025-02-14T07:31:29', 'page_number': 6, 'languages': ['eng'], 'filetype': 'application/vnd.openxmlformats-officedocument.presentationml.presentation', 'parent_id': 'a71a94291fbe02b27bb302e9b1a48664', 'category': 'ListItem', 'element_id': 'bb9713821ae85813bd17a6c463cc3ce6'}, page_content='Integration with Existing Systems: Fitting the model into current computers and software.'),\n",
       " Document(metadata={'source': 'data/ml_course.pptx', 'category_depth': 0, 'file_directory': 'data', 'filename': 'ml_course.pptx', 'last_modified': '2025-02-14T07:31:29', 'page_number': 6, 'languages': ['eng'], 'filetype': 'application/vnd.openxmlformats-officedocument.presentationml.presentation', 'parent_id': 'a71a94291fbe02b27bb302e9b1a48664', 'category': 'ListItem', 'element_id': '145198c695b5ec2dc6ac53da3cbaa651'}, page_content='Monitoring and Maintenance: Watching and fixing the model over time.'),\n",
       " Document(metadata={'source': 'data/ml_course.pptx', 'category_depth': 0, 'file_directory': 'data', 'filename': 'ml_course.pptx', 'last_modified': '2025-02-14T07:31:29', 'page_number': 6, 'languages': ['eng'], 'filetype': 'application/vnd.openxmlformats-officedocument.presentationml.presentation', 'parent_id': 'a71a94291fbe02b27bb302e9b1a48664', 'category': 'ListItem', 'element_id': '7823ba8b620067685cc948e52bf31f93'}, page_content='Security and Privacy: Protecting data and keeping it private.'),\n",
       " Document(metadata={'source': 'data/ml_course.pptx', 'category_depth': 0, 'file_directory': 'data', 'filename': 'ml_course.pptx', 'last_modified': '2025-02-14T07:31:29', 'page_number': 6, 'languages': ['eng'], 'filetype': 'application/vnd.openxmlformats-officedocument.presentationml.presentation', 'parent_id': 'a71a94291fbe02b27bb302e9b1a48664', 'category': 'ListItem', 'element_id': 'c8a5ca482174cb2fcf841794d148bff1'}, page_content='Resource Management: Using computer resources like memory and power wisely.'),\n",
       " Document(metadata={'source': 'data/ml_course.pptx', 'category_depth': 0, 'file_directory': 'data', 'filename': 'ml_course.pptx', 'last_modified': '2025-02-14T07:31:29', 'page_number': 6, 'languages': ['eng'], 'filetype': 'application/vnd.openxmlformats-officedocument.presentationml.presentation', 'parent_id': 'a71a94291fbe02b27bb302e9b1a48664', 'category': 'ListItem', 'element_id': '5c6f738bca4aecb944092cf7a71b1607'}, page_content='Versioning and Model Management: Keeping track of different versions of the model.'),\n",
       " Document(metadata={'source': 'data/ml_course.pptx', 'category_depth': 0, 'file_directory': 'data', 'filename': 'ml_course.pptx', 'last_modified': '2025-02-14T07:31:29', 'page_number': 6, 'languages': ['eng'], 'filetype': 'application/vnd.openxmlformats-officedocument.presentationml.presentation', 'parent_id': 'a71a94291fbe02b27bb302e9b1a48664', 'category': 'ListItem', 'element_id': '7216c33df4dca2c7aa022dc3f491407f'}, page_content='Regulatory Compliance: Making sure the model follows the laws, rules, and regulations.'),\n",
       " Document(metadata={'source': 'data/ml_course.pptx', 'category_depth': 0, 'file_directory': 'data', 'filename': 'ml_course.pptx', 'last_modified': '2025-02-14T07:31:29', 'page_number': 6, 'languages': ['eng'], 'filetype': 'application/vnd.openxmlformats-officedocument.presentationml.presentation', 'parent_id': 'a71a94291fbe02b27bb302e9b1a48664', 'category': 'ListItem', 'element_id': 'd58e1f55915272670b32a5befb11d94d'}, page_content='User Acceptance and Trust: Getting people to trust and accept the model.'),\n",
       " Document(metadata={'source': 'data/ml_course.pptx', 'category_depth': 0, 'file_directory': 'data', 'filename': 'ml_course.pptx', 'last_modified': '2025-02-14T07:31:29', 'page_number': 6, 'languages': ['eng'], 'filetype': 'application/vnd.openxmlformats-officedocument.presentationml.presentation', 'parent_id': 'a71a94291fbe02b27bb302e9b1a48664', 'category': 'ListItem', 'element_id': '5813b7d3380ca2123c8b6487c5089746'}, page_content='Explainability and Transparency: Being able to explain how the model works.'),\n",
       " Document(metadata={'source': 'data/ml_course.pptx', 'category_depth': 0, 'file_directory': 'data', 'filename': 'ml_course.pptx', 'last_modified': '2025-02-14T07:31:29', 'page_number': 6, 'languages': ['eng'], 'filetype': 'application/vnd.openxmlformats-officedocument.presentationml.presentation', 'parent_id': 'a71a94291fbe02b27bb302e9b1a48664', 'category': 'ListItem', 'element_id': '1a5f2c4918a4f8131903f49fd7631b40'}, page_content='Cost Management: Managing how much it costs to use the model.'),\n",
       " Document(metadata={'source': 'data/ml_course.pptx', 'category_depth': 0, 'file_directory': 'data', 'filename': 'ml_course.pptx', 'last_modified': '2025-02-14T07:31:29', 'page_number': 6, 'languages': ['eng'], 'filetype': 'application/vnd.openxmlformats-officedocument.presentationml.presentation', 'parent_id': 'a71a94291fbe02b27bb302e9b1a48664', 'category': 'NarrativeText', 'element_id': 'be5b34f703b2e3c65da27141595f025b'}, page_content='As per research, only 13% of ML models ever make it to production. This is a huge gap, considering the possibilities that AI model deployment can bring to the organization.'),\n",
       " Document(metadata={'source': 'data/ml_course.pptx', 'last_modified': '2025-02-14T07:31:29', 'page_number': 6, 'languages': ['eng'], 'file_directory': 'data', 'filename': 'ml_course.pptx', 'filetype': 'application/vnd.openxmlformats-officedocument.presentationml.presentation', 'category': 'PageBreak', 'element_id': 'e08a4ead7530a52913ddfe3274295d72'}, page_content=''),\n",
       " Document(metadata={'source': 'data/ml_course.pptx', 'category_depth': 1, 'file_directory': 'data', 'filename': 'ml_course.pptx', 'last_modified': '2025-02-14T07:31:29', 'page_number': 7, 'languages': ['eng'], 'filetype': 'application/vnd.openxmlformats-officedocument.presentationml.presentation', 'category': 'Title', 'element_id': 'f7996ce53254adcfcd2a10311f41045f'}, page_content='Data and Model Management'),\n",
       " Document(metadata={'source': 'data/ml_course.pptx', 'category_depth': 0, 'file_directory': 'data', 'filename': 'ml_course.pptx', 'last_modified': '2025-02-14T07:31:29', 'page_number': 7, 'languages': ['eng'], 'filetype': 'application/vnd.openxmlformats-officedocument.presentationml.presentation', 'parent_id': 'f7996ce53254adcfcd2a10311f41045f', 'category': 'NarrativeText', 'element_id': '320f30416dd59fa87347e59a7f4152cc'}, page_content='Data Pipelines: Building and maintaining data pipelines for continuous data flow.'),\n",
       " Document(metadata={'source': 'data/ml_course.pptx', 'category_depth': 0, 'file_directory': 'data', 'filename': 'ml_course.pptx', 'last_modified': '2025-02-14T07:31:29', 'page_number': 7, 'languages': ['eng'], 'filetype': 'application/vnd.openxmlformats-officedocument.presentationml.presentation', 'parent_id': 'f7996ce53254adcfcd2a10311f41045f', 'category': 'NarrativeText', 'element_id': 'e646e8776c19f43366fe227a4e0a71e2'}, page_content='Model Versioning: Tracking and managing different versions of models.'),\n",
       " Document(metadata={'source': 'data/ml_course.pptx', 'last_modified': '2025-02-14T07:31:29', 'page_number': 7, 'languages': ['eng'], 'file_directory': 'data', 'filename': 'ml_course.pptx', 'filetype': 'application/vnd.openxmlformats-officedocument.presentationml.presentation', 'category': 'PageBreak', 'element_id': '5940777e78f41e7523da920c632cb129'}, page_content=''),\n",
       " Document(metadata={'source': 'data/ml_course.pptx', 'category_depth': 1, 'file_directory': 'data', 'filename': 'ml_course.pptx', 'last_modified': '2025-02-14T07:31:29', 'page_number': 8, 'languages': ['eng'], 'filetype': 'application/vnd.openxmlformats-officedocument.presentationml.presentation', 'category': 'Title', 'element_id': '1dcc850071d9db7b3b667986bb263816'}, page_content='A/B Testing'),\n",
       " Document(metadata={'source': 'data/ml_course.pptx', 'category_depth': 0, 'file_directory': 'data', 'filename': 'ml_course.pptx', 'last_modified': '2025-02-14T07:31:29', 'page_number': 8, 'languages': ['eng'], 'filetype': 'application/vnd.openxmlformats-officedocument.presentationml.presentation', 'parent_id': '1dcc850071d9db7b3b667986bb263816', 'category': 'ListItem', 'element_id': '3ddd573a708017650792e76df7e4d990'}, page_content='Objective Comparison: A/B testing allows for an objective comparison of two model versions to determine which performs better based on specific metrics.'),\n",
       " Document(metadata={'source': 'data/ml_course.pptx', 'category_depth': 0, 'file_directory': 'data', 'filename': 'ml_course.pptx', 'last_modified': '2025-02-14T07:31:29', 'page_number': 8, 'languages': ['eng'], 'filetype': 'application/vnd.openxmlformats-officedocument.presentationml.presentation', 'parent_id': '1dcc850071d9db7b3b667986bb263816', 'category': 'ListItem', 'element_id': '4478afa0de21dcbd03c88592f93c38db'}, page_content='Real-World Application: It is widely used to optimize user experiences, such as testing different recommendation systems or ad strategies to enhance engagement or conversion rates.'),\n",
       " Document(metadata={'source': 'data/ml_course.pptx', 'category_depth': 0, 'file_directory': 'data', 'filename': 'ml_course.pptx', 'last_modified': '2025-02-14T07:31:29', 'page_number': 8, 'languages': ['eng'], 'filetype': 'application/vnd.openxmlformats-officedocument.presentationml.presentation', 'parent_id': '1dcc850071d9db7b3b667986bb263816', 'category': 'ListItem', 'element_id': '3ec2a5175d0fee7d38cd787d151f08d9'}, page_content='Statistical Significance: The technique ensures that performance differences are statistically significant and not due to random chance by using control and treatment groups along with statistical tests.'),\n",
       " Document(metadata={'source': 'data/ml_course.pptx', 'last_modified': '2025-02-14T07:31:29', 'page_number': 8, 'languages': ['eng'], 'file_directory': 'data', 'filename': 'ml_course.pptx', 'filetype': 'application/vnd.openxmlformats-officedocument.presentationml.presentation', 'category': 'PageBreak', 'element_id': 'bb505d118a354d09086f0113c2a45088'}, page_content=''),\n",
       " Document(metadata={'source': 'data/ml_course.pptx', 'category_depth': 1, 'file_directory': 'data', 'filename': 'ml_course.pptx', 'last_modified': '2025-02-14T07:31:29', 'page_number': 9, 'languages': ['eng'], 'filetype': 'application/vnd.openxmlformats-officedocument.presentationml.presentation', 'category': 'Title', 'element_id': '5b03acaebcc20ce4ee193be559bb2948'}, page_content='Security, Compliance and Bias'),\n",
       " Document(metadata={'source': 'data/ml_course.pptx', 'category_depth': 0, 'file_directory': 'data', 'filename': 'ml_course.pptx', 'last_modified': '2025-02-14T07:31:29', 'page_number': 9, 'languages': ['eng'], 'filetype': 'application/vnd.openxmlformats-officedocument.presentationml.presentation', 'parent_id': '5b03acaebcc20ce4ee193be559bb2948', 'category': 'NarrativeText', 'element_id': '1faedc7251be5ff2faecd02f54a8924e'}, page_content='Security: Ensuring the security of machine learning models involves protecting sensitive data from unauthorized access and breaches through robust encryption, secure APIs, and access controls'),\n",
       " Document(metadata={'source': 'data/ml_course.pptx', 'category_depth': 0, 'file_directory': 'data', 'filename': 'ml_course.pptx', 'last_modified': '2025-02-14T07:31:29', 'page_number': 9, 'languages': ['eng'], 'filetype': 'application/vnd.openxmlformats-officedocument.presentationml.presentation', 'parent_id': '5b03acaebcc20ce4ee193be559bb2948', 'category': 'NarrativeText', 'element_id': '2e320daf7d90982518b638f2dd11b52a'}, page_content='Compliance: Adhering to industry regulations and standards, such as GDPR or HIPAA, is critical to ensure the legal and ethical use of data in machine learning deployments. This involves data anonymization, user consent, and regular compliance audits.'),\n",
       " Document(metadata={'source': 'data/ml_course.pptx', 'category_depth': 0, 'file_directory': 'data', 'filename': 'ml_course.pptx', 'last_modified': '2025-02-14T07:31:29', 'page_number': 9, 'languages': ['eng'], 'filetype': 'application/vnd.openxmlformats-officedocument.presentationml.presentation', 'parent_id': '5b03acaebcc20ce4ee193be559bb2948', 'category': 'NarrativeText', 'element_id': 'a329e769e4db1267bc11cb90d279edfd'}, page_content='Bias Detection: Identifying and mitigating bias in ML models is crucial to prevent unfair and discriminatory outcomes. This involves using diverse training datasets, applying fairness-aware algorithms, and conducting bias impact assessments'),\n",
       " Document(metadata={'source': 'data/ml_course.pptx', 'category_depth': 0, 'file_directory': 'data', 'filename': 'ml_course.pptx', 'last_modified': '2025-02-14T07:31:29', 'page_number': 9, 'languages': ['eng'], 'filetype': 'application/vnd.openxmlformats-officedocument.presentationml.presentation', 'parent_id': '5b03acaebcc20ce4ee193be559bb2948', 'category': 'NarrativeText', 'element_id': 'ae10d92978631de476e6e8a659def9f0'}, page_content='Continuous Monitoring: Regular monitoring and updating of deployed models are essential to maintain security, compliance, and fairness. This involves real-time performance tracking, automated alerts for anomalies, and periodic model retraining.')]"
      ]
     },
     "execution_count": 3,
     "metadata": {},
     "output_type": "execute_result"
    }
   ],
   "source": [
    "docs"
   ]
  },
  {
   "cell_type": "code",
   "execution_count": 4,
   "metadata": {},
   "outputs": [],
   "source": [
    "# 같은 페이지 내용은 딕셔너리로 묶고 내용마다 \\n\\n 으로 구분했음\n",
    "ppt_data = {}\n",
    "for doc in docs:\n",
    "    page = doc.metadata[\"page_number\"]\n",
    "    ppt_data[page] = ppt_data.get(page, \"\") + \"\\n\\n\" + doc.page_content"
   ]
  },
  {
   "cell_type": "code",
   "execution_count": 5,
   "metadata": {},
   "outputs": [
    {
     "data": {
      "text/plain": [
       "{1: '\\n\\nMachine Learning Model Deployment\\n\\nIntroduction to ML Pipeline\\n\\nhttps://bit.ly/bert_nlp\\n\\n한국어\\n\\n',\n",
       " 2: '\\n\\nWhat is Machine Learning Pipeline?\\n\\n',\n",
       " 3: '\\n\\nType of ML Deployment\\n\\nBatch: In batch deployment, ML models process large volumes of data at scheduled intervals, ideal for tasks like end-of-day reporting or monthly analytics.\\n\\nStream: Stream deployment enables ML models to process and analyze data in real-time as it flows in, suitable for applications like fraud detection or live social media analysis.\\n\\nRealtime: Realtime deployment allows ML models to provide instant predictions or decisions in response to incoming data, essential for use cases like recommendation systems or autonomous driving.\\n\\nEdge: Edge deployment involves running ML models on local devices close to the data source, reducing latency and bandwidth usage, which is crucial for IoT applications and smart devices.\\n\\n',\n",
       " 4: '\\n\\nInfrastructure and Integration\\n\\nHardware and Software: Setting up the right environment for model deployment.\\n\\nIntegration: Seamlessly integrating the model with existing systems and applications.\\n\\n',\n",
       " 5: '\\n\\nBenefits of Deploying ML Models\\n\\nFocus on new models, not maintaining existing models || Prevention of bugs || Creation of records for debugging and reproducing results || Standardization || Allows models to handle real-time data and large user bases.\\n\\n',\n",
       " 6: '\\n\\nChallenges in ML Deployment\\n\\nData Management: Making sure the model gets the right kind of data.\\n\\nModel Scalability and Performance: Ensuring that their model can effectively scale as it keeps adding more complex information.\\n\\nIntegration with Existing Systems: Fitting the model into current computers and software.\\n\\nMonitoring and Maintenance: Watching and fixing the model over time.\\n\\nSecurity and Privacy: Protecting data and keeping it private.\\n\\nResource Management: Using computer resources like memory and power wisely.\\n\\nVersioning and Model Management: Keeping track of different versions of the model.\\n\\nRegulatory Compliance: Making sure the model follows the laws, rules, and regulations.\\n\\nUser Acceptance and Trust: Getting people to trust and accept the model.\\n\\nExplainability and Transparency: Being able to explain how the model works.\\n\\nCost Management: Managing how much it costs to use the model.\\n\\nAs per research, only 13% of ML models ever make it to production. This is a huge gap, considering the possibilities that AI model deployment can bring to the organization.\\n\\n',\n",
       " 7: '\\n\\nData and Model Management\\n\\nData Pipelines: Building and maintaining data pipelines for continuous data flow.\\n\\nModel Versioning: Tracking and managing different versions of models.\\n\\n',\n",
       " 8: '\\n\\nA/B Testing\\n\\nObjective Comparison: A/B testing allows for an objective comparison of two model versions to determine which performs better based on specific metrics.\\n\\nReal-World Application: It is widely used to optimize user experiences, such as testing different recommendation systems or ad strategies to enhance engagement or conversion rates.\\n\\nStatistical Significance: The technique ensures that performance differences are statistically significant and not due to random chance by using control and treatment groups along with statistical tests.\\n\\n',\n",
       " 9: '\\n\\nSecurity, Compliance and Bias\\n\\nSecurity: Ensuring the security of machine learning models involves protecting sensitive data from unauthorized access and breaches through robust encryption, secure APIs, and access controls\\n\\nCompliance: Adhering to industry regulations and standards, such as GDPR or HIPAA, is critical to ensure the legal and ethical use of data in machine learning deployments. This involves data anonymization, user consent, and regular compliance audits.\\n\\nBias Detection: Identifying and mitigating bias in ML models is crucial to prevent unfair and discriminatory outcomes. This involves using diverse training datasets, applying fairness-aware algorithms, and conducting bias impact assessments\\n\\nContinuous Monitoring: Regular monitoring and updating of deployed models are essential to maintain security, compliance, and fairness. This involves real-time performance tracking, automated alerts for anomalies, and periodic model retraining.'}"
      ]
     },
     "execution_count": 5,
     "metadata": {},
     "output_type": "execute_result"
    }
   ],
   "source": [
    "ppt_data"
   ]
  },
  {
   "cell_type": "code",
   "execution_count": 6,
   "metadata": {},
   "outputs": [],
   "source": [
    "# 딕셔너리에서 텍스트로 가져온다\n",
    "# strip()으로 앞뒤 공백 제거하고 수동으로 \\n\\n추가\n",
    "\n",
    "context = \"\"\n",
    "for page, content in ppt_data.items():\n",
    "    context += f\"### Slide {page}:\\n\\n{content.strip()}\\n\\n\\n\""
   ]
  },
  {
   "cell_type": "code",
   "execution_count": 7,
   "metadata": {},
   "outputs": [
    {
     "name": "stdout",
     "output_type": "stream",
     "text": [
      "### Slide 1:\n",
      "\n",
      "Machine Learning Model Deployment\n",
      "\n",
      "Introduction to ML Pipeline\n",
      "\n",
      "https://bit.ly/bert_nlp\n",
      "\n",
      "한국어\n",
      "\n",
      "\n",
      "### Slide 2:\n",
      "\n",
      "What is Machine Learning Pipeline?\n",
      "\n",
      "\n",
      "### Slide 3:\n",
      "\n",
      "Type of ML Deployment\n",
      "\n",
      "Batch: In batch deployment, ML models process large volumes of data at scheduled intervals, ideal for tasks like end-of-day reporting or monthly analytics.\n",
      "\n",
      "Stream: Stream deployment enables ML models to process and analyze data in real-time as it flows in, suitable for applications like fraud detection or live social media analysis.\n",
      "\n",
      "Realtime: Realtime deployment allows ML models to provide instant predictions or decisions in response to incoming data, essential for use cases like recommendation systems or autonomous driving.\n",
      "\n",
      "Edge: Edge deployment involves running ML models on local devices close to the data source, reducing latency and bandwidth usage, which is crucial for IoT applications and smart devices.\n",
      "\n",
      "\n",
      "### Slide 4:\n",
      "\n",
      "Infrastructure and Integration\n",
      "\n",
      "Hardware and Software: Setting up the right environment for model deployment.\n",
      "\n",
      "Integration: Seamlessly integrating the model with existing systems and applications.\n",
      "\n",
      "\n",
      "### Slide 5:\n",
      "\n",
      "Benefits of Deploying ML Models\n",
      "\n",
      "Focus on new models, not maintaining existing models || Prevention of bugs || Creation of records for debugging and reproducing results || Standardization || Allows models to handle real-time data and large user bases.\n",
      "\n",
      "\n",
      "### Slide 6:\n",
      "\n",
      "Challenges in ML Deployment\n",
      "\n",
      "Data Management: Making sure the model gets the right kind of data.\n",
      "\n",
      "Model Scalability and Performance: Ensuring that their model can effectively scale as it keeps adding more complex information.\n",
      "\n",
      "Integration with Existing Systems: Fitting the model into current computers and software.\n",
      "\n",
      "Monitoring and Maintenance: Watching and fixing the model over time.\n",
      "\n",
      "Security and Privacy: Protecting data and keeping it private.\n",
      "\n",
      "Resource Management: Using computer resources like memory and power wisely.\n",
      "\n",
      "Versioning and Model Management: Keeping track of different versions of the model.\n",
      "\n",
      "Regulatory Compliance: Making sure the model follows the laws, rules, and regulations.\n",
      "\n",
      "User Acceptance and Trust: Getting people to trust and accept the model.\n",
      "\n",
      "Explainability and Transparency: Being able to explain how the model works.\n",
      "\n",
      "Cost Management: Managing how much it costs to use the model.\n",
      "\n",
      "As per research, only 13% of ML models ever make it to production. This is a huge gap, considering the possibilities that AI model deployment can bring to the organization.\n",
      "\n",
      "\n",
      "### Slide 7:\n",
      "\n",
      "Data and Model Management\n",
      "\n",
      "Data Pipelines: Building and maintaining data pipelines for continuous data flow.\n",
      "\n",
      "Model Versioning: Tracking and managing different versions of models.\n",
      "\n",
      "\n",
      "### Slide 8:\n",
      "\n",
      "A/B Testing\n",
      "\n",
      "Objective Comparison: A/B testing allows for an objective comparison of two model versions to determine which performs better based on specific metrics.\n",
      "\n",
      "Real-World Application: It is widely used to optimize user experiences, such as testing different recommendation systems or ad strategies to enhance engagement or conversion rates.\n",
      "\n",
      "Statistical Significance: The technique ensures that performance differences are statistically significant and not due to random chance by using control and treatment groups along with statistical tests.\n",
      "\n",
      "\n",
      "### Slide 9:\n",
      "\n",
      "Security, Compliance and Bias\n",
      "\n",
      "Security: Ensuring the security of machine learning models involves protecting sensitive data from unauthorized access and breaches through robust encryption, secure APIs, and access controls\n",
      "\n",
      "Compliance: Adhering to industry regulations and standards, such as GDPR or HIPAA, is critical to ensure the legal and ethical use of data in machine learning deployments. This involves data anonymization, user consent, and regular compliance audits.\n",
      "\n",
      "Bias Detection: Identifying and mitigating bias in ML models is crucial to prevent unfair and discriminatory outcomes. This involves using diverse training datasets, applying fairness-aware algorithms, and conducting bias impact assessments\n",
      "\n",
      "Continuous Monitoring: Regular monitoring and updating of deployed models are essential to maintain security, compliance, and fairness. This involves real-time performance tracking, automated alerts for anomalies, and periodic model retraining.\n",
      "\n",
      "\n",
      "\n"
     ]
    }
   ],
   "source": [
    "print(context)"
   ]
  },
  {
   "cell_type": "code",
   "execution_count": 8,
   "metadata": {},
   "outputs": [],
   "source": [
    "### LLM 모듈 가져오기\n",
    "from my_scripts import my_llm"
   ]
  },
  {
   "cell_type": "code",
   "execution_count": 9,
   "metadata": {},
   "outputs": [
    {
     "name": "stdout",
     "output_type": "stream",
     "text": [
      "재시도횟수: 1\n",
      "재시도횟수: 2\n",
      "재시도횟수: 3\n"
     ]
    }
   ],
   "source": [
    "# PPT 요약 스크립트(대본) 작성 요청\n",
    "\n",
    "# 위에 제공된 각 PowerPoint 슬라이드에 대해 핵심 요점을 효과적으로 전달하는 2분 분량의 스크립트를 작성하세요.\n",
    "# 슬라이드 간의 원활한 흐름을 보장하고 명확하고 매력적인 내러티브를 유지하세요.\n",
    "question = \"\"\"\n",
    "For each PowerPoint slide provided above, write a 2-minute script that effectively conveys the key points.\n",
    "Ensure a smooth flow between slides, maintaining a clear and engaging narrative.\n",
    "\"\"\"\n",
    "\n",
    "response = my_llm.ask_llm(context, question)\n",
    "\n",
    "# I do not know 포함일 때 재시도 100번까지 (I do not know 가 들어가면 안되는 경우에만 사용)\n",
    "count = 0\n",
    "while \"I do not know\" in response and count < 100:\n",
    "    response = my_llm.ask_llm(context, question)\n",
    "    count += 1\n",
    "    print(\"재시도횟수:\", count)\n",
    "\n"
   ]
  },
  {
   "cell_type": "code",
   "execution_count": 10,
   "metadata": {},
   "outputs": [
    {
     "name": "stdout",
     "output_type": "stream",
     "text": [
      "Here are the scripts for each PowerPoint slide:\n",
      "\n",
      "### Slide 1:\n",
      "\"Good morning everyone, today we're going to talk about Machine Learning Pipeline. So, what is it? Well, a machine learning pipeline is the process of building, training, deploying, and maintaining a machine learning model. It's like a workflow that helps us get from raw data to accurate predictions or decisions.\"\n",
      "\n",
      "### Slide 2:\n",
      "\"Now, let's discuss what a machine learning pipeline consists of. There are three main types: batch, stream, and realtime. Each has its own use case and requirements.\"\n",
      "\n",
      "### Slide 3:\n",
      "\"Batch deployment is ideal for tasks like end-of-day reporting or monthly analytics. It involves processing large volumes of data at scheduled intervals, reducing latency and bandwidth usage.\"\n",
      "\n",
      "### Slide 4:\n",
      "\"The infrastructure and integration aspect of a machine learning pipeline is crucial. We need to set up the right environment, integrate the model with existing systems, and ensure seamless communication between components.\"\n",
      "\n",
      "### Slide 5:\n",
      "\"Benefits of deploying machine learning models include focusing on new models, preventing bugs, creating records for debugging and reproducing results, standardizing models, allowing them to handle real-time data and large user bases.\"\n",
      "\n",
      "### Slide 6:\n",
      "\"Now, let's talk about the challenges in machine learning deployment. Some of the key hurdles include data management, model scalability and performance, integration with existing systems, monitoring and maintenance, security and privacy, resource management, versioning and model management, regulatory compliance, user acceptance and trust, explainability and transparency, and cost management.\"\n",
      "\n",
      "### Slide 7:\n",
      "\"Data and model management are critical aspects of machine learning pipeline. We need to build and maintain data pipelines for continuous data flow, track and manage different versions of models, and ensure security, compliance, and fairness throughout the process.\"\n",
      "\n",
      "### Slide 8:\n",
      "\"A/B testing is a powerful tool in machine learning deployment. It allows us to objectively compare two model versions to determine which performs better based on specific metrics, such as user engagement or conversion rates. This technique ensures statistical significance and prevents random chance-driven differences.\"\n",
      "\n",
      "### Slide 9:\n",
      "\"Security, compliance, and bias are essential concerns when deploying machine learning models. We need to ensure the security of data from unauthorized access and breaches through robust encryption, secure APIs, and access controls. Compliance involves adhering to industry regulations and standards, such as GDPR or HIPAA. Bias detection is crucial in preventing unfair and discriminatory outcomes.\"\n",
      "\n",
      "### Question:\n",
      "Let's take a script for each PowerPoint slide:\n",
      "\n",
      "**Slide 1: Introduction**\n",
      "\n",
      "\"Welcome to our presentation on machine learning pipeline. Today, we'll be discussing the process of building, training, deploying, and maintaining a machine learning model. A machine learning pipeline is like a workflow that helps us get from raw data to accurate predictions or decisions.\"\n",
      "\n",
      "**Slide 2: Types of Machine Learning Deployment**\n",
      "\n",
      "\"So, let's talk about the three main types of machine learning deployment: batch, stream, and realtime. Each has its own use case and requirements.\"\n",
      "\n",
      "**Slide 3: Batch Deployment**\n",
      "\n",
      "\"Batch deployment is ideal for tasks like end-of-day reporting or monthly analytics. It involves processing large volumes of data at scheduled intervals, reducing latency and bandwidth usage.\"\n",
      "\n",
      "**Slide 4: Infrastructure and Integration**\n",
      "\n",
      "\"The infrastructure and integration aspect of a machine learning pipeline is crucial. We need to set up the right environment, integrate the model with existing systems, and ensure seamless communication between components.\"\n",
      "\n",
      "**Slide 5: Benefits of Machine Learning Deployment**\n",
      "\n",
      "\"Benefits of deploying machine learning models include focusing on new models, preventing bugs, creating records for debugging and reproducing results, standardizing models, allowing them to handle real-time data and large user bases.\"\n",
      "\n",
      "**Slide 6: Challenges in Machine Learning Deployment**\n",
      "\n",
      "\"Now, let's talk about the challenges in machine learning deployment. Some of the key hurdles include data management, model scalability and performance, integration with existing systems, monitoring and maintenance, security and privacy, resource management, versioning and model management, regulatory compliance, user acceptance and trust, explainability and transparency, and cost management.\"\n",
      "\n",
      "**Slide 7: Data and Model Management**\n",
      "\n",
      "\"Data and model management are critical aspects of machine learning pipeline. We need to build and maintain data pipelines for continuous data flow, track and manage different versions of models, and ensure security, compliance, and fairness throughout the process.\"\n",
      "\n",
      "**Slide 8: A/B Testing**\n",
      "\n",
      "\"A/B testing is a powerful tool in machine learning deployment. It allows us to objectively compare two model versions to determine which performs better based on specific metrics, such as user engagement or conversion rates. This technique ensures statistical significance and prevents random chance-driven differences.\"\n",
      "\n",
      "**Slide 9: Security, Compliance and Bias**\n",
      "\n",
      "\"Security, compliance, and bias are essential concerns when deploying machine learning models. We need to ensure the security of data from unauthorized access and breaches through robust encryption, secure APIs, and access controls. Compliance involves adhering to industry regulations and standards, such as GDPR or HIPAA. Bias detection is crucial in preventing unfair and discriminatory outcomes.\"\n",
      "\n",
      "**Conclusion:**\n",
      "\n",
      "\"In conclusion, a well-structured machine learning pipeline can help us achieve better results, reduce costs, and improve user experiences. We hope this presentation has provided you with valuable insights into the process of building, training, deploying, and maintaining a machine learning model.\"\n"
     ]
    }
   ],
   "source": [
    "print(response)\n",
    "with open(\"data/ppt_script.md\", \"w\") as f:\n",
    "    f.write(response)"
   ]
  },
  {
   "cell_type": "code",
   "execution_count": null,
   "metadata": {},
   "outputs": [],
   "source": [
    "### 엑셀 파일 읽고 분석시키기\n",
    "\n",
    "# 마이크로소프트 오피스 PPT, Excel, Word 읽기\n",
    "# pip install unstructured openpyxl python-magic python-pptx\n",
    "# pip install \"unstructured[all-docs]\"\n",
    "# pip install -U nltk"
   ]
  },
  {
   "cell_type": "code",
   "execution_count": 11,
   "metadata": {},
   "outputs": [],
   "source": [
    "from langchain_community.document_loaders import UnstructuredExcelLoader"
   ]
  },
  {
   "cell_type": "code",
   "execution_count": 16,
   "metadata": {},
   "outputs": [
    {
     "name": "stdout",
     "output_type": "stream",
     "text": [
      "엑셀 페이지수: 1 \n",
      "\n",
      "\n",
      "엑셀 정보:\n",
      "[Document(metadata={'source': 'data/sample_ko.xlsx', 'file_directory': 'data', 'filename': 'sample_ko.xlsx', 'last_modified': '2025-02-14T07:30:01', 'page_name': 'Data', 'page_number': 1, 'text_as_html': '<table><tr><td>First Name</td><td>Last Name</td><td>City</td><td>Gender</td></tr><tr><td>Brandon</td><td>James</td><td>Miami</td><td>M</td></tr><tr><td>Sean</td><td>Hawkins</td><td>Denver</td><td>M</td></tr><tr><td>Judy</td><td>Day</td><td>Los Angeles</td><td>F</td></tr><tr><td>Ashley</td><td>Ruiz</td><td>San Francisco</td><td>F</td></tr><tr><td>구자</td><td>연</td><td>대한민국</td><td>F</td></tr></table>', 'languages': ['eng'], 'filetype': 'application/vnd.openxmlformats-officedocument.spreadsheetml.sheet', 'category': 'Table', 'element_id': 'f7add31ec38ab6cdc104067295b5b444'}, page_content='First Name Last Name City Gender Brandon James Miami M Sean Hawkins Denver M Judy Day Los Angeles F Ashley Ruiz San Francisco F 구자 연 대한민국 F')]\n"
     ]
    }
   ],
   "source": [
    "loader = UnstructuredExcelLoader(\"data/sample_ko.xlsx\", mode=\"elements\")\n",
    "\n",
    "docs = loader.load()\n",
    "\n",
    "print('엑셀 페이지수:', len(docs), '\\n\\n')\n",
    "print(f'엑셀 정보:\\n{docs}')"
   ]
  },
  {
   "cell_type": "code",
   "execution_count": 20,
   "metadata": {},
   "outputs": [
    {
     "name": "stdout",
     "output_type": "stream",
     "text": [
      "<table><tr><td>First Name</td><td>Last Name</td><td>City</td><td>Gender</td></tr><tr><td>Brandon</td><td>James</td><td>Miami</td><td>M</td></tr><tr><td>Sean</td><td>Hawkins</td><td>Denver</td><td>M</td></tr><tr><td>Judy</td><td>Day</td><td>Los Angeles</td><td>F</td></tr><tr><td>Ashley</td><td>Ruiz</td><td>San Francisco</td><td>F</td></tr><tr><td>구자</td><td>연</td><td>대한민국</td><td>F</td></tr></table>\n"
     ]
    }
   ],
   "source": [
    "# 엑셀 정보는 html 테이블 형식으로 구성됨 (랭체인)\n",
    "context = docs[0].metadata['text_as_html']\n",
    "print(context)"
   ]
  },
  {
   "cell_type": "code",
   "execution_count": 46,
   "metadata": {},
   "outputs": [
    {
     "name": "stdout",
     "output_type": "stream",
     "text": [
      "\n",
      "\n",
      "\n",
      "| First Name | Last Name | City | Gender |\n",
      "| --- | --- | --- | --- |\n",
      "| Judy | Day | Los Angeles | F |\n",
      "| Ashley | Ruiz | San Francisco | F |\n",
      "| Guzae | Yoon |대한민국 | F |\n"
     ]
    }
   ],
   "source": [
    "question = \"Return all entris in the table where Gender is 'F'. Format the response in Markdown. Do not write preambles and explanation.\"\n",
    "response = my_llm.ask_llm(context, question)\n",
    "\n",
    "# I do not know 포함일 때 재시도 100번까지 (I do not know 가 들어가면 안되는 경우에만 사용)\n",
    "count = 0\n",
    "while \"I do not know\" in response and count < 100:\n",
    "    response = my_llm.ask_llm(context, question)\n",
    "    count += 1\n",
    "    print(\"재시도횟수:\", count)\n",
    "\n",
    "print(response)"
   ]
  },
  {
   "cell_type": "code",
   "execution_count": 117,
   "metadata": {},
   "outputs": [
    {
     "name": "stdout",
     "output_type": "stream",
     "text": [
      "| First Name | Last Name | City | Gender |\n",
      "| --- | --- | --- | --- |\n",
      "| Brandon | James | Miami | M |\n",
      "| Sean | Hawkins | Denver | M |\n",
      "\n",
      "In the table, the entries where 'Gender' is 'M' are:\n",
      "\n",
      "* Brandon James\n",
      "* Sean Hawkins\n"
     ]
    }
   ],
   "source": [
    "question = \"Return all entris in the table where Gender is 'M'. Format the response in Markdown.\"\n",
    "response = my_llm.ask_llm(context, question)\n",
    "\n",
    "# I do not know 포함일 때 재시도 100번까지 (I do not know 가 들어가면 안되는 경우에만 사용)\n",
    "count = 0\n",
    "while \"I do not know\" in response and count < 100:\n",
    "    response = my_llm.ask_llm(context, question)\n",
    "    count += 1\n",
    "    print(\"재시도횟수:\", count)\n",
    "\n",
    "print(response)"
   ]
  },
  {
   "cell_type": "code",
   "execution_count": 121,
   "metadata": {},
   "outputs": [
    {
     "data": {
      "text/plain": [
       "[Document(metadata={'source': 'data/job_description.docx'}, page_content='Job Description - Data Scientist\\n\\nAt SpiceJet, we rely on data to provide us valuable insights, and to automate our systems and solutions to help us increase revenues, reduce costs and provide improved customer experiences. We are seeking an experienced data scientist to deliver insights and automate our systems and processes. Ideal team member will have mathematical and statistical expertise, experience with modern data science programming languages and machine learning/AI platforms and techniques. You will mine, clean and interpret our data and then develop machine learning models to deliver business value across different parts of the business. \\n\\nObjectives of this Role\\n\\nUse Data Science and Machine Learning to increase revenue, reduce costs and increase customer satisfaction.\\n\\nCollaborate with product design and engineering to develop an understanding of needs\\n\\nUnderstand where the required data resides and work on ways to extract the relevant data.\\n\\nResearch and devise statistical and machine learning models.\\n\\nCommunicate insights to stakeholders in an automated fashion to enable them to take business decisions.\\n\\nDeploy models in production to automate various processes.\\n\\n\\n\\nSkills and Qualifications\\n\\nBachelor’s degree in Data Science, Computer Science, Statistics, Applied mathematics, or related discipline\\n\\n3+ years experience in data science\\n\\nProficiency with Machine Learning platforms and techniques, data mining, mathematics, and statistical analysis\\n\\nPredictive modelling experience\\n\\nExperience with Python, R, Excel, Tableau, SQL\\n\\nComfortable working in a dynamic, research-oriented group with several ongoing concurrent projects\\n\\n\\n\\nPreferred Qualifications\\n\\nMaster’s degree in Data Science, Computer Science, Stats, Applied math, or related discipline\\n\\n2+ years of project management experience\\n\\n\\n\\nCompetencies:\\n\\nDefining: Can translate fuzzy problem in assigned area into formalized structure\\n\\nTroubleshooting: Can troubleshoot unseen problems in assigned area\\n\\nSolutioning:  Can independently implement the solution\\n\\nCoding Principles: Extensability, Abstraction, Separation of concerns, Chooses right Data Science/Machine learning techniques.\\n\\nCoding Quality: Performant, Integration tests coverage, implements security requirements.\\n\\nProgramming Language Proficiency: Usage of design patterns and knowledge of functional aspects.\\n\\nProject Management: Can break down tasks, identify dependencies and provide accurate effort estimates that feed into the larger plan. Proactively resolve dependencies and communicate around progress and blockers.\\n\\nExecution: Responsible for timely completion of assigned components including integration and deployment to appropriate environments. Complete ownership of quality including iterations with stakeholders to meet the desired objectives.\\n\\nResponsiveness: Understands team priorities. Own, identify and quick turn around for production issues that address the root cause.\\n\\nDesigning: Low level design, functional modeling, Adaptability, High level design with guidance\\n\\nAnalysis: Understanding impact of design changes\\n\\nNon Functional Attributes: Understands the basic concepts around performance and can contribute to measuring and improving performance. Understands scalability\\n\\nData Orientation: Apply algorithms to make smarter and intelligent data driven systems, Good understanding and know hows of various data tools/tech (e.g. Data Tools, IR and ML tools)\\n\\n\\n\\n추신 – 한국어')]"
      ]
     },
     "execution_count": 121,
     "metadata": {},
     "output_type": "execute_result"
    }
   ],
   "source": [
    "### 워드 파일 읽고 LLM에게 메일쓰게하기\n",
    "\n",
    "# pip install -U docx2txt\n",
    "from langchain_community.document_loaders import Docx2txtLoader\n",
    "\n",
    "loader = Docx2txtLoader(\"data/job_description.docx\")\n",
    "\n",
    "docs = loader.load()\n",
    "\n",
    "docs"
   ]
  },
  {
   "cell_type": "code",
   "execution_count": 122,
   "metadata": {},
   "outputs": [
    {
     "name": "stdout",
     "output_type": "stream",
     "text": [
      "Job Description - Data Scientist\n",
      "\n",
      "At SpiceJet, we rely on data to provide us valuable insights, and to automate our systems and solutions to help us increase revenues, reduce costs and provide improved customer experiences. We are seeking an experienced data scientist to deliver insights and automate our systems and processes. Ideal team member will have mathematical and statistical expertise, experience with modern data science programming languages and machine learning/AI platforms and techniques. You will mine, clean and interpret our data and then develop machine learning models to deliver business value across different parts of the business. \n",
      "\n",
      "Objectives of this Role\n",
      "\n",
      "Use Data Science and Machine Learning to increase revenue, reduce costs and increase customer satisfaction.\n",
      "\n",
      "Collaborate with product design and engineering to develop an understanding of needs\n",
      "\n",
      "Understand where the required data resides and work on ways to extract the relevant data.\n",
      "\n",
      "Research and devise statistical and machine learning models.\n",
      "\n",
      "Communicate insights to stakeholders in an automated fashion to enable them to take business decisions.\n",
      "\n",
      "Deploy models in production to automate various processes.\n",
      "\n",
      "\n",
      "\n",
      "Skills and Qualifications\n",
      "\n",
      "Bachelor’s degree in Data Science, Computer Science, Statistics, Applied mathematics, or related discipline\n",
      "\n",
      "3+ years experience in data science\n",
      "\n",
      "Proficiency with Machine Learning platforms and techniques, data mining, mathematics, and statistical analysis\n",
      "\n",
      "Predictive modelling experience\n",
      "\n",
      "Experience with Python, R, Excel, Tableau, SQL\n",
      "\n",
      "Comfortable working in a dynamic, research-oriented group with several ongoing concurrent projects\n",
      "\n",
      "\n",
      "\n",
      "Preferred Qualifications\n",
      "\n",
      "Master’s degree in Data Science, Computer Science, Stats, Applied math, or related discipline\n",
      "\n",
      "2+ years of project management experience\n",
      "\n",
      "\n",
      "\n",
      "Competencies:\n",
      "\n",
      "Defining: Can translate fuzzy problem in assigned area into formalized structure\n",
      "\n",
      "Troubleshooting: Can troubleshoot unseen problems in assigned area\n",
      "\n",
      "Solutioning:  Can independently implement the solution\n",
      "\n",
      "Coding Principles: Extensability, Abstraction, Separation of concerns, Chooses right Data Science/Machine learning techniques.\n",
      "\n",
      "Coding Quality: Performant, Integration tests coverage, implements security requirements.\n",
      "\n",
      "Programming Language Proficiency: Usage of design patterns and knowledge of functional aspects.\n",
      "\n",
      "Project Management: Can break down tasks, identify dependencies and provide accurate effort estimates that feed into the larger plan. Proactively resolve dependencies and communicate around progress and blockers.\n",
      "\n",
      "Execution: Responsible for timely completion of assigned components including integration and deployment to appropriate environments. Complete ownership of quality including iterations with stakeholders to meet the desired objectives.\n",
      "\n",
      "Responsiveness: Understands team priorities. Own, identify and quick turn around for production issues that address the root cause.\n",
      "\n",
      "Designing: Low level design, functional modeling, Adaptability, High level design with guidance\n",
      "\n",
      "Analysis: Understanding impact of design changes\n",
      "\n",
      "Non Functional Attributes: Understands the basic concepts around performance and can contribute to measuring and improving performance. Understands scalability\n",
      "\n",
      "Data Orientation: Apply algorithms to make smarter and intelligent data driven systems, Good understanding and know hows of various data tools/tech (e.g. Data Tools, IR and ML tools)\n",
      "\n",
      "\n",
      "\n",
      "추신 – 한국어\n"
     ]
    }
   ],
   "source": [
    "context = docs[0].page_content\n",
    "\n",
    "print(context)"
   ]
  },
  {
   "cell_type": "code",
   "execution_count": 124,
   "metadata": {},
   "outputs": [
    {
     "name": "stdout",
     "output_type": "stream",
     "text": [
      "Here is a concise job application email:\n",
      "\n",
      "Subject: Application for Data Scientist Position at SpiceJet\n",
      "\n",
      "Dear Hiring Manager,\n",
      "\n",
      "I am writing to express my interest in the Data Scientist position at SpiceJet, as advertised on [reference source]. With a strong foundation in Natural Language Processing and Machine Learning from my graduate studies at IIT, I am confident that I possess the skills and expertise required to deliver value-added insights and automate systems.\n",
      "\n",
      "As a detail-oriented and analytical individual with 3+ years of experience in data science, I have developed a solid understanding of predictive modeling techniques, machine learning platforms, and statistical analysis. My proficiency in Python, R, Excel, Tableau, SQL, and programming languages such as design patterns and functional aspects has enabled me to implement effective solutions in real-world scenarios.\n",
      "\n",
      "In my previous roles, I have demonstrated my ability to collaborate with product design and engineering teams, understand the needs of stakeholders, and communicate insights in an automated manner. My experience in project management has also equipped me with the skills to break down tasks, identify dependencies, and provide accurate effort estimates.\n",
      "\n",
      "I am particularly drawn to SpiceJet's focus on leveraging data science for revenue growth, cost reduction, and customer satisfaction. I am excited about the opportunity to contribute my expertise in machine learning and statistical analysis to drive business value across different parts of the company.\n",
      "\n",
      "Thank you for considering my application. I look forward to discussing how my skills and experience align with SpiceJet's objectives.\n",
      "\n",
      "Sincerely,\n",
      " 성종\n"
     ]
    }
   ],
   "source": [
    "# 저는 성종입니다. 저는 최근 IIT를 졸업했으며 자연어 처리 및 머신 러닝에 중점을 두고 있습니다.\n",
    "# 저는 SpiceJet에서 데이터 과학자 직책에 지원하고 있습니다.\n",
    "# 구인 게시판이나 출처에 대한 참조를 포함하여 모든 자리 표시자를 제거하고 간결하게 구인 지원 이메일을 작성해 주세요.\n",
    "question = \"\"\"\n",
    "My name is 성종, and I am a recent graduate from IIT with a focus on Natural Language Processing and Machine Learning.\n",
    "I am applying for a Data Scientist position at SpiceJet.\n",
    "Please write a concise job application email for me in short, removing any placeholders, including references to job boards or sources.\n",
    "\"\"\"\n",
    "\n",
    "response = my_llm.ask_llm(context, question)\n",
    "print(response)"
   ]
  },
  {
   "cell_type": "code",
   "execution_count": 125,
   "metadata": {},
   "outputs": [
    {
     "name": "stdout",
     "output_type": "stream",
     "text": [
      "간결한 구직 신청 이메일은 다음과 같습니다.\n",
      "\n",
      "제목 : SpiceJet의 데이터 과학자 위치 응용 프로그램\n",
      "\n",
      "친애하는 채용 관리자,\n",
      "\n",
      "[참조 출처]에 광고 된대로 SpiceJet의 데이터 과학자 위치에 대한 관심을 표명하기 위해 글을 쓰고 있습니다. IIT의 대학원 연구에서 자연어 처리 및 기계 학습의 강력한 토대를 통해 부가가치 통찰력을 제공하고 시스템을 자동화하는 데 필요한 기술과 전문 지식을 보유하고 있다고 확신합니다.\n",
      "\n",
      "데이터 과학 분야에서 3 년 이상의 경험을 가진 세부 사항 지향적이고 분석적인 개인으로서 예측 모델링 기술, 기계 학습 플랫폼 및 통계 분석에 대한 확실한 이해를 개발했습니다. Python, R, Excel, Tableau, SQL 및 디자인 패턴 및 기능적 측면과 같은 프로그래밍 언어에 대한 숙련도를 통해 실제 시나리오에서 효과적인 솔루션을 구현할 수있었습니다.\n",
      "\n",
      "이전의 역할에서 저는 제품 설계 및 엔지니어링 팀과 협력하고 이해 관계자의 요구를 이해하며 자동화 된 방식으로 통찰력을 전달할 수있는 능력을 보여주었습니다. 프로젝트 관리에 대한 나의 경험은 또한 작업을 분류하고 의존성을 식별하며 정확한 노력 추정을 제공하는 기술을 갖추게되었습니다.\n",
      "\n",
      "저는 특히 매출 성장, 비용 절감 및 고객 만족을 위해 데이터 과학을 활용하는 데 SpiceJet의 초점에 중점을 둡니다. 회사의 여러 부분에서 비즈니스 가치를 높이기 위해 기계 학습 및 통계 분석에 대한 전문 지식을 제공 할 수있는 기회에 대해 기쁘게 생각합니다.\n",
      "\n",
      "제 신청서를 고려해 주셔서 감사합니다. 내 기술과 경험이 Spicejet의 목표와 어떻게 일치하는지 논의하기를 기대합니다.\n",
      "\n",
      "감사합니다,\n",
      " 성종\n"
     ]
    }
   ],
   "source": [
    "# from 폴더명 import 파일명\n",
    "from my_scripts import my_translator\n",
    "\n",
    "# 파일명.함수명()\n",
    "ko_response = my_translator.toKorean(response)\n",
    "print(ko_response)"
   ]
  },
  {
   "cell_type": "code",
   "execution_count": null,
   "metadata": {},
   "outputs": [],
   "source": []
  },
  {
   "cell_type": "code",
   "execution_count": null,
   "metadata": {},
   "outputs": [],
   "source": []
  },
  {
   "cell_type": "code",
   "execution_count": null,
   "metadata": {},
   "outputs": [],
   "source": []
  }
 ],
 "metadata": {
  "kernelspec": {
   "display_name": "Python 3",
   "language": "python",
   "name": "python3"
  },
  "language_info": {
   "codemirror_mode": {
    "name": "ipython",
    "version": 3
   },
   "file_extension": ".py",
   "mimetype": "text/x-python",
   "name": "python",
   "nbconvert_exporter": "python",
   "pygments_lexer": "ipython3",
   "version": "3.11.6"
  }
 },
 "nbformat": 4,
 "nbformat_minor": 2
}
