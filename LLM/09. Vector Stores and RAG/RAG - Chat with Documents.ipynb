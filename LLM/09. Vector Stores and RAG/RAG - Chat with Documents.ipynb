{
 "cells": [
  {
   "cell_type": "code",
   "execution_count": 1,
   "metadata": {},
   "outputs": [],
   "source": [
    "# 로컬 벡터DB로부터 검색하고 LLM에 리트리버로 적용한다. (RAG)"
   ]
  },
  {
   "cell_type": "code",
   "execution_count": 1,
   "metadata": {},
   "outputs": [
    {
     "data": {
      "text/plain": [
       "True"
      ]
     },
     "execution_count": 1,
     "metadata": {},
     "output_type": "execute_result"
    }
   ],
   "source": [
    "import os\n",
    "import warnings\n",
    "from dotenv import load_dotenv\n",
    "\n",
    "# 크로마와 FAISS 가 같이 설치되어있는 컴퓨터에선 아래 환경변수 설정을 해줘야 오류가 발생하지 않음\n",
    "os.environ['KMP_DUPLICATE_LIB_OK'] = 'True'\n",
    "warnings.filterwarnings('ignore')\n",
    "\n",
    "load_dotenv('./../.env')"
   ]
  },
  {
   "cell_type": "code",
   "execution_count": 2,
   "metadata": {},
   "outputs": [],
   "source": [
    "# 동일한 임베딩 모델로 검색해야만 한다\n",
    "from langchain_ollama import OllamaEmbeddings\n",
    "import faiss\n",
    "from langchain_community.docstore.in_memory import InMemoryDocstore\n",
    "from langchain_community.vectorstores import FAISS\n",
    "\n",
    "ollama_url = 'http://localhost:11434'               # Ollama 설치 필수\n",
    "embed_model = 'nomic-embed-text'                    # ollama pull nomic-embed-text (설치 필수)\n",
    "embeddings = OllamaEmbeddings(model= embed_model, base_url= ollama_url)\n",
    "\n",
    "db_path = './health_supplements'\n",
    "vector_store = FAISS.load_local(db_path, embeddings, allow_dangerous_deserialization=True)"
   ]
  },
  {
   "cell_type": "code",
   "execution_count": 3,
   "metadata": {},
   "outputs": [
    {
     "data": {
      "text/plain": [
       "[Document(id='8bad2d12-2318-401d-bb4e-dc36b513dc78', metadata={'producer': 'iLovePDF', 'creator': '', 'creationdate': '', 'source': 'rag-dataset\\\\gym supplements\\\\2. High Prevalence of Supplement Intake.pdf', 'file_path': 'rag-dataset\\\\gym supplements\\\\2. High Prevalence of Supplement Intake.pdf', 'total_pages': 11, 'format': 'PDF 1.5', 'title': '', 'author': '', 'subject': '', 'keywords': '', 'moddate': '2024-10-21T11:39:04+00:00', 'trapped': '', 'page': 8}, page_content='and strength gain among men. We detected more prevalent protein and creatine supplementation\\namong younger compared to older ﬁtness center users, whereas the opposite was found for vitamin\\nsupplementation. Other authors made similar observations [23] and it might reﬂect the diﬀerent\\ntraining goals among age groups, i.e., more focus on strength and muscles among the younger and\\nmore focus on health among the older age groups.\\nComparable to other studies [4], we detected a positive correlation between training frequency\\nand supplement usage. Nevertheless, the correlation is weak and is deﬁnitely not a predictor at the\\nindividual level. The subject with the highest supplement intake of 100 weekly servings was training\\nonly once a week.'),\n",
       " Document(id='285b10b8-e071-4c48-8b3f-66f919333e01', metadata={'producer': 'iLovePDF', 'creator': '', 'creationdate': '', 'source': 'rag-dataset\\\\gym supplements\\\\2. High Prevalence of Supplement Intake.pdf', 'file_path': 'rag-dataset\\\\gym supplements\\\\2. High Prevalence of Supplement Intake.pdf', 'total_pages': 11, 'format': 'PDF 1.5', 'title': '', 'author': '', 'subject': '', 'keywords': '', 'moddate': '2024-10-21T11:39:04+00:00', 'trapped': '', 'page': 5}, page_content='for two training goals. Improving health was named by 59%, 60%, 75%, and 89% as a training goal\\namong the four age groups beginning from the youngest to the oldest group. On the other hand, body\\nshaping was named by 69%, 55%, 41%, and 17% among the four age groups.'),\n",
       " Document(id='71754c75-2a0a-4c9b-9c02-364db92e31d1', metadata={'producer': 'iLovePDF', 'creator': '', 'creationdate': '', 'source': 'rag-dataset\\\\gym supplements\\\\1. Analysis of Actual Fitness Supplement.pdf', 'file_path': 'rag-dataset\\\\gym supplements\\\\1. Analysis of Actual Fitness Supplement.pdf', 'total_pages': 15, 'format': 'PDF 1.7', 'title': '', 'author': '', 'subject': '', 'keywords': '', 'moddate': '2024-10-21T11:38:50+00:00', 'trapped': '', 'page': 0}, page_content='acids than traditional protein sources. Its numerous benefits have made it a popular choice\\nfor snacks and drinks among consumers [3]. Another widely embraced supplement is\\ncaffeine, which is found in many sports and food supplements. Caffeine reduces perceived\\neffort, minimizes fatigue and pain, and proves to be effective for endurance and high-\\nintensity activities, which is the choice of consumers [4].\\nCreatine monohydrate is another well-known supplement used to gain muscle mass\\nand support performance and recovery. It is known not to increase fat mass and remains\\neffective even when taken in recommended doses [5]. Despite its popularity in the fitness\\nFoods 2024, 13, 1424. https://doi.org/10.3390/foods13091424\\nhttps://www.mdpi.com/journal/foods'),\n",
       " Document(id='a82c661f-05e7-483f-a963-8862109c87f1', metadata={'producer': 'iLovePDF', 'creator': '', 'creationdate': '', 'source': 'rag-dataset\\\\gym supplements\\\\2. High Prevalence of Supplement Intake.pdf', 'file_path': 'rag-dataset\\\\gym supplements\\\\2. High Prevalence of Supplement Intake.pdf', 'total_pages': 11, 'format': 'PDF 1.5', 'title': '', 'author': '', 'subject': '', 'keywords': '', 'moddate': '2024-10-21T11:39:04+00:00', 'trapped': '', 'page': 2}, page_content='bodybuilding, improve strength, improve endurance, improve sport speciﬁc performance, other\\nreasons). In the second section, the supplement use was screened by listing 25 predeﬁned substances\\nand product classes (Table 2). Spare lines were available to list “further” products not included in the\\nquestionnaire. For each product, intake frequency had to be indicated. The available categories were\\n“daily”, “several times per week”, “once a week”, “less than once a week”, “never”, and “don’t know”.\\nIn the last section, subjects were asked about their motivation to take the supplements, where they\\ninformed themselves about the supplements used, whether they were informed about potential side\\neﬀects or risks by their information source (yes or no) and what they considered to be important criteria\\nwhen selecting the particular information source(s). For these questions, a limited set of predeﬁned'),\n",
       " Document(id='e54bfe43-1848-4e10-8e4c-435d888c8507', metadata={'producer': 'iLovePDF', 'creator': '', 'creationdate': '', 'source': 'rag-dataset\\\\gym supplements\\\\1. Analysis of Actual Fitness Supplement.pdf', 'file_path': 'rag-dataset\\\\gym supplements\\\\1. Analysis of Actual Fitness Supplement.pdf', 'total_pages': 15, 'format': 'PDF 1.7', 'title': '', 'author': '', 'subject': '', 'keywords': '', 'moddate': '2024-10-21T11:38:50+00:00', 'trapped': '', 'page': 0}, page_content='sionals, and policymakers seeking to promote informed and responsible supplement use among\\nhealth and fitness enthusiasts.\\nKeywords: fitness supplements; health belief model; theory of effort of minimization; theory of\\nplanned behavior; structural equation modelling\\n1. Introduction\\nSupplementary drinks or fitness supplements are commonly used to enhance an\\nindividual’s performance in various sports and health settings, catering to both competitive\\nand non-competitive athletes [1]. One widely known supplement for athletes and fitness\\nenthusiasts is protein supplements like protein shakes. Others may be whey protein,\\ncaffeine, and creatine, to name a few. These supplements play a crucial role in helping\\nindividuals increase muscle mass, recover faster, and enhance their overall performance [2].\\nWhey protein stands out as a top-quality protein source, containing more essential amino\\nacids than traditional protein sources. Its numerous benefits have made it a popular choice')]"
      ]
     },
     "execution_count": 3,
     "metadata": {},
     "output_type": "execute_result"
    }
   ],
   "source": [
    "### Retreival (벡터DB에서 유사도 검색)\n",
    "knn_count = 5\n",
    "question = \"how to gain muscle mass?\"\n",
    "docs = vector_store.search(query=question, k=knn_count, search_type=\"similarity\")\n",
    "\n",
    "docs"
   ]
  },
  {
   "cell_type": "code",
   "execution_count": 4,
   "metadata": {},
   "outputs": [
    {
     "data": {
      "text/plain": [
       "[Document(id='8bad2d12-2318-401d-bb4e-dc36b513dc78', metadata={'producer': 'iLovePDF', 'creator': '', 'creationdate': '', 'source': 'rag-dataset\\\\gym supplements\\\\2. High Prevalence of Supplement Intake.pdf', 'file_path': 'rag-dataset\\\\gym supplements\\\\2. High Prevalence of Supplement Intake.pdf', 'total_pages': 11, 'format': 'PDF 1.5', 'title': '', 'author': '', 'subject': '', 'keywords': '', 'moddate': '2024-10-21T11:39:04+00:00', 'trapped': '', 'page': 8}, page_content='and strength gain among men. We detected more prevalent protein and creatine supplementation\\namong younger compared to older ﬁtness center users, whereas the opposite was found for vitamin\\nsupplementation. Other authors made similar observations [23] and it might reﬂect the diﬀerent\\ntraining goals among age groups, i.e., more focus on strength and muscles among the younger and\\nmore focus on health among the older age groups.\\nComparable to other studies [4], we detected a positive correlation between training frequency\\nand supplement usage. Nevertheless, the correlation is weak and is deﬁnitely not a predictor at the\\nindividual level. The subject with the highest supplement intake of 100 weekly servings was training\\nonly once a week.'),\n",
       " Document(id='285b10b8-e071-4c48-8b3f-66f919333e01', metadata={'producer': 'iLovePDF', 'creator': '', 'creationdate': '', 'source': 'rag-dataset\\\\gym supplements\\\\2. High Prevalence of Supplement Intake.pdf', 'file_path': 'rag-dataset\\\\gym supplements\\\\2. High Prevalence of Supplement Intake.pdf', 'total_pages': 11, 'format': 'PDF 1.5', 'title': '', 'author': '', 'subject': '', 'keywords': '', 'moddate': '2024-10-21T11:39:04+00:00', 'trapped': '', 'page': 5}, page_content='for two training goals. Improving health was named by 59%, 60%, 75%, and 89% as a training goal\\namong the four age groups beginning from the youngest to the oldest group. On the other hand, body\\nshaping was named by 69%, 55%, 41%, and 17% among the four age groups.'),\n",
       " Document(id='71754c75-2a0a-4c9b-9c02-364db92e31d1', metadata={'producer': 'iLovePDF', 'creator': '', 'creationdate': '', 'source': 'rag-dataset\\\\gym supplements\\\\1. Analysis of Actual Fitness Supplement.pdf', 'file_path': 'rag-dataset\\\\gym supplements\\\\1. Analysis of Actual Fitness Supplement.pdf', 'total_pages': 15, 'format': 'PDF 1.7', 'title': '', 'author': '', 'subject': '', 'keywords': '', 'moddate': '2024-10-21T11:38:50+00:00', 'trapped': '', 'page': 0}, page_content='acids than traditional protein sources. Its numerous benefits have made it a popular choice\\nfor snacks and drinks among consumers [3]. Another widely embraced supplement is\\ncaffeine, which is found in many sports and food supplements. Caffeine reduces perceived\\neffort, minimizes fatigue and pain, and proves to be effective for endurance and high-\\nintensity activities, which is the choice of consumers [4].\\nCreatine monohydrate is another well-known supplement used to gain muscle mass\\nand support performance and recovery. It is known not to increase fat mass and remains\\neffective even when taken in recommended doses [5]. Despite its popularity in the fitness\\nFoods 2024, 13, 1424. https://doi.org/10.3390/foods13091424\\nhttps://www.mdpi.com/journal/foods')]"
      ]
     },
     "execution_count": 4,
     "metadata": {},
     "output_type": "execute_result"
    }
   ],
   "source": [
    "# 리트리버 사용\n",
    "retriever = vector_store.as_retriever(search_type='similarity', search_kwargs={'k':3})\n",
    "question = \"how to gain muscle mass?\"\n",
    "retriever.invoke(question)"
   ]
  },
  {
   "cell_type": "code",
   "execution_count": 5,
   "metadata": {},
   "outputs": [
    {
     "data": {
      "text/plain": [
       "[Document(id='38ac6032-4c8e-4958-a956-85e848ca67c1', metadata={'producer': 'iLovePDF', 'creator': '', 'creationdate': '', 'source': 'rag-dataset\\\\health supplements\\\\1. dietary supplements - for whom.pdf', 'file_path': 'rag-dataset\\\\health supplements\\\\1. dietary supplements - for whom.pdf', 'total_pages': 17, 'format': 'PDF 1.7', 'title': '', 'author': '', 'subject': '', 'keywords': '', 'moddate': '2024-10-21T11:37:54+00:00', 'trapped': '', 'page': 12}, page_content='Int. J. Environ. Res. Public Health 2021, 18, 8897\\n13 of 24\\n3.3. Dietary Supplements and Weight Loss\\nThe number of people with excessive weight continues to rise, and ﬁghting obesity\\nhas become one of the greatest challenges of contemporary medicine. A person wishing to\\nlose weight needs to undertake several difﬁcult life-changes and practice them consistently\\n(diet, physical activity, addiction-free). Meanwhile dietary supplements are presented as\\na compelling alternative to traditional methods for combatting obesity. Wróbel-Harmas\\net al. [107] demonstrated that weight loss supplements are the most frequently sought di-\\netary supplements on the Internet, followed by preparations for muscle building and sexual\\npotency. In the US, more than 30% of people with overweight and obesity believe supple-\\nments to be an effective method for losing weight [108], while in Poland these supplements\\nare used by as many as 40–50% of young women, regardless of their weight [15].'),\n",
       " Document(id='aa098420-bf25-4046-8f0c-9e804df1ec6e', metadata={'producer': 'iLovePDF', 'creator': '', 'creationdate': '', 'source': 'rag-dataset\\\\health supplements\\\\1. dietary supplements - for whom.pdf', 'file_path': 'rag-dataset\\\\health supplements\\\\1. dietary supplements - for whom.pdf', 'total_pages': 17, 'format': 'PDF 1.7', 'title': '', 'author': '', 'subject': '', 'keywords': '', 'moddate': '2024-10-21T11:37:54+00:00', 'trapped': '', 'page': 12}, page_content='are used by as many as 40–50% of young women, regardless of their weight [15].\\nWeight loss supplements are usually multi-ingredient preparations, with over 4000 in-\\ndividual substances used in the production process. The average weight loss supplement\\navailable in Western markets is estimated to include 10 different ingredients [109]. The\\nmore complex the recipe, the harder it is to determine its effects on the body. The most\\npopular ingredients include chromium and chitosan, as well as green tea, Garcinia cambogia,\\nand bitter orange (Citrus aurantium) extracts [15,16]. Over the years, no studies have shown\\nthat the use of either single- or multi-ingredient preparations of those substances promotes\\nweight reduction.\\nA 2013 meta-analysis of randomized studies found that chromium supplementation\\nresulted in only 0.5 kg additional weight reduction in subjects with overweight and obesity,\\nas compared with those taking a placebo [110], and a comparable result (mean: 0.75 kg)'),\n",
       " Document(id='859549e2-779a-4a99-b5aa-7b744b565981', metadata={'producer': 'iLovePDF', 'creator': '', 'creationdate': '', 'source': 'rag-dataset\\\\health supplements\\\\1. dietary supplements - for whom.pdf', 'file_path': 'rag-dataset\\\\health supplements\\\\1. dietary supplements - for whom.pdf', 'total_pages': 17, 'format': 'PDF 1.7', 'title': '', 'author': '', 'subject': '', 'keywords': '', 'moddate': '2024-10-21T11:37:54+00:00', 'trapped': '', 'page': 13}, page_content='effective, it would have been registered as a “medicine” and not as a “foodstuff”. The two\\nkey issues are that these products do not help people lose weight and they have serious\\nside effects, which may be a threat to patient health. Therefore, consuming fat burners,\\nespecially those purchased online, has been compared by some authors to playing a game\\nof “Russian roulette” [125]. If, despite the lack of evidence, patients wish to attempt to\\nlose weight using dietary supplements, they should never purchase these products from\\nunauthorized buyers or increase the recommended dose or use several products at the same\\ntime in the hope that it would accelerate their weight loss. Various slimming preparations\\n(with different trade names) may contain the same ingredients and their concentration in\\nthe body may become dangerously elevated. Table 3 summarizes the studies analyzed in\\nthis article on the relationships between dietary supplement use and body weight.')]"
      ]
     },
     "execution_count": 5,
     "metadata": {},
     "output_type": "execute_result"
    }
   ],
   "source": [
    "question = \"how to lose weight?\"\n",
    "retriever.invoke(question)"
   ]
  },
  {
   "cell_type": "code",
   "execution_count": 6,
   "metadata": {},
   "outputs": [
    {
     "data": {
      "text/plain": [
       "[Document(id='38ac6032-4c8e-4958-a956-85e848ca67c1', metadata={'producer': 'iLovePDF', 'creator': '', 'creationdate': '', 'source': 'rag-dataset\\\\health supplements\\\\1. dietary supplements - for whom.pdf', 'file_path': 'rag-dataset\\\\health supplements\\\\1. dietary supplements - for whom.pdf', 'total_pages': 17, 'format': 'PDF 1.7', 'title': '', 'author': '', 'subject': '', 'keywords': '', 'moddate': '2024-10-21T11:37:54+00:00', 'trapped': '', 'page': 12}, page_content='Int. J. Environ. Res. Public Health 2021, 18, 8897\\n13 of 24\\n3.3. Dietary Supplements and Weight Loss\\nThe number of people with excessive weight continues to rise, and ﬁghting obesity\\nhas become one of the greatest challenges of contemporary medicine. A person wishing to\\nlose weight needs to undertake several difﬁcult life-changes and practice them consistently\\n(diet, physical activity, addiction-free). Meanwhile dietary supplements are presented as\\na compelling alternative to traditional methods for combatting obesity. Wróbel-Harmas\\net al. [107] demonstrated that weight loss supplements are the most frequently sought di-\\netary supplements on the Internet, followed by preparations for muscle building and sexual\\npotency. In the US, more than 30% of people with overweight and obesity believe supple-\\nments to be an effective method for losing weight [108], while in Poland these supplements\\nare used by as many as 40–50% of young women, regardless of their weight [15].'),\n",
       " Document(id='aa098420-bf25-4046-8f0c-9e804df1ec6e', metadata={'producer': 'iLovePDF', 'creator': '', 'creationdate': '', 'source': 'rag-dataset\\\\health supplements\\\\1. dietary supplements - for whom.pdf', 'file_path': 'rag-dataset\\\\health supplements\\\\1. dietary supplements - for whom.pdf', 'total_pages': 17, 'format': 'PDF 1.7', 'title': '', 'author': '', 'subject': '', 'keywords': '', 'moddate': '2024-10-21T11:37:54+00:00', 'trapped': '', 'page': 12}, page_content='are used by as many as 40–50% of young women, regardless of their weight [15].\\nWeight loss supplements are usually multi-ingredient preparations, with over 4000 in-\\ndividual substances used in the production process. The average weight loss supplement\\navailable in Western markets is estimated to include 10 different ingredients [109]. The\\nmore complex the recipe, the harder it is to determine its effects on the body. The most\\npopular ingredients include chromium and chitosan, as well as green tea, Garcinia cambogia,\\nand bitter orange (Citrus aurantium) extracts [15,16]. Over the years, no studies have shown\\nthat the use of either single- or multi-ingredient preparations of those substances promotes\\nweight reduction.\\nA 2013 meta-analysis of randomized studies found that chromium supplementation\\nresulted in only 0.5 kg additional weight reduction in subjects with overweight and obesity,\\nas compared with those taking a placebo [110], and a comparable result (mean: 0.75 kg)'),\n",
       " Document(id='859549e2-779a-4a99-b5aa-7b744b565981', metadata={'producer': 'iLovePDF', 'creator': '', 'creationdate': '', 'source': 'rag-dataset\\\\health supplements\\\\1. dietary supplements - for whom.pdf', 'file_path': 'rag-dataset\\\\health supplements\\\\1. dietary supplements - for whom.pdf', 'total_pages': 17, 'format': 'PDF 1.7', 'title': '', 'author': '', 'subject': '', 'keywords': '', 'moddate': '2024-10-21T11:37:54+00:00', 'trapped': '', 'page': 13}, page_content='effective, it would have been registered as a “medicine” and not as a “foodstuff”. The two\\nkey issues are that these products do not help people lose weight and they have serious\\nside effects, which may be a threat to patient health. Therefore, consuming fat burners,\\nespecially those purchased online, has been compared by some authors to playing a game\\nof “Russian roulette” [125]. If, despite the lack of evidence, patients wish to attempt to\\nlose weight using dietary supplements, they should never purchase these products from\\nunauthorized buyers or increase the recommended dose or use several products at the same\\ntime in the hope that it would accelerate their weight loss. Various slimming preparations\\n(with different trade names) may contain the same ingredients and their concentration in\\nthe body may become dangerously elevated. Table 3 summarizes the studies analyzed in\\nthis article on the relationships between dietary supplement use and body weight.')]"
      ]
     },
     "execution_count": 6,
     "metadata": {},
     "output_type": "execute_result"
    }
   ],
   "source": [
    "# 검색유형 : similarity_score_threshold\n",
    "retriever = vector_store.as_retriever(search_type='similarity_score_threshold',\n",
    "                                      search_kwargs={'k':3, 'score_threshold': 0.1})\n",
    "question = \"how to lose weight?\"\n",
    "retriever.invoke(question)"
   ]
  },
  {
   "cell_type": "code",
   "execution_count": 7,
   "metadata": {},
   "outputs": [
    {
     "data": {
      "text/plain": [
       "[Document(id='38ac6032-4c8e-4958-a956-85e848ca67c1', metadata={'producer': 'iLovePDF', 'creator': '', 'creationdate': '', 'source': 'rag-dataset\\\\health supplements\\\\1. dietary supplements - for whom.pdf', 'file_path': 'rag-dataset\\\\health supplements\\\\1. dietary supplements - for whom.pdf', 'total_pages': 17, 'format': 'PDF 1.7', 'title': '', 'author': '', 'subject': '', 'keywords': '', 'moddate': '2024-10-21T11:37:54+00:00', 'trapped': '', 'page': 12}, page_content='Int. J. Environ. Res. Public Health 2021, 18, 8897\\n13 of 24\\n3.3. Dietary Supplements and Weight Loss\\nThe number of people with excessive weight continues to rise, and ﬁghting obesity\\nhas become one of the greatest challenges of contemporary medicine. A person wishing to\\nlose weight needs to undertake several difﬁcult life-changes and practice them consistently\\n(diet, physical activity, addiction-free). Meanwhile dietary supplements are presented as\\na compelling alternative to traditional methods for combatting obesity. Wróbel-Harmas\\net al. [107] demonstrated that weight loss supplements are the most frequently sought di-\\netary supplements on the Internet, followed by preparations for muscle building and sexual\\npotency. In the US, more than 30% of people with overweight and obesity believe supple-\\nments to be an effective method for losing weight [108], while in Poland these supplements\\nare used by as many as 40–50% of young women, regardless of their weight [15].'),\n",
       " Document(id='aa098420-bf25-4046-8f0c-9e804df1ec6e', metadata={'producer': 'iLovePDF', 'creator': '', 'creationdate': '', 'source': 'rag-dataset\\\\health supplements\\\\1. dietary supplements - for whom.pdf', 'file_path': 'rag-dataset\\\\health supplements\\\\1. dietary supplements - for whom.pdf', 'total_pages': 17, 'format': 'PDF 1.7', 'title': '', 'author': '', 'subject': '', 'keywords': '', 'moddate': '2024-10-21T11:37:54+00:00', 'trapped': '', 'page': 12}, page_content='are used by as many as 40–50% of young women, regardless of their weight [15].\\nWeight loss supplements are usually multi-ingredient preparations, with over 4000 in-\\ndividual substances used in the production process. The average weight loss supplement\\navailable in Western markets is estimated to include 10 different ingredients [109]. The\\nmore complex the recipe, the harder it is to determine its effects on the body. The most\\npopular ingredients include chromium and chitosan, as well as green tea, Garcinia cambogia,\\nand bitter orange (Citrus aurantium) extracts [15,16]. Over the years, no studies have shown\\nthat the use of either single- or multi-ingredient preparations of those substances promotes\\nweight reduction.\\nA 2013 meta-analysis of randomized studies found that chromium supplementation\\nresulted in only 0.5 kg additional weight reduction in subjects with overweight and obesity,\\nas compared with those taking a placebo [110], and a comparable result (mean: 0.75 kg)'),\n",
       " Document(id='859549e2-779a-4a99-b5aa-7b744b565981', metadata={'producer': 'iLovePDF', 'creator': '', 'creationdate': '', 'source': 'rag-dataset\\\\health supplements\\\\1. dietary supplements - for whom.pdf', 'file_path': 'rag-dataset\\\\health supplements\\\\1. dietary supplements - for whom.pdf', 'total_pages': 17, 'format': 'PDF 1.7', 'title': '', 'author': '', 'subject': '', 'keywords': '', 'moddate': '2024-10-21T11:37:54+00:00', 'trapped': '', 'page': 13}, page_content='effective, it would have been registered as a “medicine” and not as a “foodstuff”. The two\\nkey issues are that these products do not help people lose weight and they have serious\\nside effects, which may be a threat to patient health. Therefore, consuming fat burners,\\nespecially those purchased online, has been compared by some authors to playing a game\\nof “Russian roulette” [125]. If, despite the lack of evidence, patients wish to attempt to\\nlose weight using dietary supplements, they should never purchase these products from\\nunauthorized buyers or increase the recommended dose or use several products at the same\\ntime in the hope that it would accelerate their weight loss. Various slimming preparations\\n(with different trade names) may contain the same ingredients and their concentration in\\nthe body may become dangerously elevated. Table 3 summarizes the studies analyzed in\\nthis article on the relationships between dietary supplement use and body weight.')]"
      ]
     },
     "execution_count": 7,
     "metadata": {},
     "output_type": "execute_result"
    }
   ],
   "source": [
    "# 검색유형 : mmr\n",
    "retriever = vector_store.as_retriever(search_type='mmr',\n",
    "                                      search_kwargs={'k':3, 'fetch_k': 20, 'lambda_mult':1})\n",
    "\n",
    "# 20개를 먼저 유사도 검색하고 그 다음 유사도검색으로 3개를 선정\n",
    "question = \"how to lose weight?\"\n",
    "docs = retriever.invoke(question)\n",
    "docs"
   ]
  },
  {
   "cell_type": "code",
   "execution_count": 8,
   "metadata": {},
   "outputs": [],
   "source": [
    "### RAG with LLAMA on OLLAMA\n",
    "from langchain_ollama import ChatOllama\n",
    "from langchain_core.output_parsers import StrOutputParser\n",
    "from langchain_core.runnables import RunnablePassthrough\n",
    "from langchain_core.prompts import ChatPromptTemplate\n",
    "\n",
    "from langchain import hub"
   ]
  },
  {
   "cell_type": "code",
   "execution_count": 9,
   "metadata": {},
   "outputs": [
    {
     "data": {
      "text/plain": [
       "ChatPromptTemplate(input_variables=['context', 'question'], input_types={}, partial_variables={}, messages=[HumanMessagePromptTemplate(prompt=PromptTemplate(input_variables=['context', 'question'], input_types={}, partial_variables={}, template=\"You are an assistant for question-answering tasks. Use the following pieces of retrieved context to answer the question. If you don't know the answer, just say that you don't know. Use three sentences maximum and keep the answer concise.\\nQuestion: {question} \\nContext: {context} \\nAnswer:\"), additional_kwargs={})])"
      ]
     },
     "execution_count": 9,
     "metadata": {},
     "output_type": "execute_result"
    }
   ],
   "source": [
    "# 프롬프트 작성\n",
    "prompt = \"You are an assistant for question-answering tasks. Use the following pieces of retrieved context to answer the question. If you don't know the answer, just say that you don't know. Use three sentences maximum and keep the answer concise.\\nQuestion: {question} \\nContext: {context} \\nAnswer:\"\n",
    "\n",
    "prompt = ChatPromptTemplate.from_template(prompt)\n",
    "prompt"
   ]
  },
  {
   "cell_type": "code",
   "execution_count": 10,
   "metadata": {},
   "outputs": [
    {
     "data": {
      "text/plain": [
       "ChatPromptTemplate(input_variables=['context', 'question'], input_types={}, partial_variables={}, metadata={'lc_hub_owner': 'rlm', 'lc_hub_repo': 'rag-prompt', 'lc_hub_commit_hash': '50442af133e61576e74536c6556cefe1fac147cad032f4377b60c436e6cdcb6e'}, messages=[HumanMessagePromptTemplate(prompt=PromptTemplate(input_variables=['context', 'question'], input_types={}, partial_variables={}, template=\"You are an assistant for question-answering tasks. Use the following pieces of retrieved context to answer the question. If you don't know the answer, just say that you don't know. Use three sentences maximum and keep the answer concise.\\nQuestion: {question} \\nContext: {context} \\nAnswer:\"), additional_kwargs={})])"
      ]
     },
     "execution_count": 10,
     "metadata": {},
     "output_type": "execute_result"
    }
   ],
   "source": [
    "# 다른 사람이 랭체인에 올려놓은 프롬프트를 가져다쓴다.\n",
    "prompt = hub.pull(\"rlm/rag-prompt\")\n",
    "prompt"
   ]
  },
  {
   "cell_type": "code",
   "execution_count": 11,
   "metadata": {},
   "outputs": [
    {
     "data": {
      "text/plain": [
       "ChatOllama(model='llama3.2:1b', base_url='http://localhost:11434')"
      ]
     },
     "execution_count": 11,
     "metadata": {},
     "output_type": "execute_result"
    }
   ],
   "source": [
    "# LLM 셋팅\n",
    "model_name = 'llama3.2:1b'\n",
    "ollama_url = 'http://localhost:11434'\n",
    "\n",
    "llm = ChatOllama(model=model_name, base_url=ollama_url)\n",
    "llm"
   ]
  },
  {
   "cell_type": "code",
   "execution_count": 12,
   "metadata": {},
   "outputs": [],
   "source": [
    "# 검색된 k개의 리트리버를 하나의 문자열로 만들기위한 함수\n",
    "def format_docs(docs):\n",
    "    return '\\n\\n'.join([doc.page_content for doc in docs])"
   ]
  },
  {
   "cell_type": "code",
   "execution_count": 13,
   "metadata": {},
   "outputs": [
    {
     "name": "stdout",
     "output_type": "stream",
     "text": [
      "Int. J. Environ. Res. Public Health 2021, 18, 8897\n",
      "13 of 24\n",
      "3.3. Dietary Supplements and Weight Loss\n",
      "The number of people with excessive weight continues to rise, and ﬁghting obesity\n",
      "has become one of the greatest challenges of contemporary medicine. A person wishing to\n",
      "lose weight needs to undertake several difﬁcult life-changes and practice them consistently\n",
      "(diet, physical activity, addiction-free). Meanwhile dietary supplements are presented as\n",
      "a compelling alternative to traditional methods for combatting obesity. Wróbel-Harmas\n",
      "et al. [107] demonstrated that weight loss supplements are the most frequently sought di-\n",
      "etary supplements on the Internet, followed by preparations for muscle building and sexual\n",
      "potency. In the US, more than 30% of people with overweight and obesity believe supple-\n",
      "ments to be an effective method for losing weight [108], while in Poland these supplements\n",
      "are used by as many as 40–50% of young women, regardless of their weight [15].\n",
      "\n",
      "are used by as many as 40–50% of young women, regardless of their weight [15].\n",
      "Weight loss supplements are usually multi-ingredient preparations, with over 4000 in-\n",
      "dividual substances used in the production process. The average weight loss supplement\n",
      "available in Western markets is estimated to include 10 different ingredients [109]. The\n",
      "more complex the recipe, the harder it is to determine its effects on the body. The most\n",
      "popular ingredients include chromium and chitosan, as well as green tea, Garcinia cambogia,\n",
      "and bitter orange (Citrus aurantium) extracts [15,16]. Over the years, no studies have shown\n",
      "that the use of either single- or multi-ingredient preparations of those substances promotes\n",
      "weight reduction.\n",
      "A 2013 meta-analysis of randomized studies found that chromium supplementation\n",
      "resulted in only 0.5 kg additional weight reduction in subjects with overweight and obesity,\n",
      "as compared with those taking a placebo [110], and a comparable result (mean: 0.75 kg)\n",
      "\n",
      "effective, it would have been registered as a “medicine” and not as a “foodstuff”. The two\n",
      "key issues are that these products do not help people lose weight and they have serious\n",
      "side effects, which may be a threat to patient health. Therefore, consuming fat burners,\n",
      "especially those purchased online, has been compared by some authors to playing a game\n",
      "of “Russian roulette” [125]. If, despite the lack of evidence, patients wish to attempt to\n",
      "lose weight using dietary supplements, they should never purchase these products from\n",
      "unauthorized buyers or increase the recommended dose or use several products at the same\n",
      "time in the hope that it would accelerate their weight loss. Various slimming preparations\n",
      "(with different trade names) may contain the same ingredients and their concentration in\n",
      "the body may become dangerously elevated. Table 3 summarizes the studies analyzed in\n",
      "this article on the relationships between dietary supplement use and body weight.\n"
     ]
    }
   ],
   "source": [
    "# 리트리버들을 하나의 문자열로 합친다\n",
    "context = format_docs(docs)\n",
    "print(context)"
   ]
  },
  {
   "cell_type": "code",
   "execution_count": 14,
   "metadata": {},
   "outputs": [],
   "source": [
    "# RAG 체인 생성\n",
    "rag_chain = (\n",
    "    {\"context\": retriever | format_docs, \"question\": RunnablePassthrough()}\n",
    "    | prompt\n",
    "    | llm\n",
    "    | StrOutputParser()\n",
    ")"
   ]
  },
  {
   "cell_type": "code",
   "execution_count": 15,
   "metadata": {},
   "outputs": [
    {
     "name": "stdout",
     "output_type": "stream",
     "text": [
      "To lose weight, a combination of healthy diet and regular physical activity is recommended, but dietary supplements are not effective for this purpose. Consuming fat burners or taking multiple products at once can increase the risk of side effects, such as allergic reactions or serious health issues. It's essential to purchase products from authorized sellers and follow the recommended dosages to minimize risks.\n"
     ]
    }
   ],
   "source": [
    "# rag_chain 을 통해 질문한다.\n",
    "question = \"how to lose weight?\"\n",
    "response = rag_chain.invoke(question)\n",
    "\n",
    "print(response)"
   ]
  },
  {
   "cell_type": "code",
   "execution_count": 16,
   "metadata": {},
   "outputs": [
    {
     "name": "stdout",
     "output_type": "stream",
     "text": [
      "체중 감량을 위해 건강한식이 요법과 규칙적인 신체 활동의 조합이 권장되지만식이 보조제는이 목적에 효과적이지 않습니다. 지방 버너를 소비하거나 한 번에 여러 제품을 복용하면 알레르기 반응 또는 심각한 건강 문제와 같은 부작용의 위험이 증가 할 수 있습니다. 공인 판매자로부터 제품을 구매하고 권장 복용량을 따라 위험을 최소화하는 것이 중요합니다.\n"
     ]
    }
   ],
   "source": [
    "from deep_translator import GoogleTranslator\n",
    "\n",
    "translator = GoogleTranslator(target='ko')\n",
    "response_ko = translator.translate(response)\n",
    "\n",
    "print(response_ko)"
   ]
  },
  {
   "cell_type": "code",
   "execution_count": 17,
   "metadata": {},
   "outputs": [
    {
     "name": "stdout",
     "output_type": "stream",
     "text": [
      "To gain muscle mass, focus on a well-balanced diet with sufficient protein and creatine supplementation, as well as regular training for two goals (improving health or body shaping). Adequate acid intake from supplements like vitamins can also contribute to muscle growth. However, individual results may vary due to weak correlation between supplement usage and muscle gain.\n"
     ]
    }
   ],
   "source": [
    "question = \"how to gain muscle mass?\"\n",
    "response = rag_chain.invoke(question)\n",
    "\n",
    "print(response)"
   ]
  },
  {
   "cell_type": "code",
   "execution_count": 18,
   "metadata": {},
   "outputs": [
    {
     "name": "stdout",
     "output_type": "stream",
     "text": [
      "근육량을 얻으려면 충분한 단백질과 크레아틴 보충제로 균형 잡힌식이 요법과 두 가지 목표 (건강 또는 신체 형성 향상)를위한 정기적 인 훈련에 중점을 둡니다. 비타민과 같은 보충제로부터의 적절한 산 섭취는 또한 근육 성장에 기여할 수 있습니다. 그러나 보충제 사용량과 근육 이득 사이의 상관 관계가 약화되어 개별 결과가 달라질 수 있습니다.\n"
     ]
    }
   ],
   "source": [
    "from deep_translator import GoogleTranslator\n",
    "\n",
    "translator = GoogleTranslator(target='ko')\n",
    "response_ko = translator.translate(response)\n",
    "\n",
    "print(response_ko)"
   ]
  },
  {
   "cell_type": "code",
   "execution_count": null,
   "metadata": {},
   "outputs": [],
   "source": []
  },
  {
   "cell_type": "code",
   "execution_count": null,
   "metadata": {},
   "outputs": [],
   "source": []
  },
  {
   "cell_type": "code",
   "execution_count": null,
   "metadata": {},
   "outputs": [],
   "source": []
  },
  {
   "cell_type": "code",
   "execution_count": null,
   "metadata": {},
   "outputs": [],
   "source": []
  },
  {
   "cell_type": "code",
   "execution_count": null,
   "metadata": {},
   "outputs": [],
   "source": []
  },
  {
   "cell_type": "code",
   "execution_count": null,
   "metadata": {},
   "outputs": [],
   "source": []
  },
  {
   "cell_type": "code",
   "execution_count": null,
   "metadata": {},
   "outputs": [],
   "source": []
  },
  {
   "cell_type": "code",
   "execution_count": null,
   "metadata": {},
   "outputs": [],
   "source": []
  },
  {
   "cell_type": "code",
   "execution_count": null,
   "metadata": {},
   "outputs": [],
   "source": []
  },
  {
   "cell_type": "code",
   "execution_count": null,
   "metadata": {},
   "outputs": [],
   "source": []
  },
  {
   "cell_type": "code",
   "execution_count": null,
   "metadata": {},
   "outputs": [],
   "source": []
  },
  {
   "cell_type": "code",
   "execution_count": null,
   "metadata": {},
   "outputs": [],
   "source": []
  },
  {
   "cell_type": "code",
   "execution_count": null,
   "metadata": {},
   "outputs": [],
   "source": []
  },
  {
   "cell_type": "code",
   "execution_count": null,
   "metadata": {},
   "outputs": [],
   "source": []
  },
  {
   "cell_type": "code",
   "execution_count": null,
   "metadata": {},
   "outputs": [],
   "source": []
  },
  {
   "cell_type": "code",
   "execution_count": null,
   "metadata": {},
   "outputs": [],
   "source": []
  }
 ],
 "metadata": {
  "kernelspec": {
   "display_name": "Python 3",
   "language": "python",
   "name": "python3"
  },
  "language_info": {
   "codemirror_mode": {
    "name": "ipython",
    "version": 3
   },
   "file_extension": ".py",
   "mimetype": "text/x-python",
   "name": "python",
   "nbconvert_exporter": "python",
   "pygments_lexer": "ipython3",
   "version": "3.11.6"
  }
 },
 "nbformat": 4,
 "nbformat_minor": 2
}
