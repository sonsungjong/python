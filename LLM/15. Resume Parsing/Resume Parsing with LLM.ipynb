{
 "cells": [
  {
   "cell_type": "code",
   "execution_count": null,
   "metadata": {},
   "outputs": [
    {
     "data": {
      "text/plain": [
       "True"
      ]
     },
     "execution_count": 2,
     "metadata": {},
     "output_type": "execute_result"
    }
   ],
   "source": [
    "# 이력서 파싱 LLM\n",
    "# 이력서를 LLM에게 제공해서 JSON을 요청하고\n",
    "# JSON 형식인지 검사하는 LLM에게 요청해서 보정한다 (될 때까지 수차례 반복)\n",
    "from dotenv import load_dotenv\n",
    "\n",
    "# LLM 디버깅 설정\n",
    "load_dotenv('./../.env')"
   ]
  },
  {
   "cell_type": "code",
   "execution_count": 3,
   "metadata": {},
   "outputs": [],
   "source": [
    "from langchain_community.document_loaders import PyMuPDFLoader"
   ]
  },
  {
   "cell_type": "code",
   "execution_count": 14,
   "metadata": {},
   "outputs": [],
   "source": [
    "# filename = 'resume-2.pdf'\n",
    "filename = 'resume-1.pdf'\n",
    "\n",
    "loader = PyMuPDFLoader('resume/{}'.format(filename))\n",
    "docs = loader.load()"
   ]
  },
  {
   "cell_type": "code",
   "execution_count": 15,
   "metadata": {},
   "outputs": [
    {
     "name": "stdout",
     "output_type": "stream",
     "text": [
      "Kumar Pallav\n",
      "Email : me@kumarpallav.com\n",
      "http://kumarpallav.com\n",
      "Mobile : +1-206-910-0006\n",
      "EDUCATION\n",
      "Indian Institute of Technology, Bombay\n",
      "Mumbai, India\n",
      "Bachelor of Computer Science and Engineering (with Hons.); CGPA 8.6/10\n",
      "Jun 2010 - May 2014\n",
      "EXPERIENCE\n",
      "Microsoft\n",
      "Redmond, WA\n",
      "Software Engineer · OneNote\n",
      "Jun 2016 - Present\n",
      "◦Magic Ink and Ink Lookup: Worked on recognizing ink strokes into words (using onboard IA) and recognizing\n",
      "keywords/entities given the context (using custom entity recognition service). Implemented accumulation of images or\n",
      "interactive widgets (from various online sources) related to the keyword, which could be inserted onto the Whiteboard\n",
      "canvas.\n",
      "◦Whiteboard App: Implemented sharing experience for the new collaboration focused Whiteboard app. Worked on\n",
      "creating and joining a shared session via OneDrive for Business storage. Also added new XAML components to handle\n",
      "dialogs within the app.\n",
      "◦Content Addins: Implemented content addins, for OneNote desktop app, as small embedded web apps that would get\n",
      "hosted within managed WebView controls. Created their persistence model and rendering on the desktop application.\n",
      "Microsoft\n",
      "Vancouver, Canada\n",
      "Software Engineer · OneNote\n",
      "Nov 2014 - May 2016\n",
      "◦Embedded Videos and Web Content: Worked on adding ability on OneNote to host web content, making sure it is\n",
      "backwards compatible. Implemented features to make handling and editing web content on the OneNote page easier.\n",
      "Added support for this feature on OneNote web app.\n",
      "◦Merged Cells for Tables: Added support for spanned cells for tables in OneNote, keeping in mind backwards\n",
      "compatibility. Implemented these capabilities in OneNote web app.\n",
      "◦Realtime Ink: As a ramp up project, prototyped ink collaboration using SignalR web-sockets. Worked on experimenting\n",
      "load and delay with multiple inputs in realtime.\n",
      "Oracle\n",
      "Bangalore, India\n",
      "Software Engineering Intern · Apps for Enterprises\n",
      "Nov 2014 - May 2016\n",
      "◦Containerization of iOS Apps: Worked on sand-boxing of enterprise applications (containerization) which enable\n",
      "them to be installed on employee’s iOS devices without worrying about security issues. Implemented wrapping of library\n",
      "function calls using swizzling, objective-c backend, linker ﬂags and dynamic library injection.\n",
      "◦Sandboxed Browser App: Built a demo browser application for iOS. Containerized the app using the custom script, so\n",
      "that it only works for certain urls.\n",
      "PROJECTS\n",
      "Course Allotment Simulation using SAT Solver: As part of Bachelors project, worked on solving the real world problem of\n",
      "ﬁnding a best course allocation under various constraints as a SAT (Satisﬁability) problem and infer effects of different policies on\n",
      "course allotment and choices. Studied relative efﬁciency of various heuristics modeled on different solvers like MiniSAT and\n",
      "Glucose.\n",
      "IIT Bombay Hospital Digitization: Created a complete web application in Java that could handle operations on relational\n",
      "MySQL databases to handle various processes of the university hospital.\n",
      "Simple 2D Physics Engine: Wrote a physics engine for simple round bodies providing a back-end that could generate\n",
      "coordinates in real-time with collision, gravity, restitution and custom resolution of time.\n",
      "Social Sea: Create a lightweight social search engine that shows the results ranked (using page-ranking) according to one’s\n",
      "peer-group search history and rating.\n",
      "PROGRAMMING SKILLS\n",
      "Languages: C++ , CSharp , JavaScript , Java , C\n",
      "Technologies: NodeJs , UWP , Win32\n"
     ]
    }
   ],
   "source": [
    "print(docs[0].page_content)"
   ]
  },
  {
   "cell_type": "code",
   "execution_count": 16,
   "metadata": {},
   "outputs": [],
   "source": [
    "# pdf의 전체 내용을 context 변수에 담는다\n",
    "context = docs[0].page_content\n",
    "\n",
    "# 질문 프롬프트를 작성한다\n",
    "question = \"\"\"You are tasked with parsing a job resume. Your goal is to extract relevant information in a valid structured 'JSON' format.\n",
    "Do not write preambles or explanations.\"\"\""
   ]
  },
  {
   "cell_type": "code",
   "execution_count": 17,
   "metadata": {},
   "outputs": [],
   "source": [
    "# scripts 폴더 안에 llm 파일에서 ask_llm 함수와 validate_json 함수를 가져온다\n",
    "from scripts.llm import ask_llm, validate_json"
   ]
  },
  {
   "cell_type": "code",
   "execution_count": 37,
   "metadata": {},
   "outputs": [],
   "source": [
    "response = ask_llm(context=context, question=question)"
   ]
  },
  {
   "cell_type": "code",
   "execution_count": 38,
   "metadata": {},
   "outputs": [
    {
     "name": "stdout",
     "output_type": "stream",
     "text": [
      "**1. Contact Information:**\n",
      "\n",
      "- Name: Kumar Pallav\n",
      "- Email: me@kumarpallav.com\n",
      "- Phone Number: +1-206-910-0006\n",
      "- Website/Portfolio: http://kumarpallav.com\n",
      "\n",
      "**2. Education:**\n",
      "\n",
      "- Institution Name: Indian Institute of Technology, Bombay\n",
      "- Degree: Bachelor of Computer Science and Engineering (with Hons.)\n",
      "- Field of Study: None specified\n",
      "- Graduation Dates: Jun 2010 - May 2014\n",
      "\n",
      "**3. Experience:**\n",
      "\n",
      "- Job Title: Software Engineer\n",
      "- Company Name: Microsoft\n",
      "- Location: Redmond, WA, Vancouver, Canada\n",
      "- Dates of Employment:\n",
      "    - Software Engineer · OneNote (Jun 2016 - Present)\n",
      "    - Software Engineer · OneNote (Nov 2014 - May 2016)\n",
      "- Responsibilities/Projects:\n",
      "\n",
      "**4. Projects:**\n",
      "\n",
      "- Project Title: Course Allotment Simulation using SAT Solver\n",
      "- Description/Technologies Used: SAT (Satisﬁability) problem, heuristics on MiniSAT and Glucose solvers\n",
      "- Outcomes/Results:\n",
      "    - Found a best course allocation under various constraints as a SAT problem\n",
      "    - Studied the relative efﬁciency of various heuristics\n",
      "\n",
      "**5. Skills:**\n",
      "\n",
      "- Programming Languages: C++ , CSharp , JavaScript , Java , C\n",
      "- Technologies/Tools: NodeJs , UWP , Win32\n"
     ]
    }
   ],
   "source": [
    "# JSON 형식으로 요청했지만 완전한 JSON으로 주지 않았다\n",
    "print(response)"
   ]
  },
  {
   "cell_type": "code",
   "execution_count": 39,
   "metadata": {},
   "outputs": [],
   "source": [
    "# JSON 검증용 LLM 함수를 동작시킨다\n",
    "response_json = validate_json(response)"
   ]
  },
  {
   "cell_type": "code",
   "execution_count": 40,
   "metadata": {},
   "outputs": [
    {
     "name": "stdout",
     "output_type": "stream",
     "text": [
      "{'Contact Information': {'Name': 'Kumar Pallav', 'Email': 'me@kumarpallav.com', 'Phone Number': '+1-206-910-0006', 'Website/Portfolio': 'http://kumarpallav.com'}, 'Education': {' Institution Name': 'Indian Institute of Technology, Bombay', 'Degree': 'Bachelor of Computer Science and Engineering (with Hons.)', 'Field of Study': None, 'Graduation Dates': ['Jun 2010', 'May 2014']}, 'Experience': {'Job Title': 'Software Engineer', 'Company Name': 'Microsoft', 'Location': 'Redmond, WA, Vancouver, Canada', 'Dates of Employment': [{'Start Date': 'Jun 2016', 'End Date': 'Present'}, {'Start Date': 'Nov 2014', 'End Date': 'May 2016'}]}, 'Projects': {'Project Title': 'Course Allotment Simulation using SAT Solver', 'Description/Technologies Used': 'SAT (Satisﬁability) problem, heuristics on MiniSAT and Glucose solvers', 'Outcomes/Results': [{'Best Course Allocation': 'Under various constraints as a SAT problem'}, {'Relative Eﬃciency of Heuristics': 'Studied the relative efﬃciency of various heuristics'}]}, 'Skills': {'Programming Languages': ['C++', 'CSharp', 'JavaScript', 'Java', 'C'], 'Technologies/Tools': ['NodeJs', 'UWP', 'Win32']}}\n"
     ]
    }
   ],
   "source": [
    "print(response_json)"
   ]
  },
  {
   "cell_type": "code",
   "execution_count": 42,
   "metadata": {},
   "outputs": [],
   "source": [
    "# json 파일로 저장해서 확인해본다\n",
    "import json\n",
    "\n",
    "output_file = filename.replace('.pdf', '.json')\n",
    "output_file = 'parsed_resume/{}'.format(output_file)\n",
    "\n",
    "json.dump(response_json, open(output_file, 'w'), indent=4)"
   ]
  },
  {
   "cell_type": "code",
   "execution_count": null,
   "metadata": {},
   "outputs": [],
   "source": []
  },
  {
   "cell_type": "code",
   "execution_count": null,
   "metadata": {},
   "outputs": [],
   "source": []
  },
  {
   "cell_type": "code",
   "execution_count": null,
   "metadata": {},
   "outputs": [],
   "source": []
  },
  {
   "cell_type": "code",
   "execution_count": null,
   "metadata": {},
   "outputs": [],
   "source": []
  },
  {
   "cell_type": "code",
   "execution_count": null,
   "metadata": {},
   "outputs": [],
   "source": []
  },
  {
   "cell_type": "code",
   "execution_count": null,
   "metadata": {},
   "outputs": [],
   "source": []
  }
 ],
 "metadata": {
  "kernelspec": {
   "display_name": "Python 3",
   "language": "python",
   "name": "python3"
  },
  "language_info": {
   "codemirror_mode": {
    "name": "ipython",
    "version": 3
   },
   "file_extension": ".py",
   "mimetype": "text/x-python",
   "name": "python",
   "nbconvert_exporter": "python",
   "pygments_lexer": "ipython3",
   "version": "3.11.6"
  }
 },
 "nbformat": 4,
 "nbformat_minor": 2
}
