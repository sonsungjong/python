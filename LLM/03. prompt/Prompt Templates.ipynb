{
 "cells": [
  {
   "cell_type": "markdown",
   "metadata": {},
   "source": [
    "# 랭체인 메시지 타입\n",
    "\n",
    "1. SystemMessage\n",
    "2. HumanMessage\n",
    "3. AIMessage\n",
    "4. AIMessageChunk\n",
    "5. ToolMessage"
   ]
  },
  {
   "cell_type": "code",
   "execution_count": 1,
   "metadata": {},
   "outputs": [
    {
     "data": {
      "text/plain": [
       "True"
      ]
     },
     "execution_count": 1,
     "metadata": {},
     "output_type": "execute_result"
    }
   ],
   "source": [
    "from dotenv import load_dotenv\n",
    "\n",
    "# LangSmith 환경변수 사용 (로컬에선 랭스미스말고 LangFuse 같은거 쓸 것)\n",
    "load_dotenv('./../.env')"
   ]
  },
  {
   "cell_type": "code",
   "execution_count": 3,
   "metadata": {},
   "outputs": [
    {
     "name": "stdout",
     "output_type": "stream",
     "text": [
      "Here are three key points about the Earth:\n",
      "\n",
      "1. **Diverse and Wondrous**: The Earth is a vast and complex planet, comprising approximately 71% water, 30% land, and 1% atmosphere. It has diverse ecosystems, including deserts, forests, oceans, and polar regions, which support an incredible array of plant and animal life.\n",
      "\n",
      "2. **Cyclical Processes**: The Earth's climate is influenced by various natural cycles, such as the water cycle (which replenishes freshwater sources), the carbon cycle (which regulates atmospheric CO2 levels), and the ocean currents (which distribute heat around the globe). These processes help regulate temperature, weather patterns, and seasonal changes.\n",
      "\n",
      "3. **Unique Features**: The Earth has several unique features that make it a fascinating planet to study, including its magnetic field, which protects life from harmful solar radiation; its geysers, hot springs, and volcanoes, which create diverse landscapes; and its stable axis, which enables relatively consistent climate patterns across the globe.\n"
     ]
    }
   ],
   "source": [
    "from langchain_ollama import ChatOllama\n",
    "\n",
    "base_url = \"http://localhost:11434\"\n",
    "model = 'llama3.2:1b'\n",
    "\n",
    "llm = ChatOllama(base_url=base_url, model=model)\n",
    "\n",
    "question = 'tell me about the earth in 3 points'\n",
    "response = llm.invoke(question)\n",
    "print(response.content)"
   ]
  },
  {
   "cell_type": "code",
   "execution_count": 4,
   "metadata": {},
   "outputs": [
    {
     "name": "stdout",
     "output_type": "stream",
     "text": [
      "Here are three key points about the Earth:\n",
      "\n",
      "1. **Unique Planetary Features**: The Earth is a terrestrial planet, composed of approximately 71% water and covering around 30% of its surface with landmasses. It has a solid crust, a molten mantle, and a gaseous atmosphere that supports life.\n",
      "\n",
      "2. **Climate and Weather Patterns**: The Earth's climate is complex and dynamic, influenced by various factors such as the sun's radiation, ocean currents, and atmospheric circulation patterns. This results in diverse weather conditions ranging from tropical to polar, with seasonal variations occurring due to the tilt of its axis.\n",
      "\n",
      "3. **Diversity of Life**: Despite its relatively small size compared to other planets, Earth is home to a vast array of life forms, including plants, animals, fungi, and microorganisms. Its unique combination of atmospheric gases, water availability, and stable conditions has allowed life to thrive, making it the only known habitat for life in the universe so far.\n"
     ]
    }
   ],
   "source": [
    "model = 'llama3.2:3b'\n",
    "\n",
    "llm = ChatOllama(base_url=base_url, model=model)\n",
    "\n",
    "question = 'tell me about the earth in 3 points'\n",
    "response = llm.invoke(question)\n",
    "print(response.content)"
   ]
  },
  {
   "cell_type": "code",
   "execution_count": 5,
   "metadata": {},
   "outputs": [],
   "source": [
    "from langchain_core.messages import SystemMessage, HumanMessage"
   ]
  },
  {
   "cell_type": "code",
   "execution_count": 6,
   "metadata": {},
   "outputs": [],
   "source": [
    "base_url = \"http://localhost:11434\"\n",
    "model = 'llama3.2:1b'\n",
    "\n",
    "llm = ChatOllama(base_url=base_url, model=model)"
   ]
  },
  {
   "cell_type": "code",
   "execution_count": 7,
   "metadata": {},
   "outputs": [
    {
     "name": "stdout",
     "output_type": "stream",
     "text": [
      "Here's what I've got:\n",
      "\n",
      "1. **The Earth is mostly made of water**: About 71% of its surface is covered by oceans, lakes, and rivers.\n",
      "2. **The Earth has volcanoes and earthquakes too**: Volcanic eruptions release gases and lava, while earthquakes happen when tectonic plates move past each other.\n",
      "3. **There's a magnetic field protecting us**: The Earth's magnetic field shields us from harmful solar and cosmic radiation, keeping our planet safe for life.\n"
     ]
    }
   ],
   "source": [
    "# SystemMessage : 실시간 동적 역할 부여 가능\n",
    "question = HumanMessage('tell me about the earth in 3 points')\n",
    "system = SystemMessage('You are an earth science teacher. You answer in short sentences.')\n",
    "\n",
    "messages = [system, question]\n",
    "response = llm.invoke(messages)\n",
    "\n",
    "print(response.content)"
   ]
  },
  {
   "cell_type": "code",
   "execution_count": 8,
   "metadata": {},
   "outputs": [],
   "source": [
    "# 랭체인 프롬프트 템플릿 (파라미터 변경으로 저장된 질문지를 특정 단어만 변경해서 재활용)\n",
    "from langchain_core.prompts import(\n",
    "    SystemMessagePromptTemplate,\n",
    "    HumanMessagePromptTemplate,\n",
    "    PromptTemplate,\n",
    "    ChatPromptTemplate\n",
    ")"
   ]
  },
  {
   "cell_type": "code",
   "execution_count": 9,
   "metadata": {},
   "outputs": [],
   "source": [
    "system = SystemMessagePromptTemplate.from_template('You are {school} teacher. You answer in short sentences.')\n",
    "question = HumanMessagePromptTemplate.from_template('tell me about the {topics} in {points} points')\n"
   ]
  },
  {
   "cell_type": "code",
   "execution_count": 10,
   "metadata": {},
   "outputs": [
    {
     "data": {
      "text/plain": [
       "SystemMessagePromptTemplate(prompt=PromptTemplate(input_variables=['school'], input_types={}, partial_variables={}, template='You are {school} teacher. You answer in short sentences.'), additional_kwargs={})"
      ]
     },
     "execution_count": 10,
     "metadata": {},
     "output_type": "execute_result"
    }
   ],
   "source": [
    "system"
   ]
  },
  {
   "cell_type": "code",
   "execution_count": 11,
   "metadata": {},
   "outputs": [
    {
     "data": {
      "text/plain": [
       "HumanMessagePromptTemplate(prompt=PromptTemplate(input_variables=['points', 'topics'], input_types={}, partial_variables={}, template='tell me about the {topics} in {points} points'), additional_kwargs={})"
      ]
     },
     "execution_count": 11,
     "metadata": {},
     "output_type": "execute_result"
    }
   ],
   "source": [
    "question"
   ]
  },
  {
   "cell_type": "code",
   "execution_count": 12,
   "metadata": {},
   "outputs": [
    {
     "data": {
      "text/plain": [
       "HumanMessage(content='tell me about the sun in 5 points', additional_kwargs={}, response_metadata={})"
      ]
     },
     "execution_count": 12,
     "metadata": {},
     "output_type": "execute_result"
    }
   ],
   "source": [
    "question.format(topics='sun', points=5)"
   ]
  },
  {
   "cell_type": "code",
   "execution_count": 13,
   "metadata": {},
   "outputs": [
    {
     "data": {
      "text/plain": [
       "SystemMessage(content='You are elemetary teacher. You answer in short sentences.', additional_kwargs={}, response_metadata={})"
      ]
     },
     "execution_count": 13,
     "metadata": {},
     "output_type": "execute_result"
    }
   ],
   "source": [
    "system.format(school='elemetary')"
   ]
  },
  {
   "cell_type": "code",
   "execution_count": 16,
   "metadata": {},
   "outputs": [],
   "source": [
    "messages = [system, question]\n",
    "\n",
    "template = ChatPromptTemplate(messages)"
   ]
  },
  {
   "cell_type": "code",
   "execution_count": 17,
   "metadata": {},
   "outputs": [
    {
     "name": "stdout",
     "output_type": "stream",
     "text": [
      "Here are three key points about the sun:\n",
      "\n",
      "*   The sun is a massive ball of hot, glowing gas.\n",
      "*   It's about 93 million miles (150 million kilometers) away from Earth.\n",
      "*   Without the sun, life on our planet would not be possible.\n"
     ]
    }
   ],
   "source": [
    "question = template.invoke({'school':'elementary', 'topics':'sun', 'points':3})\n",
    "\n",
    "response = llm.invoke(question)\n",
    "print(response.content)"
   ]
  },
  {
   "cell_type": "code",
   "execution_count": null,
   "metadata": {},
   "outputs": [],
   "source": []
  },
  {
   "cell_type": "code",
   "execution_count": null,
   "metadata": {},
   "outputs": [],
   "source": []
  },
  {
   "cell_type": "code",
   "execution_count": null,
   "metadata": {},
   "outputs": [],
   "source": []
  }
 ],
 "metadata": {
  "kernelspec": {
   "display_name": "Python 3",
   "language": "python",
   "name": "python3"
  },
  "language_info": {
   "codemirror_mode": {
    "name": "ipython",
    "version": 3
   },
   "file_extension": ".py",
   "mimetype": "text/x-python",
   "name": "python",
   "nbconvert_exporter": "python",
   "pygments_lexer": "ipython3",
   "version": "3.11.6"
  }
 },
 "nbformat": 4,
 "nbformat_minor": 2
}
