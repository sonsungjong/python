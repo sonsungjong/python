{
 "cells": [
  {
   "cell_type": "markdown",
   "metadata": {},
   "source": [
    "Langchain Expression Language\n",
    "\n",
    "- LCEL is that any two runnables can be \"chained\" together into sequences.\n",
    "\n",
    "1. Sequential Chain\n",
    "2. Parallel Chain\n",
    "3. Router Chain\n",
    "4. Chain Runnables\n",
    "5. Custom Chain (Runnable Sequence)"
   ]
  },
  {
   "cell_type": "code",
   "execution_count": 1,
   "metadata": {},
   "outputs": [
    {
     "data": {
      "text/plain": [
       "True"
      ]
     },
     "execution_count": 1,
     "metadata": {},
     "output_type": "execute_result"
    }
   ],
   "source": [
    "from dotenv import load_dotenv\n",
    "\n",
    "# LangSmith 환경변수 사용 (로컬에선 랭스미스말고 LangFuse 같은거 쓸 것)\n",
    "load_dotenv('./../.env')"
   ]
  },
  {
   "cell_type": "code",
   "execution_count": 2,
   "metadata": {},
   "outputs": [
    {
     "data": {
      "text/plain": [
       "ChatOllama(model='llama3.2:1b', base_url='http://localhost:11434')"
      ]
     },
     "execution_count": 2,
     "metadata": {},
     "output_type": "execute_result"
    }
   ],
   "source": [
    "# Sequential LCEL Chain\n",
    "from langchain_ollama import ChatOllama\n",
    "from langchain_core.prompts import(\n",
    "    SystemMessagePromptTemplate,\n",
    "    HumanMessagePromptTemplate,\n",
    "    ChatPromptTemplate\n",
    ")\n",
    "\n",
    "# 랭체인 오라마 사용\n",
    "base_url = \"http://localhost:11434\"\n",
    "model = \"llama3.2:1b\"\n",
    "\n",
    "llm = ChatOllama(base_url=base_url, model=model)\n",
    "llm"
   ]
  },
  {
   "cell_type": "code",
   "execution_count": 3,
   "metadata": {},
   "outputs": [
    {
     "name": "stdout",
     "output_type": "stream",
     "text": [
      "Here's what you need to know:\n",
      "\n",
      "• The Sun is at the center of our solar system, which consists of eight planets and many other objects.\n",
      "• Mercury and Venus are very close to the Sun and take less time to orbit it.\n",
      "• Mars is a rocky planet with thin atmosphere, often called the Red Planet due to its reddish appearance.\n",
      "• Jupiter has massive storms like the Great Red Spot and is the largest planet in our solar system by diameter.\n",
      "• Earth is our home planet where humans live and breathe air that's not toxic.\n"
     ]
    }
   ],
   "source": [
    "# 기존의 프롬프트 템플릿 사용법\n",
    "system = SystemMessagePromptTemplate.from_template('You are {school} teacher. You answer in short sentences.')\n",
    "question = HumanMessagePromptTemplate.from_template('Tell me about the {topics} in {points} points')\n",
    "\n",
    "messages = [system, question]\n",
    "template = ChatPromptTemplate(messages)\n",
    "\n",
    "question_template = template.invoke({'school':'primary', 'topics':'solar system','points':5})\n",
    "\n",
    "response = llm.invoke(question_template)\n",
    "print(response.content)\n"
   ]
  },
  {
   "cell_type": "code",
   "execution_count": 4,
   "metadata": {},
   "outputs": [
    {
     "name": "stdout",
     "output_type": "stream",
     "text": [
      "Here's an overview of the solar system:\n",
      "\n",
      "1. The Sun is at the center, providing light and heat to the planets.\n",
      "2. Mercury and Venus are close to the Sun, while Earth is just right for life.\n",
      "3. Mars is rocky and has evidence of water past, making it a potential planet.\n",
      "4. Jupiter is massive and has many moons, including Io and Europa with their own volcanoes.\n",
      "5. Saturn's rings are made of ice and rock particles, and Uranus and Neptune have icy surfaces and strong winds.\n"
     ]
    }
   ],
   "source": [
    "# Sequential LCEL 사용법\n",
    "system = SystemMessagePromptTemplate.from_template('You are {school} teacher. You answer in short sentences.')\n",
    "question = HumanMessagePromptTemplate.from_template('Tell me about the {topics} in {points} points')\n",
    "\n",
    "messages = [system, question]\n",
    "template = ChatPromptTemplate(messages)\n",
    "\n",
    "# | 로 합친 것을 invoke\n",
    "chain = template | llm\n",
    "\n",
    "response = chain.invoke({'school':'primary', 'topics':'solar system','points':5})\n",
    "print(response.content)"
   ]
  },
  {
   "cell_type": "code",
   "execution_count": 5,
   "metadata": {},
   "outputs": [
    {
     "name": "stdout",
     "output_type": "stream",
     "text": [
      "Here's an overview of the solar system:\n",
      "\n",
      "• Our solar system consists of eight planets, including Mercury, Venus, Earth, Mars, Jupiter, Saturn, Uranus, and Neptune.\n",
      "\n",
      "• The four largest planets are rocky worlds with thick atmospheres, while the inner planets are smaller and more icy.\n",
      "\n",
      "• The Sun is at the center of our solar system, providing light and heat to all the planets through solar radiation.\n",
      "\n",
      "• Asteroids, comets, and meteors are small objects that orbit around the Sun, but do not form a solid sphere like the planets.\n",
      "\n",
      "• Space between the planets has regions called Kuiper Belt and Oort Cloud where many small icy bodies reside.\n"
     ]
    }
   ],
   "source": [
    "from langchain_core.output_parsers import StrOutputParser\n",
    "\n",
    "chain = template | llm | StrOutputParser()\n",
    "response = chain.invoke({'school':'primary','topics':'solar system','points':5})\n",
    "print(response)             # content 사용을 하지 않음 (str만 남음)"
   ]
  },
  {
   "cell_type": "code",
   "execution_count": 6,
   "metadata": {},
   "outputs": [
    {
     "name": "stdout",
     "output_type": "stream",
     "text": [
      "The text is written at an elementary school level, making it relatively easy to understand for most readers.\n"
     ]
    }
   ],
   "source": [
    "### Chaining Runnables (Chain Multiple Runnables)\n",
    "# 위에서 받은 답변을 요약해달라고 하기\n",
    "\n",
    "analysis_prompt = ChatPromptTemplate.from_template('''analyze the following text: {response}\n",
    "                                                   You need tell me that how difficult it is to understand.\n",
    "                                                   Answer in one sentence only.\n",
    "                                                    ''')\n",
    "fact_check_chain = analysis_prompt | llm | StrOutputParser()\n",
    "output = fact_check_chain.invoke({'response':response})\n",
    "print(output)"
   ]
  },
  {
   "cell_type": "code",
   "execution_count": 7,
   "metadata": {},
   "outputs": [
    {
     "name": "stdout",
     "output_type": "stream",
     "text": [
      "Understanding the text requires a basic understanding of astronomy concepts, such as what a G-type main-sequence star and planetary orbits mean.\n"
     ]
    }
   ],
   "source": [
    "composed_chain = {\"response\":chain} | analysis_prompt | llm | StrOutputParser()\n",
    "\n",
    "output = composed_chain.invoke({'school':'phd', 'topics':'solar system','points':5})\n",
    "print(output)"
   ]
  },
  {
   "cell_type": "code",
   "execution_count": 8,
   "metadata": {},
   "outputs": [],
   "source": [
    "### Parallel LCEL Chain\n",
    "# run multiple runnables in parallel.\n",
    "# return dict\n",
    "\n",
    "system = SystemMessagePromptTemplate.from_template('You are {school} teacher. You answer in short sentences.')\n",
    "question = HumanMessagePromptTemplate.from_template('Tell me about the {topics} in {points} points')\n",
    "message = [system, question]\n",
    "template = ChatPromptTemplate(message)\n",
    "\n",
    "fact_chain = template | llm | StrOutputParser()\n",
    "# output = fact_chain.invoke({'school':'primary','topics':'solar system','points':2})\n",
    "# print(output)"
   ]
  },
  {
   "cell_type": "code",
   "execution_count": 9,
   "metadata": {},
   "outputs": [],
   "source": [
    "question = HumanMessagePromptTemplate.from_template('Write a poem on {topics} in {sentences} lines')\n",
    "message = [system, question]\n",
    "template = ChatPromptTemplate(message)\n",
    "\n",
    "poem_chain = template | llm | StrOutputParser()\n",
    "# output = poem_chain.invoke({'school':'primary','topics':'solar system','sentences':2})\n",
    "# print(output)"
   ]
  },
  {
   "cell_type": "code",
   "execution_count": 10,
   "metadata": {},
   "outputs": [],
   "source": [
    "question = HumanMessagePromptTemplate.from_template('Explain the {topics} in {sentences} lines in {language}')\n",
    "message = [system, question]\n",
    "template = ChatPromptTemplate(message)\n",
    "\n",
    "third_chain = template | llm | StrOutputParser()"
   ]
  },
  {
   "cell_type": "code",
   "execution_count": 11,
   "metadata": {},
   "outputs": [
    {
     "name": "stdout",
     "output_type": "stream",
     "text": [
      "The sun is at the center of our solar system.\n",
      "There are eight planets, two dwarf planets, five major moons, and other smaller bodies like asteroids and comets.\n",
      "\n",
      "\n",
      "\n",
      "The sun at center, planets spin,\n",
      "A cosmic dance within the universe within.\n",
      "\n",
      "\n",
      "\n",
      "지구는 태양계의 8 번째 주행체이며, 태양은 our galaxy의 지구를 돌이 revolving 할 때 거리를 유지한다. 주행체는 중력과 수온 등 다양한 조건에 의해 change한다.\n"
     ]
    }
   ],
   "source": [
    "from langchain_core.runnables import RunnableParallel\n",
    "\n",
    "chain = RunnableParallel(fact=fact_chain, poem=poem_chain, korean=third_chain)\n",
    "\n",
    "output = chain.invoke({'school':'primary','topics':'solar system', 'points':2, 'sentences':2, 'language':'Korean'})\n",
    "\n",
    "print(output['fact'])\n",
    "print('\\n\\n')\n",
    "print(output['poem'])\n",
    "print('\\n\\n')\n",
    "print(output['korean'])"
   ]
  },
  {
   "cell_type": "code",
   "execution_count": 12,
   "metadata": {},
   "outputs": [
    {
     "data": {
      "text/plain": [
       "'Positive'"
      ]
     },
     "execution_count": 12,
     "metadata": {},
     "output_type": "execute_result"
    }
   ],
   "source": [
    "### chain router\n",
    "prompt = \"\"\"\n",
    "Given the user review below, classify it as either being about `Positive` or `Negative`.\n",
    "Do not respond with more than one word.\n",
    "\n",
    "Review: {review}\n",
    "Classification:\n",
    "\"\"\"\n",
    "\n",
    "template = ChatPromptTemplate.from_template(prompt)\n",
    "\n",
    "chain = template | llm | StrOutputParser()\n",
    "\n",
    "# review = \"Thank you so much for providing such a great platform for learning. I am really happy with the service.\"\n",
    "# review = \"I am not happy with the service. It is not good.\"\n",
    "review = \"보기에는 조촐해보였지만 성능은 확실합니다.\"\n",
    "\n",
    "chain.invoke({'review':review})\n"
   ]
  },
  {
   "cell_type": "code",
   "execution_count": 13,
   "metadata": {},
   "outputs": [],
   "source": [
    "positive_prompt = \"\"\"\n",
    "You are expert in writing reply for positive reviews.\n",
    "You need to encourage the user to share their experience on social media.\n",
    "Review: {review}\n",
    "Answer:\n",
    "\"\"\"\n",
    "\n",
    "positive_template = ChatPromptTemplate.from_template(positive_prompt)\n",
    "positive_chain = positive_template | llm | StrOutputParser()"
   ]
  },
  {
   "cell_type": "code",
   "execution_count": 14,
   "metadata": {},
   "outputs": [],
   "source": [
    "negative_prompt = \"\"\"\n",
    "You are expert in writing reply for negative reviews.\n",
    "You need first to apologize for the inconvenience caused to the user.\n",
    "You need to encourage the user to share their concern on following Email:'uu@kk.com'.\n",
    "Review: {review}\n",
    "Answer:\n",
    "\"\"\"\n",
    "\n",
    "negative_template = ChatPromptTemplate.from_template(negative_prompt)\n",
    "negative_chain = negative_template | llm | StrOutputParser()"
   ]
  },
  {
   "cell_type": "code",
   "execution_count": 15,
   "metadata": {},
   "outputs": [],
   "source": [
    "def rout(info):\n",
    "    if 'positive' in info['sentiment'].lower():\n",
    "        return positive_chain\n",
    "    else:\n",
    "        return negative_chain"
   ]
  },
  {
   "cell_type": "code",
   "execution_count": 16,
   "metadata": {},
   "outputs": [
    {
     "data": {
      "text/plain": [
       "ChatPromptTemplate(input_variables=['review'], input_types={}, partial_variables={}, messages=[HumanMessagePromptTemplate(prompt=PromptTemplate(input_variables=['review'], input_types={}, partial_variables={}, template=\"\\nYou are expert in writing reply for negative reviews.\\nYou need first to apologize for the inconvenience caused to the user.\\nYou need to encourage the user to share their concern on following Email:'uu@kk.com'.\\nReview: {review}\\nAnswer:\\n\"), additional_kwargs={})])\n",
       "| ChatOllama(model='llama3.2:1b', base_url='http://localhost:11434')\n",
       "| StrOutputParser()"
      ]
     },
     "execution_count": 16,
     "metadata": {},
     "output_type": "execute_result"
    }
   ],
   "source": [
    "rout({'sentiment':'negative'})"
   ]
  },
  {
   "cell_type": "code",
   "execution_count": 17,
   "metadata": {},
   "outputs": [],
   "source": [
    "from langchain_core.runnables import RunnableLambda\n",
    "\n",
    "full_chain = {'sentiment':chain, 'review': lambda x: x['review']} | RunnableLambda(rout)"
   ]
  },
  {
   "cell_type": "code",
   "execution_count": 18,
   "metadata": {},
   "outputs": [
    {
     "name": "stdout",
     "output_type": "stream",
     "text": [
      "Here's a sample reply that apologizes for the inconvenience and encourages the user to share their concerns:\n",
      "\n",
      "\"Dear [User],\n",
      "\n",
      "I wanted to reach out and apologize sincerely for the disappointing experience we've had in providing our service. I'm truly sorry that you're not satisfied with our products/services, and I can only imagine how frustrating this must be for you.\n",
      "\n",
      "Please know that we take all complaints seriously and are committed to making it right. If there's anything we can do to rectify the situation or prevent similar issues in the future, please don't hesitate to let us know. Your feedback is invaluable in helping us improve our services.\n",
      "\n",
      "If you're willing, could you kindly share your concerns with me so that I can use them to make a positive change? You can reply to this email or reach out to me directly at [Your Email Address]. If there's anything specific you'd like to know more about or any steps we can take to resolve the issue, please don't hesitate to let me know.\n",
      "\n",
      "Thank you for your patience and understanding. I'm committed to ensuring that our service meets your expectations.\n",
      "\n",
      "Best regards,\n",
      "[Your Name]\"\n",
      "\n",
      "This response:\n",
      "\n",
      "1. Acknowledges the user's frustration and apologizes for the inconvenience.\n",
      "2. Explains that the purpose of the email is to understand their concerns and use them to improve the service.\n",
      "3. Encourages the user to share their feedback, making it easy for you to get in touch with them directly.\n",
      "4. Offers a convenient way for users to reach out to you, such as replying to your email address or using a direct contact method.\n"
     ]
    }
   ],
   "source": [
    "# review = \"Thank you so much for providing such a great platform for learning. I am really happy with the service.\"\n",
    "review = \"I am not happy with the service. It is not good.\"\n",
    "\n",
    "output = full_chain.invoke({'review':review})\n",
    "print(output)"
   ]
  },
  {
   "cell_type": "code",
   "execution_count": 19,
   "metadata": {},
   "outputs": [],
   "source": [
    "### Custom Chain Runnables with RunnablePassthrough and RunnableLambda\n",
    "from langchain_core.runnables import RunnablePassthrough, RunnableLambda"
   ]
  },
  {
   "cell_type": "code",
   "execution_count": 23,
   "metadata": {},
   "outputs": [],
   "source": [
    "def char_counts(text):\n",
    "    return len(text)\n",
    "\n",
    "def word_counts(text):\n",
    "    return len(text.split())\n",
    "\n",
    "prompt = ChatPromptTemplate.from_template(\"Explain these inputs in 5 sentences: {input1} and {input2}\")"
   ]
  },
  {
   "cell_type": "code",
   "execution_count": 24,
   "metadata": {},
   "outputs": [
    {
     "name": "stdout",
     "output_type": "stream",
     "text": [
      "This statement appears to be a simplification of the relationship between our solar system. The Earth, being a planet, orbits around the Sun due to its massive size and gravitational pull. The term \"star\" refers specifically to the Sun, which is a massive ball of hot, glowing gas that provides light and heat to our solar system. In contrast, planets like Earth are not stars but rather celestial bodies with their own unique characteristics and features. By using the terms \"planet\" and \"star,\" these statements convey a basic understanding of the solar system's structure and dynamics.\n"
     ]
    }
   ],
   "source": [
    "chain = prompt | llm | StrOutputParser()\n",
    "\n",
    "output = chain.invoke({'input1': 'Earth is planet', 'input2': 'Sun is star'})\n",
    "print(output)"
   ]
  },
  {
   "cell_type": "code",
   "execution_count": 26,
   "metadata": {},
   "outputs": [
    {
     "name": "stdout",
     "output_type": "stream",
     "text": [
      "{'char_counts': 695, 'word_counts': 117, 'output': 'The statement \"Earth is a planet\" refers to the scientific classification of our home planet, which was determined by astronomers and geologists. In this context, a planet is defined as a large, rocky or gaseous body that orbits around a star. The term \"planet\" encompasses all objects in our solar system, including Earth, Venus, Mars, Jupiter, and many others. When the Sun was first discovered, it was believed to be much larger than it actually is, but astronomers have since come to understand its true size through observations of eclipses and other phenomena. As a result, Earth has been reclassified as a planet, which is now included in the official list of planets in our solar system.'}\n"
     ]
    }
   ],
   "source": [
    "# RunnablePassthrough : LLM 출력을 가져옴\n",
    "# RunnableLambda : 기능 추가\n",
    "chain = prompt | llm | StrOutputParser() | {'char_counts':RunnableLambda(char_counts),'word_counts':RunnableLambda(word_counts), 'output':RunnablePassthrough()}\n",
    "\n",
    "output = chain.invoke({'input1': 'Earth is planet', 'input2': 'Sun is star'})\n",
    "print(output)"
   ]
  },
  {
   "cell_type": "code",
   "execution_count": 33,
   "metadata": {},
   "outputs": [
    {
     "name": "stdout",
     "output_type": "stream",
     "text": [
      "The solar system has eight planets, including Mercury, Mars, Jupiter, and Saturn.\n",
      "\n",
      "They're all orbiting around a huge star at the center called the Sun.\n",
      "\n",
      "\n",
      "\n",
      "The sun is the center of the sky,\n",
      "Eight planets orbit, passing by.\n"
     ]
    }
   ],
   "source": [
    "# Custom chain using @chain decorator (변수명을 chain으로 하지 말 것)\n",
    "from langchain_core.runnables import chain\n",
    "\n",
    "@chain\n",
    "def custom_chain(params):\n",
    "    return{\n",
    "        'fact':fact_chain.invoke(params),\n",
    "        'poem':poem_chain.invoke(params),\n",
    "    }\n",
    "\n",
    "params = {'school':'primary', 'topics':'solar system', 'points':2, 'sentences':2}\n",
    "output = custom_chain.invoke(params)\n",
    "\n",
    "print(output['fact'])\n",
    "print('\\n\\n')\n",
    "print(output['poem'])"
   ]
  },
  {
   "cell_type": "code",
   "execution_count": null,
   "metadata": {},
   "outputs": [],
   "source": []
  },
  {
   "cell_type": "code",
   "execution_count": null,
   "metadata": {},
   "outputs": [],
   "source": []
  }
 ],
 "metadata": {
  "kernelspec": {
   "display_name": "Python 3",
   "language": "python",
   "name": "python3"
  },
  "language_info": {
   "codemirror_mode": {
    "name": "ipython",
    "version": 3
   },
   "file_extension": ".py",
   "mimetype": "text/x-python",
   "name": "python",
   "nbconvert_exporter": "python",
   "pygments_lexer": "ipython3",
   "version": "3.11.6"
  }
 },
 "nbformat": 4,
 "nbformat_minor": 2
}
