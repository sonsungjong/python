{
 "cells": [
  {
   "cell_type": "code",
   "execution_count": null,
   "id": "9fbccb93",
   "metadata": {},
   "outputs": [
    {
     "data": {
      "text/plain": [
       "'New employee Alola greets, welcomes.'"
      ]
     },
     "execution_count": 2,
     "metadata": {},
     "output_type": "execute_result"
    }
   ],
   "source": [
    "# MessagesPlaceholder\n",
    "# 대화 내용들을 기록할 때 주로 사용\n",
    "from dotenv import load_dotenv\n",
    "from langchain_ollama import ChatOllama\n",
    "from langchain_core.output_parsers import StrOutputParser\n",
    "from langchain_core.prompts import PromptTemplate, ChatPromptTemplate, MessagesPlaceholder\n",
    "\n",
    "\n",
    "load_dotenv()\n",
    "\n",
    "llm = ChatOllama(model=\"gpt-oss:20b\", temperature=0.1, base_url=\"http://localhost:11434\")\n",
    "\n",
    "chat_prompt = ChatPromptTemplate.from_messages(\n",
    "    [\n",
    "        (\n",
    "            \"system\", \"당신은 요약 전문 AI 어시스턴트 입니다. 당신의 임무는 주요 키워드로 대화를 요약하는 것 입니다.\",\n",
    "        ),\n",
    "        MessagesPlaceholder(variable_name=\"var\"),\n",
    "        (\"human\", \"지금까지의 대화를 {word_count} 단어로 요약합니다.\"),\n",
    "    ]\n",
    ")\n",
    "\n",
    "chain = chat_prompt | llm | StrOutputParser()\n",
    "\n",
    "chain.invoke({\"word_count\":5, \"var\":[\n",
    "    (\"human\", \"안녕하세요! 저는 오늘 새로 입사한 알로아 입니다. 만나서 반갑습니다.\"),\n",
    "    (\"ai\", \"반가워요! 앞으로 잘 부탁 드립니다.\"),\n",
    "]})"
   ]
  },
  {
   "cell_type": "code",
   "execution_count": 3,
   "id": "7b23f200",
   "metadata": {},
   "outputs": [
    {
     "name": "stdout",
     "output_type": "stream",
     "text": [
      "New employee Alola greets, welcomes."
     ]
    }
   ],
   "source": [
    "for chunk in chain.stream({\"word_count\":5, \"var\":[\n",
    "    (\"human\", \"안녕하세요! 저는 오늘 새로 입사한 알로아 입니다. 만나서 반갑습니다.\"),\n",
    "    (\"ai\", \"반가워요! 앞으로 잘 부탁 드립니다.\"),\n",
    "]}):\n",
    "    print(chunk, end=\"\", flush=True)"
   ]
  },
  {
   "cell_type": "code",
   "execution_count": null,
   "id": "ad7394dc",
   "metadata": {},
   "outputs": [],
   "source": []
  },
  {
   "cell_type": "code",
   "execution_count": null,
   "id": "a6b8d476",
   "metadata": {},
   "outputs": [],
   "source": []
  },
  {
   "cell_type": "code",
   "execution_count": null,
   "id": "dd5aadfa",
   "metadata": {},
   "outputs": [],
   "source": []
  },
  {
   "cell_type": "code",
   "execution_count": null,
   "id": "0b63a4b9",
   "metadata": {},
   "outputs": [],
   "source": []
  },
  {
   "cell_type": "code",
   "execution_count": null,
   "id": "36c9820e",
   "metadata": {},
   "outputs": [],
   "source": []
  },
  {
   "cell_type": "code",
   "execution_count": null,
   "id": "5c6284c0",
   "metadata": {},
   "outputs": [],
   "source": []
  },
  {
   "cell_type": "code",
   "execution_count": null,
   "id": "aec14a94",
   "metadata": {},
   "outputs": [],
   "source": []
  },
  {
   "cell_type": "code",
   "execution_count": null,
   "id": "ec97ee0d",
   "metadata": {},
   "outputs": [],
   "source": []
  }
 ],
 "metadata": {
  "kernelspec": {
   "display_name": "Python 3",
   "language": "python",
   "name": "python3"
  },
  "language_info": {
   "codemirror_mode": {
    "name": "ipython",
    "version": 3
   },
   "file_extension": ".py",
   "mimetype": "text/x-python",
   "name": "python",
   "nbconvert_exporter": "python",
   "pygments_lexer": "ipython3",
   "version": "3.12.3"
  }
 },
 "nbformat": 4,
 "nbformat_minor": 5
}
