{
 "cells": [
  {
   "cell_type": "code",
   "execution_count": 1,
   "id": "1aed1a5f",
   "metadata": {},
   "outputs": [
    {
     "data": {
      "text/plain": [
       "True"
      ]
     },
     "execution_count": 1,
     "metadata": {},
     "output_type": "execute_result"
    }
   ],
   "source": [
    "from dotenv import load_dotenv\n",
    "\n",
    "load_dotenv()"
   ]
  },
  {
   "cell_type": "code",
   "execution_count": 2,
   "id": "7cdb2e9b",
   "metadata": {},
   "outputs": [],
   "source": [
    "from langchain_ollama import ChatOllama\n",
    "from langchain_openai import ChatOpenAI\n",
    "\n",
    "# llm = ChatOllama(model=\"gpt-oss:20b\", temperature=0 ,base_url=\"http://localhost:11434\")\n",
    "llm = ChatOpenAI(model=\"gpt-5-nano\", temperature=0)"
   ]
  },
  {
   "cell_type": "code",
   "execution_count": 3,
   "id": "cce48531",
   "metadata": {},
   "outputs": [
    {
     "data": {
      "text/plain": [
       "PromptTemplate(input_variables=['country'], input_types={}, partial_variables={}, template='{country}의 수도는 어디인가요?')"
      ]
     },
     "execution_count": 3,
     "metadata": {},
     "output_type": "execute_result"
    }
   ],
   "source": [
    "from langchain_core.prompts import PromptTemplate\n",
    "from langchain_core.output_parsers import StrOutputParser\n",
    "\n",
    "template = \"{country}의 수도는 어디인가요?\"\n",
    "\n",
    "# 단순 질의는 PromptTemplate\n",
    "prompt = PromptTemplate.from_template(template)\n",
    "prompt"
   ]
  },
  {
   "cell_type": "code",
   "execution_count": 4,
   "id": "f64e8b02",
   "metadata": {},
   "outputs": [
    {
     "data": {
      "text/plain": [
       "'서울(서울특별시)입니다. 다른 정보가 필요하시면 말씀해 주세요.'"
      ]
     },
     "execution_count": 4,
     "metadata": {},
     "output_type": "execute_result"
    }
   ],
   "source": [
    "chain = prompt | llm\n",
    "\n",
    "chain.invoke({\"country\":\"대한민국\"}).content"
   ]
  },
  {
   "cell_type": "code",
   "execution_count": null,
   "id": "3b554ed7",
   "metadata": {},
   "outputs": [],
   "source": []
  },
  {
   "cell_type": "code",
   "execution_count": 5,
   "id": "252cbf85",
   "metadata": {},
   "outputs": [
    {
     "data": {
      "text/plain": [
       "'확인차 여쭙습니다. 오늘이 9월 18일이라고 가정하고 9월 18일 생일인 유명인 3명을 생년월일과 함께 정확하게 알려드리려면 최신 정보를 확인해야 하는데, 인터넷 검색이 가능하신가요? 가능하시면 바로 찾아서 드리겠습니다.'"
      ]
     },
     "execution_count": 5,
     "metadata": {},
     "output_type": "execute_result"
    }
   ],
   "source": [
    "from datetime import datetime\n",
    "\n",
    "def get_today():\n",
    "    return datetime.now().strftime(\"%B %d\")\n",
    "\n",
    "prompt = PromptTemplate(\n",
    "    template=\"오늘의 날짜는 {today} 입니다. 오늘이 생일인 유명인 {n} 명을 나열해 주세요. 생년월일을 표기해주세요.\",\n",
    "    input_variables=[\"n\"],\n",
    "    partial_variables={\"today\":get_today}\n",
    ")\n",
    "\n",
    "chain = prompt | llm | StrOutputParser()\n",
    "result = chain.invoke(3)\n",
    "result"
   ]
  },
  {
   "cell_type": "code",
   "execution_count": 6,
   "id": "bbcf1a75",
   "metadata": {},
   "outputs": [
    {
     "name": "stdout",
     "output_type": "stream",
     "text": [
      "오늘이 9월 18일이라 9월 18일 생일인 유명인을 세 명 뽑아 생년월일과 함께 드리려 합니다. 정확한 정보를 위해 인터넷 검색이 가능할까요? 가능하시면 최신 데이터를 확인해 세 명의 이름과 생년월일을 바로 알려드리겠습니다. 원하시는 분야(배우, 음악가 등)가 있다면 함께 알려주세요."
     ]
    }
   ],
   "source": [
    "for chunk in chain.stream(3):\n",
    "    print(chunk, end=\"\", flush=True)"
   ]
  },
  {
   "cell_type": "code",
   "execution_count": null,
   "id": "44d05fe2",
   "metadata": {},
   "outputs": [],
   "source": []
  },
  {
   "cell_type": "code",
   "execution_count": null,
   "id": "04e13921",
   "metadata": {},
   "outputs": [],
   "source": []
  },
  {
   "cell_type": "code",
   "execution_count": null,
   "id": "51b8364f",
   "metadata": {},
   "outputs": [],
   "source": []
  },
  {
   "cell_type": "code",
   "execution_count": null,
   "id": "3bc74ef6",
   "metadata": {},
   "outputs": [],
   "source": []
  },
  {
   "cell_type": "code",
   "execution_count": null,
   "id": "25dac08f",
   "metadata": {},
   "outputs": [],
   "source": []
  }
 ],
 "metadata": {
  "kernelspec": {
   "display_name": "Python 3",
   "language": "python",
   "name": "python3"
  },
  "language_info": {
   "codemirror_mode": {
    "name": "ipython",
    "version": 3
   },
   "file_extension": ".py",
   "mimetype": "text/x-python",
   "name": "python",
   "nbconvert_exporter": "python",
   "pygments_lexer": "ipython3",
   "version": "3.12.3"
  }
 },
 "nbformat": 4,
 "nbformat_minor": 5
}
