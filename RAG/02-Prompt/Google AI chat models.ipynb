{
 "cells": [
  {
   "cell_type": "code",
   "execution_count": null,
   "id": "c5e9231f",
   "metadata": {},
   "outputs": [],
   "source": [
    "# gemini\n",
    "# !pip install -qU langchain-google-genai\n",
    "\n",
    "# GOOGLE_API_KEY"
   ]
  },
  {
   "cell_type": "code",
   "execution_count": 1,
   "id": "86fc6678",
   "metadata": {},
   "outputs": [
    {
     "data": {
      "text/plain": [
       "True"
      ]
     },
     "execution_count": 1,
     "metadata": {},
     "output_type": "execute_result"
    }
   ],
   "source": [
    "import os\n",
    "from dotenv import load_dotenv\n",
    "\n",
    "load_dotenv()"
   ]
  },
  {
   "cell_type": "code",
   "execution_count": null,
   "id": "c7238d79",
   "metadata": {},
   "outputs": [
    {
     "name": "stdout",
     "output_type": "stream",
     "text": [
      "자연어처리(Natural Language Processing, NLP)는 **인간의 언어를 컴퓨터가 이해하고, 해석하며, 생성할 수 있도록 연구하는 인공지능(AI) 분야**입니다.\n",
      "\n",
      "간단히 말해, 컴퓨터가 마치 사람처럼 말하고 듣고 읽고 쓰는 것을 돕는 기술이라고 할 수 있습니다.\n",
      "\n",
      "**핵심 목표:**\n",
      "*   컴퓨터가 단순히 정보를 처리하는 것을 넘어, 언어 속에 담긴 **'의미'**와 **'의도'**를 파악하도록 돕는 것입니다.\n",
      "*   인간의 언어는 문맥, 뉘앙스, 중의성(하나의 단어가 여러 의미를 가짐) 등으로 인해 매우 복잡하고 모호하기 때문에, 이를 컴퓨터가 이해하도록 만드는 것이 NLP의 가장 큰 도전 과제입니다.\n",
      "\n",
      "**주요 기능 및 활용 분야:**\n",
      "\n",
      "1.  **음성 인식 및 합성:** 사람의 음성을 텍스트로 바꾸거나(음성 인식), 텍스트를 음성으로 변환(음성 합성)합니다.\n",
      "    *   *예시:* AI 스피커(Siri, Google Assistant), 받아쓰기 기능\n",
      "\n",
      "2.  **기계 번역:** 한 언어를 다른 언어로 번역합니다.\n",
      "    *   *예시:* 구글 번역기, 파파고\n",
      "\n",
      "3.  **정보 검색 및 추출:** 방대한 텍스트 데이터에서 필요한 정보를 찾아내거나, 특정 내용을 추출합니다.\n",
      "    *   *예시:* 검색 엔진(구글, 네이버), 뉴스 기사 요약\n",
      "\n",
      "4.  **감성 분석:** 텍스트에 담긴 감정(긍정, 부정, 중립)이나 의견을 파악합니다.\n",
      "    *   *예시:* 상품 리뷰 분석, 여론 조사\n",
      "\n",
      "5.  **챗봇 및 대화 시스템:** 사람과 자연스러운 대화를 주고받으며 질문에 답하거나 작업을 수행합니다.\n",
      "    *   *예시:* 고객 상담 챗봇, 가상 비서\n",
      "\n",
      "6.  **맞춤법/문법 검사:** 텍스트의 오류를 찾아내고 수정합니다.\n",
      "\n",
      "이러한 NLP 기술들은 머신러닝(기계학습)과 딥러닝(심층학습) 기술을 기반으로 발전하고 있으며, 우리가 일상생활에서 사용하는 다양한 서비스에 깊숙이 자리 잡고 있습니다."
     ]
    }
   ],
   "source": [
    "from langchain_google_genai import (ChatGoogleGenerativeAI, HarmBlockThreshold, HarmCategory)\n",
    "from langchain_teddynote.messages import stream_response\n",
    "\n",
    "llm = ChatGoogleGenerativeAI(model=\"gemini-2.5-flash\"\n",
    "                             , api_key=os.getenv(\"GOOGLE_API_KEY\")\n",
    "                            , safety_settings={\n",
    "                                HarmCategory.HARM_CATEGORY_SEXUALLY_EXPLICIT: HarmBlockThreshold.BLOCK_NONE,\n",
    "                                HarmCategory.HARM_CATEGORY_HATE_SPEECH: HarmBlockThreshold.BLOCK_NONE,\n",
    "                                HarmCategory.HARM_CATEGORY_HARASSMENT: HarmBlockThreshold.BLOCK_NONE,\n",
    "                                HarmCategory.HARM_CATEGORY_DANGEROUS_CONTENT: HarmBlockThreshold.BLOCK_NONE,\n",
    "                    })\n",
    "\n",
    "answer = llm.stream(\"자연어처리에 대해서 간략히 설명해 줘\")\n",
    "\n",
    "stream_response(answer)"
   ]
  },
  {
   "cell_type": "code",
   "execution_count": null,
   "id": "23f425b2",
   "metadata": {},
   "outputs": [],
   "source": [
    "from langchain_core.prompts import PromptTemplate\n",
    "\n",
    "# ChatGoogleGenerativeAI 언어 모델을 초기화합니다.\n",
    "model = ChatGoogleGenerativeAI(\n",
    "    model=\"gemini-2.5-flash\",  # 사용할 모델을 지정합니다.\n",
    ")\n",
    "\n",
    "# 프롬프트를 생성합니다.\n",
    "prompt = PromptTemplate.from_template(\n",
    "    \"예/아니오 질문에 대답하세요. {question}는 과일입니까?\"\n",
    ")\n",
    "\n",
    "# 체인을 생성합니다.\n",
    "chain = prompt | model\n",
    "\n",
    "# 결과를 출력합니다.\n",
    "stream_response(chain.stream({\"question\": \"사과\"}))"
   ]
  },
  {
   "cell_type": "code",
   "execution_count": null,
   "id": "4c16ff65",
   "metadata": {},
   "outputs": [],
   "source": []
  },
  {
   "cell_type": "code",
   "execution_count": null,
   "id": "34a05ed5",
   "metadata": {},
   "outputs": [],
   "source": []
  },
  {
   "cell_type": "code",
   "execution_count": null,
   "id": "a577612a",
   "metadata": {},
   "outputs": [],
   "source": []
  },
  {
   "cell_type": "code",
   "execution_count": null,
   "id": "7bde25e5",
   "metadata": {},
   "outputs": [],
   "source": []
  },
  {
   "cell_type": "code",
   "execution_count": null,
   "id": "f33d6d17",
   "metadata": {},
   "outputs": [],
   "source": []
  },
  {
   "cell_type": "code",
   "execution_count": null,
   "id": "d8047a92",
   "metadata": {},
   "outputs": [],
   "source": []
  }
 ],
 "metadata": {
  "kernelspec": {
   "display_name": "Python 3",
   "language": "python",
   "name": "python3"
  },
  "language_info": {
   "codemirror_mode": {
    "name": "ipython",
    "version": 3
   },
   "file_extension": ".py",
   "mimetype": "text/x-python",
   "name": "python",
   "nbconvert_exporter": "python",
   "pygments_lexer": "ipython3",
   "version": "3.12.3"
  }
 },
 "nbformat": 4,
 "nbformat_minor": 5
}
