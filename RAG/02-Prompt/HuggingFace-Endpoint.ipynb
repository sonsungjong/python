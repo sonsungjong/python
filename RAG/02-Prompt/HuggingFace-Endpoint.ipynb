{
 "cells": [
  {
   "cell_type": "code",
   "execution_count": null,
   "id": "e44e4787",
   "metadata": {},
   "outputs": [],
   "source": [
    "# !pip install -qU huggingface_hub"
   ]
  },
  {
   "cell_type": "code",
   "execution_count": 1,
   "id": "ffcec387",
   "metadata": {},
   "outputs": [
    {
     "data": {
      "text/plain": [
       "True"
      ]
     },
     "execution_count": 1,
     "metadata": {},
     "output_type": "execute_result"
    }
   ],
   "source": [
    "# HUGGINGFACEHUB_API_TOKEN\n",
    "from dotenv import load_dotenv\n",
    "\n",
    "load_dotenv()"
   ]
  },
  {
   "cell_type": "code",
   "execution_count": null,
   "id": "d67991ac",
   "metadata": {},
   "outputs": [
    {
     "data": {
      "application/vnd.jupyter.widget-view+json": {
       "model_id": "38d84b0d4bfd40fdbcc197b454b02c67",
       "version_major": 2,
       "version_minor": 0
      },
      "text/plain": [
       "VBox(children=(HTML(value='<center> <img\\nsrc=https://huggingface.co/front/assets/huggingface_logo-noborder.sv…"
      ]
     },
     "metadata": {},
     "output_type": "display_data"
    }
   ],
   "source": [
    "from huggingface_hub import login\n",
    "\n",
    "# login()"
   ]
  },
  {
   "cell_type": "code",
   "execution_count": 13,
   "id": "cee1cbbd",
   "metadata": {},
   "outputs": [],
   "source": [
    "from langchain.prompts import PromptTemplate\n",
    "\n",
    "# template = \"\"\"Question: {question}\n",
    "\n",
    "# Answer:\"\"\"\n",
    "\n",
    "template = \"\"\"[\n",
    "    {\n",
    "        \"role\": \"user\",\n",
    "        \"content\": [\n",
    "            {\"type\": \"text\", \"text\": \"{question}\"},\n",
    "        ],\n",
    "    }\n",
    "]\"\"\"\n",
    "\n",
    "prompt = PromptTemplate.from_template(template)"
   ]
  },
  {
   "cell_type": "code",
   "execution_count": 17,
   "id": "3b4a12f3",
   "metadata": {},
   "outputs": [
    {
     "name": "stdout",
     "output_type": "stream",
     "text": [
      "### 제목: **별빛 아래의 비밀**\n",
      "\n",
      "---\n",
      "\n",
      "#### 1장. 별빛이 내리는 밤\n",
      "\n",
      "한국의 작은 마을, 청석마을. 이 마을은 산과 강이 어우러진 아름다운 자연 속에 자리 잡고 있었지만, 그만큼 외진 곳이었다. 마을 사람들은 대부분 농사를 짓거나 작은 공장을 운영하며 평온한 일상을 보내고 있었다. 하지만 그 평화로운 마을에는 오래전부터 전해지는 하나의 전설이 있었다.\n",
      "\n",
      "\"별빛이 내리는 밤, 마을 뒤쪽 산에 있는 비밀의 동굴로 가면, 그곳에 숨겨진 보물과 함께 인생의 비밀을 알게 된다.\"\n",
      "\n",
      "하지만 그 동굴은 언제나 안개로 덮여 있어 접근하기가 쉽지 않았고, 그곳에 가려는 이들은 모두 실종되거나 이상한 이야기를 남기곤 했다. 그래서 마을 사람들은 그 동굴을 '별빛 동굴'이라고 부르며, 그곳에 가는 것을 경계했다.\n",
      "\n",
      "그러던 어느 날, 마을에 새로운 이웃이搬입했다. 그녀는 17살의 소녀로, 이름은 **서연**이었다. 서연은 부모님과 함께 이곳으로 온 것이었지만, 그녀의 부모님은 마을 사람들과 어울리지 않고, 집에만 틀어박혀 지냈다. 서연은 그런 부모님을 이해하지 못했지만, 그녀는 마을의 평화로운 분위기에 끌려서 혼자 마을을 탐험하기 시작했다.\n",
      "\n",
      "한 여름 밤, 서연은 마을 뒤쪽 산에서 빛나는 별빛을 보았다. 그 빛은 마치 동굴을 향해 떨어지는 것 같았다. 그 순간, 그녀는 어린 시절부터 꿈꿔왔던 모험심이 솟구쳤다. 그녀는 별빛을 따라 산으로 올라갔고, 결국 안개가 자욱한 동굴 입구에 도착했다.\n",
      "\n",
      "---\n",
      "\n",
      "#### 2장. 동굴의 비밀\n",
      "\n",
      "동굴 안은 어두웠지만, 별빛이 천장에서 내려오는 듯한 기묘한 빛이 있었다. 서연은 조심스럽게 안으로 들어갔다. 동굴 안은 생각보다 넓었고, 천장에는 작은 구멍들이 뚫려 있어 별빛이 스며들고 있었다. 그곳은 마치 별이 떨어지는 듯한 환상적인 장소였다.\n",
      "\n",
      "그러나 서연은 곧 동굴 안에서 이상한 소리를 들었다. 그것은 사람의 목소리 같았지만, 너무 낮고 음울한 톤이었다. 서연은 겁이 났지만, 호기심이 더 강했다. 그 소리는 점점 더 커지며, 서연은 소리가 나는 방향으로 걸어갔다.\n",
      "\n",
      "그곳에는 한 소년이 있었다. 그는 17살 정도로 보였고, 이름은 **준호**였다. 준호는 동굴 안에서 무언가를 찾고 있는 듯한 표정이었다. 서연은 그를 보자마자 놀랐다. 준호의 눈동자는 별빛처럼 반짝였고, 그의 옷은 낡아 보였지만, 마치 오래전에 만들어진 듯한 고급스러운 느낌이 있었다.\n",
      "\n",
      "\"너, 누구냐?\" 준호가 서연을 보며 물었다.\n",
      "\n",
      "\"나는 서연이야. 너는?\" 서연은 조금 떨리면서도 대답했다.\n",
      "\n",
      "준호는 잠시 서연을 바라보다가, \"난 이 동굴의 주인이야. 이 동굴은 나의 집이자, 나의 모든 것이 숨겨져 있는 곳이야.\"라고 말했다.\n",
      "\n",
      "서연은 깜짝 놀랐다. \"네가 이 동굴의 주인이라니? 하지만 넌 왜 여기 있는 거야? 그리고 왜 이렇게 낯설어 보이니?\"\n",
      "\n",
      "준호는 잠시 생각에 잠긴 듯한 표정을 지었다. \"내 이야기는 복잡해. 이 동굴은 오래전부터 존재했고, 나는 이곳에서 잠들어 있었어. 그런데 네가 왔으니, 이제 이야기를 해줄 때가 된 것 같아.\"\n",
      "\n",
      "준호는 서연에게 동굴의 비밀을 조금씩 풀어나갔다. 이 동굴은 마을의 전설 속에 나오는 '별빛 동굴'이었고, 그곳에는 마을의 운명을 바꿀 수 있는 보물이 숨겨져 있었다. 하지만 그 보물은 단순히 물질적인 것이 아니라, 사람들의 마음속에 잠들어 있는 진실을 깨우는 힘이었다.\n",
      "\n",
      "준호는 자신이 이 동굴의 마지막 지키는 자였고, 그의 임무는 마을 사람들의 마음을 깨우는 것이었다. 하지만 그는 오랜 시간 동안 잠들어 있었고, 이제는 서연이 그 역할을 해야 한다고 말했다.\n",
      "\n",
      "---\n",
      "\n",
      "#### 3장. 마을의 비밀\n",
      "\n",
      "서연은 준호의 말을 듣고, 마을 사람들의 행동을 다시 생각해보기 시작했다. 마을 사람들은 모두 평화롭게 보였지만, 서로를 의심하고, 작은 갈등이 끊이지 않았다. 특히, 마을의 두 큰 집단이 서로 대립하고 있었다. 한쪽은 농사를 주로 하는 집단이고, 다른 한쪽은 공장을 운영하는 집단이었다. 두 집단은 서로 경쟁하며, 마을의 자원을 놓고 다투고 있었다.\n",
      "\n",
      "서연은 준호와 함께 마을 사람들을 찾아다니며, 그들의 마음속에 숨겨진 진실을 하나씩 찾아나갔다. 준호는 별빛을 이용해 사람들의 마음을 들여다볼 수 있었고, 서연은 그들의 이야기를 듣고, 그들의 마음을 이해하려 노력했다.\n",
      "\n",
      "그 과정에서 서연은 마을의 가장 큰 비밀을 알게 되었다. 마을의 두 집단이 다투는 이유는 단순히 자원을 놓고 다투는 것이 아니라, 오래전부터 이어져 온 두 집단의 역사적인 갈등 때문이었다. 농사꾼들은 오래전부터 이 땅을 지켜온 원주민이었고, 공장주는 외지에서 온 이주민이었다. 두 집단은 서로의 문화와 가치관이 달라서 갈등이 끊이지 않았다.\n",
      "\n",
      "서연은 이 사실을 알게 되자, 마을 사람들을 하나로 모으기 위해 준호와 함께 마을의 큰 모임을 열었다. 그곳에서 서연은 마을 사람들의 이야기를 들어주고, 서로의 마음을 이해하려 노력했다. 준호는 별빛을 이용해 마을 사람들의 마음속에 잠들어 있는 진실을 드러내며, 서로를 이해하고 화해할 수 있도록 도왔다.\n",
      "\n",
      "마을 사람들은 서연과 준호의 노력에 감동받았고, 결국 서로의 차이를 인정하며 화해했다. 마을은 다시 평화로워졌고, 서연과 준호는 마을 사람들의 존경을 받게 되었다.\n",
      "\n",
      "---\n",
      "\n",
      "#### 4장. 별빛 아래의 새로운 시작\n",
      "\n",
      "마을의 평화가 되찾은 후, 준호는 서연에게 작별 인사를 했다. 준호는 이제 더 이상 동굴을 지키지 않아도 된다고 말했다. 그는 서연 덕분에 마을 사람들의 마음을 깨우고, 자신의 임무를 완수했다고 했다. 준호는 별빛을 타고 동굴을 떠나면서, \"네가 진정한 주인이야. 이제 네가 이 마을을 지켜줘.\"라고 말했다.\n",
      "\n",
      "서연은 준호를 바라보며 눈물이 글썽였다. 준호는 그녀에게 많은 것을 가르쳐주었고, 그녀는 이제 자신이 마을의 새로운 지킴이가 될 수 있다는 자신감을 얻었다.\n",
      "\n",
      "그날 밤, 별빛이 다시 내렸다. 서연은 동굴 입구에 서서, 준호가 떠난 동굴을 바라보았다. 그 순간, 그녀는 자신이 마을 사람들의 마음을 하나로 모으고, 마을의 평화를 지키기 위해 노력할 것이라는 결심을 굳혔다.\n",
      "\n",
      "---\n",
      "\n",
      "### 결말\n",
      "\n",
      "서연은 준호와의 모험을 통해 자신이 얼마나 강하고 용감한 사람인지 깨달았다. 그녀는 이제 마을 사람들의 이야기를 듣고,\n"
     ]
    }
   ],
   "source": [
    "import os\n",
    "from langchain_core.output_parsers import StrOutputParser\n",
    "from langchain_core.prompts import ChatPromptTemplate\n",
    "from langchain_huggingface import HuggingFaceEndpoint, ChatHuggingFace\n",
    "\n",
    "repo_id = \"Qwen/Qwen2.5-VL-32B-Instruct\"\n",
    "\n",
    "# 1) HF 엔드포인트: VL 모델은 conversational 태스크로\n",
    "hf_ep = HuggingFaceEndpoint(\n",
    "    repo_id=repo_id,\n",
    "    task=\"conversational\",\n",
    "    max_new_tokens=256,\n",
    "    temperature=0.1,\n",
    "    huggingfacehub_api_token=os.environ[\"HUGGINGFACEHUB_API_TOKEN\"],\n",
    ")\n",
    "\n",
    "# 2) Chat 모델 래퍼\n",
    "llm = ChatHuggingFace(llm=hf_ep)\n",
    "\n",
    "# 3) 채팅 프롬프트 사용 (문자열 PromptTemplate 말고 ChatPromptTemplate)\n",
    "prompt = ChatPromptTemplate.from_messages([\n",
    "    (\"system\", \"당신은 한국어로 답합니다.\"),\n",
    "    (\"human\", \"{question}\")\n",
    "])\n",
    "\n",
    "# 4) 체인 구성\n",
    "chain = prompt | llm | StrOutputParser()\n",
    "\n",
    "# 5) 실행\n",
    "# response = chain.invoke({\"question\": \"재미있는 소설 써줘.\"})\n",
    "# print(response)\n",
    "for chunk in chain.stream({\"question\": \"재미있는 소설 써줘.\"}):\n",
    "    print(chunk, end=\"\", flush=True)\n",
    "print()  # 마지막 개행\n"
   ]
  },
  {
   "cell_type": "code",
   "execution_count": null,
   "id": "a564ab31",
   "metadata": {},
   "outputs": [],
   "source": []
  },
  {
   "cell_type": "code",
   "execution_count": null,
   "id": "6eed4cea",
   "metadata": {},
   "outputs": [],
   "source": []
  },
  {
   "cell_type": "code",
   "execution_count": null,
   "id": "268bffcb",
   "metadata": {},
   "outputs": [],
   "source": []
  },
  {
   "cell_type": "code",
   "execution_count": null,
   "id": "e30ca431",
   "metadata": {},
   "outputs": [],
   "source": []
  },
  {
   "cell_type": "code",
   "execution_count": null,
   "id": "783757ee",
   "metadata": {},
   "outputs": [],
   "source": []
  },
  {
   "cell_type": "code",
   "execution_count": null,
   "id": "34335d7c",
   "metadata": {},
   "outputs": [],
   "source": []
  },
  {
   "cell_type": "code",
   "execution_count": null,
   "id": "594ca3a5",
   "metadata": {},
   "outputs": [],
   "source": []
  },
  {
   "cell_type": "code",
   "execution_count": null,
   "id": "a6e24c6a",
   "metadata": {},
   "outputs": [],
   "source": []
  }
 ],
 "metadata": {
  "kernelspec": {
   "display_name": "Python 3",
   "language": "python",
   "name": "python3"
  },
  "language_info": {
   "codemirror_mode": {
    "name": "ipython",
    "version": 3
   },
   "file_extension": ".py",
   "mimetype": "text/x-python",
   "name": "python",
   "nbconvert_exporter": "python",
   "pygments_lexer": "ipython3",
   "version": "3.12.3"
  }
 },
 "nbformat": 4,
 "nbformat_minor": 5
}
