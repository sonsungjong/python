{
 "cells": [
  {
   "cell_type": "code",
   "execution_count": null,
   "id": "390a8b4d",
   "metadata": {},
   "outputs": [],
   "source": [
    "from dotenv import load_dotenv\n",
    "\n",
    "load_dotenv()"
   ]
  },
  {
   "cell_type": "code",
   "execution_count": null,
   "id": "901fff96",
   "metadata": {},
   "outputs": [],
   "source": [
    "from langchain_community.document_loaders import TextLoader\n",
    "from langchain_openai.embeddings import OpenAIEmbeddings\n",
    "from langchain.text_splitter import RecursiveCharacterTextSplitter\n",
    "from langchain_chroma import Chroma\n",
    "\n",
    "# 텍스트 분할\n",
    "text_splitter = RecursiveCharacterTextSplitter(chunk_size=600, chunk_overlap=50)\n",
    "\n",
    "# 텍스트 파일을 load -> List[Document] 형태로 변환\n",
    "loader1 = TextLoader(\"data/nlp-keywords.txt\")\n",
    "loader2 = TextLoader(\"data/finance-keywords.txt\")\n",
    "\n",
    "# 문서 분할\n",
    "split_doc1 = loader1.load_and_split(text_splitter)\n",
    "split_doc2 = loader2.load_and_split(text_splitter)\n",
    "\n",
    "# 문서 개수 확인\n",
    "len(split_doc1), len(split_doc2)"
   ]
  },
  {
   "cell_type": "code",
   "execution_count": null,
   "id": "4110a40d",
   "metadata": {},
   "outputs": [],
   "source": [
    "# DB 생성\n",
    "embeddings = OpenAIEmbeddings(model=\"text-embedding-3-large\")           # 임베딩 모델 선택 가능\n",
    "db = Chroma.from_documents(\n",
    "    documents=split_doc1, embedding=embeddings, persist_directory='./chroma_db', collection_name=\"my_db\"\n",
    ")\n",
    "\n",
    "# persist_directory : 디스크 저장 시 저장경로\n",
    "# collection_name : 폴더명"
   ]
  },
  {
   "cell_type": "code",
   "execution_count": null,
   "id": "ab1d5ece",
   "metadata": {},
   "outputs": [],
   "source": [
    "# DB 로드 할 때는 아래와 같이\n",
    "persist_db = Chroma(\n",
    "    persist_directory='./chroma_db',\n",
    "    embedding_function=OpenAIEmbeddings(),\n",
    "    collection_name=\"my_db\"\n",
    ")\n",
    "\n",
    "persist_db.get()            # 확인용"
   ]
  },
  {
   "cell_type": "code",
   "execution_count": null,
   "id": "9fcd71e1",
   "metadata": {},
   "outputs": [],
   "source": [
    "# DB 컬렉션에 저장하기\n",
    "db = Chroma.from_texts(\n",
    "    [\"안녕하세요. 반갑습니다.\", \"제 이름은 성종입니다.\"],\n",
    "    embedding=OpenAIEmbeddings(),\n",
    ")"
   ]
  },
  {
   "cell_type": "code",
   "execution_count": null,
   "id": "3194c4f2",
   "metadata": {},
   "outputs": [],
   "source": [
    "# 벡터DB 에서 제공하는 유사도 검색 기능\n",
    "db.similarity_search(\"TF IDF 에 대하여 알려줘\")"
   ]
  },
  {
   "cell_type": "code",
   "execution_count": null,
   "id": "591003cf",
   "metadata": {},
   "outputs": [],
   "source": [
    "# filter 사용 (해당 곳에서만 찾는다)\n",
    "db.similarity_search(\n",
    "    \"TF IDF 에 대하여 알려줘\", filter={\"source\":\"data/finance-keywords.txt\"}\n",
    ")"
   ]
  },
  {
   "cell_type": "code",
   "execution_count": null,
   "id": "5792846c",
   "metadata": {},
   "outputs": [],
   "source": [
    "# 문서 추가\n",
    "from langchain_core.documents import Document\n",
    "\n",
    "# page_content, metadata, id 지정\n",
    "db.add_documents(\n",
    "    [\n",
    "        Document(\n",
    "            page_content=\"안녕하세요! 도큐먼트를 새로 추가해 볼게요\",\n",
    "            metadata={\"source\":\"mydata.txt\"},\n",
    "            id=\"1\"\n",
    "        )\n",
    "    ]\n",
    ")\n",
    "\n",
    "\n",
    "# ID \"1\" 인 것 가져오기\n",
    "db.get(\"1\")"
   ]
  },
  {
   "cell_type": "code",
   "execution_count": null,
   "id": "1cf931f0",
   "metadata": {},
   "outputs": [],
   "source": [
    "db.add_texts(\n",
    "    [\"이전에 추가한 Document 를 덮어쓰겠습니다\", \"덮어쓴 결과가 어떤가요?\"],\n",
    "    metadatas=[{\"source\":\"mydata.txt\"}, {\"source\":\"mydata.txt\"}],\n",
    "    ids=[\"1\", \"2\"],\n",
    ")\n",
    "\n",
    "# id=\"1\" 조회 (동일한 아이디로 추가하면 기존 것을 지우고 저장한다)\n",
    "db.get(\"1\")"
   ]
  },
  {
   "cell_type": "code",
   "execution_count": null,
   "id": "1f3cf6f3",
   "metadata": {},
   "outputs": [],
   "source": [
    "# id=\"1\" 삭제\n",
    "db.delete(ids=[\"1\"])"
   ]
  },
  {
   "cell_type": "code",
   "execution_count": null,
   "id": "9ad087a4",
   "metadata": {},
   "outputs": [],
   "source": [
    "db.get([\"1\", \"2\"])"
   ]
  },
  {
   "cell_type": "code",
   "execution_count": null,
   "id": "16b76638",
   "metadata": {},
   "outputs": [],
   "source": [
    "# where 조건으로 metadata 조회\n",
    "db.get(where={\"source\":\"mydata.txt\"})"
   ]
  },
  {
   "cell_type": "code",
   "execution_count": null,
   "id": "645220c9",
   "metadata": {},
   "outputs": [],
   "source": [
    "# 컬렉션 초기화\n",
    "db.reset_collection()"
   ]
  },
  {
   "cell_type": "code",
   "execution_count": null,
   "id": "75b703ed",
   "metadata": {},
   "outputs": [],
   "source": [
    "# 특정값을 넘어가는 유사도만 조회\n",
    "retriever = db.as_retriever(\n",
    "    \n",
    ")"
   ]
  },
  {
   "cell_type": "code",
   "execution_count": null,
   "id": "34ee7258",
   "metadata": {},
   "outputs": [],
   "source": []
  }
 ],
 "metadata": {
  "language_info": {
   "name": "python"
  }
 },
 "nbformat": 4,
 "nbformat_minor": 5
}
