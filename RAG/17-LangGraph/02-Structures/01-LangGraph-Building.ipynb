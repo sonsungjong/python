{
 "cells": [
  {
   "cell_type": "code",
   "execution_count": null,
   "id": "da598d28",
   "metadata": {},
   "outputs": [],
   "source": [
    "'''\n",
    "1. State 정의\n",
    "2. Node 정의\n",
    "3. StateGraph 생성\n",
    "4. 컴파일\n",
    "5. 시각화\n",
    "'''"
   ]
  },
  {
   "cell_type": "code",
   "execution_count": 1,
   "id": "889cdc92",
   "metadata": {},
   "outputs": [],
   "source": [
    "from typing import TypedDict, Annotated, List\n",
    "from langchain_core.documents import Document\n",
    "import operator\n",
    "\n",
    "# State 정의\n",
    "class GraphState(TypedDict):\n",
    "    context : Annotated[List[Document], operator.add]\n",
    "    answer : Annotated[List[Document], operator.add]\n",
    "    question: Annotated[str, \"user question\"]\n",
    "    sql_query: Annotated[str, \"sql query\"]\n",
    "    binary_score: Annotated[str, \"binary score yes or no\"]"
   ]
  },
  {
   "cell_type": "code",
   "execution_count": 3,
   "id": "75646afd",
   "metadata": {},
   "outputs": [],
   "source": [
    "# Node 정의\n",
    "def retrieve(state : GraphState) -> GraphState:\n",
    "    # 검색\n",
    "    documents = \"검색된 문서\"\n",
    "    return {\"context\":documents}\n",
    "\n",
    "def rewrite_query(state : GraphState)->GraphState:\n",
    "    # 쿼리 재작성\n",
    "    documents = \"검색된 문서\"\n",
    "    return GraphState(context=documents)\n",
    "\n",
    "def llm_gpt_execute(state:GraphState)->GraphState:\n",
    "    # LLM 실행\n",
    "    answer = \"GPT 생성된 답변\"\n",
    "    return GraphState(answer=answer)\n",
    "\n",
    "def llm_gemini_execute(state:GraphState)->GraphState:\n",
    "    # LLM 실행\n",
    "    answer = \"Gemini 의 생성된 답변\"\n",
    "    return GraphState(answer=answer)\n",
    "\n",
    "def relevance_check(state:GraphState)->GraphState:\n",
    "    # 관련성 확인\n",
    "    binary_score = \"Relevance Score\"\n",
    "    return GraphState(binary_score=binary_score)\n",
    "\n",
    "def sum_up(state:GraphState)->GraphState:\n",
    "    # 결과 종합\n",
    "    answer = \"종합된 답변\"\n",
    "    return GraphState(answer=answer)\n",
    "\n",
    "def search_on_web(state:GraphState)->GraphState:\n",
    "    # 웹 검색\n",
    "    documents = state[\"context\"] = \"기존 문서\"\n",
    "    searched_documents = \"검색된 문서\"\n",
    "    documents += searched_documents\n",
    "    return GraphState(context=documents)\n",
    "\n",
    "def get_table_info(state: GraphState)->GraphState:\n",
    "    # 테이블 정보 가져오기\n",
    "    table_info = \"테이블 정보\"\n",
    "    return GraphState(context=table_info)\n",
    "\n",
    "def generate_sql_query(state:GraphState)->GraphState:\n",
    "    # SQL 쿼리 생성\n",
    "    sql_query = \"SQL 쿼리\"\n",
    "    return GraphState(sql_query=sql_query)\n",
    "\n",
    "def execute_sql_query(state:GraphState)->GraphState:\n",
    "    # SQL 쿼리 실행\n",
    "    sql_result = \"SQL 결과\"\n",
    "    return GraphState(context=sql_result)\n",
    "\n",
    "def validate_sql_query(state: GraphState) -> GraphState:\n",
    "    # SQL 쿼리 검증\n",
    "    binary_score = \"SQL 쿼리 검증 결과\"\n",
    "    return GraphState(binary_score=binary_score)\n",
    "\n",
    "def handle_error(state:GraphState)->GraphState:\n",
    "    # 에러 처리\n",
    "    error = \"에러 발생\"\n",
    "    return GraphState(context=error)\n",
    "\n",
    "def decision(state: GraphState)->GraphState:\n",
    "    # 의사결정\n",
    "    decision = \"결정\"\n",
    "    return decision"
   ]
  },
  {
   "cell_type": "code",
   "execution_count": null,
   "id": "93548764",
   "metadata": {},
   "outputs": [],
   "source": [
    "from langgraph.graph import START, END, StateGraph\n",
    "from langgraph.checkpoint.memory import MemorySaver\n",
    "from IPython.display import display, Image\n",
    "\n",
    "# (1): Conventional RAG\n",
    "# (2): 재검색\n",
    "# (3): 멀티 LLM\n",
    "# (4): 쿼리 재작성\n",
    "\n"
   ]
  },
  {
   "cell_type": "code",
   "execution_count": null,
   "id": "7d8c871b",
   "metadata": {},
   "outputs": [],
   "source": []
  },
  {
   "cell_type": "code",
   "execution_count": null,
   "id": "7d10f9d1",
   "metadata": {},
   "outputs": [],
   "source": []
  },
  {
   "cell_type": "code",
   "execution_count": null,
   "id": "05bac601",
   "metadata": {},
   "outputs": [],
   "source": []
  },
  {
   "cell_type": "code",
   "execution_count": null,
   "id": "aa01b9c2",
   "metadata": {},
   "outputs": [],
   "source": []
  },
  {
   "cell_type": "code",
   "execution_count": null,
   "id": "e559d5ca",
   "metadata": {},
   "outputs": [],
   "source": []
  },
  {
   "cell_type": "code",
   "execution_count": null,
   "id": "b15bb011",
   "metadata": {},
   "outputs": [],
   "source": []
  },
  {
   "cell_type": "code",
   "execution_count": null,
   "id": "9ad34074",
   "metadata": {},
   "outputs": [],
   "source": []
  }
 ],
 "metadata": {
  "kernelspec": {
   "display_name": "Python 3",
   "language": "python",
   "name": "python3"
  },
  "language_info": {
   "codemirror_mode": {
    "name": "ipython",
    "version": 3
   },
   "file_extension": ".py",
   "mimetype": "text/x-python",
   "name": "python",
   "nbconvert_exporter": "python",
   "pygments_lexer": "ipython3",
   "version": "3.12.3"
  }
 },
 "nbformat": 4,
 "nbformat_minor": 5
}
