{
 "cells": [
  {
   "cell_type": "code",
   "execution_count": null,
   "id": "e42c5513",
   "metadata": {},
   "outputs": [],
   "source": [
    "import os\n",
    "import warnings\n",
    "import uuid\n",
    "from dotenv import load_dotenv\n",
    "\n",
    "from typing import Annotated, List\n",
    "from typing_extensions import TypedDict\n",
    "from langgraph.graph import START, END, StateGraph\n",
    "from langgraph.checkpoint.memory import MemorySaver\n",
    "from langchain_ollama import ChatOllama, OllamaEmbeddings\n",
    "from langchain_openai import ChatOpenAI, OpenAIEmbeddings\n",
    "from langchain_huggingface import ChatHuggingFace, HuggingFaceEmbeddings\n",
    "from pydantic import BaseModel, Field\n",
    "from IPython.display import display, Image\n",
    "from langchain.schema import Document\n",
    "from langchain import hub\n",
    "\n",
    "from langchain_core.prompts import ChatPromptTemplate, PromptTemplate\n",
    "from langchain_core.output_parsers import StrOutputParser\n",
    "from langchain_core.runnables import RunnableConfig, RunnablePassthrough, RunnableLambda\n",
    "from langchain_community.document_loaders import PyMuPDFLoader\n",
    "from langchain_community.vectorstores import FAISS\n",
    "from langchain_text_splitters import RecursiveCharacterTextSplitter"
   ]
  },
  {
   "cell_type": "code",
   "execution_count": 2,
   "id": "33f642ce",
   "metadata": {},
   "outputs": [],
   "source": [
    "load_dotenv()\n",
    "\n",
    "os.environ[\"HF_HUB_OFFLINE\"] = \"1\"\n",
    "os.environ[\"TRANSFORMERS_OFFLINE\"] = \"1\"\n",
    "# os.environ[\"HF_HOME\"] = \"./cache/\""
   ]
  },
  {
   "cell_type": "code",
   "execution_count": 3,
   "id": "95986086",
   "metadata": {},
   "outputs": [
    {
     "name": "stdout",
     "output_type": "stream",
     "text": [
      "WARNING:tensorflow:From c:\\Python312\\Lib\\site-packages\\tf_keras\\src\\losses.py:2976: The name tf.losses.sparse_softmax_cross_entropy is deprecated. Please use tf.compat.v1.losses.sparse_softmax_cross_entropy instead.\n",
      "\n"
     ]
    }
   ],
   "source": [
    "# 1단계 : 문서 로드\n",
    "loader = PyMuPDFLoader(\"SPRI_AI_Brief_2023년12월호_F.pdf\")\n",
    "docs = loader.load()\n",
    "\n",
    "# 2단계 : 문서 분할\n",
    "text_splitter = RecursiveCharacterTextSplitter(chunk_size=1000, chunk_overlap=50)\n",
    "split_documents = text_splitter.split_documents(docs)\n",
    "\n",
    "# 3단계 : 임베딩\n",
    "hf_embeddings = HuggingFaceEmbeddings(\n",
    "    model_name = \"BAAI/bge-m3\",\n",
    "    model_kwargs = {\"device\": \"cuda\"},\n",
    "    encode_kwargs={\"normalize_embeddings\": True}\n",
    ")\n",
    "\n",
    "# 4단계 : 벡터스토어 저장/불러오기\n",
    "try:\n",
    "    vectorstore = FAISS.load_local(\n",
    "        folder_path=\"faiss_db\",\n",
    "        index_name=\"faiss_index\",\n",
    "        embeddings=hf_embeddings,\n",
    "        allow_dangerous_deserialization=True,\n",
    "    )\n",
    "except:\n",
    "    vectorstore = FAISS.from_documents(split_documents, hf_embeddings)\n",
    "    vectorstore.save_local(\"faiss_db\", \"faiss_index\")\n",
    "\n",
    "# vectorstore.add_documents(new_split_documents)\n",
    "# vectorstore.save_local(\"faiss_db\", \"faiss_index\")\n",
    "\n",
    "# 5단계 : 검색기 Retriever 생성\n",
    "retriever = vectorstore.as_retriever()\n",
    "\n",
    "# 6단계 : 프롬프트\n",
    "prompt = PromptTemplate.from_template(\n",
    "    \"\"\"You are an assistant for question-answering tasks.\n",
    "Use the following pieces of retrieved context to answer the question.\n",
    "If you don't know the answer, just say that you don't know.\n",
    "You must include `page` number in your answer.\n",
    "Answer in Korean.\n",
    "\n",
    "#Question:\n",
    "{question}\n",
    "\n",
    "#Context:\n",
    "{context}\n",
    "\n",
    "#Answer:\"\"\"\n",
    ")\n",
    "\n",
    "# 7단계 : LLM 생성\n",
    "# llm = ChatOpenAI(model_name=\"gpt-5-nano\", temperature=0, api_key=os.getenv(\"OPENAI_API_KEY\"))\n",
    "llm = ChatOllama(model=\"gpt-oss:20b\", temperature=0, base_url=\"http://localhost:11434\")\n",
    "\n",
    "# 8단계 : chain 생성\n",
    "def format_docs(docs):\n",
    "    return \"\\n\\n\".join(\n",
    "        f\"[page {d.metadata.get('page', 0) + 1}] {d.page_content}\" for d in docs\n",
    "    )\n",
    "\n",
    "chain = (\n",
    "    {\"context\":retriever | RunnableLambda(format_docs), \"question\":RunnablePassthrough()}\n",
    "    | prompt\n",
    "    | llm\n",
    "    | StrOutputParser()\n",
    ")"
   ]
  },
  {
   "cell_type": "code",
   "execution_count": 4,
   "id": "1ddfe350",
   "metadata": {},
   "outputs": [
    {
     "name": "stdout",
     "output_type": "stream",
     "text": [
      "삼성전자가 자체 개발한 AI의 이름은 **“삼성 가우스”**입니다. (출처: page 13)\n"
     ]
    }
   ],
   "source": [
    "# chain 실행\n",
    "question = \"삼성전자가 자체 개발한 AI 의 이름은?\"\n",
    "response = chain.invoke(question)\n",
    "print(response)"
   ]
  },
  {
   "cell_type": "code",
   "execution_count": 5,
   "id": "61f233e3",
   "metadata": {},
   "outputs": [
    {
     "name": "stdout",
     "output_type": "stream",
     "text": [
      "삼성전자가 자체 개발한 AI의 이름은 **“삼성 가우스”**입니다. (출처: page 13)"
     ]
    }
   ],
   "source": [
    "# 스트리밍 실행\n",
    "question = \"삼성전자가 자체 개발한 AI 의 이름은?\"\n",
    "for chunk in chain.stream(question):\n",
    "    print(chunk, end=\"\", flush=True)"
   ]
  },
  {
   "cell_type": "code",
   "execution_count": 6,
   "id": "ed91a30d",
   "metadata": {},
   "outputs": [
    {
     "name": "stdout",
     "output_type": "stream",
     "text": [
      "binary_score='yes'\n"
     ]
    }
   ],
   "source": [
    "# 검색된 문서의 관련성 여부를 이진 점수로 평가하는 데이터 모델\n",
    "class GradeDocuments(BaseModel):\n",
    "    binary_score: str = Field(\n",
    "        description=\"Documents are relevant to the question, 'yes' or 'no'\"\n",
    "    )\n",
    "\n",
    "llm = ChatOllama(model='qwen2.5vl:7b', temperature=0)\n",
    "\n",
    "structured_llm_grader = llm.with_structured_output(GradeDocuments)\n",
    "\n",
    "system = \"\"\"You are a grader assessing relevance of a retrieved document to a user question. \\n\n",
    "If the document contains keyword(s) or semantic meaning related to the question, grade it as relevant. \\n\n",
    "Giva a binary score 'yes' or 'no' score to indicate whether the document is relevant to the question.\"\"\"\n",
    "\n",
    "grade_prompt = ChatPromptTemplate.from_messages(\n",
    "    [\n",
    "        (\"system\", system),\n",
    "        (\"human\", \"Retrieved document: \\n\\n {document} \\n\\n User question: {question}\"),\n",
    "    ]\n",
    ")\n",
    "\n",
    "retrieval_grader = grade_prompt | structured_llm_grader\n",
    "\n",
    "question = \"삼성전자가 개발한 생성AI 에 대해 설명하세요.\"\n",
    "\n",
    "# 문서 검색\n",
    "docs = retriever.invoke(question)\n",
    "\n",
    "# 검색된 문서 중 1번 index 문서의 페이지 내용 추출\n",
    "doc_txt = docs[0].page_content\n",
    "\n",
    "relevant_result = retrieval_grader.invoke({\"question\":question, \"document\":doc_txt})\n",
    "print(relevant_result)"
   ]
  },
  {
   "cell_type": "code",
   "execution_count": 7,
   "id": "678bf063",
   "metadata": {},
   "outputs": [
    {
     "name": "stdout",
     "output_type": "stream",
     "text": [
      "삼성전자가 자체 개발한 생성AI는 **삼성 가우스(Samsung Gauss)**로, 온디바이스에서 동작 가능한 언어, 코드, 이미지 3개 모델로 구성됩니다.  \n",
      "- **언어모델**: 메일 작성, 문서 요약, 번역 등 다양한 클라우드·온디바이스용 모델을 제공하며, 사용자의 개인정보가 외부로 유출되지 않도록 설계.  \n",
      "- **코드모델**: 대화형 인터페이스를 갖춘 AI 코딩 어시스턴트 “코드아이(code.i)”로 사내 소프트웨어 개발에 최적화.  \n",
      "- **이미지모델**: 창의적 이미지 생성, 기존 이미지 변형, 저해상도→고해상도 전환을 지원.  \n",
      "\n",
      "삼성 가우스는 정규분포 이론을 기반으로 한 모델 크기 선택이 가능하며, 다양한 제품에 단계적으로 탑재될 예정입니다.  \n",
      "\n",
      "**Source**  \n",
      "- SPRI_AI_Brief_2023년12월호_F.pdf (p. 13)\n"
     ]
    }
   ],
   "source": [
    "# prompt = hub.pull(\"teddynote/rag-prompt\")\n",
    "prompt = ChatPromptTemplate.from_template(\"\"\"You are an AI assistant specializing in Question-Answering (QA) tasks within a Retrieval-Augmented Generation (RAG) system. \n",
    "Your primary mission is to answer questions based on provided context or chat history.\n",
    "Ensure your response is concise and directly addresses the question without any additional narration.\n",
    "\n",
    "###\n",
    "\n",
    "Your final answer should be written concisely (but include important numerical values, technical terms, jargon, and names), followed by the source of the information.\n",
    "\n",
    "# Steps\n",
    "\n",
    "1. Carefully read and understand the context provided.\n",
    "2. Identify the key information related to the question within the context.\n",
    "3. Formulate a concise answer based on the relevant information.\n",
    "4. Ensure your final answer directly addresses the question.\n",
    "5. List the source of the answer in bullet points, which must be a file name (with a page number) or URL from the context. Omit if the source cannot be found.\n",
    "\n",
    "# Output Format:\n",
    "[Your final answer here, with numerical values, technical terms, jargon, and names in their original language]\n",
    "\n",
    "**Source**(Optional)\n",
    "- (Source of the answer, must be a file name(with a page number) or URL from the context. Omit if you can't find the source of the answer.)\n",
    "- (list more if there are multiple sources)\n",
    "- ...\n",
    "\n",
    "###\n",
    "\n",
    "Remember:\n",
    "- It's crucial to base your answer solely on the **PROVIDED CONTEXT**. \n",
    "- DO NOT use any external knowledge or information not present in the given materials.\n",
    "- If you can't find the source of the answer, you should answer that you don't know.\n",
    "- Answer Korean.\n",
    "\n",
    "###\n",
    "\n",
    "# Here is the user's QUESTION that you should answer:\n",
    "{question}\n",
    "\n",
    "# Here is the CONTEXT that you should use to answer the question:\n",
    "{context}\n",
    "\n",
    "# Your final ANSWER to the user's QUESTION:\n",
    "\"\"\")\n",
    "\n",
    "llm = ChatOllama(model=\"gpt-oss:20b\", temperature=0, base_url=\"http://localhost:11434\", \n",
    "                 reasoning=False, think=False\n",
    "                 )\n",
    "# llm = ChatOllama(model=\"qwen2.5vl:7b\", temperature=0)\n",
    "# llm = ChatOpenAI(model=\"gpt-5-nano\", temperature=0)\n",
    "\n",
    "# 문서 포맷팅\n",
    "def format_docs(docs):\n",
    "    return \"\\n\\n\".join(\n",
    "        [\n",
    "            f'<document><content>{doc.page_content}</content><source>{doc.metadata[\"source\"]}</source><page>{doc.metadata[\"page\"]+1}</page></document>'\n",
    "            for doc in docs\n",
    "        ]\n",
    "    )\n",
    "\n",
    "# 체인\n",
    "rag_chain = prompt | llm | StrOutputParser()\n",
    "\n",
    "generation = rag_chain.invoke({\"context\": format_docs(docs), \"question\": question})\n",
    "print(generation)"
   ]
  },
  {
   "cell_type": "code",
   "execution_count": 8,
   "id": "4d6df884",
   "metadata": {},
   "outputs": [],
   "source": [
    "# 쿼리 재작성\n",
    "llm = ChatOllama(model=\"gpt-oss:20b\", temperature=0)\n",
    "\n",
    "system = \"\"\"You a question re-writer that converts an input question to a better version that is optimized for web search.\n",
    "Look at the input and try to reason about the underlying semantic intent / meaning.\"\"\"\n",
    "\n",
    "re_write_prompt = ChatPromptTemplate.from_messages(\n",
    "    [\n",
    "        (\"system\", system),\n",
    "        (\"human\", \"Here is the initial question: \\n\\n {question} \\n Formulate an improved question.\")\n",
    "    ]\n",
    ")\n",
    "\n",
    "question_rewriter = re_write_prompt | llm | StrOutputParser()"
   ]
  },
  {
   "cell_type": "code",
   "execution_count": 9,
   "id": "9f566207",
   "metadata": {},
   "outputs": [
    {
     "name": "stdout",
     "output_type": "stream",
     "text": [
      "[원본 질문] '삼성전자가 개발한 생성AI 에 대해 설명하세요.'\n",
      "[쿼리 재작성]: What is Samsung Electronics’ generative AI technology, and what are its main features and applications?\n"
     ]
    }
   ],
   "source": [
    "# 쿼리 재작성 테스트\n",
    "print(f\"[원본 질문] '{question}'\")\n",
    "print('[쿼리 재작성]:', question_rewriter.invoke({\"question\": question}))"
   ]
  },
  {
   "cell_type": "code",
   "execution_count": 10,
   "id": "788a38c5",
   "metadata": {},
   "outputs": [
    {
     "name": "stdout",
     "output_type": "stream",
     "text": [
      "[{'url': 'https://v.daum.net/v/20241121100020817', 'title': \"삼성전자, 자체 개발한 생성형 AI '삼성 가우스2' 공개\", 'content': '### 삼성전자, 자체 개발한 생성형 AI \\'삼성 가우스2\\' 공개 또한 \"삼성전자 고유의 생성형 AI 모델인 \\'삼성 가우스2\\'를 공개하고, 향상된 성능과 효율, 그리고 활용 방안에 대해 설명할 예정\"이라며 \"이를 통해 업무 생산성 향상과 단계적 제품 적용으로 더욱 편리하고 차별화된 고객 경험을 제공할 것\"이라고 말했다. 삼성전자는 키노트 발표에서 지난해 처음 공개한 생성형 AI 모델 \\'삼성 가우스1(Samsung Gauss1)\\'의 후속 모델인 \\'삼성 가우스2(Samsung Gauss2)\\'를 공개했다. 삼성 가우스 포탈(Samsung Gauss Portal)은 \\'삼성 가우스\\'의 대화형 AI 서비스로 ▲문서 요약 ▲번역 ▲메일 작성 등 DX부문 직원들의 다양한 사무 업무를 빠르고 효율적으로 처리할 수 있도록 지원하고 있다. 삼성전자는 향후 \\'삼성 가우스2\\'를 통해 \\'코드아이(code.i)\\'서비스의 지속적인 성능 개선, \\'삼성 가우스 포탈(Samsung Gauss Portal)\\'의 자연어 질의응답 성능 향상, 표와 차트의 이해, 이미지 생성 등 멀티모달 기능을 지원해 사내 생산성 향상에 기여할 계획이다.', 'score': 0.8361405, 'raw_content': '# [지디넷코리아](https://v.daum.net/channel/294/home)\\n\\n## 검색\\n\\n검색\\n\\n\\n\\n## 속보\\n\\n### 삼성전자, 자체 개발한 생성형 AI \\'삼성 가우스2\\' 공개\\n\\n장경윤 기자 2024. 11. 21. 10:00\\n\\n**음성재생 설정**\\n\\n[닫기](#none)\\n\\n**번역*beta*** Translated by [kaka i](https://kakao.ai/)\\n\\n[닫기](#none)\\n\\n**번역중** Now in translation\\n\\n**글자크기 설정** 파란원을 좌우로 움직이시면 글자크기가 변경 됩니다.\\n\\n가\\n\\n\\n\\n\\n\\n\\n\\n가\\n\\n이 글자크기로 변경됩니다.\\n\\n(예시) 가장 빠른 뉴스가 있고 다양한 정보, 쌍방향 소통이 숨쉬는 다음뉴스를 만나보세요. 다음뉴스는 국내외 주요이슈와 실시간 속보, 문화생활 및 다양한 분야의 뉴스를 입체적으로 전달하고 있습니다.\\n\\n[닫기](#none)\\n\\n**21일 \\'삼성 개발자 콘퍼런스 코리아\\'서 최신 기술과 비전 소개**\\n\\n(지디넷코리아=장경윤 기자)삼성전자는\\xa0\\'삼성 개발자 콘퍼런스 코리아 2024(Samsung Developer Conference Korea 2024, SDC24 Korea)\\'를 온라인으로 개최했다고 21일 밝혔다.\\n\\n삼성전자는 소프트웨어 개발자들과 소통하고 협력하기 위해 2014년부터 매년 개발자 행사를 개최해 왔으며, 올해로 11주년을 맞이했다.\\n\\n이날 콘퍼런스에서는 ▲생성형 AI ▲소프트웨어(S/W) 플랫폼 ▲IoT ▲헬스케어 ▲통신 ▲데이터 등 제품에 탑재된 다양한 소프트웨어의 연구 분야는 물론 오픈소스 개발 문화에 이르기까지 다양한 세션이 마련됐다.\\n\\n삼성전자 DX부문 최고기술책임자(CTO) 겸 삼성리서치장인 전경훈 사장은 환영사를 통해 \"삼성전자는 인공지능과 데이터 분석과 같은 최신 소프트웨어 기술 확보에 집중하여 새로운 라이프스타일을 창조하고 고객의 삶을 개선하는데 주력하고 있다\"고 강조했다.\\n\\n또한 \"삼성전자 고유의 생성형 AI 모델인 \\'삼성 가우스2\\'를 공개하고, 향상된 성능과 효율, 그리고 활용 방안에 대해 설명할 예정\"이라며 \"이를 통해 업무 생산성 향상과 단계적 제품 적용으로 더욱 편리하고 차별화된 고객 경험을 제공할 것\"이라고 말했다.\\n\\n**■ 자체 개발 생성형 AI 모델 2세대 \\'삼성 가우스2\\' 공개**\\n\\n삼성전자는 키노트 발표에서 지난해 처음 공개한 생성형 AI 모델 \\'삼성 가우스1(Samsung Gauss1)\\'의 후속 모델인 \\'삼성 가우스2(Samsung Gauss2)\\'를 공개했다.\\n\\n\\'삼성 가우스2\\'는 언어·코드·이미지 통합 멀티모달(Multimodal) 모델로 기존 \\'삼성 가우스1\\'과 달리 여러가지 데이터 유형을 동시 처리할 수 있는 2세대 버전이다. 서비스 용도에 따라 ▲콤팩트(Compact) ▲밸런스드(Balanced) ▲슈프림(Supreme) 세 가지 모델로 구성되어 있다.\\n\\n멀티모달은 텍스트, 이미지, 오디오, 비디오 등 다양한 유형의 데이터(모달리티)를 함께 고려하여 서로의 관계성을 학습 및 처리하는 인공지능이다. 인간이 오감을 모두 활용해 정보를 이해하고 처리하는 방식과 유사하다.\\n\\n\\'콤팩트\\'는 제한된 컴퓨팅 환경에서도 효율적으로 작동하도록 설계된 소형 모델이다. 온디바이스(On-Device) 환경에서 기기의 특성을 최대한 활용해 기기에 최적화된 성능을 제공한다.\\n\\n\\'밸런스드\\'는 클라우드(Cloud) 기반으로 성능, 속도 면에서 안정성과 효율성의 균형을 맞춘 모델이다. 다양한 작업에서도 균형 잡힌 성능을 제공한다.\\n\\n마지막으로 \\'슈프림\\'은 최고 성능을 목표로 하는 고성능 모델이다. \\'밸런스드\\' 모델을 기반으로 \\'전문가 혼합(MoE, Mixture of Experts)\\' 기술을 이용해 학습과 추론 과정에서 계산량을 대폭 줄여 성능과 효율성 모두를 높일 수 있었다.\\n\\n전문가 혼합 기술은 특정 작업 처리 시 가장 알맞은 일부 전문가 모델들만 선택, 활성화해 처리하는 방식을 뜻한다. 필요한 연산 자원을 절약해 효율적으로 성능을 높일 수 있다.\\n\\n또한 \\'삼성 가우스2\\'는 모델에 따라 9~14개국의 언어와 다양한 프로그래밍 언어를 지원한다. 삼성전자는 자체적으로 거대언어모델(LLM) 학습 안정화 기법을 개발해 적용하고, 자체 \\'토크나이저(Tokenizer)\\'를 설계해 지원하는 언어에 대한 효율성을 극대화했다.\\n\\n토크나이저는\\xa0글자, 이미지, 음성 등의 입력을 생성형 모델이 처리 할 수 있는 토큰으로 변환 및 분할하는 알고리즘으로, 데이터를 벡터 형태의 숫자 형식인 토큰으로 표현하는 방법이다.\\n\\n\\'밸런스드\\'와 \\'슈프림\\' 모델은 현재 공개되어 있는 대표적인 오픈소스 생성형 AI 모델들 대비 영어, 한국어 등 다양한 언어 답변 생성, 코딩 등 주요 지표에서 동등 이상의 성능을 제공한다. 시간당 처리 속도는 1.5~3배 이상으로 그만큼 AI의 답변 생성이 빨라 사용자의 대기시간이 줄어들고 효율적인 일처리가 가능하다.\\n\\n**■ 사내 맞춤형 개발 \\'삼성 가우스\\',****다양한 업무·제품 개발에 활용**\\n\\n자체 생성형 AI 모델의 장점은 필요한 목적과 응용분야에 맞춰 최고의 성능을 내도록 맞춤형 개발에 용이하다는 것이다. 실제로 \\'삼성 가우스\\'는 이런 맞춤형 개발의 장점을 살려 직원들의 다양한 업무에서 활용되고 있다.\\n\\n\\'코드아이(code.i)\\'는 사내 S/W 개발자를 지원하는 \\'삼성 가우스\\' 모델의 코딩 어시스턴트 서비스이다. 최근에는 \\'삼성 가우스2\\' 모델로 업그레이드되어 DX부문의 사업부 및 일부 해외 연구소에서 활용되고 있다.\\n\\n\\'코드아이\\'는 작년 12월 서비스 시작 시점 대비 현재 월별 사용량은 약 4배 이상 증가했고, 삼성전자 DX부문 전체 S/W 개발자의 약 60%가 사용하고 있다.\\n\\n삼성 가우스 포탈(Samsung Gauss Portal)은 \\'삼성 가우스\\'의 대화형 AI 서비스로 ▲문서 요약 ▲번역 ▲메일 작성 등 DX부문 직원들의 다양한 사무 업무를 빠르고 효율적으로 처리할 수 있도록 지원하고 있다. 지난 4월에는 해외 법인으로 서비스가 확대되었다.\\n\\n또 삼성전자는 올해 8월부터 \\'삼성 가우스\\'를 콜센터에 적용해 상담 내용을 자동 분류하고 요약하는 등 상담원의 업무를 보조하고 있다.\\n\\n삼성전자는 향후 \\'삼성 가우스2\\'를 통해 \\'코드아이(code.i)\\'서비스의 지속적인 성능 개선, \\'삼성 가우스 포탈(Samsung Gauss Portal)\\'의 자연어 질의응답 성능 향상, 표와 차트의 이해, 이미지 생성 등 멀티모달 기능을 지원해 사내 생산성 향상에 기여할 계획이다.\\n\\n또한 삼성전자는 \\'모두를 위한 AI(AI for All)\\' 라는 AI 비전 아래, 사용자들이 더욱 편리하고 즐거운 일상을 누릴 수 있도록 전 제품 군에 AI 서비스를 제공할 예정이다. 향후 지식 그래프(Knowledge Graph) 기술과도 결합해 한층 강화된 개인화 서비스를 선보일 것으로 기대된다.\\n\\n**■ S/W 플랫폼, IoT, 헬스케어, 통신, 데이터 등 다양한 주제로 발표 진행**\\n\\n\\'삼성 가우스2\\' 발표에 이어, \\'삼성의 플랫폼에 대한 고객경험\\'을 주제로 ▲스마트싱스(SmartThings) 플랫폼 고객 경험 ▲소프트웨어 플랫폼 고객경험 향상에 대한 키노트가 이어졌다.\\n\\n이후 ▲헬스케어의 미래와 삼성 헬스 에코시스템 전략 ▲생성형 AI를 통한 스마트싱스(SmartThings) 고객 VOC 경험 개선기 ▲code.i: 삼성의 AI 코딩 어시스턴트를 이해하다 ▲당신의 일상에 활력을 더하는 TV 기반 라이프스타일 콘텐츠 허브 소개 ▲AI 비전(Vision) 기술과 데이터 활용을 통한 삼성 가전 AI 솔루션 등 총 29개의 다양한 기술 세션이 이어졌다.\\n\\n장경윤 기자(jkyoon@zdnet.co.kr)\\n\\nCopyright © 지디넷코리아. 무단전재 및 재배포 금지.\\n\\n**지디넷코리아에서 직접 확인하세요.** 해당 언론사로 이동합니다.\\n\\n* [삼성전자, 美 AI 반도체 스타트업 \\'엔파브리카\\'에 투자](https://zdnet.co.kr/view/?no=20241120103015&re=D_20241121083205)\\n* [삼성전자 \\'글로벌 골즈 앱\\' 앤썸 어워드 수상...사회적 영향력 인정](https://zdnet.co.kr/view/?no=20241120091602&re=D_20241121083205)\\n* [삼성전자, 갤럭시워치6 등 기존 모델 \\'원 UI 6 워치\\' 업데이트 실시](https://zdnet.co.kr/view/?no=20241120085039&re=D_20241121083205)\\n* [삼성전자, \\'XR 스마트안경\\' 내년 3분기 출시 전망...애플과 맞대결](https://zdnet.co.kr/view/?no=20241119120941&re=D_20241121083205)\\n* [내년 정부 R&D예산 35.3조원 \\'역대 최대\\'…AI, 106% 증액](https://zdnet.co.kr/view/?no=20250822102653)\\n* [퀄컴칩 비싸다?...삼성 옥죄는 모바일 AP 비용 부담의 진짜 이유](https://zdnet.co.kr/view/?no=20250821104639)\\n* [[유미\\'s 픽] \\'모바일 강자\\' 유라클, AI에 승부수...빠른 시장 안착에 기대감 \\'업\\'](https://zdnet.co.kr/view/?no=20250820182031)\\n* [[데이터 주권] AI 경쟁력, 국가 협력 통한 데이터 개방이 핵심](https://zdnet.co.kr/view/?no=20250821093019)\\n* [4인 가족에 유모차·캠핑장비까지…패밀리카 끝판왕이라는 \\'이 車\\'](https://zdnet.co.kr/view/?no=20250821102605)\\n* [\"전기료 인상 불가피\" 대통령 발언에 산업계 근심](https://zdnet.co.kr/view/?no=20250821173845)'}, {'url': 'https://www.esgeconomy.com/news/articleView.html?idxno=5090', 'title': \"삼성전자, 자체 개발한 생성형 AI '삼성 가우스' 첫 공개\", 'content': \"삼성전자, 자체 개발한 생성형 AI '삼성 가우스' 첫 공개 ### 삼성전자, 자체 개발한 생성형 AI '삼성 가우스' 첫 공개 [ESG경제=김도산 기자] 삼성전자가 자체 개발한 생성형 인공지능(AI) 모델 '삼성 가우스(Samsung Gauss)‘를 처음 공개했다. 삼성전자는 삼성 가우스를 활용해 임직원의 업무 생산성을 높이고, 생성형 AI 모델을 단계적으로 제품에 탑재해 새로운 사용자 경험을 제공한다는 계획이다. 삼성전자는 8일 삼성전자 서울R&D캠퍼스에서 '삼성 AI 포럼 2023' 2일차 행사를 열고 삼성리서치에서 개발한 삼성 가우스를 처음으로 공개했다고 밝혔다. 삼성전자는 생성형 AI 모델들을 다양한 제품에 단계적으로 탑재할 계획인데, 업계에서는 이르면 내년 1월 공개할 갤럭시 S24에 생성형 AI 기능이 탑재될 것으로 보고 있다. 한편 삼성리서치에서 주관한 이날 ’'삼성 AI 포럼 2023' 포럼에는 삼성전자의 AI 연구 인력과 학계·업계 AI 전문가 150여명이 참석해 생성형 AI 기술의 발전 방향을 논의하고 최신 기술 동향을 공유했다. #생성형 AI\", 'score': 0.8190992, 'raw_content': '## 상단영역\\n\\n\\n\\n\\n## 본문영역\\n\\n삼성전자, 자체 개발한 생성형 AI \\'삼성 가우스\\' 첫 공개\\n\\n#### SNS 기사보내기\\n\\n#### SNS 기사보내기\\n\\n\\n\\n스크롤 이동 상태바\\n\\n\\n\\n\\n\\n### 삼성전자, 자체 개발한 생성형 AI \\'삼성 가우스\\' 첫 공개\\n\\n* *기자명*\\n  김도산 기자\\n* 입력 2023.11.08 10:55\\n* 수정 2023.11.08 23:50\\n* 댓글\\n  [0](#reply)\\n\\n#### SNS 기사보내기\\n\\n#### SNS 기사보내기\\n\\n이 기사를 공유합니다\\n\\n\\n\\n#### \\'삼성 AI 포럼\\' 2일차…온디바이스 기반 AI 기술도 소개 업무생산성 향상…내년 1월 갤럭시 S24에 탑재 가능성\\n\\n[ESG경제=김도산 기자] 삼성전자가 자체 개발한 생성형 인공지능(AI) 모델 \\'삼성 가우스(Samsung Gauss)‘를 처음 공개했다.\\n\\n삼성전자는 삼성 가우스를 활용해 임직원의 업무 생산성을 높이고, 생성형 AI 모델을 단계적으로 제품에 탑재해 새로운 사용자 경험을 제공한다는 계획이다.\\n\\n삼성전자는 8일 삼성전자 서울R&D캠퍼스에서 \\'삼성 AI 포럼 2023\\' 2일차 행사를 열고 삼성리서치에서 개발한 삼성 가우스를 처음으로 공개했다고 밝혔다.\\n\\n삼성 가우스는 머신 러닝과 AI 기술의 근본이 되는 정규분포 이론을 정립한 독일의 천재 수학자이자 ’수학의 왕‘으로 불리는 칼 프리드리히 가우스의 이름을 땄다. 삼성 가우스는 머신 러닝 기술을 기반으로 ▲언어 모델 ▲코드 모델 ▲이미지 모델 등 3가지 모델로 구성됐다.\\n\\n\\n\\n언어 모델은 클라우드와 온디바이스(On-device)를 위한 다양한 모델로 이뤄졌다. 메일 작성과 문서 요약, 번역 등의 업무를 더 쉽고 빠르게 처리할 수 있게 해주며 기기를 더욱 스마트하게 제어해 소비자 경험을 향상시킬 수 있다.\\n\\n코드 모델을 기반으로 개발된 AI 코딩 어시스턴트 \\'코드아이\\'(code.i)는 사내 소프트웨어 개발에 최적화돼 개발자들이 쉽고 빠르게 코딩할 수 있도록 도와준다. 대화형 인터페이스를 통해 코드 설명이나 테스트 케이스 생성 등의 서비스도 제공한다.\\n\\n이미지 모델은 사진이나 그림 등 창의적인 이미지를 손쉽게 만들고 기존 이미지를 원하는 대로 바꿀 수 있도록 도와준다. 저해상도 이미지의 고해상도 전환도 쉽게 가능해진다.\\n\\n삼성전자는 현재 사내에서 삼성 가우스의 베타 테스트를 진행 중이며, 연내에 임직원이 사용할 수 있도록 오픈할 예정이다.\\n\\n삼성전자는 챗GPT 등 외부 생성형 AI 사용 확대로 보안 우려가 커지자. 그동안 번역과 문서 요약 등 임직원의 수요를 고려해 자체 생성형 AI를 개발해 왔다.\\n\\n삼성전자는 생성형 AI 모델들을 다양한 제품에 단계적으로 탑재할 계획인데, 업계에서는 이르면 내년 1월 공개할 갤럭시 S24에 생성형 AI 기능이 탑재될 것으로 보고 있다.\\n\\n한편 삼성리서치에서 주관한 이날 ’\\'삼성 AI 포럼 2023\\' 포럼에는 삼성전자의 AI 연구 인력과 학계·업계 AI 전문가 150여명이 참석해 생성형 AI 기술의 발전 방향을 논의하고 최신 기술 동향을 공유했다. 생성형 AI 기술이 발전하면서 인간의 삶이 어떻게 변화할지에 대한 심도 잇는 논의도 이뤄졌다.\\n\\n김대현 삼성리서치 글로벌AI센터 부센터장(부사장)은 \"삼성전자는 AI 기술 개발뿐만 아니라 AI 활용 시 보안과 안전성을 확보하기 위해 \\'AI 윤리 원칙\\'을 정해 이를 준수하기 위해 노력하고 있다\"며 \"생성형 AI에 대한 지속적 연구를 통해 소비자의 경험 가치를 높여 나갈 계획\"이라고 말했다.\\n\\n이날 포럼에서는 또 \\'생각의 사슬\\' 논문의 저자이기도 한 오픈AI의 제이슨 웨이 연구원이 \\'대규모 언어 모델 르네상스의 새로운 패러다임\\'을 주제로 대규모 언어 모델로 인한 패러다임 변화와 AI 분야에 미치는 영향에 대해 강연했다.\\n\\n#### 관련기사\\n\\n* [‘AI 안전’ 글로벌 첫 정상회의…AI 위험 공동 대응 ‘블레츨리 선언’ 채택](/news/articleView.html?idxno=5042)\\n* [韓 \\'글로벌 AI지수\\' 6위…미국이 압도적 1위, 중국 2위](/news/articleView.html?idxno=4781)\\n* [AI 반도체 인기 ‘창공으로 훨훨’…엔비디아 매출 ’대박‘](/news/articleView.html?idxno=4414)\\n* [글로벌 CEO의 49%, 생성 AI 확산에 “고용 중단·조정 고려”](/news/articleView.html?idxno=4367)\\n* [삼성전자, 브랜드가치 4년 연속 세계 5위…현대차는 32위](/news/articleView.html?idxno=5214)\\n* [삼성, 연말 앞두고 CSR 한 단계 도약…다문화청소년·노인 보듬는다](/news/articleView.html?idxno=5234)\\n* [EU, 세계 최초 포괄적인 AI 규제 도입](/news/articleView.html?idxno=5429)\\n* [삼성전자, 첫 AI 랩톱 \\'갤럭시 북4 시리즈\\' 공개…1월 2일 정식 출시](/news/articleView.html?idxno=5432)\\n* [내년 1월 \\'CES 2024\\' 화두는 온통 AI...\"AI for All\"](/news/articleView.html?idxno=5494)\\n* [삼성전자, 영국 지식그래프기술 스타트업 인수…\"차별화 AI경험 제공\"](/news/articleView.html?idxno=7166)\\n\\n저작권자 © ESG경제 무단전재 및 재배포 금지\\n\\n\\n\\n#### 키워드\\n\\nTags\\n[#삼성전자](/news/articleList.html?sc_area=A&sc_word=삼성전자)\\n[#삼성 가우스](/news/articleList.html?sc_area=A&sc_word=삼성 가우스)\\n[#삼성리서치](/news/articleList.html?sc_area=A&sc_word=삼성리서치)\\n[#서울R&D캠퍼스](/news/articleList.html?sc_area=A&sc_word=서울R&D캠퍼스)\\n[#갤럭시 S24](/news/articleList.html?sc_area=A&sc_word=갤럭시 S24)\\n[#오픈AI](/news/articleList.html?sc_area=A&sc_word=오픈AI)\\n[#생성형 AI](/news/articleList.html?sc_area=A&sc_word=생성형 AI)\\n\\n**김도산 기자**\\n[news@esgeconomy.com](mailto:news@esgeconomy.com)\\n\\n#### SNS 기사보내기'}, {'url': 'https://www.aitimes.kr/news/articleView.html?idxno=29318', 'title': \"삼성전자, 생성 AI 모델 '삼성 가우스' 공개...언어‧코드‧이미지 ...\", 'content': '삼성전자가 8일, 삼성전자 서울R&D캠퍼스에서 열린 \\'삼성 AI 포럼 2023\\'을 통해\\xa0생성 AI 모델 \\'삼성 가우스(Samsung Gauss)\\'를 최초 공개했다. 또한, 코드 모델을 기반으로 개발된 AI 코딩 어시스턴트 \\'코드아이(code.i)\\'는 사내 소프트웨어 개발에 최적화되어 개발자들이 쉽고 빠르게 코딩할 수 있도록 도와준다. 또 \"삼성전자는 AI 기술 개발뿐만 아니라 AI 활용시 보안 및 안전성을 확보하기 위해 \\'AI 윤리 원칙\\'을 정해 이를 준수하기 위해 노력하고 있다\"며, \"삼성전자는 생성형 AI에 대한 지속적 연구를 통해 소비자의 경험 가치를 높여 나갈 계획\"이라고 강조했다. 또 LLM의 특징과 앞으로의 발전 방향(오픈AI 정형원), \\'멀티 모달(Multi-modal) 대화형 AI\\'(고려대 서홍석 교수)\\xa0, 생성형 AI 활용한 효율적인 코드 생성 기술(서울대 황승원 교수 연구실), 고밀도 2D-3D 실내 예측(서울대 김건희 교수 연구실), 언어 모델 평가 방법(KAIST 서민준 교수 연구실), 긴 맥락을 이해해 영상을 생성하는 \\'텍스트 투 이미지(Text-to-image)\\' 생성 기술(연세대 최종현 교수 연구실) 등\\xa0생성형 AI의 현황과 향후 연구 방향에 대해서 공유했다.', 'score': 0.81875163, 'raw_content': '## 상단영역\\n\\n\\n\\n\\n## 본문영역\\n\\n### 삼성전자, 생성 AI 모델 \\'삼성 가우스\\' 공개...언어‧코드‧이미지 3개 모델, \"생산성 향상과 새로운 사용자 경험 제공할 것!\"\\n\\n* *기자명*\\n  전미준 기자\\n* 입력 2023.11.08 10:30\\n* 댓글 0\\n\\n\\n\\n#### ‘언어 모델’은 메일 작성, 문서 요약, 번역 등 업무를 더 쉽고 빠르게 처리. ‘코드 모델’은 사내 소프트웨어 개발에 최적화되어 개발자들이 쉽고 빠르게 코딩할 수 있도록 도와주며 대화형 인터페이스를 통해 코드 설명이나 테스트 케이스 생성 등의 서비스를 제공. ‘이미지 모델’은 사진이나 그림 등 창의적인 이미지를 손쉽게 만들고 기존 이미지를 원하는 대로 바꿀 수 있도록 도와준다.\\n\\n삼성전자가 8일, 삼성전자 서울R&D캠퍼스에서 열린 \\'삼성 AI 포럼 2023\\'을 통해\\xa0생성 AI 모델 \\'삼성 가우스(Samsung Gauss)\\'를 최초 공개했다.\\n\\n삼성전자는 \\'삼성 가우스\\'를 활용해 회사 내 업무 혁신을 추진하고 나아가 사람들의 일상에 새로운 경험을 제공하기 위해 생성형 AI 기술을 발전시킨다는 계획이다.\\n\\n삼성리서치에서 개발한 이 모델 \\'삼성 가우스\\'\\'는 정규분포 이론을 정립한 천재 수학자 칼 프리드리히 가우스(Carl Friedrich Gauss)로부터 영감을 얻은 생성형 AI 모델로, 삼성이 추구하는 생성형 AI의 무한한 가능성을 의미한다.\\n\\n삼성 가우스는 머신러닝 기술을 기반으로 ▷텍스트를 생성하는 언어 모델(Samsung Gauss Language) ▷코드를 생성하는 코드 모델(Samsung Gauss Code) ▷이미지를 생성하는 이미지 모델(Samsung Gauss Image) 등 3가지 모델로 구성되어 있다.\\n\\n먼저, 언어 모델은 클라우드(Cloud)와 온디바이스(On-device)를 위한 다양한 모델들로 이루어져 있다. 메일 작성, 문서 요약, 번역 등 업무를 더 쉽고 빠르게 처리할 수 있게 해주며 기기를 더욱 스마트하게 제어하여 소비자 경험을 향상시킬 수 있다.\\n\\n또한, 코드 모델을 기반으로 개발된 AI 코딩 어시스턴트 \\'코드아이(code.i)\\'는 사내 소프트웨어 개발에 최적화되어 개발자들이 쉽고 빠르게 코딩할 수 있도록 도와준다. 또, 대화형 인터페이스를 통해 코드 설명이나 테스트 케이스 생성 등의 서비스를 제공한다.\\n\\n이미지 모델은 사진이나 그림 등 창의적인 이미지를 손쉽게 만들고 기존 이미지를 원하는 대로 바꿀 수 있도록 도와준다. 또한, 저해상도 이미지의 고해상도 전환도 쉽게 가능해진다.\\n\\n삼성리서치가 개발한 다양한 온디바이스 AI 기술이 탑재된 제품을 사용할 경우 소비자들은 개인정보 전송없이 기기 제어, 문장 요약, 문법 교정 등을 더 쉽고 편리하게 이용할 수 있다.\\n\\n삼성전자는 이러한 생성형 AI 모델들을 다양한 제품에 단계적으로 탑재할 계획이다.\\n\\n이날 삼성리서치 글로벌AI센터 김대현 부센터장(부사장)은 \"생성형 AI 관련 연구를 지속적으로 지원하고 업계와 학계 리더들과 협력하며 함께 성장할 수 있도록 노력하겠다\"고 말했다.\\n\\n또 \"삼성전자는 AI 기술 개발뿐만 아니라 AI 활용시 보안 및 안전성을 확보하기 위해 \\'AI 윤리 원칙\\'을 정해 이를 준수하기 위해 노력하고 있다\"며, \"삼성전자는 생성형 AI에 대한 지속적 연구를 통해 소비자의 경험 가치를 높여 나갈 계획\"이라고 강조했다.\\n\\n한편, 삼성전자는\\xa08일, 삼성전자 서울R&D캠퍼스에서 \\'삼성 AI 포럼 2023\\' 둘째 날 행사를 개최했다.\\xa0삼성리서치에서 주관한 이날 포럼에는 삼성전자의 AI 연구 인력뿐만 아니라, AI 기술 교류를 위해 학계 및 업계 AI 전문가 150여 명이 참석했다.\\n\\n이날 한 자리에 모인 AI 전문가들은 전 세계적인 화두가 되고 있는 생성형 AI 기술의 발전 방향을 논의하고 관련 기술에 대한 최신 동향을 공유하고 AI 기술에 대한 논의뿐만 아니라 생성형 AI 기술이 발전하면서 인간의 삶이 어떻게 변화할 지에 대한 심도 깊은 논의도 진행했다.\\n\\n\\'생각의 사슬(Chain-of-Thought)\\' 논문의 저자이기도 한 오픈AI(OpenAI)의 제이슨 웨이(Jason Wei) 연구원은 \\'대규모 언어 모델 르네상스의 새로운 패러다임(New Paradigms in the Large Language Model Renaissance)\\'을 주제로 대규모 언어 모델로 인한 패러다임 변화와 그것이 AI 분야를 어떻게 변화시키고 있는지에 대해 강연했다.\\n\\n또 LLM의 특징과 앞으로의 발전 방향(오픈AI 정형원), \\'멀티 모달(Multi-modal) 대화형 AI\\'(고려대 서홍석 교수)\\xa0, 생성형 AI 활용한 효율적인 코드 생성 기술(서울대 황승원 교수 연구실), 고밀도 2D-3D 실내 예측(서울대 김건희 교수 연구실), 언어 모델 평가 방법(KAIST 서민준 교수 연구실), 긴 맥락을 이해해 영상을 생성하는 \\'텍스트 투 이미지(Text-to-image)\\' 생성 기술(연세대 최종현 교수 연구실) 등\\xa0생성형 AI의 현황과 향후 연구 방향에 대해서 공유했다.\\n\\n**전미준 기자**\\n[mj1412@aitimes.kr](mailto:mj1412@aitimes.kr)\\n\\n[다른기사 보기](/news/articleList.html?sc_area=I&sc_word=mj1412&view_type=sm)\\n\\n저작권자 © 인공지능신문 무단전재 및 재배포 금지\\n\\n**당신만 안 본 뉴스**\\n\\n[[AI 이슈] 메타, AI 비전 모델에 스스로 학습하는 혁신 도입...17억 개 이미지 데이터로 학습된 \\'DINOv3\\' 오픈소스로 공개](/news/articleView.html?idxno=36105)\\n\\n[서울 AI 허브, \\'스마트 워크&컨택센터 엑스포 2025\\'서 혁신 AI 기술과 서비스 만난다!](/news/articleView.html?idxno=36059)\\n\\n[\"텍스트는 물론, 비전에 사운드까지?\"... 멀티모달 최강자 NC AI, ‘몬스터 사운드 생성·변환 AI’ 공개](/news/articleView.html?idxno=36061)\\n\\n[“스핀 손실을 에너지로 바꿨다”, 초저전력 정보 소자 핵심 기술 개발...AI·엣지 컴퓨팅 핵심 기술로 기대](/news/articleView.html?idxno=36063)\\n\\n[GIST, 인공지능·디지털 시대 이끌 미래인재 201명 배출...2025년 하반기 학위수여식 개최](/news/articleView.html?idxno=36062)\\n\\n[[AI 리뷰] 구글, \\'개인정보 보호 데이터 생성\\' AI 프레임워크 공개... 대규모 LLM 없이도 조건부 생성기로 고품질 합성 데이터 생산](/news/articleView.html?idxno=36058)\\n\\n[인공지능, 항생제 내성균 퇴치 새 돌파구 열다!...MIT 연구진, 생성형 AI로 신개념 항생제 개발](/news/articleView.html?idxno=36077)\\n\\n[[AI 이슈] 메타, AI 비전 모델에 스스로 학습하는 혁신 도입...17억 개 이미지 데이터로 학습된 \\'DINOv3\\' 오픈소스로 공개](/news/articleView.html?idxno=36105)\\n\\n\\n\\n\\n\\n#### **기사 댓글** 0\\n\\n\\n\\n**0** / 400\\n\\n\\n\\n**주요기사**\\n\\n[이노디테크, AI 교정 진단 솔루션 닥터덴트AI ‘시뮬레이션 서비스’...3분 안에 5가지 치아교정 전략 제시](/news/articleView.html?idxno=36237)\\n\\n[삼성전자 \\'25년형 TV·모니터에 AI \\'코파일럿\\' 탑재...\"정보 제공부터 일상의 자연스러운 대화까지\"](/news/articleView.html?idxno=36236)\\n\\n[K-의료, AI·디지털로 17% 고성장 태국 시장 공략...KOTRA, ‘한-태 바이오테크 파트너십’ 개최](/news/articleView.html?idxno=36235)\\n\\n[오픈AI, ‘크리에이티브 랩 서울’ 출범...국내 창작자 인공지능 지원 본격화](/news/articleView.html?idxno=36234)\\n\\n[AI가 중고차 비서처럼! ... 엔카닷컴, 국내 최초 동적 프롬프트 생성 기반 엔카믿고 ‘AI 챗봇’ 도입](/news/articleView.html?idxno=36233)\\n\\n[LG CNS, 네이버와 AI 기반 광고 사업 제휴...\\'쇼핑 광고 최적화 서비스\\' 강화](/news/articleView.html?idxno=36223)\\n\\n\\n\\n이 기사를 공유합니다\\n\\n삭제한 댓글은 다시 복구할 수 없습니다.  \\n그래도 삭제하시겠습니까?\\n\\n본문글씨 줄이기\\n\\n본문글씨 키우기\\n\\n인쇄\\n\\nURL주소\\n\\n본문글씨 줄이기\\n\\n본문글씨 키우기'}]\n"
     ]
    }
   ],
   "source": [
    "# 웹 검색 도구 타빌리\n",
    "from langchain_teddynote.tools.tavily import TavilySearch\n",
    "\n",
    "web_search_tool = TavilySearch(max_results=3)\n",
    "\n",
    "results = web_search_tool.invoke({\"query\": question})\n",
    "print(results)"
   ]
  },
  {
   "cell_type": "code",
   "execution_count": 11,
   "id": "93182465",
   "metadata": {},
   "outputs": [],
   "source": [
    "# 상태 정의\n",
    "class State03(TypedDict):\n",
    "    question: Annotated[str, \"The question to answer\"]\n",
    "    generation: Annotated[str, \"The generation from the LLM\"]\n",
    "    web_search: Annotated[str, \"Whether to add search\"]\n",
    "    documents: Annotated[List[str], \"The documents retrieved\"]"
   ]
  },
  {
   "cell_type": "code",
   "execution_count": 19,
   "id": "50632e7e",
   "metadata": {},
   "outputs": [],
   "source": [
    "# 노드에 사용될 함수 작성\n",
    "\n",
    "# 문서 검색\n",
    "def retrieve(state: State03):\n",
    "    question = state[\"question\"]\n",
    "    documents = retriever.invoke(question)\n",
    "    return {\"documents\": documents}\n",
    "\n",
    "# 답변 생성\n",
    "def generate(state: State03):\n",
    "    question = state[\"question\"]\n",
    "    documents = state[\"documents\"]\n",
    "\n",
    "    generation = rag_chain.invoke({\"context\": documents, \"question\":question})\n",
    "    return {\"generation\": generation}\n",
    "\n",
    "# 문서 평가\n",
    "def grade_documents(state: State03):\n",
    "    print(\"\\n==== [CHECK DOCUMENT RELEVANCE TO QUESTION] ====\\n\")\n",
    "    question = state[\"question\"]\n",
    "    documents = state[\"documents\"]\n",
    "\n",
    "    # 필터링된 문서\n",
    "    filtered_docs = []\n",
    "    relevant_doc_count = 0\n",
    "\n",
    "    for d in documents:\n",
    "        # Question-Document 의 관련성 평가\n",
    "        score = retrieval_grader.invoke(\n",
    "            {\"question\": question, \"document\": d.page_content}\n",
    "        )\n",
    "        grade = score.binary_score\n",
    "\n",
    "        if grade == \"yes\":\n",
    "            print(\"==== [GRADE: DOCUMENT RELEVANT] ====\")\n",
    "            # 관련 있는 문서를 filtered_docs 에 추가\n",
    "            filtered_docs.append(d)\n",
    "            relevant_doc_count += 1\n",
    "        else:\n",
    "            print(\"==== [GRADE: DOCUMENT NOT RELEVANT] ====\")\n",
    "            continue\n",
    "\n",
    "    # 관련 문서가 없으면 웹 검색 수행\n",
    "    web_search = \"Yes\" if relevant_doc_count == 0 else \"No\"\n",
    "    return {\"documents\": filtered_docs, \"web_search\": web_search}\n",
    "\n",
    "# 쿼리 재작성\n",
    "def query_rewrite(state : State03):\n",
    "    question = state[\"question\"]\n",
    "    better_question = question_rewriter.invoke({\"question\":question})\n",
    "    return {\"question\":better_question}\n",
    "\n",
    "# 웹 검색\n",
    "def web_search(state: State03):\n",
    "    question = state[\"question\"]\n",
    "    documents = state[\"documents\"]\n",
    "\n",
    "    docs = web_search_tool.invoke({\"query\":question})\n",
    "    web_results = \"\\n\".join([d[\"content\"] for d in docs])\n",
    "    web_results = Document(page_content=web_results)\n",
    "    documents.append(web_results)\n",
    "\n",
    "    return {\"documents\": documents}"
   ]
  },
  {
   "cell_type": "code",
   "execution_count": 20,
   "id": "6c2e657b",
   "metadata": {},
   "outputs": [],
   "source": [
    "# 조건부 엣지에 사용할 함수 작성\n",
    "\n",
    "# 평가된 문서를 기반으로 다음 단계 결정\n",
    "def decide_to_generate(state: State03):\n",
    "    web_search = state[\"web_search\"]            # 웹검색 필요 여부\n",
    "    if web_search == \"Yes\":\n",
    "        print(\"==== [DECISION: ALL DOCUMENTS ARE NOT RELEVANT TO QUESTION, QUERY REWRITE] ====\")\n",
    "        return \"query_rewrite\"\n",
    "    else:\n",
    "        print(\"==== [DECISION: GENERATE] ====\")\n",
    "        return \"generate\""
   ]
  },
  {
   "cell_type": "code",
   "execution_count": 27,
   "id": "498fa11d",
   "metadata": {},
   "outputs": [
    {
     "data": {
      "image/png": "[encoded data removed]",
      "text/plain": [
       "<IPython.core.display.Image object>"
      ]
     },
     "metadata": {},
     "output_type": "display_data"
    },
    {
     "name": "stdout",
     "output_type": "stream",
     "text": [
      "[retrieve] → ['documents']\n",
      "{'documents': [Document(id='08087b2c-7025-42cb-adf7-e17b8d16a60b', metadata={'producer': 'Hancom PDF 1.3.0.542', 'creator': 'Hwp 2018 10.0.0.13462', 'creationdate': '2023-12-08T13:28:38+09:00', 'source': 'SPRI_AI_Brief_2023년12월호_F.pdf', 'file_path': 'SPRI_AI_Brief_2023년12월호_F.pdf', 'total_pages': 23, 'format': 'PDF 1.4', 'title': '', 'author': 'dj', 'subject': '', 'keywords': '', 'moddate': '2023-12-08T13:28:38+09:00', 'trapped': '', 'modDate': \"D:20231208132838+09'00'\", 'creationDate': \"D:20231208132838+09'00'\", 'page': 12}, page_content='SPRi AI Brief |  \\n2023-12월호\\n10\\n삼성전자, 자체 개발 생성 AI ‘삼성 가우스’ 공개\\nn 삼성전자가 온디바이스에서 작동 가능하며 언어, 코드, 이미지의 3개 모델로 구성된 자체 개발 생성 \\nAI 모델 ‘삼성 가우스’를 공개\\nn 삼성전자는 삼성 가우스를 다양한 제품에 단계적으로 탑재할 계획으로, 온디바이스 작동이 가능한 \\n삼성 가우스는 외부로 사용자 정보가 유출될 위험이 없다는 장점을 보유\\nKEY Contents\\n£ 언어, 코드, 이미지의 3개 모델로 구성된 삼성 가우스, 온디바이스 작동 지원\\nn 삼성전자가 2023년 11월 8일 열린 ‘삼성 AI 포럼 2023’ 행사에서 자체 개발한 생성 AI 모델 \\n‘삼성 가우스’를 최초 공개\\n∙정규분포 이론을 정립한 천재 수학자 가우스(Gauss)의 이름을 본뜬 삼성 가우스는 다양한 상황에 \\n최적화된 크기의 모델 선택이 가능\\n∙삼성 가우스는 라이선스나 개인정보를 침해하지 않는 안전한 데이터를 통해 학습되었으며, \\n온디바이스에서 작동하도록 설계되어 외부로 사용자의 정보가 유출되지 않는 장점을 보유\\n∙삼성전자는 삼성 가우스를 활용한 온디바이스 AI 기술도 소개했으며, 생성 AI 모델을 다양한 제품에 \\n단계적으로 탑재할 계획\\nn 삼성 가우스는 △텍스트를 생성하는 언어모델 △코드를 생성하는 코드 모델 △이미지를 생성하는 \\n이미지 모델의 3개 모델로 구성\\n∙언어 모델은 클라우드와 온디바이스 대상 다양한 모델로 구성되며, 메일 작성, 문서 요약, 번역 업무의 \\n처리를 지원\\n∙코드 모델 기반의 AI 코딩 어시스턴트 ‘코드아이(code.i)’는 대화형 인터페이스로 서비스를 제공하며 \\n사내 소프트웨어 개발에 최적화\\n∙이미지 모델은 창의적인 이미지를 생성하고 기존 이미지를 원하는 대로 바꿀 수 있도록 지원하며 \\n저해상도 이미지의 고해상도 전환도 지원\\nn IT 전문지 테크리퍼블릭(TechRepublic)은 온디바이스 AI가 주요 기술 트렌드로 부상했다며,'), Document(id='b0fafc08-b232-49a8-8c3d-f99630a95e21', metadata={'producer': 'Hancom PDF 1.3.0.542', 'creator': 'Hwp 2018 10.0.0.13462', 'creationdate': '2023-12-08T13:28:38+09:00', 'source': 'SPRI_AI_Brief_2023년12월호_F.pdf', 'file_path': 'SPRI_AI_Brief_2023년12월호_F.pdf', 'total_pages': 23, 'format': 'PDF 1.4', 'title': '', 'author': 'dj', 'subject': '', 'keywords': '', 'moddate': '2023-12-08T13:28:38+09:00', 'trapped': '', 'modDate': \"D:20231208132838+09'00'\", 'creationDate': \"D:20231208132838+09'00'\", 'page': 12}, page_content='2024년부터 가우스를 탑재한 삼성 스마트폰이 메타의 라마(Llama)2를 탑재한 퀄컴 기기 및 구글 \\n어시스턴트를 적용한 구글 픽셀(Pixel)과 경쟁할 것으로 예상\\n☞ 출처 : 삼성전자, ‘삼성 AI 포럼’서 자체 개발 생성형 AI ‘삼성 가우스’ 공개, 2023.11.08.\\n삼성전자, ‘삼성 개발자 콘퍼런스 코리아 2023’ 개최, 2023.11.14.\\nTechRepublic, Samsung Gauss: Samsung Research Reveals Generative AI, 2023.11.08.'), Document(id='8ec44870-1d79-4eda-bb54-bc57ce2a20a0', metadata={'producer': 'Hancom PDF 1.3.0.542', 'creator': 'Hwp 2018 10.0.0.13462', 'creationdate': '2023-12-08T13:28:38+09:00', 'source': 'SPRI_AI_Brief_2023년12월호_F.pdf', 'file_path': 'SPRI_AI_Brief_2023년12월호_F.pdf', 'total_pages': 23, 'format': 'PDF 1.4', 'title': '', 'author': 'dj', 'subject': '', 'keywords': '', 'moddate': '2023-12-08T13:28:38+09:00', 'trapped': '', 'modDate': \"D:20231208132838+09'00'\", 'creationDate': \"D:20231208132838+09'00'\", 'page': 11}, page_content='다양한 기업들이 맞춤형 AI 모델을 한층 쉽게 개발할 수 있도록 지원\\n∙생성 AI 개발에 필요한 컴퓨팅과 데이터 처리 요구사항을 지원하기 위해 AI 플랫폼(PAI), \\n데이터베이스 솔루션, 컨테이너 서비스와 같은 클라우드 신제품도 발표\\nn 알리바바 클라우드는 AI 개발을 촉진하기 위해 올해 말까지 720억 개 매개변수를 가진 통이치엔원 \\n모델을 오픈소스화한다는 계획도 공개\\n☞ 출처 : Alibaba Cloud, Alibaba Cloud Launches Tongyi Qianwen 2.0 and Industry-specific Models to Support \\nCustomers Reap Benefits of Generative AI, 2023.10.31.'), Document(id='0a697e7f-e473-480c-8673-ae84aaa4d651', metadata={'producer': 'Hancom PDF 1.3.0.542', 'creator': 'Hwp 2018 10.0.0.13462', 'creationdate': '2023-12-08T13:28:38+09:00', 'source': 'SPRI_AI_Brief_2023년12월호_F.pdf', 'file_path': 'SPRI_AI_Brief_2023년12월호_F.pdf', 'total_pages': 23, 'format': 'PDF 1.4', 'title': '', 'author': 'dj', 'subject': '', 'keywords': '', 'moddate': '2023-12-08T13:28:38+09:00', 'trapped': '', 'modDate': \"D:20231208132838+09'00'\", 'creationDate': \"D:20231208132838+09'00'\", 'page': 18}, page_content='n 연구진은 상기 원칙에 따라 AI를 성능에 따라 0~5단계와 광범위한 목적에 활용될 수 있는 범용 AI 및 특정 \\n과업에 활용되는 특수 AI로 분류했으며, 특수 AI에서는 5단계까지 달성되었으나, 범용 AI는 현재 1단계 수준\\n성능\\n특수 AI 예시\\n범용 AI 예시\\n0단계: AI 아님\\n계산기 소프트웨어, 컴파일러\\n아마존 메커니컬 터크\\n1단계: 신진(숙련되지 않은 인간)\\nGOFAI(Good Old Fashioned Artificial Intelligence) \\n챗GPT, 바드, 라마2\\n2단계: 유능(숙련된 인간의 50% 이상)\\n스마트 스피커(애플 시리, 아마존 알렉사, 구글 \\n어시스턴트), IBM 왓슨 \\n미달성\\n3단계: 전문가(숙련된 인간의 90% 이상)\\n문법 교정기(그래머리), 생성 이미지 모델(달리2)\\n미달성\\n4단계: 거장(숙련된 인간의 99% 이상) \\n딥블루, 알파고\\n미달성\\n5단계: 초인간(인간을 100% 능가)\\n알파폴드, 알파제로, 스톡피시\\n미달성\\n<구글 딥마인드의 범용 AI 분류 프레임워크> \\n☞ 출처 : Arxiv.org, Levels of AGI: Operationalizing Progress on the Path to AGI, 2023.11.04.')]}\n",
      "\n",
      "==== [CHECK DOCUMENT RELEVANCE TO QUESTION] ====\n",
      "\n",
      "==== [GRADE: DOCUMENT RELEVANT] ====\n",
      "==== [GRADE: DOCUMENT RELEVANT] ====\n",
      "==== [GRADE: DOCUMENT NOT RELEVANT] ====\n",
      "==== [GRADE: DOCUMENT NOT RELEVANT] ====\n",
      "==== [DECISION: GENERATE] ====\n",
      "[grade_documents] → ['documents', 'web_search']\n",
      "{'documents': [Document(id='08087b2c-7025-42cb-adf7-e17b8d16a60b', metadata={'producer': 'Hancom PDF 1.3.0.542', 'creator': 'Hwp 2018 10.0.0.13462', 'creationdate': '2023-12-08T13:28:38+09:00', 'source': 'SPRI_AI_Brief_2023년12월호_F.pdf', 'file_path': 'SPRI_AI_Brief_2023년12월호_F.pdf', 'total_pages': 23, 'format': 'PDF 1.4', 'title': '', 'author': 'dj', 'subject': '', 'keywords': '', 'moddate': '2023-12-08T13:28:38+09:00', 'trapped': '', 'modDate': \"D:20231208132838+09'00'\", 'creationDate': \"D:20231208132838+09'00'\", 'page': 12}, page_content='SPRi AI Brief |  \\n2023-12월호\\n10\\n삼성전자, 자체 개발 생성 AI ‘삼성 가우스’ 공개\\nn 삼성전자가 온디바이스에서 작동 가능하며 언어, 코드, 이미지의 3개 모델로 구성된 자체 개발 생성 \\nAI 모델 ‘삼성 가우스’를 공개\\nn 삼성전자는 삼성 가우스를 다양한 제품에 단계적으로 탑재할 계획으로, 온디바이스 작동이 가능한 \\n삼성 가우스는 외부로 사용자 정보가 유출될 위험이 없다는 장점을 보유\\nKEY Contents\\n£ 언어, 코드, 이미지의 3개 모델로 구성된 삼성 가우스, 온디바이스 작동 지원\\nn 삼성전자가 2023년 11월 8일 열린 ‘삼성 AI 포럼 2023’ 행사에서 자체 개발한 생성 AI 모델 \\n‘삼성 가우스’를 최초 공개\\n∙정규분포 이론을 정립한 천재 수학자 가우스(Gauss)의 이름을 본뜬 삼성 가우스는 다양한 상황에 \\n최적화된 크기의 모델 선택이 가능\\n∙삼성 가우스는 라이선스나 개인정보를 침해하지 않는 안전한 데이터를 통해 학습되었으며, \\n온디바이스에서 작동하도록 설계되어 외부로 사용자의 정보가 유출되지 않는 장점을 보유\\n∙삼성전자는 삼성 가우스를 활용한 온디바이스 AI 기술도 소개했으며, 생성 AI 모델을 다양한 제품에 \\n단계적으로 탑재할 계획\\nn 삼성 가우스는 △텍스트를 생성하는 언어모델 △코드를 생성하는 코드 모델 △이미지를 생성하는 \\n이미지 모델의 3개 모델로 구성\\n∙언어 모델은 클라우드와 온디바이스 대상 다양한 모델로 구성되며, 메일 작성, 문서 요약, 번역 업무의 \\n처리를 지원\\n∙코드 모델 기반의 AI 코딩 어시스턴트 ‘코드아이(code.i)’는 대화형 인터페이스로 서비스를 제공하며 \\n사내 소프트웨어 개발에 최적화\\n∙이미지 모델은 창의적인 이미지를 생성하고 기존 이미지를 원하는 대로 바꿀 수 있도록 지원하며 \\n저해상도 이미지의 고해상도 전환도 지원\\nn IT 전문지 테크리퍼블릭(TechRepublic)은 온디바이스 AI가 주요 기술 트렌드로 부상했다며,'), Document(id='b0fafc08-b232-49a8-8c3d-f99630a95e21', metadata={'producer': 'Hancom PDF 1.3.0.542', 'creator': 'Hwp 2018 10.0.0.13462', 'creationdate': '2023-12-08T13:28:38+09:00', 'source': 'SPRI_AI_Brief_2023년12월호_F.pdf', 'file_path': 'SPRI_AI_Brief_2023년12월호_F.pdf', 'total_pages': 23, 'format': 'PDF 1.4', 'title': '', 'author': 'dj', 'subject': '', 'keywords': '', 'moddate': '2023-12-08T13:28:38+09:00', 'trapped': '', 'modDate': \"D:20231208132838+09'00'\", 'creationDate': \"D:20231208132838+09'00'\", 'page': 12}, page_content='2024년부터 가우스를 탑재한 삼성 스마트폰이 메타의 라마(Llama)2를 탑재한 퀄컴 기기 및 구글 \\n어시스턴트를 적용한 구글 픽셀(Pixel)과 경쟁할 것으로 예상\\n☞ 출처 : 삼성전자, ‘삼성 AI 포럼’서 자체 개발 생성형 AI ‘삼성 가우스’ 공개, 2023.11.08.\\n삼성전자, ‘삼성 개발자 콘퍼런스 코리아 2023’ 개최, 2023.11.14.\\nTechRepublic, Samsung Gauss: Samsung Research Reveals Generative AI, 2023.11.08.')], 'web_search': 'No'}\n",
      "[generate] → ['generation']\n",
      "{'generation': '삼성전자가 개발한 생성형 AI의 이름은 **“삼성 가우스”**입니다.  \\n\\n**Source**  \\n- SPRI_AI_Brief_2023년12월호_F.pdf (page\\u202f12)'}\n",
      "\n",
      "\n",
      "\n",
      "삼성전자가 개발한 생성형 AI의 이름은 **“삼성 가우스”**입니다.  \n",
      "\n",
      "**Source**  \n",
      "- SPRI_AI_Brief_2023년12월호_F.pdf (page 12)\n"
     ]
    }
   ],
   "source": [
    "# 1. 상태 만들고\n",
    "\n",
    "# 2. 노드함수 생성하고 상태엣지함수 생성하고\n",
    "\n",
    "# 3. 상태 그래프 만들고\n",
    "workflow = StateGraph(State03)\n",
    "\n",
    "# 4. 상태 그래프에 노드 추가하고\n",
    "workflow.add_node(\"retrieve\", retrieve)\n",
    "workflow.add_node(\"grade_documents\", grade_documents)\n",
    "workflow.add_node(\"generate\", generate)\n",
    "workflow.add_node(\"query_rewrite\", query_rewrite)\n",
    "workflow.add_node(\"web_search_node\", web_search)\n",
    "\n",
    "# 5. 엣지로 노드 연결하고\n",
    "workflow.add_edge(START, \"retrieve\")\n",
    "workflow.add_edge(\"retrieve\", \"grade_documents\")\n",
    "workflow.add_conditional_edges(\"grade_documents\",\n",
    "                               decide_to_generate,\n",
    "                               {\n",
    "                                   \"query_rewrite\": \"query_rewrite\",\n",
    "                                   \"generate\": \"generate\"\n",
    "                               })\n",
    "workflow.add_edge(\"query_rewrite\", \"web_search_node\")\n",
    "workflow.add_edge(\"web_search_node\", \"generate\")\n",
    "workflow.add_edge(\"generate\", END)\n",
    "\n",
    "# 6. 컴파일하고\n",
    "memory = MemorySaver()\n",
    "app = workflow.compile(checkpointer=memory)\n",
    "\n",
    "# 7. 시각화해서 확인하고 (스킵가능)\n",
    "display(Image(app.get_graph().draw_mermaid_png()))\n",
    "\n",
    "# 8. 그래프 실행\n",
    "config = RunnableConfig(recursion_limit=20, configurable={\"thread_id\": str(uuid.uuid4())})\n",
    "\n",
    "inputs = {\"question\": \"삼성전자가 개발한 생성형 AI 의 이름은?\",}\n",
    "\n",
    "for step in app.stream(inputs, config=config):\n",
    "    # step은 {\"노드명\": {변경된_상태키: 값, ...}} 형태로 옴\n",
    "    for node, payload in step.items():\n",
    "        print(f\"[{node}] → {list(payload.keys())}\")\n",
    "        # 필요하면 자세히:\n",
    "        print(payload)\n",
    "\n",
    "# 마지막 상태 한 번 더 받고 싶으면\n",
    "print('\\n\\n')\n",
    "final_state = app.get_state(config).values\n",
    "print(final_state[\"generation\"])"
   ]
  },
  {
   "cell_type": "code",
   "execution_count": null,
   "id": "fc04539c",
   "metadata": {},
   "outputs": [],
   "source": [
    "result = app.invoke(inputs, config=config)\n",
    "print(result[\"generation\"])  # 최종 답변만 출력\n"
   ]
  },
  {
   "cell_type": "code",
   "execution_count": null,
   "id": "575a1a43",
   "metadata": {},
   "outputs": [],
   "source": [
    "from langchain_teddynote.messages import stream_graph, invoke_graph\n",
    "stream_graph(\n",
    "    app,\n",
    "    inputs,\n",
    "    config,\n",
    "    [\"retrieve\", \"grade_documents\", \"query_rewrite\", \"web_search_node\", \"generate\"],\n",
    ")"
   ]
  },
  {
   "cell_type": "code",
   "execution_count": null,
   "id": "4c88ed31",
   "metadata": {},
   "outputs": [],
   "source": []
  },
  {
   "cell_type": "code",
   "execution_count": null,
   "id": "e611dbe7",
   "metadata": {},
   "outputs": [],
   "source": []
  }
 ],
 "metadata": {
  "kernelspec": {
   "display_name": "Python 3",
   "language": "python",
   "name": "python3"
  },
  "language_info": {
   "codemirror_mode": {
    "name": "ipython",
    "version": 3
   },
   "file_extension": ".py",
   "mimetype": "text/x-python",
   "name": "python",
   "nbconvert_exporter": "python",
   "pygments_lexer": "ipython3",
   "version": "3.12.3"
  }
 },
 "nbformat": 4,
 "nbformat_minor": 5
}
