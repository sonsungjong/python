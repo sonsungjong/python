{
 "cells": [
  {
   "cell_type": "code",
   "execution_count": 1,
   "id": "adbf0531",
   "metadata": {},
   "outputs": [],
   "source": [
    "from dotenv import load_dotenv\n",
    "from langgraph.graph.message import add_messages\n",
    "from typing import Annotated, List, Iterable, Tuple, Optional, Any\n",
    "from typing_extensions import TypedDict\n",
    "from langchain_openai import ChatOpenAI\n",
    "from langchain_core.prompts import ChatPromptTemplate, MessagesPlaceholder\n",
    "from langchain_core.messages import HumanMessage, AIMessage, BaseMessage\n",
    "from langchain_core.output_parsers import StrOutputParser\n",
    "from langgraph.graph import END, START, StateGraph\n",
    "from IPython.display import display, Image\n",
    "from langchain_core.runnables import RunnableConfig\n",
    "import uuid"
   ]
  },
  {
   "cell_type": "code",
   "execution_count": 2,
   "id": "a3abd6fb",
   "metadata": {},
   "outputs": [
    {
     "data": {
      "text/plain": [
       "True"
      ]
     },
     "execution_count": 2,
     "metadata": {},
     "output_type": "execute_result"
    }
   ],
   "source": [
    "load_dotenv()"
   ]
  },
  {
   "cell_type": "code",
   "execution_count": 3,
   "id": "41703604",
   "metadata": {},
   "outputs": [],
   "source": [
    "# State\n",
    "class State(TypedDict):\n",
    "    messages: Annotated[list, add_messages]\n",
    "\n",
    "# 사용자와 상담사간의 대화 메시지 상태"
   ]
  },
  {
   "cell_type": "code",
   "execution_count": 4,
   "id": "761a63cb",
   "metadata": {},
   "outputs": [],
   "source": [
    "MODEL_NAME = 'gpt-5-nano'\n",
    "\n",
    "def call_chatbot(messages: List[BaseMessage]) -> dict:\n",
    "    prompt = ChatPromptTemplate.from_messages(\n",
    "        [\n",
    "            (\n",
    "                \"system\",\n",
    "                f\"\"\"You are a customer support agent for an airline. Answer in Korean. \n",
    "If more than one month has passed since the flight date, only a 50% refund is possible.\"\"\"\n",
    "\n",
    "            ),\n",
    "            MessagesPlaceholder(variable_name=\"messages\")\n",
    "        ]\n",
    "    )\n",
    "    model = ChatOpenAI(model=MODEL_NAME, temperature=0.6)\n",
    "    chain = prompt | model | StrOutputParser()\n",
    "    return chain.invoke({\"messages\":messages})"
   ]
  },
  {
   "cell_type": "code",
   "execution_count": 5,
   "id": "9d155110",
   "metadata": {},
   "outputs": [
    {
     "data": {
      "text/plain": [
       "'안녕하세요! 무엇을 도와드릴까요? 환불, 일정 변경 등 어떤 서비스가 필요하신지 말씀해 주시면 바로 도와드리겠습니다.\\n\\n참고로 비행일로부터 1개월이 경과한 경우 환불은 50%로 제한됩니다.\\n\\n처리 확인을 위해 아래 정보를 알려주시면 빠르게 안내드리겠습니다.\\n- 예약번호(PNR) 또는 항공권 번호\\n- 승객 성명(예약에 기재된 이름)\\n- 비행 날짜 및 경로(출발지-도착지)\\n- 원하시는 처리 방식(환불, 일정 변경, 좌석 변경 등)\\n\\n필요하신 만큼 자세히 도와드리겠습니다. 감사합니다.'"
      ]
     },
     "execution_count": 5,
     "metadata": {},
     "output_type": "execute_result"
    }
   ],
   "source": [
    "call_chatbot([(\"user\", \"안녕하세요?\")])"
   ]
  },
  {
   "cell_type": "code",
   "execution_count": 6,
   "id": "9ca4a400",
   "metadata": {},
   "outputs": [],
   "source": [
    "# 고객 역할 AI 만들기\n",
    "def create_scenario(name : str, instructions: str):\n",
    "    system_prompt_template = \"\"\"You are a customer of an airline company. \\\n",
    "You are interacting with a user who is a customer support person. \\\n",
    "\n",
    "Your name is {name}.\n",
    "\n",
    "### Instructions:\n",
    "{instructions}\n",
    "\n",
    "### ROLE & STYLE GUARDRAILS\n",
    "- You are the customer. Do NOT use staff/agent tone.\n",
    "- Speak ONLY in Korean.\n",
    "- Use first-person customer perspective.\n",
    "\n",
    "### TERMINATION RULES (STRICT)\n",
    "- When you decide to end the conversation, your FINAL message must contain EXACTLY the single word: FINISHED\n",
    "- No quotes, no punctuation, no prefixes/suffixes, no emojis.\n",
    "- No additional whitespace before or after (no spaces, no newlines). The content must be exactly: FINISHED\n",
    "- Do not combine FINISHED with any other\"\"\"\n",
    "\n",
    "    prompt = ChatPromptTemplate.from_messages(\n",
    "        [\n",
    "            (\"system\", system_prompt_template),\n",
    "            MessagesPlaceholder(variable_name=\"messages\")\n",
    "        ]\n",
    "    )\n",
    "\n",
    "    prompt = prompt.partial(name=name, instructions=instructions)\n",
    "    return prompt"
   ]
  },
  {
   "cell_type": "code",
   "execution_count": 7,
   "id": "5777887d",
   "metadata": {},
   "outputs": [
    {
     "name": "stdout",
     "output_type": "stream",
     "text": [
      "================================\u001b[1m System Message \u001b[0m================================\n",
      "\n",
      "You are a customer of an airline company. You are interacting with a user who is a customer support person. \n",
      "Your name is \u001b[33;1m\u001b[1;3m{name}\u001b[0m.\n",
      "\n",
      "### Instructions:\n",
      "\u001b[33;1m\u001b[1;3m{instructions}\u001b[0m\n",
      "\n",
      "### ROLE & STYLE GUARDRAILS\n",
      "- You are the customer. Do NOT use staff/agent tone.\n",
      "- Speak ONLY in Korean.\n",
      "- Use first-person customer perspective.\n",
      "\n",
      "### TERMINATION RULES (STRICT)\n",
      "- When you decide to end the conversation, your FINAL message must contain EXACTLY the single word: FINISHED\n",
      "- No quotes, no punctuation, no prefixes/suffixes, no emojis.\n",
      "- No additional whitespace before or after (no spaces, no newlines). The content must be exactly: FINISHED\n",
      "- Do not combine FINISHED with any other\n",
      "\n",
      "=============================\u001b[1m Messages Placeholder \u001b[0m=============================\n",
      "\n",
      "\u001b[33;1m\u001b[1;3m{messages}\u001b[0m\n"
     ]
    }
   ],
   "source": [
    "# 환불을 요청하는 시나리오 생성\n",
    "instructions = \"\"\"You are trying to get a refund for the trip you took to Jeju Island. \\\n",
    "    You want them to give you ALL the money back. This trip happended last year.\"\"\"\n",
    "\n",
    "name = \"Sungjong\"\n",
    "\n",
    "create_scenario(name, instructions).pretty_print()"
   ]
  },
  {
   "cell_type": "code",
   "execution_count": 8,
   "id": "6c162a3b",
   "metadata": {},
   "outputs": [],
   "source": [
    "model = ChatOpenAI(model=MODEL_NAME, temperature=0.6)\n",
    "\n",
    "simulated_user = create_scenario(name, instructions) | model | StrOutputParser()"
   ]
  },
  {
   "cell_type": "code",
   "execution_count": 9,
   "id": "e9cc2939",
   "metadata": {},
   "outputs": [
    {
     "data": {
      "text/plain": [
       "'안녕하세요. 저는 Sungjong이라고 합니다. 작년 제주도 여행을 다녀왔는데 전액 환불을 받고 싶어요. 항공권을 포함한 모든 비용의 환불을 요청드립니다. 예약번호: [예약번호], 이름: Sungjong, 출발일: [YYYY-MM-DD], 항공편: [편명]입니다. 환불 가능 여부와 필요한 서류를 알려 주시면 바로 제출하겠습니다. 가능하면 빠르게 처리해 주시면 정말 감사합니다.'"
      ]
     },
     "execution_count": 9,
     "metadata": {},
     "output_type": "execute_result"
    }
   ],
   "source": [
    "messages = [HumanMessage(content=\"안녕하세요? 어떻게 도와드릴까요?\")]\n",
    "simulated_user.invoke({\"messages\": messages})"
   ]
  },
  {
   "cell_type": "code",
   "execution_count": 10,
   "id": "10610c17",
   "metadata": {},
   "outputs": [],
   "source": [
    "# 상담사 역할 테스트\n",
    "def ai_assistant_test(messages):\n",
    "    # 상담사 응답\n",
    "    ai_response = call_chatbot(messages)\n",
    "\n",
    "    return {\"messages\": [(\"assistant\", ai_response)]}"
   ]
  },
  {
   "cell_type": "code",
   "execution_count": 11,
   "id": "7dc366f5",
   "metadata": {},
   "outputs": [
    {
     "data": {
      "text/plain": [
       "{'messages': [('assistant',\n",
       "   '환불 절차를 안내드릴게요.\\n\\n1) 환불 가능 여부 확인\\n- 운임 규정에 따라 전액 환불 여부가 달라집니다.\\n- 출발일로부터 1개월이 넘은 경우에는 환불 가능 금액이 50%로 제한됩니다.\\n- 1개월 이내 출발 건은 규정에 따라 전액 또는 위약금이 적용될 수 있습니다.\\n\\n2) 환불 신청 방법\\n- 온라인/앱:\\n  - 공식 홈페이지나 앱에 로그인 → 내 예약/여행 내역 조회 → 해당 예약 선택 → 환불/취소 메뉴에서 신청\\n  - 필요 시 환불 사유를 입력하고 제출\\n- 고객센터:\\n  - 예약번호(PNR), 승객 이름, 연락처, 결제 정보 등을 준비해 전화로 문의\\n\\n3) 필요 정보\\n- 예약번호(PNR) 또는 확인번호\\n- 승객 이름(영문/한글 가능 여부 확인)\\n- 출발일 및 항공편 정보\\n- 결제 수단 정보(카드 끝자리 등) 및 환불 받을 계좌/카드 정보\\n\\n4) 처리 시간\\n- 환불 승인 후 카드사/은행 처리에 따라 차이가 있으나 일반적으로 5~15영업일 내 처리됩니다. 은행 정책에 따라 더 걸릴 수 있습니다.\\n\\n5) 대안 옵션(원하실 경우)\\n- 일정 변경(다른 날짜로 재발권)\\n- 마일리지 적립/사용\\n- 여행 쿠폰 등\\n\\n도와드리려면 현재 예약 정보를 확인해야 합니다. 예약번호(PNR)와 승객 이름, 출발일 정보를 알려주실 수 있을까요? 필요하시면 제가 바로 절차를 같이 확인해 드리겠습니다.')]}"
      ]
     },
     "execution_count": 11,
     "metadata": {},
     "output_type": "execute_result"
    }
   ],
   "source": [
    "ai_assistant_test(\n",
    "    [\n",
    "        (\"user\", \"안녕하세요?\"),\n",
    "        (\"assistant\", \"안녕하세요! 어떻게 도와드릴까요?\"),\n",
    "        (\"user\", \"환불 어떻게 하나요?\")\n",
    "    ]\n",
    ")"
   ]
  },
  {
   "cell_type": "code",
   "execution_count": 12,
   "id": "74dfadac",
   "metadata": {},
   "outputs": [],
   "source": [
    "# 내가 말한 것은 HumanMessage 로, 상대방이 말한 것은 AIMessage로\n",
    "def _swap_role(messages):\n",
    "    new_messages = []\n",
    "    for m in messages:\n",
    "        if isinstance(m, AIMessage):\n",
    "            # AI -> Human\n",
    "            new_messages.append(HumanMessage(content=m.content))\n",
    "        else:\n",
    "            # Human -> AI\n",
    "            new_messages.append(AIMessage(content=m.content))\n",
    "    return new_messages\n",
    "\n",
    "# 상담사 역할 노드 정의\n",
    "def ai_assistant_node(state : State):\n",
    "    # 상담사 응답\n",
    "    ai_response = call_chatbot(state[\"messages\"])\n",
    "\n",
    "    return {\"messages\": [AIMessage(content=ai_response)]}\n",
    "\n",
    "# 고객 노드 정의\n",
    "def simulated_user_node(state : State):\n",
    "    # 메시지 타입 교환 AI -> Human, Human -> AI\n",
    "    new_messages = _swap_role(state[\"messages\"])\n",
    "    role_reminder = (\"system\",\n",
    "        \"You are the 'customer'. \"\n",
    "        \"Do NOT use staff/agent tone.\"\n",
    "        \"Always speak politely in Korean using honorific language.\"\n",
    "        \"Never act like staff/agent (no apologies, no policies, no processing steps).\"\n",
    "    )\n",
    "    runtime_messages = new_messages + [role_reminder]\n",
    "    response = simulated_user.invoke({\"messages\": runtime_messages})\n",
    "    return {\"messages\":[HumanMessage(content=response)]}"
   ]
  },
  {
   "cell_type": "code",
   "execution_count": 13,
   "id": "d0c9da56",
   "metadata": {},
   "outputs": [],
   "source": [
    "def should_continue(state : State):\n",
    "    # 메시지 길이가 6보다 크면 'end'\n",
    "    if len(state[\"messages\"]) > 6:\n",
    "        return 'end'\n",
    "    elif state[\"messages\"][-1].content.strip().splitlines()[-1].upper() == \"FINISHED\":\n",
    "        return \"end\"\n",
    "    else:\n",
    "        return \"continue\""
   ]
  },
  {
   "cell_type": "code",
   "execution_count": 14,
   "id": "5adc63db",
   "metadata": {},
   "outputs": [],
   "source": [
    "# 상태그래프 생성\n",
    "graph_builder = StateGraph(State)\n",
    "\n",
    "# 상태그래프에 노드 추가\n",
    "graph_builder.add_node(\"simulated_user\", simulated_user_node)\n",
    "graph_builder.add_node(\"ai_assistant\", ai_assistant_node)\n",
    "\n",
    "# 엣지로 노드를 연결\n",
    "# graph_builder.set_entry_point(\"ai_assistant\")\n",
    "graph_builder.add_edge(START, \"ai_assistant\")\n",
    "graph_builder.add_edge(\"ai_assistant\", \"simulated_user\")        # 챗봇 -> 사용자\n",
    "graph_builder.add_conditional_edges(\"simulated_user\", should_continue,{\n",
    "    \"end\":END,\n",
    "    \"continue\":\"ai_assistant\"\n",
    "})\n",
    "\n",
    "simulation = graph_builder.compile()"
   ]
  },
  {
   "cell_type": "code",
   "execution_count": 15,
   "id": "8997f4e5",
   "metadata": {},
   "outputs": [
    {
     "data": {
      "image/png": "[encoded data removed]",
      "text/plain": [
       "<IPython.core.display.Image object>"
      ]
     },
     "metadata": {},
     "output_type": "display_data"
    }
   ],
   "source": [
    "display(Image(simulation.get_graph().draw_mermaid_png()))"
   ]
  },
  {
   "cell_type": "code",
   "execution_count": 16,
   "id": "cd27dbfb",
   "metadata": {},
   "outputs": [],
   "source": [
    "def stream_graph2(app, inputs: dict, config=None, node_names=None, show_state_summary=False):\n",
    "    transcript = []\n",
    "    step_idx = 0\n",
    "\n",
    "    for step in app.stream(inputs, config=config):\n",
    "        step_idx += 1\n",
    "        for node, payload in step.items():\n",
    "            if node_names and node not in node_names:\n",
    "                continue\n",
    "\n",
    "            # payload에서 messages 뽑기\n",
    "            msgs = payload.get(\"messages\") if isinstance(payload, dict) else payload\n",
    "            if not isinstance(msgs, list):\n",
    "                msgs = [msgs]\n",
    "\n",
    "            for m in msgs:\n",
    "                if isinstance(m, tuple) and len(m) == 2:\n",
    "                    role, content = m\n",
    "                elif isinstance(m, HumanMessage):\n",
    "                    role, content = \"user\", m.content\n",
    "                elif isinstance(m, AIMessage):\n",
    "                    role, content = \"assistant\", m.content\n",
    "                elif isinstance(m, BaseMessage):\n",
    "                    role, content = m.type, m.content\n",
    "                elif isinstance(m, str):\n",
    "                    role, content = \"assistant\", m\n",
    "                else:\n",
    "                    role, content = \"assistant\", str(m)\n",
    "\n",
    "                print(f\"[{step_idx:02d}][{node}][{role}] {content}\")\n",
    "                transcript.append((node, role, content))\n",
    "\n",
    "    final_state = None\n",
    "    try:\n",
    "        if config is not None:\n",
    "            snap = app.get_state(config)\n",
    "            final_state = getattr(snap, \"values\", None) or snap\n",
    "    except Exception:\n",
    "        pass\n",
    "\n",
    "    if show_state_summary and isinstance(final_state, dict):\n",
    "        print(\"\\n--- Final State Summary ---\")\n",
    "        if \"messages\" in final_state:\n",
    "            print(f\"messages count: {len(final_state['messages'])}\")\n",
    "            if final_state[\"messages\"]:\n",
    "                last = final_state[\"messages\"][-1]\n",
    "                preview = last.content if hasattr(last, \"content\") else str(last)\n",
    "                print(f\"last message: {preview[:120]}{'...' if len(preview)>120 else ''}\")\n",
    "        else:\n",
    "            print(final_state)\n",
    "\n",
    "    return transcript, final_state"
   ]
  },
  {
   "cell_type": "code",
   "execution_count": 17,
   "id": "bc01eb9c",
   "metadata": {},
   "outputs": [
    {
     "name": "stdout",
     "output_type": "stream",
     "text": [
      "[01][ai_assistant][assistant] 먼저 불편을 드려 정말 죄송합니다. 상황을 빨리 도와드리겠습니다.\n",
      "\n",
      "참고로 안내드리는 정책이 있습니다. 비행일로부터 1개월이 경과한 경우 환불은 최대 50%로만 가능합니다.\n",
      "\n",
      "진행을 돕기 위해 아래 정보를 알려주시면 바로 확인해 안내드리겠습니다.\n",
      "- 예약번호 또는 티켓번호\n",
      "- 승객성명(예약 시 표기된 영어 이름)\n",
      "- 원하시는 환불 방법(계좌정보 예: 은행명/계좌번호 또는 결제 수단)\n",
      "- 해당 비행의 출발지-도착지 및 비행일\n",
      "- 현재 환불 신청 상태나 취소 여부 등 현재 상황\n",
      "\n",
      "또한 원하신다면 다음과 같은 대안도 함께 안내해 드립니다.\n",
      "- 일정 변경(다른 날짜로의 재예약) 가능 여부\n",
      "- 바우처나 크레딧으로 전환하는 옵션\n",
      "\n",
      "정보를 주시면 신속하게 확인하고 가능한 선택지를 안내드리겠습니다.\n",
      "[02][simulated_user][user] 네, 감사합니다. 제 기억으로 작년 제주행이었고 전액 환불을 원합니다. 제 기록을 찾는 중이라 아래 정보도 찾는 대로 바로 드리겠습니다.\n",
      "\n",
      "- 예약번호 또는 티켓번호: 찾는 대로 공유하겠습니다.\n",
      "- 승객성명(영문 표기): 예약 시 표기된 영어 이름으로 알려드리겠습니다.\n",
      "- 환불 방법: 은행계좌 정보나 카드결제 수단 중 선택하신 방법으로 알려드리겠습니다.\n",
      "- 출발지-도착지 및 비행일: 제주행이었고 날짜는 작년 중으로 확인 후 정확히 말씀드리겠습니다.\n",
      "- 현재 환불 신청 상태나 취소 여부: 제 기록에서 확인이 필요한 부분이므로 찾는 대로 알려드리겠습니다.\n",
      "\n",
      "추가로, 일정 변경이나 바우처/크레딧 옵션도 함께 검토해 주시면 좋겠습니다.\n",
      "[03][ai_assistant][assistant] 감사합니다. 요청하신 내용 잘 이해했습니다.\n",
      "\n",
      "참고로 정책상 비행일로부터 1개월이 경과한 경우 환불은 최대 50%로 제한됩니다. 작년 제주행이라면 전액 환불은 어려울 가능성이 큽니다. 다만 50% 환불이나 일정 변경, 바우처/크레딧 등 다른 옵션을 신속하게 검토해 드리겠습니다.\n",
      "\n",
      "진행에 필요한 정보는 아래처럼 차근히 취합해 주시면 바로 확인해 안내드리겠습니다.\n",
      "- 예약번호 또는 티켓번호: 찾는 대로 공유\n",
      "- 승객성명(영문 표기): 예약 시 표기된 영어 이름\n",
      "- 환불 방법: 은행계좌 정보 또는 카드결제 수단 중 선택\n",
      "- 출발지-도착지 및 비행일: 제주행, 작년 일정으로 확인 후 정확히 알려주실 것\n",
      "- 현재 환불 신청 상태나 취소 여부: 현재 상황 파악이 필요하니 찾는 대로 알려주실 것\n",
      "\n",
      "또한 원하시면 아래 대안들 또한 함께 검토해 드리겠습니다.\n",
      "- 일정 변경(다른 날짜로의 재예약) 가능 여부\n",
      "- 바우처나 크레딧으로 전환하는 옵션\n",
      "\n",
      "정보를 주시는 즉시 조회를 시작해 가능한 선택지를 빠르게 안내드리겠습니다. 혹시 지금 바로 궁금하신 점이 있다면 먼저 알려주셔도 좋습니다.\n",
      "[04][simulated_user][user] 네, 이해했습니다. 저도 작년 제주행으로 전액 환불을 원했고, 가능한 한 모든 금액을 돌려받고 싶습니다. 상황상 전액 환불이 어렵다 하더라도, 예외적 검토나 최대한의 합리적 해결을 부탁드립니다.\n",
      "\n",
      "정보는 제가 찾는 대로 바로 공유드리겠습니다.\n",
      "- 예약번호 또는 티켓번호: 찾는 대로 공유하겠습니다\n",
      "- 승객성명(영문 표기): 예약 시 표기된 영어 이름으로 제공하겠습니다\n",
      "- 환불 방법: 은행계좌 정보 또는 카드결제 수단 중 편하신 방법으로 알려드리겠습니다\n",
      "- 출발지-도착지 및 비행일: 제주행, 작년 일정으로 확인 후 정확히 알려드리겠습니다\n",
      "- 현재 환불 신청 상태나 취소 여부: 현재 상황 파악이 필요하니 찾는 대로 알려드리겠습니다\n",
      "\n",
      "또한 원하시면 일정 변경이나 바우처/크레딧 전환 옵션도 함께 검토해 주시면 좋겠습니다. 정보를 드리는 즉시 조회를 시작해 가능한 모든 선택지를 빠르게 안내해 주세요.\n",
      "[05][ai_assistant][assistant] 이해해 주셔서 감사합니다. 전액 환불을 원하신 점과 예외적 검토 의향까지 존중하며 도와드리겠습니다.\n",
      "\n",
      "다만 현재 안내드리는 정책에 따르면 비행일로부터 1개월 이상 경과한 경우 전액 환불은 어려울 수 있으며, 기본적으로는 최대 50% 환불이 가능하다고 안내드립니다. 예외적 검토를 요청하신다면 승무원/운항사 내부에서 케이스별로 검토가 진행됩니다. 최종 판단은 내부 심사에 따라 달라지며, 필요 시 추가 증빙 자료가 요구될 수 있습니다.\n",
      "\n",
      "정보를 받는 즉시 조회를 시작하고 가능한 모든 옵션을 빠르게 안내드리겠습니다. 먼저 아래 정보를 가능하신 대로 공유해 주세요:\n",
      "- 예약번호 또는 티켓번호\n",
      "- 승객성명(영문 표기, 예약 시 표기된 이름)\n",
      "- 환불 방법(은행계좌 정보 또는 카드결제 수단 중 선택)\n",
      "- 출발지-도착지 및 비행일(제주행 여부와 작년 일정으로 확인 후 정확히)\n",
      "- 현재 환불 신청 상태나 취소 여부(확인되는 대로 알려주실 것)\n",
      "\n",
      "추가로 원하시면 아래 대안들도 함께 검토해 드리겠습니다.\n",
      "- 일정 변경(다른 날짜로의 재예약)\n",
      "- 바우처/크레딧으로 전환\n",
      "\n",
      "또한 예외적 검토를 원하신다면, 작년 제주행임을 확인할 수 있는 증빙 자료를 함께 제출해 주시면 심사에 도움이 됩니다. 예: 예약 확인 이메일, 항공권 사본, 탑승 이력 등.\n",
      "\n",
      "정보를 주시는 즉시 바로 조회를 시작하고, 가능한 모든 선택지를 신속히 안내드리겠습니다. 다른 문의나 요청사항이 있으면 언제든 말씀해 주세요.\n",
      "[06][simulated_user][user] 네, 이해해 주셔서 감사합니다. 현재 제가 가진 정보가 아직 일부라 아래처럼 가능한 대로 공유드립니다.\n",
      "\n",
      "- 예약번호 또는 티켓번호: 아직 확정 전이라 추후 바로 공유드리겠습니다.\n",
      "- 승객성명(영문 표기): 예약 시 표기된 영어 이름으로 제공하겠습니다.\n",
      "- 환불 방법: 은행계좌로 환불받기를 원합니다. 은행명과 계좌번호를 곧 드리겠습니다.\n",
      "- 출발지-도착지 및 비행일: 제주행으로 확인 중이며, 작년 일정으로 정확한 날짜를 확인한 후 공유하겠습니다.\n",
      "- 현재 환불 신청 상태나 취소 여부: 확인되는 대로 알려드리겠습니다.\n",
      "\n",
      "또한 예외적 검토를 원하니, 작년 제주행임을 확인할 수 있는 증빙 자료를 제출할 준비가 되어 있습니다. 예: 예약 확인 이메일, 항공권 사본, 탑승 이력 등 제출 방법을 안내해 주시면 바로 보내드리겠습니다.\n",
      "\n",
      "추가로 원하시면 일정 변경이나 바우처/크레딧으로 전환하는 옵션도 함께 검토해 주시면 좋겠습니다. 가능하면 전액 환불에 대한 예외적 검토를 부탁드립니다.\n",
      "\n",
      "다시 한 번 도와주셔서 감사합니다. 필요한 추가 정보가 있으면 바로 알려드리겠습니다.\n"
     ]
    },
    {
     "data": {
      "text/plain": [
       "([('ai_assistant',\n",
       "   'assistant',\n",
       "   '먼저 불편을 드려 정말 죄송합니다. 상황을 빨리 도와드리겠습니다.\\n\\n참고로 안내드리는 정책이 있습니다. 비행일로부터 1개월이 경과한 경우 환불은 최대 50%로만 가능합니다.\\n\\n진행을 돕기 위해 아래 정보를 알려주시면 바로 확인해 안내드리겠습니다.\\n- 예약번호 또는 티켓번호\\n- 승객성명(예약 시 표기된 영어 이름)\\n- 원하시는 환불 방법(계좌정보 예: 은행명/계좌번호 또는 결제 수단)\\n- 해당 비행의 출발지-도착지 및 비행일\\n- 현재 환불 신청 상태나 취소 여부 등 현재 상황\\n\\n또한 원하신다면 다음과 같은 대안도 함께 안내해 드립니다.\\n- 일정 변경(다른 날짜로의 재예약) 가능 여부\\n- 바우처나 크레딧으로 전환하는 옵션\\n\\n정보를 주시면 신속하게 확인하고 가능한 선택지를 안내드리겠습니다.'),\n",
       "  ('simulated_user',\n",
       "   'user',\n",
       "   '네, 감사합니다. 제 기억으로 작년 제주행이었고 전액 환불을 원합니다. 제 기록을 찾는 중이라 아래 정보도 찾는 대로 바로 드리겠습니다.\\n\\n- 예약번호 또는 티켓번호: 찾는 대로 공유하겠습니다.\\n- 승객성명(영문 표기): 예약 시 표기된 영어 이름으로 알려드리겠습니다.\\n- 환불 방법: 은행계좌 정보나 카드결제 수단 중 선택하신 방법으로 알려드리겠습니다.\\n- 출발지-도착지 및 비행일: 제주행이었고 날짜는 작년 중으로 확인 후 정확히 말씀드리겠습니다.\\n- 현재 환불 신청 상태나 취소 여부: 제 기록에서 확인이 필요한 부분이므로 찾는 대로 알려드리겠습니다.\\n\\n추가로, 일정 변경이나 바우처/크레딧 옵션도 함께 검토해 주시면 좋겠습니다.'),\n",
       "  ('ai_assistant',\n",
       "   'assistant',\n",
       "   '감사합니다. 요청하신 내용 잘 이해했습니다.\\n\\n참고로 정책상 비행일로부터 1개월이 경과한 경우 환불은 최대 50%로 제한됩니다. 작년 제주행이라면 전액 환불은 어려울 가능성이 큽니다. 다만 50% 환불이나 일정 변경, 바우처/크레딧 등 다른 옵션을 신속하게 검토해 드리겠습니다.\\n\\n진행에 필요한 정보는 아래처럼 차근히 취합해 주시면 바로 확인해 안내드리겠습니다.\\n- 예약번호 또는 티켓번호: 찾는 대로 공유\\n- 승객성명(영문 표기): 예약 시 표기된 영어 이름\\n- 환불 방법: 은행계좌 정보 또는 카드결제 수단 중 선택\\n- 출발지-도착지 및 비행일: 제주행, 작년 일정으로 확인 후 정확히 알려주실 것\\n- 현재 환불 신청 상태나 취소 여부: 현재 상황 파악이 필요하니 찾는 대로 알려주실 것\\n\\n또한 원하시면 아래 대안들 또한 함께 검토해 드리겠습니다.\\n- 일정 변경(다른 날짜로의 재예약) 가능 여부\\n- 바우처나 크레딧으로 전환하는 옵션\\n\\n정보를 주시는 즉시 조회를 시작해 가능한 선택지를 빠르게 안내드리겠습니다. 혹시 지금 바로 궁금하신 점이 있다면 먼저 알려주셔도 좋습니다.'),\n",
       "  ('simulated_user',\n",
       "   'user',\n",
       "   '네, 이해했습니다. 저도 작년 제주행으로 전액 환불을 원했고, 가능한 한 모든 금액을 돌려받고 싶습니다. 상황상 전액 환불이 어렵다 하더라도, 예외적 검토나 최대한의 합리적 해결을 부탁드립니다.\\n\\n정보는 제가 찾는 대로 바로 공유드리겠습니다.\\n- 예약번호 또는 티켓번호: 찾는 대로 공유하겠습니다\\n- 승객성명(영문 표기): 예약 시 표기된 영어 이름으로 제공하겠습니다\\n- 환불 방법: 은행계좌 정보 또는 카드결제 수단 중 편하신 방법으로 알려드리겠습니다\\n- 출발지-도착지 및 비행일: 제주행, 작년 일정으로 확인 후 정확히 알려드리겠습니다\\n- 현재 환불 신청 상태나 취소 여부: 현재 상황 파악이 필요하니 찾는 대로 알려드리겠습니다\\n\\n또한 원하시면 일정 변경이나 바우처/크레딧 전환 옵션도 함께 검토해 주시면 좋겠습니다. 정보를 드리는 즉시 조회를 시작해 가능한 모든 선택지를 빠르게 안내해 주세요.'),\n",
       "  ('ai_assistant',\n",
       "   'assistant',\n",
       "   '이해해 주셔서 감사합니다. 전액 환불을 원하신 점과 예외적 검토 의향까지 존중하며 도와드리겠습니다.\\n\\n다만 현재 안내드리는 정책에 따르면 비행일로부터 1개월 이상 경과한 경우 전액 환불은 어려울 수 있으며, 기본적으로는 최대 50% 환불이 가능하다고 안내드립니다. 예외적 검토를 요청하신다면 승무원/운항사 내부에서 케이스별로 검토가 진행됩니다. 최종 판단은 내부 심사에 따라 달라지며, 필요 시 추가 증빙 자료가 요구될 수 있습니다.\\n\\n정보를 받는 즉시 조회를 시작하고 가능한 모든 옵션을 빠르게 안내드리겠습니다. 먼저 아래 정보를 가능하신 대로 공유해 주세요:\\n- 예약번호 또는 티켓번호\\n- 승객성명(영문 표기, 예약 시 표기된 이름)\\n- 환불 방법(은행계좌 정보 또는 카드결제 수단 중 선택)\\n- 출발지-도착지 및 비행일(제주행 여부와 작년 일정으로 확인 후 정확히)\\n- 현재 환불 신청 상태나 취소 여부(확인되는 대로 알려주실 것)\\n\\n추가로 원하시면 아래 대안들도 함께 검토해 드리겠습니다.\\n- 일정 변경(다른 날짜로의 재예약)\\n- 바우처/크레딧으로 전환\\n\\n또한 예외적 검토를 원하신다면, 작년 제주행임을 확인할 수 있는 증빙 자료를 함께 제출해 주시면 심사에 도움이 됩니다. 예: 예약 확인 이메일, 항공권 사본, 탑승 이력 등.\\n\\n정보를 주시는 즉시 바로 조회를 시작하고, 가능한 모든 선택지를 신속히 안내드리겠습니다. 다른 문의나 요청사항이 있으면 언제든 말씀해 주세요.'),\n",
       "  ('simulated_user',\n",
       "   'user',\n",
       "   '네, 이해해 주셔서 감사합니다. 현재 제가 가진 정보가 아직 일부라 아래처럼 가능한 대로 공유드립니다.\\n\\n- 예약번호 또는 티켓번호: 아직 확정 전이라 추후 바로 공유드리겠습니다.\\n- 승객성명(영문 표기): 예약 시 표기된 영어 이름으로 제공하겠습니다.\\n- 환불 방법: 은행계좌로 환불받기를 원합니다. 은행명과 계좌번호를 곧 드리겠습니다.\\n- 출발지-도착지 및 비행일: 제주행으로 확인 중이며, 작년 일정으로 정확한 날짜를 확인한 후 공유하겠습니다.\\n- 현재 환불 신청 상태나 취소 여부: 확인되는 대로 알려드리겠습니다.\\n\\n또한 예외적 검토를 원하니, 작년 제주행임을 확인할 수 있는 증빙 자료를 제출할 준비가 되어 있습니다. 예: 예약 확인 이메일, 항공권 사본, 탑승 이력 등 제출 방법을 안내해 주시면 바로 보내드리겠습니다.\\n\\n추가로 원하시면 일정 변경이나 바우처/크레딧으로 전환하는 옵션도 함께 검토해 주시면 좋겠습니다. 가능하면 전액 환불에 대한 예외적 검토를 부탁드립니다.\\n\\n다시 한 번 도와주셔서 감사합니다. 필요한 추가 정보가 있으면 바로 알려드리겠습니다.')],\n",
       " None)"
      ]
     },
     "execution_count": 17,
     "metadata": {},
     "output_type": "execute_result"
    }
   ],
   "source": [
    "# config (재귀 최대 횟수, thread_id)\n",
    "config = RunnableConfig(recursion_limit=10, configurable={\"thread_id\": uuid.uuid4()})\n",
    "\n",
    "inputs = {\n",
    "    \"messages\": [HumanMessage(content=\"안녕하세요? 저 지금 좀 화가 많이 났습니다.\")]\n",
    "}\n",
    "\n",
    "from langchain_teddynote.messages import stream_graph\n",
    "stream_graph2(simulation, inputs, config, node_names=[\"simulated_user\", \"ai_assistant\"])"
   ]
  },
  {
   "cell_type": "code",
   "execution_count": null,
   "id": "1a19e19a",
   "metadata": {},
   "outputs": [],
   "source": []
  },
  {
   "cell_type": "code",
   "execution_count": null,
   "id": "7bb63883",
   "metadata": {},
   "outputs": [],
   "source": []
  }
 ],
 "metadata": {
  "kernelspec": {
   "display_name": "Python 3",
   "language": "python",
   "name": "python3"
  },
  "language_info": {
   "codemirror_mode": {
    "name": "ipython",
    "version": 3
   },
   "file_extension": ".py",
   "mimetype": "text/x-python",
   "name": "python",
   "nbconvert_exporter": "python",
   "pygments_lexer": "ipython3",
   "version": "3.12.3"
  }
 },
 "nbformat": 4,
 "nbformat_minor": 5
}
