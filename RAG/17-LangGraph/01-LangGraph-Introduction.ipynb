{
 "cells": [
  {
   "cell_type": "code",
   "execution_count": 1,
   "id": "fb64eb1a",
   "metadata": {},
   "outputs": [],
   "source": [
    "# dict 와 TypedDict\n",
    "from typing import Dict, TypedDict\n",
    "\n",
    "sample_dict = {\n",
    "    \"name\": \"이름\",\n",
    "    \"age\" : 30,\n",
    "    \"job\" : \"인간\"\n",
    "}\n",
    "\n",
    "sample_dict[\"age\"] = 35\n",
    "\n",
    "\n",
    "class Person(TypedDict):\n",
    "    name : str\n",
    "    age : int\n",
    "    job : str\n",
    "\n",
    "typed_dict : Person = {\"name\" : \"이름\", \"age\" : 25, \"job\" : \"인간\"}"
   ]
  },
  {
   "cell_type": "code",
   "execution_count": 2,
   "id": "43f0e0de",
   "metadata": {},
   "outputs": [],
   "source": [
    "from typing import Annotated\n",
    "\n",
    "# 힌트/주석 역할\n",
    "name : Annotated[str, \"이름\"]\n",
    "age : Annotated[int, \"나이 (1~150)\"]"
   ]
  },
  {
   "cell_type": "code",
   "execution_count": 3,
   "id": "5deb6630",
   "metadata": {},
   "outputs": [],
   "source": [
    "from typing import Annotated, TypedDict\n",
    "from langgraph.graph import add_messages\n",
    "\n",
    "class MyData(TypedDict):\n",
    "    messages: Annotated[list, add_messages]"
   ]
  },
  {
   "cell_type": "code",
   "execution_count": 4,
   "id": "6b6e9c98",
   "metadata": {},
   "outputs": [
    {
     "name": "stdout",
     "output_type": "stream",
     "text": [
      "[HumanMessage(content='반갑다', additional_kwargs={}, response_metadata={}, id='1'), AIMessage(content='반갑습니다~', additional_kwargs={}, response_metadata={}, id='2')]\n"
     ]
    }
   ],
   "source": [
    "from langchain_core.messages import AIMessage, HumanMessage\n",
    "from langgraph.graph import add_messages\n",
    "\n",
    "msg1 = [HumanMessage(content=\"반갑다\", id=\"1\")]\n",
    "msg2 = [AIMessage(content=\"반갑습니다~\", id=\"2\")]\n",
    "\n",
    "# 동일한 아이디면 덮어씌우고 다른 아이디면 이어붙인다\n",
    "result1 = add_messages(msg1, msg2)\n",
    "print(result1)"
   ]
  },
  {
   "cell_type": "code",
   "execution_count": 2,
   "id": "17f1154a",
   "metadata": {},
   "outputs": [
    {
     "data": {
      "text/plain": [
       "True"
      ]
     },
     "execution_count": 2,
     "metadata": {},
     "output_type": "execute_result"
    }
   ],
   "source": [
    "from dotenv import load_dotenv\n",
    "import os\n",
    "\n",
    "load_dotenv()"
   ]
  },
  {
   "cell_type": "code",
   "execution_count": 5,
   "id": "6cbb3f1e",
   "metadata": {},
   "outputs": [],
   "source": [
    "### 1. 상태정의\n",
    "from typing import Annotated, TypedDict\n",
    "from langgraph.graph import StateGraph, START, END\n",
    "from langgraph.graph.message import add_messages\n",
    "\n",
    "class State(TypedDict):\n",
    "    messages: Annotated[list, add_messages]"
   ]
  },
  {
   "cell_type": "code",
   "execution_count": 7,
   "id": "7909b190",
   "metadata": {},
   "outputs": [],
   "source": [
    "### 2. 노드 정의\n",
    "from langchain_openai import ChatOpenAI\n",
    "\n",
    "llm = ChatOpenAI(model=\"gpt-5-nano\", temperature=0)\n",
    "\n",
    "def chatbot(state: State):\n",
    "    return {\"messages\": [llm.invoke(state[\"messages\"])]}"
   ]
  },
  {
   "cell_type": "code",
   "execution_count": 8,
   "id": "f0e4a244",
   "metadata": {},
   "outputs": [
    {
     "data": {
      "text/plain": [
       "<langgraph.graph.state.StateGraph at 0x23e16e13bc0>"
      ]
     },
     "execution_count": 8,
     "metadata": {},
     "output_type": "execute_result"
    }
   ],
   "source": [
    "### 3. 노드 추가\n",
    "graph_builder = StateGraph(State)\n",
    "\n",
    "graph_builder.add_node(\"chatbot\", chatbot)"
   ]
  },
  {
   "cell_type": "code",
   "execution_count": null,
   "id": "95c94809",
   "metadata": {},
   "outputs": [
    {
     "data": {
      "text/plain": [
       "<langgraph.graph.state.StateGraph at 0x23e16e13bc0>"
      ]
     },
     "execution_count": 10,
     "metadata": {},
     "output_type": "execute_result"
    }
   ],
   "source": [
    "### 4. 엣지로 연결\n",
    "graph_builder.add_edge(START, \"chatbot\")\n",
    "graph_builder.add_edge(\"chatbot\", END)"
   ]
  },
  {
   "cell_type": "code",
   "execution_count": null,
   "id": "4b8e28af",
   "metadata": {},
   "outputs": [
    {
     "data": {
      "image/png": "[encoded data removed]",
      "text/plain": [
       "<IPython.core.display.Image object>"
      ]
     },
     "metadata": {},
     "output_type": "display_data"
    }
   ],
   "source": [
    "### 5. 그래프 컴파일\n",
    "graph = graph_builder.compile()\n",
    "\n",
    "# 컴파일 후 시각화로 확인\n",
    "from IPython.display import display, Image\n",
    "display(Image(graph.get_graph().draw_mermaid_png()))"
   ]
  },
  {
   "cell_type": "code",
   "execution_count": 13,
   "id": "da48ed5f",
   "metadata": {},
   "outputs": [
    {
     "name": "stdout",
     "output_type": "stream",
     "text": [
      "Assistant: 멋진 요청이에요! 아래 목록은 서울에서 \"유명하고 다양한 맛을 체험할 수 있는 맛집\" 위주로 10곳을 뽑아본 거예요. 분위기와 예산이 다양하니, 취향에 맞춰 골라 보세요. 방문 전에 영업시간이나 예약 여부를 꼭 확인하시길 권합니다.\n",
      "\n",
      "1) Tosokchon Samgyetang (토속촌 삼계탕)\n",
      "- 대표 메뉴: 삼계탕\n",
      "- 분위기/포인트: 한국 전통 가정식 느낌의 진한 보양식. 멀리서도 찾기 쉬운 명소.\n",
      "- 위치감: 경복궁 인근에 위치해 있어 관광객과 현지인 모두 많이 찾음.\n",
      "\n",
      "2) Myeongdong Kyoja (명동교자)\n",
      "- 대표 메뉴: 칼국수, 만두\n",
      "- 분위기/포인트: 간단하고 든든한 한국식 면 요리의 클래식. 가성비 좋음.\n",
      "- 위치감: 명동의 핵심 맛집 중 하나로 접근성 좋아요.\n",
      "\n",
      "3) Bukchon Son Mandu (북촌손만두)\n",
      "- 대표 메뉴: 손만두, 모듬만두\n",
      "- 분위기/포인트: 북촌 한옥마을 분위기 속에서 즐기는 만두 맛집.\n",
      "- 위치감: Bukchon 지역의 유명 핫스팟과 근접.\n",
      "\n",
      "4) Sanchon (산촌)\n",
      "- 대표 메뉴: 템플푸드 코스, 채식 코스\n",
      "- 분위기/포인트: 인사동의 조용하고 독특한 채식 레스토랑. 자연스러운 한식 풍미를 느낄 수 있음.\n",
      "- 위치감: 인사동 근처.\n",
      "\n",
      "5) Gaon (가온)\n",
      "- 대표 메뉴: 한식 파인 다이닝 코스\n",
      "- 분위기/포인트: 정갈한 상차림과 섬세한 코스 요리로 한국의 현대적 미식경험을 제시하는 곳.\n",
      "- 위치/타깃: 고급 한식 다이닝으로 데이트나 특별한 자리 추천.\n",
      "\n",
      "6) Mingles (밍글스)\n",
      "- 대표 메뉴: 현대 한식 코스\n",
      "- 분위기/포인트: 창의적이고 다채로운 맛의 코스 요리로 국내외에서도 유명한 파인 다이닝.\n",
      "- 위치/타깃: 강남권 인근이나 도심에서 접근성 좋은 고급 레스토랑.\n",
      "\n",
      "7) Jungsik Seoul (정식)\n",
      "- 대표 메뉴: 현대 한식 코스\n",
      "- 분위기/포인트: 미식가들 사이에서 오랫동안 사랑받아온 현대적 한식 레스토랑.\n",
      "- 위치/타깃: 분위기 있는 저녁 식사나 특별한 자리 추천.\n",
      "\n",
      "8) La Yeon (라연)\n",
      "- 대표 메뉴: 한식 고급 코스\n",
      "- 분위기/포인트: The Shilla Seoul에 위치한 한국식 하이엔드 다이닝. 정교한 코스와 아름다운 프리젠테이션.\n",
      "- 위치/타깃: 고급스러운 경험을 원한다면 최적.\n",
      "\n",
      "9) Maple Tree House Itaewon (메이플 트리 하우스 이태원)\n",
      "- 대표 메뉴: 한식 바비큐(삼겹살/돼지구이 등), 반찬\n",
      "- 분위기/포인트: 이태원에서 비교적 합리적인 가격대의 푸짐한 고깃집 느낌. 국제적 분위기와 어울림.\n",
      "- 위치감: 외국인 손님도 많이 찾는 인기 지역.\n",
      "\n",
      "10) Vatos Urban Tacos (바토스 어반 타코스)\n",
      "- 대표 메뉴: 타코, 부리토, 한국식 퓨전 메뉴\n",
      "- 분위기/포인트: 한식과 멕시칸이 만난 퓨전 스타일로 캐주얼하고 활기찬 분위기.\n",
      "- 위치감: 이태원 등 도심 지역의 인기 핫스팟.\n",
      "\n",
      "추가 참고\n",
      "- 예산: 상위 파인 다이닝은 1인당 수십만 원대도 가능하고, 캐주얼한 곳은 2~4만 원대도 있어요.\n",
      "- 예약 여부: 특히 파인 다이닝은 미리 예약이 필요합니다. 주말이나 저녁 시간대는 대기가 길 수 있어요.\n",
      "- 취향 맞춤: 한국식 파인 다이닝, 캐주얼 한식, 한식 퓨전, 일식/양식 등 특정 취향이 있다면 알려주시면 10곳을 더 구체적으로 맞춤 구성해 드릴게요.\n",
      "\n",
      "원하시면 예산대(예: 주머니 사정에 맞춘 2-5만원, 5-10만원, 10만원 이상), 선호 지역(강남/홍대/명동/인사동 등), 선호 요리(한식/일식/퓨전/해산물 등)를 알려주세요. 그에 맞춰 TOP 10을 다시 정리해 드리겠습니다.\n"
     ]
    }
   ],
   "source": [
    "### 6. 그래프 실행\n",
    "question = \"서울의 유명한 맛집 TOP 10 추천해줘\"\n",
    "\n",
    "for event in graph.stream({\"messages\": [(\"user\", question)]}):\n",
    "    for value in event.values():\n",
    "        print(\"Assistant:\", value[\"messages\"][-1].content)"
   ]
  },
  {
   "cell_type": "code",
   "execution_count": null,
   "id": "a3ea1fcb",
   "metadata": {},
   "outputs": [
    {
     "name": "stdout",
     "output_type": "stream",
     "text": [
      "좋아요! 서울 종로에서 유명하고 만족도가 높은 맛집 3곳을 골랐어요.\n",
      "\n",
      "- Tosokchon Samgyetang (토속촌삼계탕)\n",
      "  - 대표 메뉴: 삼계탕(인삼과 닭고기 국물의 영양 가득한 보양식)\n",
      "  - 위치/느낌: 경복궁 근처, 한식의 클래식 같은 분위기\n",
      "  - 왜 유명한가: 오랜 전통의 방문객 사랑을 받는 삼계탕의 대표주자 중 하나\n",
      "  - 팁: 점심시간대는 줄이 길 수 있으니 이른 점심이나 조금 늦은 시간대에 가면 기다림이 덜합니다.\n",
      "\n",
      "- Bukchon Son Mandu (북촌손만두)\n",
      "  - 대표 메뉴: 손만두, 만두전골 등 만두 요리\n",
      "  - 위치/느낌: 북촌 한옥마을 인근, 캐주얼하고 편안한 분위기\n",
      "  - 왜 유명한가: 손으로 빚는 만두의 맛과 바삭한 군만두가 유명\n",
      "  - 팁: 가볍게 한 끼로 좋고, 만두류는 양이 작게 나오는 편이므로 남길 경우를 대비해 간단히 시켜도 좋습니다.\n",
      "\n",
      "- Sanchon (산촌)\n",
      "  - 대표 메뉴: 채식 중심의 템플푸드 코스, 계절 반찬과 밥\n",
      "  - 위치/느낌: 인사동 지역(종로구)으로 차분하고 독특한 분위기\n",
      "  - 왜 유명한가: 전통 사찰 음식으로 유명한 곳으로, 독특한 채식 코스 요리를 체험할 수 있습니다\n",
      "  - 팁: 코스 요리 형태라 가격대가 다소 높은 편이니 예산을 미리 확인하면 좋습니다. 예약이 도움이 됩니다.\n",
      "\n",
      "원하시면 예산대(1인당 얼마대), 선호하는 맛 타입(한국식, 모던한 분위기, 채식 위주 등), 가능 시간대에 맞춰 추가 후보도 더 드리고 상세한 위치·영업시간 정보도 정리해 드릴게요. 어떤 분위기나 예산으로 원하시나요?\n"
     ]
    }
   ],
   "source": [
    "# 랭그래프 (State -> Node -> StateGraph -> Edge -> compile -> run)\n",
    "from typing import Annotated, TypedDict\n",
    "from langgraph.graph import StateGraph, START, END\n",
    "from langgraph.graph.message import add_messages\n",
    "from langchain_openai import ChatOpenAI\n",
    "from IPython.display import display, Image\n",
    "\n",
    "### 1. State 정의 ###\n",
    "class State(TypedDict):\n",
    "    messages: Annotated[list, add_messages]\n",
    "\n",
    "### 2. Node 정의 ###\n",
    "llm = ChatOpenAI(model=\"gpt-5-nano\", temperature=0)\n",
    "\n",
    "def chatbot(state : State):\n",
    "    return {\"messages\": [llm.invoke(state[\"messages\"])]}\n",
    "\n",
    "### 3. StateGraph객체화 / 노드 추가 ###\n",
    "graph_builder = StateGraph(State)\n",
    "graph_builder.add_node(\"chatbot\", chatbot)\n",
    "\n",
    "### 4. Edge 로 노드 연결 ###\n",
    "graph_builder.add_edge(START, \"chatbot\")\n",
    "graph_builder.add_edge(\"chatbot\", END)\n",
    "\n",
    "### 5. 컴파일 ###\n",
    "graph = graph_builder.compile()\n",
    "\n",
    "# display(Image(graph.get_graph().draw_mermaid_png()))    # 시각화\n",
    "\n",
    "### 6. 그래프 실행 ###\n",
    "question = \"서울 종로의 유명한 맛집 TOP 3 추천해줘\"\n",
    "\n",
    "for event in graph.stream({\"messages\": [(\"user\", question)]}):\n",
    "    for value in event.values():\n",
    "        print(value[\"messages\"][-1].content)"
   ]
  },
  {
   "cell_type": "code",
   "execution_count": null,
   "id": "c619065a",
   "metadata": {},
   "outputs": [],
   "source": []
  },
  {
   "cell_type": "code",
   "execution_count": null,
   "id": "d1e47d4b",
   "metadata": {},
   "outputs": [],
   "source": []
  },
  {
   "cell_type": "code",
   "execution_count": null,
   "id": "fde77973",
   "metadata": {},
   "outputs": [],
   "source": []
  },
  {
   "cell_type": "code",
   "execution_count": null,
   "id": "befe87ba",
   "metadata": {},
   "outputs": [],
   "source": []
  },
  {
   "cell_type": "code",
   "execution_count": null,
   "id": "32417017",
   "metadata": {},
   "outputs": [],
   "source": []
  },
  {
   "cell_type": "code",
   "execution_count": null,
   "id": "43003b9d",
   "metadata": {},
   "outputs": [],
   "source": []
  }
 ],
 "metadata": {
  "kernelspec": {
   "display_name": "Python 3",
   "language": "python",
   "name": "python3"
  },
  "language_info": {
   "codemirror_mode": {
    "name": "ipython",
    "version": 3
   },
   "file_extension": ".py",
   "mimetype": "text/x-python",
   "name": "python",
   "nbconvert_exporter": "python",
   "pygments_lexer": "ipython3",
   "version": "3.12.3"
  }
 },
 "nbformat": 4,
 "nbformat_minor": 5
}
