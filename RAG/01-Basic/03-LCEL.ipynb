{
 "cells": [
  {
   "cell_type": "code",
   "execution_count": null,
   "id": "7b157c93",
   "metadata": {},
   "outputs": [],
   "source": [
    "import sys\n",
    "print(sys.executable)\n",
    "# !{sys.executable} -m pip install -U pip\n",
    "# !{sys.executable} -m pip install -U python-dotenv"
   ]
  },
  {
   "cell_type": "code",
   "execution_count": 1,
   "id": "d9ffe45f",
   "metadata": {},
   "outputs": [
    {
     "data": {
      "text/plain": [
       "True"
      ]
     },
     "execution_count": 1,
     "metadata": {},
     "output_type": "execute_result"
    }
   ],
   "source": [
    "from dotenv import load_dotenv\n",
    "\n",
    "load_dotenv()"
   ]
  },
  {
   "cell_type": "code",
   "execution_count": 2,
   "id": "32628b11",
   "metadata": {},
   "outputs": [
    {
     "data": {
      "text/plain": [
       "PromptTemplate(input_variables=['country'], input_types={}, partial_variables={}, template='{country}의 수도는 어디인가요?')"
      ]
     },
     "execution_count": 2,
     "metadata": {},
     "output_type": "execute_result"
    }
   ],
   "source": [
    "# 프롬프트 템플릿 활용\n",
    "from langchain_core.prompts import PromptTemplate\n",
    "\n",
    "# {} 에 입력 변수\n",
    "template = \"{country}의 수도는 어디인가요?\"\n",
    "\n",
    "prompt_template = PromptTemplate.from_template(template)\n",
    "prompt_template"
   ]
  },
  {
   "cell_type": "code",
   "execution_count": null,
   "id": "b2cf6627",
   "metadata": {},
   "outputs": [
    {
     "data": {
      "text/plain": [
       "'미국의 수도는 어디인가요?'"
      ]
     },
     "execution_count": 3,
     "metadata": {},
     "output_type": "execute_result"
    }
   ],
   "source": [
    "# from_template -> format\n",
    "prompt = prompt_template.format(country=\"대한민국\")         # {} 부분만 치환해서 사용하는 템플릿\n",
    "prompt = prompt_template.format(country=\"미국\")\n",
    "prompt"
   ]
  },
  {
   "cell_type": "code",
   "execution_count": 4,
   "id": "1a9bedf4",
   "metadata": {},
   "outputs": [],
   "source": [
    "from langchain_openai import ChatOpenAI\n",
    "\n",
    "model = ChatOpenAI(\n",
    "    model=\"gpt-5-nano\",\n",
    "    max_tokens=2048,\n",
    "    temperature=0.1,\n",
    ")"
   ]
  },
  {
   "cell_type": "code",
   "execution_count": null,
   "id": "cb762763",
   "metadata": {},
   "outputs": [
    {
     "data": {
      "text/plain": [
       "PromptTemplate(input_variables=['how', 'topic'], input_types={}, partial_variables={}, template='{topic} 에 대해 {how} 설명해주세요.')\n",
       "| ChatOpenAI(client=<openai.resources.chat.completions.completions.Completions object at 0x0000023DFF33CE60>, async_client=<openai.resources.chat.completions.completions.AsyncCompletions object at 0x0000023DFF33EED0>, root_client=<openai.OpenAI object at 0x0000023DDCE1DDC0>, root_async_client=<openai.AsyncOpenAI object at 0x0000023DFF33CFB0>, model_kwargs={}, openai_api_key=SecretStr('**********'))\n",
       "| StrOutputParser()"
      ]
     },
     "execution_count": 11,
     "metadata": {},
     "output_type": "execute_result"
    }
   ],
   "source": [
    "# 프롬프트를 만들어서 LLM에게 넣는게 아니라 프롬프트와 LLM을 묶어서 사용한다 LCEL\n",
    "# LangChain Expression Language\n",
    "from langchain_core.output_parsers import StrOutputParser\n",
    "\n",
    "# 프롬프트\n",
    "prompt = PromptTemplate.from_template(\"{topic} 에 대해 {how} 설명해주세요.\")         # {} 쪽에 format으로 넣는다\n",
    "\n",
    "# LLM 모델\n",
    "model = ChatOpenAI()\n",
    "\n",
    "# Output Parser : 출력파서 (원하는 형식으로 답변 형식 지정)\n",
    "output_parser = StrOutputParser()\n",
    "\n",
    "# 프롬프트 넣고 모델로 전달하고 출력파서로 전달 (순서대로)\n",
    "chain = prompt | model | output_parser\n",
    "chain"
   ]
  },
  {
   "cell_type": "code",
   "execution_count": 12,
   "id": "7461bc30",
   "metadata": {},
   "outputs": [
    {
     "data": {
      "text/plain": [
       "'인공지능 모델은 데이터를 입력으로 받아들여 학습을 진행합니다. 모델은 입력 데이터로부터 일정한 패턴이나 규칙을 학습하고, 이를 바탕으로 새로운 데이터에 대한 예측이나 분류를 수행합니다. 학습 과정에서 모델은 손실 함수를 최소화하도록 가중치를 조정하고, 학습 데이터에 대해 최적의 예측을 만들어내는 것을 목표로 합니다.'"
      ]
     },
     "execution_count": 12,
     "metadata": {},
     "output_type": "execute_result"
    }
   ],
   "source": [
    "# {} 부분은 채워넣어야만 한다\n",
    "dict_data = {\"topic\":\"인공지능 모델의 학습 원리\", \"how\":\"짧게\"}       # ==> 인공지능 모델의 학습 원리 에 대해 짧게 설명해주세요.\n",
    "chain.invoke(dict_data)"
   ]
  },
  {
   "cell_type": "code",
   "execution_count": 15,
   "id": "8cbd6308",
   "metadata": {},
   "outputs": [],
   "source": [
    "# 프롬프트 변경 (바꿀 부분만 {} 처리)\n",
    "tempalte = \"\"\"당신은 영어를 가르치는 10년차 영어 선생님입니다. 주어진 상황에 맞는 영어 회화를 작성해 주세요.\n",
    "양식은 [FORMAT]을 참고하여 작성해 주세요.\n",
    "\n",
    "#상황:\n",
    "{question}\n",
    "\n",
    "#FORMAT:\n",
    "- 영어 회화:\n",
    "- 한글 해석:\n",
    "\"\"\"\n",
    "\n",
    "# 프롬프트 템플릿 from_template\n",
    "prompt = PromptTemplate.from_template(tempalte)\n",
    "\n",
    "# LLM\n",
    "model = ChatOpenAI(model_name=\"gpt-5-nano\")\n",
    "\n",
    "# parser\n",
    "output_parser = StrOutputParser()"
   ]
  },
  {
   "cell_type": "code",
   "execution_count": 17,
   "id": "aee417ea",
   "metadata": {},
   "outputs": [
    {
     "name": "stdout",
     "output_type": "stream",
     "text": [
      "- 영어 회화:\n",
      "Waiter: Welcome to our restaurant. Do you have a reservation?\n",
      "Customer: No, just a table for one, please.\n",
      "Waiter: Certainly. Right this way. Here are your menus. Would you like a few minutes or are you ready to order?\n",
      "Customer: I’m ready to order. I’ll have the grilled salmon with rice, please.\n",
      "Waiter: Would you like any sides or a drink with that?\n",
      "Customer: Yes, I’ll take a Caesar salad and a bottle of sparkling water.\n",
      "Waiter: Noted. Any allergies we should know about?\n",
      "Customer: I’m allergic to peanuts.\n",
      "Waiter: Thanks for letting us know. We’ll make sure your order is prepared without peanuts.\n",
      "Waiter: Would you like to add anything else?\n",
      "Customer: No, that’s all for now.\n",
      "Waiter: All right. Your grilled salmon will be out shortly. Enjoy your meal.\n",
      "Customer: Thank you.\n",
      "Customer: Could I get the check, please?\n",
      "Waiter: Of course. I’ll bring it right over.\n",
      "\n",
      "- 한글 해석:\n",
      "웨이터: 저희 레스토랑에 오신 것을 환영합니다. 예약이 있나요?\n",
      "고객: 아니요, 한 명 자리 부탁드립니다.\n",
      "웨이터: 물론이죠. 이쪽으로 와 주세요. 메뉴 드립니다. 몇 분 정도 보시겠어요, 아니면 바로 주문하시겠어요?\n",
      "고객: 주문하겠습니다. 구운 연어와 밥으로 주세요.\n",
      "웨이터: 곁들일 반찬이나 음료도 원하나요?\n",
      "고객: 네, 시저 샐러드와 탄산수 한 병 주세요.\n",
      "웨이터: 알겠습니다. 알레르기가 있나요?\n",
      "고객: 땅콩 알레르기가 있어요.\n",
      "웨이터: 알려줘서 감사합니다. 땅콩이 포함되지 않도록 조리하겠습니다.\n",
      "웨이터: 다른 것도 더 필요하신가요?\n",
      "고객: 아니요, 지금은 그것으로 충분합니다.\n",
      "웨이터: 알겠습니다. 구운 연어가 곧 나올 거예요. 맛있게 드세요.\n",
      "고객: 감사합니다.\n",
      "고객: 계산서를 주시겠어요?\n",
      "웨이터: 네, 바로 가져다드리겠습니다.\n"
     ]
    }
   ],
   "source": [
    "# 체인 구성\n",
    "chain = prompt | model | output_parser\n",
    "\n",
    "answer = chain.invoke({\"question\":\"저는 식당에 가서 음식을 주문하고 싶어요\"})\n",
    "\n",
    "print(answer)"
   ]
  },
  {
   "cell_type": "code",
   "execution_count": 18,
   "id": "cf08d7b6",
   "metadata": {},
   "outputs": [
    {
     "name": "stdout",
     "output_type": "stream",
     "text": [
      "- 영어 회화:\n",
      "  Customer: Hi there. I’d like to place an order for delivery, please.\n",
      "  Order Taker: Sure. What can I get for you today?\n",
      "  Customer: I’ll have a large pepperoni pizza with extra cheese, and a side of garlic knots.\n",
      "  Order Taker: Okay. Any other toppings or drinks? And what crust would you like—thin, hand-tossed, or pan?\n",
      "  Customer: Hand-tossed crust, please. And I’d also like a 2-liter Mountain Dew.\n",
      "  Order Taker: Got it. Delivery or pickup?\n",
      "  Customer: Delivery, please. The address is 123 Maple Street, Apt 4B.\n",
      "  Order Taker: What's the name on the order and the best contact number?\n",
      "  Customer: Name: Mina Park. Phone: 555-0123.\n",
      "  Order Taker: Great. Any delivery instructions?\n",
      "  Customer: Please ring the doorbell and leave it at the door if no one answers.\n",
      "  Order Taker: Okay. There’s a small delivery fee; your total will be around $28.97. How would you like to pay—online or cash on delivery?\n",
      "  Customer: I’ll pay on delivery.\n",
      "  Order Taker: Perfect. Your approximate arrival time is 35-45 minutes. Your order number is 82451. Anything else?\n",
      "  Customer: That’s everything, thanks.\n",
      "  Order Taker: Thank you. Have a great day!\n",
      "\n",
      "- 한글 해석:\n",
      "  고객: 안녕하세요. 배달 주문하려고 합니다.\n",
      "  점원: 네, 무엇을 도와드릴까요?\n",
      "  고객: 큰 사이즈 페퍼로니 피자에 치즈를 더 넣고 갈릭 노트를 하나 주세요.\n",
      "  점원: 알겠습니다. 다른 토핑이나 음료도 원하나요? 도우 종류는 얇은 것, 핸드 토스, 아니면 팬 중 어떤 걸로 드릴까요?\n",
      "  고객: 핸드토스 도우로 주세요. 그리고 2리터 Mountain Dew도 하나 주세요.\n",
      "  점원: 알겠습니다. 배달로 할까요, 아니면 픽업으로 할까요?\n",
      "  고객: 배달로요. 주소는 123 Maple Street, Apt 4B입니다.\n",
      "  점원: 주문의 이름과 연락 가능한 번호가 어떻게 되나요?\n",
      "  고객: 이름은 Mina Park이고 전화번호는 555-0123입니다.\n",
      "  점원: 좋습니다. 배달 주의사항이 있을까요?\n",
      "  고객: 벨을 눌러 주세요. 아무도 없으면 문 앞에 두고 가 주세요.\n",
      "  점원: 알겠습니다. 배달 수수료가 있고 총액은 약 28.97달러입니다. 결제 방법은 온라인으로 미리 하시겠어요, 아니면 배달 시 현금으로 하시겠어요?\n",
      "  고객: 배달 시 현금으로 하겠습니다.\n",
      "  점원: 좋습니다. 도착 예정보다 약 35-45분 안에 도착합니다. 주문 번호는 82451입니다. 더 도와드릴 게 있을까요?\n",
      "  고객: 그게 다예요. 감사합니다.\n",
      "  점원: 감사합니다. 좋은 하루 되세요!\n"
     ]
    }
   ],
   "source": [
    "answer = chain.invoke({\"question\":\"미국에서 피자 주문\"})\n",
    "\n",
    "print(answer)"
   ]
  },
  {
   "cell_type": "code",
   "execution_count": 20,
   "id": "c7de2a29",
   "metadata": {},
   "outputs": [
    {
     "name": "stdout",
     "output_type": "stream",
     "text": [
      "- 영어 회화:\n",
      "S: Hi ChatGPT, I’m practicing English. Could you help me with a quick dialogue?\n",
      "GPT: Of course. What would you like to practice?\n",
      "S: I’d like to practice asking questions and getting explanations.\n",
      "GPT: No problem. You can phrase questions politely: \"Could you explain this grammar rule?\" \"What does this word mean?\" and so on.\n",
      "S: Could you explain this grammar rule? Today we’re practicing present perfect.\n",
      "GPT: The present perfect describes actions that happened at an indefinite time or that started in the past and continue to now. You might say: \"I have lived here for five years.\"\n",
      "S: I have lived here for five years. Is this correct?\n",
      "GPT: Yes, that’s correct. Great job. Now try a few more.\n",
      "\n",
      "- 한글 해석:\n",
      "S: 안녕 ChatGPT, 저는 영어를 연습하고 있어요. 짧은 대화를 도와줄 수 있나요?\n",
      "GPT: 물론이죠. 무엇을 연습하고 싶나요?\n",
      "S: 질문하고 설명을 받는 연습을 하고 싶어요.\n",
      "GPT: 문제 없어요. 정중하게 질문하는 표현으로 이렇게 말할 수 있습니다: \"Could you explain this grammar rule?\" \"What does this word mean?\" 등.\n",
      "S: 이 문법 규칙을 설명해 주실 수 있나요? 오늘은 현재 완료를 연습하고 있어요.\n",
      "GPT: 현재 완료는 언제인지 모르는 시점에 일어난 행동이나 과거에 시작해서 지금까지 계속되는 상황을 설명할 때 사용합니다. 예를 들면: \"I have lived here for five years.\" (나는 이곳에 5년 동안 살고 있습니다.)\n",
      "S: I have lived here for five years. 이것이 맞나요?\n",
      "GPT: 네, 맞습니다. 아주 잘했어요. 이제 몇 가지를 더 시도해 보세요.\n",
      "- 영어 회화:\n",
      "A: Hey! I just posted a new Reel about my weekend hike. Mind giving it a like if you enjoy it?\n",
      "B: Just watched it—love the sunset shots! What camera did you use?\n",
      "A: Thanks! I used my phone with a small gimbal. Also, could you share it in your story to help reach more people?\n",
      "B: Sure thing. Also, are you up for a collab? I have a skincare brand launching next month.\n",
      "A: Sounds great. Send me a DM with details and your audience info.\n",
      "\n",
      "- 한글 해석:\n",
      "A: 안녕! 주말 하이킹에 관한 새 Reel을 올렸어. 재미있으면 좋아요 눌러줄래?\n",
      "B: 방금 봤어—일몰 샷이 정말 예쁘다! 어떤 카메라를 썼니?\n",
      "A: 고마워! 핸드폰에 작은 짐벌을 사용했어. 또 더 많은 사람들에게 도달하려고 이야기(스토리)에 공유해줄 수 있을까?\n",
      "B: 물론이지. 그리고 협업은 어때? 다음 달에 스킨케어 브랜드를 론칭하는데.\n",
      "A: 좋을 것 같아. 자세한 내용과 타깃 청중 정보를 DM으로 보내줘.\n"
     ]
    }
   ],
   "source": [
    "# 묶어서 2번 전달\n",
    "answer = chain.batch([{\"question\":\"ChatGPT\"}, {\"question\":\"Instagram\"}])\n",
    "\n",
    "print(answer[0])\n",
    "print(answer[1])"
   ]
  },
  {
   "cell_type": "code",
   "execution_count": 21,
   "id": "c972536f",
   "metadata": {},
   "outputs": [
    {
     "name": "stdout",
     "output_type": "stream",
     "text": [
      "- 영어 회화:\n",
      "  - Hey everyone, welcome back to my channel.\n",
      "  - If you're new here, make sure to subscribe and turn on notifications so you don't miss future videos.\n",
      "  - Today, we're diving into [topic], and I'll show you step by step how to [do something].\n",
      "  - If you have any questions, drop them in the comments and I'll answer.\n",
      "  - If you enjoyed this video, please hit the like button and share it with your friends.\n",
      "  - Let's get started!\n",
      "  - In the next video, we'll cover [related topic].\n",
      "  - Here's a quick recap of the main points.\n",
      "  - Thanks for watching — see you in the next one!\n",
      "\n",
      "- 한글 해석:\n",
      "  - 안녕하세요 여러분, 제 채널에 다시 오신 것을 환영합니다.\n",
      "  - 새로 오신 분들은 구독하고 알림을 켜 두면 앞으로의 영상도 놓치지 않을 수 있습니다.\n",
      "  - 오늘은 [주제]에 대해 파헤쳐 볼 것이고, [무엇을 하는지] 차근차근 보여드리겠습니다.\n",
      "  - 질문이 있으면 댓글로 남겨 주세요. 제가 답변해 드리겠습니다.\n",
      "  - 이 영상이 마음에 드셨다면 좋아요를 눌러 주시고 친구들과 공유해 주세요.\n",
      "  - 자, 시작해 봅시다!\n",
      "  - 다음 영상에서는 [관련 주제]를 다룰 거예요.\n",
      "  - 핵심 포인트를 간단히 요약해 드릴게요.\n",
      "  - 시청해 주셔서 감사합니다 — 다음 영상에서 뵙겠습니다!"
     ]
    }
   ],
   "source": [
    "# astream 비동기 스트림 / ainvoke 비동기 호출\n",
    "async for token in chain.astream({\"question\":\"YouTube\"}):\n",
    "    # 메시지 내용 출력 줄바꿈 없이 바로 출력하고 버퍼 비움\n",
    "    print(token, end=\"\", flush=True)"
   ]
  },
  {
   "cell_type": "code",
   "execution_count": 24,
   "id": "5244ef66",
   "metadata": {},
   "outputs": [
    {
     "name": "stdout",
     "output_type": "stream",
     "text": [
      "- 영어 회화:\n",
      "- Teacher: Today we're practicing with NVDA, the screen reader.\n",
      "- Student: I'm excited but a little nervous.\n",
      "- Teacher: No problem. Let's start by turning it on.\n",
      "- Student: Where do I find the NVDA key?\n",
      "- Teacher: On most keyboards, the Insert key acts as the NVDA modifier; on laptops you might use Caps Lock.\n",
      "- Student: Okay, I turned it on.\n",
      "- Teacher: Great. Now try to read this sentence.\n",
      "- Student: It reads it aloud.\n",
      "- Teacher: Now move to the next link by pressing Tab.\n",
      "- Student: I can hear \"Search.\"\n",
      "- Teacher: Good. If you want to read more, you can ask NVDA to read by paragraph.\n",
      "- Student: Can I adjust the speaking rate?\n",
      "- Teacher: Yes, you can change it in the NVDA menu.\n",
      "- Student: What about punctuation?\n",
      "- Teacher: We can enable punctuation to be announced.\n",
      "- Student: If I type, will NVDA read what I type?\n",
      "- Teacher: Yes, you can have it read as you type.\n",
      "- Student: Thank you.\n",
      "\n",
      "- 한글 해석:\n",
      "- 선생님: 오늘은 화면 읽기 프로그램인 NVDA를 사용해 연습해 볼 거예요.\n",
      "- 학생: 설렘도 있지만 조금 긴장돼요.\n",
      "- 선생님: 문제 없어요. 먼저 켜 보죠.\n",
      "- 학생: NVDA 키를 어디서 찾나요?\n",
      "- 선생님: 대부분의 키보드에서 Insert 키가 NVDA 수정 키 역할을 해요. 노트북의 경우 Caps Lock을 사용할 수 있습니다.\n",
      "- 학생: 알겠어요, 켰어요.\n",
      "- 선생님: 좋아요. 이제 이 문장을 읽어 보세요.\n",
      "- 학생: 소리 내어 읽히네요.\n",
      "- 선생님: 이제 Tab 키를 눌러 다음 링크로 이동해 보세요.\n",
      "- 학생: \"Search\"라고 들려요.\n",
      "- 선생님: 잘했어요. 더 읽고 싶으면 NVDA에 단락별로 읽으라고 지시할 수 있습니다.\n",
      "- 학생: 말해진 속도를 조절할 수 있나요?\n",
      "- 선생님: 네, NVDA 메뉴에서 속도를 바꿀 수 있어요.\n",
      "- 학생: 구두점은 어때요?\n",
      "- 선생님: 구두점도 읽히도록 설정할 수 있습니다.\n",
      "- 학생: 타이핑하면 NVDA가 제가 쓴 것을 읽어 줄까요?\n",
      "- 선생님: 네, 타이핑하는 내용도 읽어 주도록 할 수 있습니다.\n",
      "- 학생: 감사합니다.\n"
     ]
    }
   ],
   "source": [
    "# 비동기 호출 ainvoke\n",
    "my_process = chain.ainvoke({\"question\":\"NVDA\"})             # 준비\n",
    "answer = await my_process            # 실행\n",
    "\n",
    "print(answer)"
   ]
  },
  {
   "cell_type": "code",
   "execution_count": null,
   "id": "fddeca27",
   "metadata": {},
   "outputs": [],
   "source": []
  },
  {
   "cell_type": "code",
   "execution_count": null,
   "id": "89226606",
   "metadata": {},
   "outputs": [],
   "source": []
  },
  {
   "cell_type": "code",
   "execution_count": null,
   "id": "1e94f7a1",
   "metadata": {},
   "outputs": [],
   "source": []
  },
  {
   "cell_type": "code",
   "execution_count": null,
   "id": "3c3bfb76",
   "metadata": {},
   "outputs": [],
   "source": []
  },
  {
   "cell_type": "code",
   "execution_count": null,
   "id": "96f7eef6",
   "metadata": {},
   "outputs": [],
   "source": []
  },
  {
   "cell_type": "code",
   "execution_count": null,
   "id": "9df55761",
   "metadata": {},
   "outputs": [],
   "source": []
  },
  {
   "cell_type": "code",
   "execution_count": null,
   "id": "0847a2a5",
   "metadata": {},
   "outputs": [],
   "source": []
  },
  {
   "cell_type": "code",
   "execution_count": null,
   "id": "a7ae4540",
   "metadata": {},
   "outputs": [],
   "source": []
  }
 ],
 "metadata": {
  "kernelspec": {
   "display_name": "3.12.3",
   "language": "python",
   "name": "python3"
  },
  "language_info": {
   "codemirror_mode": {
    "name": "ipython",
    "version": 3
   },
   "file_extension": ".py",
   "mimetype": "text/x-python",
   "name": "python",
   "nbconvert_exporter": "python",
   "pygments_lexer": "ipython3",
   "version": "3.12.3"
  }
 },
 "nbformat": 4,
 "nbformat_minor": 5
}
