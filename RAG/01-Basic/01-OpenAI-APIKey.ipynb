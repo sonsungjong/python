{
 "cells": [
  {
   "cell_type": "code",
   "execution_count": 1,
   "id": "9d60ba9c",
   "metadata": {},
   "outputs": [
    {
     "name": "stdout",
     "output_type": "stream",
     "text": [
      "c:\\Users\\Administrator\\.pyenv\\pyenv-win\\versions\\3.12.3\\python.exe\n",
      "Requirement already satisfied: pip in c:\\users\\administrator\\.pyenv\\pyenv-win\\versions\\3.12.3\\lib\\site-packages (25.2)\n",
      "Requirement already satisfied: python-dotenv in c:\\users\\administrator\\.pyenv\\pyenv-win\\versions\\3.12.3\\lib\\site-packages (1.1.1)\n"
     ]
    }
   ],
   "source": [
    "import sys\n",
    "print(sys.executable)\n",
    "!{sys.executable} -m pip install -U pip\n",
    "!{sys.executable} -m pip install -U python-dotenv"
   ]
  },
  {
   "cell_type": "code",
   "execution_count": 14,
   "id": "21d4965b",
   "metadata": {},
   "outputs": [
    {
     "data": {
      "text/plain": [
       "True"
      ]
     },
     "execution_count": 14,
     "metadata": {},
     "output_type": "execute_result"
    }
   ],
   "source": [
    "from dotenv import load_dotenv\n",
    "\n",
    "load_dotenv()"
   ]
  },
  {
   "cell_type": "code",
   "execution_count": 16,
   "id": "ea6beb5a",
   "metadata": {},
   "outputs": [
    {
     "name": "stdout",
     "output_type": "stream",
     "text": [
      "Requirement already satisfied: langchain in c:\\users\\administrator\\.pyenv\\pyenv-win\\versions\\3.12.3\\lib\\site-packages (0.3.27)\n",
      "Requirement already satisfied: langchain_openai in c:\\users\\administrator\\.pyenv\\pyenv-win\\versions\\3.12.3\\lib\\site-packages (0.3.29)\n",
      "Collecting langchain_community\n",
      "  Downloading langchain_community-0.3.27-py3-none-any.whl.metadata (2.9 kB)\n",
      "Collecting langchain-experimental\n",
      "  Downloading langchain_experimental-0.3.4-py3-none-any.whl.metadata (1.7 kB)\n",
      "Requirement already satisfied: langchain-core in c:\\users\\administrator\\.pyenv\\pyenv-win\\versions\\3.12.3\\lib\\site-packages (0.3.74)\n",
      "Requirement already satisfied: langchain-text-splitters in c:\\users\\administrator\\.pyenv\\pyenv-win\\versions\\3.12.3\\lib\\site-packages (0.3.9)\n"
     ]
    },
    {
     "name": "stderr",
     "output_type": "stream",
     "text": [
      "ERROR: Could not find a version that satisfies the requirement langchain-embeddings (from versions: none)\n",
      "ERROR: No matching distribution found for langchain-embeddings\n"
     ]
    }
   ],
   "source": [
    "!{sys.executable} -m pip install -U langchain langchain_openai langchain_community langchain-experimental langchain-core langchain-text-splitters langchain-embeddings langchain-vectorstores langchain-retrievers langchain-document-loaders langchain-llms langchain-prompts langchain-chains"
   ]
  },
  {
   "cell_type": "code",
   "execution_count": null,
   "id": "70bb4f82",
   "metadata": {},
   "outputs": [
    {
     "name": "stdout",
     "output_type": "stream",
     "text": [
      "[답변]: 대한민국의 수도는 서울특별시입니다.\n"
     ]
    }
   ],
   "source": [
    "# GPT 사용 테스트\n",
    "from langchain_openai import ChatOpenAI\n",
    "\n",
    "llm = ChatOpenAI(\n",
    "    temperature=0.1,                # 창의성 (0.0[고정] ~ 2.0[창의적])\n",
    "    # model_name=\"gpt-5-mini\",        # 모델명 (5.7s)\n",
    "    # model_name=\"gpt-5\",        # 모델명 (5.7s)\n",
    "    model_name=\"gpt-5-nano\",        # 모델명 (2.5s)\n",
    "    # max_tokens=4096\n",
    ")\n",
    "\n",
    "question = '대한민국의 수도는 어디인가요?'\n",
    "\n",
    "response = llm.invoke(question)\n",
    "\n",
    "print(f'[답변]: {response.content}')"
   ]
  },
  {
   "cell_type": "code",
   "execution_count": null,
   "id": "6f38ec89",
   "metadata": {},
   "outputs": [],
   "source": [
    "# 토큰 : 단어나 문장을 쪼개는 단위\n",
    "# 문자 기반 토큰화\n",
    "# 단어 기반 토큰화\n",
    "# 서브워드 기반 토큰화 (빈도 기반)\n",
    "\n",
    "# 모델마다 토큰화 알고리즘이 다름"
   ]
  },
  {
   "cell_type": "code",
   "execution_count": 17,
   "id": "27016018",
   "metadata": {},
   "outputs": [
    {
     "name": "stderr",
     "output_type": "stream",
     "text": [
      "  WARNING: The script f2py.exe is installed in 'c:\\Users\\Administrator\\.pyenv\\pyenv-win\\versions\\3.12.3\\Scripts' which is not on PATH.\n",
      "  Consider adding this directory to PATH or, if you prefer to suppress this warning, use --no-warn-script-location.\n",
      "  WARNING: The script nltk.exe is installed in 'c:\\Users\\Administrator\\.pyenv\\pyenv-win\\versions\\3.12.3\\Scripts' which is not on PATH.\n",
      "  Consider adding this directory to PATH or, if you prefer to suppress this warning, use --no-warn-script-location.\n",
      "  WARNING: The script deepl.exe is installed in 'c:\\Users\\Administrator\\.pyenv\\pyenv-win\\versions\\3.12.3\\Scripts' which is not on PATH.\n",
      "  Consider adding this directory to PATH or, if you prefer to suppress this warning, use --no-warn-script-location.\n"
     ]
    }
   ],
   "source": [
    "!{sys.executable} -m pip install -qU langchain-teddynote"
   ]
  },
  {
   "cell_type": "code",
   "execution_count": 19,
   "id": "3f1b4353",
   "metadata": {},
   "outputs": [
    {
     "name": "stdout",
     "output_type": "stream",
     "text": [
      "LangSmith 추적을 시작합니다.\n",
      "[프로젝트명]\n",
      "RAG-langchain\n"
     ]
    }
   ],
   "source": [
    "from langchain_teddynote import logging\n",
    "\n",
    "logging.langsmith(\"RAG-langchain\")"
   ]
  },
  {
   "cell_type": "code",
   "execution_count": 25,
   "id": "1e9e7925",
   "metadata": {},
   "outputs": [
    {
     "name": "stdout",
     "output_type": "stream",
     "text": [
      "좋아요! 전국의 아름다운 관광지 10곳과 주소를 드리겠습니다. 먼저 두 가지를 확인해도 될까요?\n",
      "\n",
      "- 주소 형식: 도로명주소로 드릴까요, 아니면 대략적 소재지(시/구 중심)가 좋을까요?\n",
      "- 특별히 선호하는 지역이 있나요? 전국 고르게 뽑을지, 특정 지역 위주로 구성할지 알려주시면 맞춰드리겠습니다.\n",
      "\n",
      "확인해 주시면 바로 10곳과 주소를 정리해 드리겠습니다."
     ]
    }
   ],
   "source": [
    "# 스트리밍 출력\n",
    "answer = llm.stream(\"대한민국의 아름다운 관광지 10곳과 주소를 알려주세요!\")\n",
    "\n",
    "# 실시간 출력 (스트리밍 방식으로 각 토큰을 출력한다)\n",
    "final_anwser = ''\n",
    "for token in answer:\n",
    "    print(token.content, end='', flush=True)\n",
    "    final_anwser += token.content"
   ]
  },
  {
   "cell_type": "code",
   "execution_count": 24,
   "id": "89f1daa8",
   "metadata": {},
   "outputs": [
    {
     "name": "stdout",
     "output_type": "stream",
     "text": [
      "좋습니다! 전국에서 “아름다운 관광지 10곳”을 골라 대표 위치와 간단한 설명을 적었습니다. 원하시면 각 장소의 최신 도로명 주소를 공식 사이트에서 확인해 정확한 주소로 다시 드리겠습니다.\n",
      "\n",
      "- 설악산 국립공원 (강원도 속초시 설악동 일대) – 울창한 산맥과 사계절 풍경이 아름다운 자연 명소\n",
      "- 남이섬 (경기도 가평군 남이섬 일대) – 배로 들어가는 섬과 아름다운 가로수 길이 유명\n",
      "- 성산일출봉 (제주특별자치도 서귀포시 성산읍 성산리) – 일출로 유명한 화산섶 지형의 대표 명소\n",
      "- 한라산 국립공원 (제주특별자치도 제주시·서귀포시 일대) – 제주도의 심장, 다양한 트레킹 코스\n",
      "- 불국사 (경상북도 경주시 불국로 일대) – UNESCO 세계문화유산으로도 유명한 석탑 사찰\n",
      "- 안동 하회마을 (경상북도 안동시 풍천면 하회마을길 일대) – 조선시대 양반 문화의 상징적 마을\n",
      "- 전주 한옥마을 (전라북도 전주시 완산구 한옥마을 일대) – 전통 한옥과 맛의 고장으로 유명\n",
      "- 보성 녹차밭 (전라남도 보성군 일대) – 광활한 녹차밭이 파도처럼 펼쳐지는 풍경\n",
      "- 순천만 (전라남도 순천시 일대) – 순천만 자연생태공원/습지의 넓고 아름다운 풍경\n",
      "- N Seoul Tower/Namsan (서울특별시 용산구 남산공원길 105 등) – 서울 도심의 전망과 야경 명소\n",
      "\n",
      "필요하시면 각 장소의 정확한 도로명 주소를 확인해 드리겠습니다. 선호하는 테마(자연, 역사, 도시 전망 등)나 방문 시점을 알려주시면 맞춤형 10곳으로 다시 구성해 드려요."
     ]
    }
   ],
   "source": [
    "from langchain_teddynote.messages import stream_response\n",
    "\n",
    "answer = llm.stream(\"대한민국의 아름다운 관광지 10곳과 주소를 알려주세요!\")\n",
    "final_answer2 = stream_response(answer, return_output=True)"
   ]
  },
  {
   "cell_type": "code",
   "execution_count": null,
   "id": "1dcd7f1d",
   "metadata": {},
   "outputs": [],
   "source": []
  },
  {
   "cell_type": "code",
   "execution_count": null,
   "id": "7e3fb8ab",
   "metadata": {},
   "outputs": [],
   "source": []
  },
  {
   "cell_type": "code",
   "execution_count": null,
   "id": "4861bc11",
   "metadata": {},
   "outputs": [],
   "source": []
  }
 ],
 "metadata": {
  "kernelspec": {
   "display_name": "3.12.3",
   "language": "python",
   "name": "python3"
  },
  "language_info": {
   "codemirror_mode": {
    "name": "ipython",
    "version": 3
   },
   "file_extension": ".py",
   "mimetype": "text/x-python",
   "name": "python",
   "nbconvert_exporter": "python",
   "pygments_lexer": "ipython3",
   "version": "3.12.3"
  }
 },
 "nbformat": 4,
 "nbformat_minor": 5
}
