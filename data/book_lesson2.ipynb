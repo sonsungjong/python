{
 "cells": [
  {
   "cell_type": "code",
   "execution_count": 4,
   "id": "62c474de",
   "metadata": {},
   "outputs": [
    {
     "name": "stdout",
     "output_type": "stream",
     "text": [
      "처음에 실행됩니다.\n",
      "다음에 실행됩니다.\n",
      "앞부분에 공백을 넣지않게 주의해줍니다!\n"
     ]
    }
   ],
   "source": [
    "# 주석(comment)입니다.\n",
    "print(\"처음에 실행됩니다.\")\n",
    "print(\"다음에 실행됩니다.\")\n",
    "print(\"앞부분에 공백을 넣지않게 주의해줍니다!\")"
   ]
  },
  {
   "cell_type": "code",
   "execution_count": 6,
   "id": "50f4e163",
   "metadata": {},
   "outputs": [
    {
     "name": "stdout",
     "output_type": "stream",
     "text": [
      "이렇게 여러문장을\n",
      "한번에\n",
      "입력할 수 있습니다.\n"
     ]
    }
   ],
   "source": [
    "print(\"\"\"이렇게 여러문장을\n",
    "한번에\n",
    "입력할 수 있습니다.\"\"\")"
   ]
  },
  {
   "cell_type": "code",
   "execution_count": 7,
   "id": "ecacce8a",
   "metadata": {},
   "outputs": [
    {
     "name": "stdout",
     "output_type": "stream",
     "text": [
      "3\n",
      "3.14\n",
      "2j\n"
     ]
    }
   ],
   "source": [
    "print(3)              # 정수\n",
    "print(3.14)           # 실수\n",
    "print(2j)             # 허수"
   ]
  },
  {
   "cell_type": "code",
   "execution_count": 12,
   "id": "9f03a008",
   "metadata": {},
   "outputs": [
    {
     "name": "stdout",
     "output_type": "stream",
     "text": [
      "십진수의 10은 10 입니다.\n",
      "이진수의 10은 2 입니다.\n",
      "팔진수의 10은 8 입니다.\n",
      "16진수의 10은 16 입니다.\n"
     ]
    }
   ],
   "source": [
    "print(\"십진수의 10은\", 10, \"입니다.\")\n",
    "print(\"이진수의 10은\", 0b10, \"입니다.\")\n",
    "print(\"팔진수의 10은\", 0o10, \"입니다.\")\n",
    "print(\"16진수의 10은\", 0x10, \"입니다.\")"
   ]
  },
  {
   "cell_type": "code",
   "execution_count": 17,
   "id": "bf12b595",
   "metadata": {},
   "outputs": [
    {
     "name": "stdout",
     "output_type": "stream",
     "text": [
      "\t탭입니다.\n",
      "\t\t두번탭입니다.\n",
      "\n",
      "줄바꿈입니다.\n",
      "\\원문자입니다.\n"
     ]
    }
   ],
   "source": [
    "print(\"\\t탭입니다.\")\n",
    "print(\"\\t\\t두번탭입니다.\")\n",
    "print(\"\\n줄바꿈입니다.\")\n",
    "print(\"\\\\원문자입니다.\")"
   ]
  },
  {
   "cell_type": "code",
   "execution_count": 19,
   "id": "ca65ae9d",
   "metadata": {},
   "outputs": [
    {
     "name": "stdout",
     "output_type": "stream",
     "text": [
      "123\n",
      "\\100 받았다\n",
      "내일 봐\n",
      "1\t2\t3\t4\t5\t6\n"
     ]
    }
   ],
   "source": [
    "print(123)\n",
    "print(\"\\\\100 받았다\")\n",
    "print(\"내일 봐\")\n",
    "print(\"1\\t2\\t3\\t4\\t5\\t6\")"
   ]
  },
  {
   "cell_type": "code",
   "execution_count": null,
   "id": "ca6cbf54",
   "metadata": {},
   "outputs": [],
   "source": []
  }
 ],
 "metadata": {
  "kernelspec": {
   "display_name": "Python 3 (ipykernel)",
   "language": "python",
   "name": "python3"
  },
  "language_info": {
   "codemirror_mode": {
    "name": "ipython",
    "version": 3
   },
   "file_extension": ".py",
   "mimetype": "text/x-python",
   "name": "python",
   "nbconvert_exporter": "python",
   "pygments_lexer": "ipython3",
   "version": "3.9.7"
  }
 },
 "nbformat": 4,
 "nbformat_minor": 5
}
