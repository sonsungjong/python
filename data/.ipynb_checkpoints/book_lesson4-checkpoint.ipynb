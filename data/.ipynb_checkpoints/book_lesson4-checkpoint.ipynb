{
 "cells": [
  {
   "cell_type": "markdown",
   "id": "dd36edb4",
   "metadata": {},
   "source": [
    "# 제어문\n",
    "## 1. 비교연산자"
   ]
  },
  {
   "cell_type": "code",
   "execution_count": 1,
   "id": "da8dcc04",
   "metadata": {},
   "outputs": [
    {
     "data": {
      "text/plain": [
       "'\\n== 같다\\n!= 다르다\\n> 크다\\n< 작다\\n>= 이상\\n<= 이하\\nin 있다\\nnot in 없다\\nis 같다\\nis not 다르다\\n'"
      ]
     },
     "execution_count": 1,
     "metadata": {},
     "output_type": "execute_result"
    }
   ],
   "source": [
    "'''\n",
    "== 같다\n",
    "!= 다르다\n",
    "> 크다\n",
    "< 작다\n",
    ">= 이상\n",
    "<= 이하\n",
    "in 있다\n",
    "not in 없다\n",
    "is 같다\n",
    "is not 다르다\n",
    "'''"
   ]
  },
  {
   "cell_type": "code",
   "execution_count": 2,
   "id": "baf0d7bd",
   "metadata": {},
   "outputs": [
    {
     "data": {
      "text/plain": [
       "False"
      ]
     },
     "execution_count": 2,
     "metadata": {},
     "output_type": "execute_result"
    }
   ],
   "source": [
    "True\n",
    "False"
   ]
  },
  {
   "cell_type": "code",
   "execution_count": 4,
   "id": "fa1ac502",
   "metadata": {},
   "outputs": [
    {
     "name": "stdout",
     "output_type": "stream",
     "text": [
      "매출액을 입력하세요.111\n",
      "매출이 순조롭\n",
      "처리 종료\n"
     ]
    }
   ],
   "source": [
    "sale = int(input(\"매출액을 입력하세요.\"))\n",
    "if sale >= 100:\n",
    "    print(\"매출이 순조롭\")\n",
    "print(\"처리 종료\")"
   ]
  },
  {
   "cell_type": "code",
   "execution_count": 6,
   "id": "17c23903",
   "metadata": {},
   "outputs": [
    {
     "name": "stdout",
     "output_type": "stream",
     "text": [
      "매출액을 입력하세요.30\n",
      "ㅠㅠ\n",
      "처리 종료\n"
     ]
    }
   ],
   "source": [
    "sale = int(input(\"매출액을 입력하세요.\"))\n",
    "\n",
    "if sale >= 100:\n",
    "    print(\"매출이 순조롭\")\n",
    "elif sale >= 50:\n",
    "    print(\"매출 보통\")\n",
    "else:\n",
    "    print(\"ㅠㅠ\")\n",
    "    \n",
    "print(\"처리 종료\")"
   ]
  },
  {
   "cell_type": "code",
   "execution_count": null,
   "id": "fac702cc",
   "metadata": {},
   "outputs": [],
   "source": []
  }
 ],
 "metadata": {
  "kernelspec": {
   "display_name": "Python 3 (ipykernel)",
   "language": "python",
   "name": "python3"
  },
  "language_info": {
   "codemirror_mode": {
    "name": "ipython",
    "version": 3
   },
   "file_extension": ".py",
   "mimetype": "text/x-python",
   "name": "python",
   "nbconvert_exporter": "python",
   "pygments_lexer": "ipython3",
   "version": "3.9.7"
  }
 },
 "nbformat": 4,
 "nbformat_minor": 5
}
