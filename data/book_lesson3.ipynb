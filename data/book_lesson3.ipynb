{
 "cells": [
  {
   "cell_type": "markdown",
   "id": "45fa09c0",
   "metadata": {},
   "source": [
    "# 변수와 식\n",
    "## 1. 변수"
   ]
  },
  {
   "cell_type": "code",
   "execution_count": 1,
   "id": "7e137826",
   "metadata": {},
   "outputs": [],
   "source": [
    "# 변수 : 데이터나 처리 결과를 기억하기 위한 구조\n",
    "# 변수명 = 값"
   ]
  },
  {
   "cell_type": "code",
   "execution_count": 2,
   "id": "2a7a53c9",
   "metadata": {},
   "outputs": [],
   "source": [
    "sale = 10"
   ]
  },
  {
   "cell_type": "code",
   "execution_count": 3,
   "id": "3c1f0b8b",
   "metadata": {},
   "outputs": [
    {
     "name": "stdout",
     "output_type": "stream",
     "text": [
      "10\n"
     ]
    }
   ],
   "source": [
    "print(sale)"
   ]
  },
  {
   "cell_type": "code",
   "execution_count": 4,
   "id": "b84db861",
   "metadata": {},
   "outputs": [
    {
     "name": "stdout",
     "output_type": "stream",
     "text": [
      "매출액은 10 만원 입니다.\n"
     ]
    }
   ],
   "source": [
    "print(\"매출액은\", sale, \"만원 입니다.\")"
   ]
  },
  {
   "cell_type": "code",
   "execution_count": 5,
   "id": "8117c82b",
   "metadata": {},
   "outputs": [],
   "source": [
    "sale = 20"
   ]
  },
  {
   "cell_type": "code",
   "execution_count": 6,
   "id": "fd3c008d",
   "metadata": {},
   "outputs": [
    {
     "name": "stdout",
     "output_type": "stream",
     "text": [
      "매출액은 20 만원 입니다.\n"
     ]
    }
   ],
   "source": [
    "print(\"매출액은\", sale, \"만원 입니다.\")"
   ]
  },
  {
   "cell_type": "code",
   "execution_count": 7,
   "id": "d0e590f9",
   "metadata": {},
   "outputs": [
    {
     "name": "stdout",
     "output_type": "stream",
     "text": [
      "서울 지점의 판매액은 10 만원입니다.\n"
     ]
    }
   ],
   "source": [
    "name = \"서울\"\n",
    "sale = 10\n",
    "print(name, \"지점의 판매액은\", sale, \"만원입니다.\")"
   ]
  },
  {
   "cell_type": "markdown",
   "id": "6b32251e",
   "metadata": {},
   "source": [
    "## 2. 연산"
   ]
  },
  {
   "cell_type": "code",
   "execution_count": 8,
   "id": "ccef9325",
   "metadata": {},
   "outputs": [
    {
     "data": {
      "text/plain": [
       "3"
      ]
     },
     "execution_count": 8,
     "metadata": {},
     "output_type": "execute_result"
    }
   ],
   "source": [
    "1+2"
   ]
  },
  {
   "cell_type": "code",
   "execution_count": 9,
   "id": "29008201",
   "metadata": {},
   "outputs": [
    {
     "name": "stdout",
     "output_type": "stream",
     "text": [
      "1+2는 3 입니다.\n"
     ]
    }
   ],
   "source": [
    "print(\"1+2는\", 1+2, \"입니다.\")"
   ]
  },
  {
   "cell_type": "code",
   "execution_count": 10,
   "id": "6c05cb96",
   "metadata": {},
   "outputs": [
    {
     "name": "stdout",
     "output_type": "stream",
     "text": [
      "단가는 50 원입니다.\n",
      "판매 개수는 10 개입니다.\n",
      "합계 금액은 500 원입니다.\n",
      "할인하면 400 원입니다.\n"
     ]
    }
   ],
   "source": [
    "price = 50\n",
    "num = 10\n",
    "total = price * num\n",
    "print(\"단가는\", price, \"원입니다.\")\n",
    "print(\"판매 개수는\", num, \"개입니다.\")\n",
    "print(\"합계 금액은\", total, \"원입니다.\")\n",
    "\n",
    "total = total - 100\n",
    "print(\"할인하면\", total, \"원입니다.\")"
   ]
  },
  {
   "cell_type": "markdown",
   "id": "2663032f",
   "metadata": {},
   "source": [
    "## 3. 연산자"
   ]
  },
  {
   "cell_type": "code",
   "execution_count": 11,
   "id": "e2ebf88f",
   "metadata": {},
   "outputs": [
    {
     "name": "stdout",
     "output_type": "stream",
     "text": [
      "num1 + num2 =  15\n",
      "num1 - num2 =  5\n",
      "num1 * num2 =  50\n",
      "num1 / num2 =  2.0\n",
      "num1 % num2 =  0\n"
     ]
    }
   ],
   "source": [
    "num1 = 10\n",
    "num2 = 5\n",
    "print(\"num1 + num2 = \", num1+num2)\n",
    "print(\"num1 - num2 = \", num1-num2)\n",
    "print(\"num1 * num2 = \", num1*num2)\n",
    "print(\"num1 / num2 = \", num1/num2)\n",
    "print(\"num1 % num2 = \", num1%num2)"
   ]
  },
  {
   "cell_type": "code",
   "execution_count": 12,
   "id": "cd66754c",
   "metadata": {},
   "outputs": [
    {
     "data": {
      "text/plain": [
       "4"
      ]
     },
     "execution_count": 12,
     "metadata": {},
     "output_type": "execute_result"
    }
   ],
   "source": [
    "a = 1\n",
    "b = 2\n",
    "a += 3    # a = a+3\n",
    "a"
   ]
  },
  {
   "cell_type": "code",
   "execution_count": 13,
   "id": "912b7239",
   "metadata": {},
   "outputs": [
    {
     "name": "stdout",
     "output_type": "stream",
     "text": [
      "2\n"
     ]
    }
   ],
   "source": [
    "a -= b\n",
    "print(a)"
   ]
  },
  {
   "cell_type": "markdown",
   "id": "b8d8af88",
   "metadata": {},
   "source": [
    "## 4. 우선순위"
   ]
  },
  {
   "cell_type": "code",
   "execution_count": 14,
   "id": "a41abab5",
   "metadata": {},
   "outputs": [
    {
     "data": {
      "text/plain": [
       "1"
      ]
     },
     "execution_count": 14,
     "metadata": {},
     "output_type": "execute_result"
    }
   ],
   "source": [
    "c = 1\n",
    "c+2*5\n",
    "c"
   ]
  },
  {
   "cell_type": "code",
   "execution_count": 15,
   "id": "10cd032b",
   "metadata": {},
   "outputs": [
    {
     "data": {
      "text/plain": [
       "4"
      ]
     },
     "execution_count": 15,
     "metadata": {},
     "output_type": "execute_result"
    }
   ],
   "source": [
    "(a+b)*c"
   ]
  },
  {
   "cell_type": "markdown",
   "id": "39095f09",
   "metadata": {},
   "source": [
    "## 5. 입력"
   ]
  },
  {
   "cell_type": "code",
   "execution_count": 17,
   "id": "79aef138",
   "metadata": {},
   "outputs": [
    {
     "name": "stdout",
     "output_type": "stream",
     "text": [
      "잠깐 멈춤! 값을 입력하세요안녕\n",
      "안녕 이(가) 입력되었습니다.\n"
     ]
    }
   ],
   "source": [
    "# 변수 = input(\"화면에 표시할 메시지\")\n",
    "n = input(\"잠깐 멈춤! 값을 입력하세요\")\n",
    "print(n, \"이(가) 입력되었습니다.\")"
   ]
  },
  {
   "cell_type": "code",
   "execution_count": 18,
   "id": "05998b84",
   "metadata": {},
   "outputs": [
    {
     "name": "stdout",
     "output_type": "stream",
     "text": [
      "숫자1을 입력하세요1\n",
      "숫자2를 입력하세요2\n",
      "1 + 2 은(는) 12 입니다.\n"
     ]
    }
   ],
   "source": [
    "# input은 문자열 형태\n",
    "num1 = input(\"숫자1을 입력하세요\")\n",
    "num2 = input(\"숫자2를 입력하세요\")\n",
    "num3 = num1 + num2\n",
    "print(num1, \"+\", num2, \"은(는)\", num3, \"입니다.\")"
   ]
  },
  {
   "cell_type": "code",
   "execution_count": 19,
   "id": "247f6647",
   "metadata": {},
   "outputs": [
    {
     "name": "stdout",
     "output_type": "stream",
     "text": [
      "정수1을 입력하세요.1\n",
      "정수2를 입력하세요.2\n",
      "1 + 2 은(는) 3 입니다.\n"
     ]
    }
   ],
   "source": [
    "# 정수입력\n",
    "num1 = int(input(\"정수1을 입력하세요.\"))\n",
    "num2 = int(input(\"정수2를 입력하세요.\"))\n",
    "num3 = num1 + num2\n",
    "print(num1, \"+\", num2, \"은(는)\", num3, \"입니다.\")"
   ]
  },
  {
   "cell_type": "code",
   "execution_count": 20,
   "id": "b796a421",
   "metadata": {},
   "outputs": [
    {
     "name": "stdout",
     "output_type": "stream",
     "text": [
      "당신은 몇 살입니까?12\n",
      "당신은 12 살입니다.\n"
     ]
    }
   ],
   "source": [
    "age = int(input(\"당신은 몇 살입니까?\"))\n",
    "print(\"당신은\",age,\"살입니다.\")"
   ]
  },
  {
   "cell_type": "code",
   "execution_count": 22,
   "id": "b07f5ab5",
   "metadata": {},
   "outputs": [
    {
     "name": "stdout",
     "output_type": "stream",
     "text": [
      "키를 입력하세요.188\n",
      "체중을 입력하세요.88\n",
      "키는 188.0 cm입니다.\n",
      "몸무게는 88.0 kg입니다.\n"
     ]
    }
   ],
   "source": [
    "height = float(input(\"키를 입력하세요.\"))\n",
    "weight = float(input(\"체중을 입력하세요.\"))\n",
    "print(\"키는\", height, \"cm입니다.\")\n",
    "print(\"몸무게는\", weight, \"kg입니다.\")"
   ]
  },
  {
   "cell_type": "code",
   "execution_count": null,
   "id": "dceb3cc9",
   "metadata": {},
   "outputs": [],
   "source": []
  }
 ],
 "metadata": {
  "kernelspec": {
   "display_name": "Python 3 (ipykernel)",
   "language": "python",
   "name": "python3"
  },
  "language_info": {
   "codemirror_mode": {
    "name": "ipython",
    "version": 3
   },
   "file_extension": ".py",
   "mimetype": "text/x-python",
   "name": "python",
   "nbconvert_exporter": "python",
   "pygments_lexer": "ipython3",
   "version": "3.9.7"
  }
 },
 "nbformat": 4,
 "nbformat_minor": 5
}
